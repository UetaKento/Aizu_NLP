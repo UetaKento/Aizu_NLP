{
  "nbformat": 4,
  "nbformat_minor": 0,
  "metadata": {
    "colab": {
      "name": "Ex3_1.ipynb",
      "provenance": [],
      "collapsed_sections": [],
      "authorship_tag": "ABX9TyOHH0AiIX0HrYrb/W15bMLX",
      "include_colab_link": true
    },
    "kernelspec": {
      "name": "python3",
      "display_name": "Python 3"
    },
    "language_info": {
      "name": "python"
    }
  },
  "cells": [
    {
      "cell_type": "markdown",
      "metadata": {
        "id": "view-in-github",
        "colab_type": "text"
      },
      "source": [
        "<a href=\"https://colab.research.google.com/github/UetaKento/Aizu_NLP/blob/main/Ex3_1.ipynb\" target=\"_parent\"><img src=\"https://colab.research.google.com/assets/colab-badge.svg\" alt=\"Open In Colab\"/></a>"
      ]
    },
    {
      "cell_type": "code",
      "execution_count": null,
      "metadata": {
        "id": "822XtHbvqICY"
      },
      "outputs": [],
      "source": [
        "#from __future__ import division  # Python 2 users only\n",
        "import nltk, re, pprint\n",
        "nltk.download('all')"
      ]
    },
    {
      "cell_type": "code",
      "metadata": {
        "id": "a7hHeavcOgmm"
      },
      "source": [
        "import re\n",
        "wordlist = [w for w in nltk.corpus.words.words('en') ]\n",
        "wordlist.append('10.3')\n",
        "wordlist.append('10.3455')\n",
        "wordlist.append('5.0')\n",
        "wordlist.append('7')\n",
        "wordlist.append('7.8456')\n",
        "wordlist.append('9')\n",
        "# wordlist = [w for w in nltk.re_show('en') ]\n",
        "# wordlist = [w for w in nltk.corpus.words.words('en') if w.islower()] 単語を全て小文字に"
      ],
      "execution_count": null,
      "outputs": []
    },
    {
      "cell_type": "code",
      "metadata": {
        "id": "CwmM-Y15Ogmm",
        "colab": {
          "base_uri": "https://localhost:8080/"
        },
        "outputId": "d4419dc0-4a33-45cf-9801-754a63547cba"
      },
      "source": [
        "\"\"\"\n",
        "# 1は、対象テキスト内にある、「a」または「b」または.....「z」または「A」または「B」または.....「Z」を満たす文字列を出力。\n",
        "# 2は、[# 1]の1回以上の繰り返しなので、対象テキスト内にある、[# 1]または[# 1][# 1]または[# 1][# 1][# 1]または[# 1][# 1].....を満たす文字列を出力。\n",
        "# 3は、対象テキスト内にある、1文字目が「A」または「B」または.....「Z」かつ2文字目が「a」または「b」または.....「z」を満たす文字列を出力。\n",
        "# 4は、[a-z]の0回以上の繰り返しなので、対象テキスト内にある、[A-Z]または[A-Z][a-z]または[A-Z][a-z][a-z]または[A-Z][a-z][a-z][a-z]または[A-Z][a-z][a-z].....を満たす文字列を出力。\n",
        "# 5は、対象テキスト内にある、1文字目が「p」かつ2文字目が「a」または「e」または「i」または「o」または「u」かつ3文字目が「t」を満たす文字列を出力。\n",
        "# 6は、# 5の「a」または「e」または「i」または「o」または「u」を2回繰り返すので、対象テキスト内にある、p[「a」または「e」または「i」または「o」または「u」][「a」または「e」または「i」または「o」または「u」]tを満たす文字列を出力。\n",
        "# 7は、# 5の「a」または「e」または「i」または「o」または「u」を1回以上2回以下繰り返すので、対象テキスト内にある、\n",
        "p[「a」または「e」または「i」または「o」または「u」]t\n",
        "または\n",
        "p[「a」または「e」または「i」または「o」または「u」][「a」または「e」または「i」または「o」または「u」]t\n",
        "を満たす文字列を出力。\n",
        "# 8は、対象テキスト内にある、整数を出力。\n",
        "# 9は、\\.によって.の表現をエスケープして、ただの「.」にしている。これにより対象テキスト内にある、小数点を持つ数字を出力。\n",
        "# 10は、# 9に?がついているので小数点を持つ数字の最短一致（.123456789の一番左の一致）、すなわち# 9整数値も含めて出力している。\n",
        "\"\"\"\n",
        "print([w for w in wordlist if re.fullmatch('[a-zA-z]', w)][:52]) # 1\n",
        "print([w for w in wordlist if re.fullmatch('[a-zA-Z]+', w)][:52]) # 2\n",
        "print([w for w in wordlist if re.fullmatch('[A-Z][a-z]', w)][:52]) # 3\n",
        "# print([w for w in wordlist if re.search('^Aa', w)][:52])\n",
        "print([w for w in wordlist if re.fullmatch('[A-Z][a-z]*', w)][:52]) # 4\n",
        "print([w for w in wordlist if re.fullmatch('p[aeiou]t', w)][:52]) # 5\n",
        "print([w for w in wordlist if re.fullmatch('p[aeiou]{2}t', w)][:52]) # 6\n",
        "print([w for w in wordlist if re.fullmatch('p[aeiou]{,2}t', w)][:52]) # 7\n",
        "print([w for w in wordlist if re.fullmatch('\\d', w)][:52]) # 8\n",
        "print([w for w in wordlist if re.fullmatch('\\d+(\\.\\d+)', w)][:52]) # 9\n",
        "print([w for w in wordlist if re.fullmatch('\\d+(\\.\\d+)?', w)][:52]) # 10"
      ],
      "execution_count": null,
      "outputs": [
        {
          "output_type": "stream",
          "name": "stdout",
          "text": [
            "['A', 'a', 'B', 'b', 'C', 'c', 'D', 'd', 'E', 'e', 'F', 'f', 'G', 'g', 'H', 'h', 'I', 'i', 'J', 'j', 'K', 'k', 'L', 'l', 'M', 'm', 'N', 'n', 'O', 'o', 'P', 'p', 'Q', 'q', 'R', 'r', 'S', 's', 'T', 't', 'U', 'u', 'V', 'v', 'W', 'w', 'X', 'x', 'Y', 'y', 'Z', 'z']\n",
            "['A', 'a', 'aa', 'aal', 'aalii', 'aam', 'Aani', 'aardvark', 'aardwolf', 'Aaron', 'Aaronic', 'Aaronical', 'Aaronite', 'Aaronitic', 'Aaru', 'Ab', 'aba', 'Ababdeh', 'Ababua', 'abac', 'abaca', 'abacate', 'abacay', 'abacinate', 'abacination', 'abaciscus', 'abacist', 'aback', 'abactinal', 'abactinally', 'abaction', 'abactor', 'abaculus', 'abacus', 'Abadite', 'abaff', 'abaft', 'abaisance', 'abaiser', 'abaissed', 'abalienate', 'abalienation', 'abalone', 'Abama', 'abampere', 'abandon', 'abandonable', 'abandoned', 'abandonedly', 'abandonee', 'abandoner', 'abandonment']\n",
            "['Ab', 'Ah', 'Al', 'Ao', 'As', 'Ay', 'Bu', 'Ed', 'Em', 'Fo', 'Ga', 'Ge', 'Gi', 'Ho', 'Hu', 'Hy', 'Io', 'Ji', 'Jo', 'Ju', 'Ko', 'Lo', 'Lu', 'Ma', 'Mo', 'Mr', 'No', 'Od', 'Og', 'Ok', 'Os', 'Po', 'Ro', 'Td', 'Ti', 'Ud', 'Vu', 'Wa', 'Wu']\n",
            "['A', 'Aani', 'Aaron', 'Aaronic', 'Aaronical', 'Aaronite', 'Aaronitic', 'Aaru', 'Ab', 'Ababdeh', 'Ababua', 'Abadite', 'Abama', 'Abanic', 'Abantes', 'Abarambo', 'Abaris', 'Abasgi', 'Abassin', 'Abatua', 'Abba', 'Abbadide', 'Abbasside', 'Abbie', 'Abby', 'Abderian', 'Abderite', 'Abdiel', 'Abdominales', 'Abe', 'Abel', 'Abelia', 'Abelian', 'Abelicea', 'Abelite', 'Abelmoschus', 'Abelonian', 'Abencerrages', 'Aberdeen', 'Aberdonian', 'Aberia', 'Abhorson', 'Abie', 'Abies', 'Abietineae', 'Abiezer', 'Abigail', 'Abipon', 'Abitibi', 'Abkhas', 'Abkhasian', 'Ablepharus']\n",
            "['pat', 'pet', 'pit', 'pot', 'put']\n",
            "['paut', 'peat', 'piet', 'poet', 'poot', 'pout']\n",
            "['pat', 'paut', 'peat', 'pet', 'piet', 'pit', 'poet', 'poot', 'pot', 'pout', 'put']\n",
            "['7', '9']\n",
            "['10.3', '10.3455', '5.0', '7.8456']\n",
            "['10.3', '10.3455', '5.0', '7', '7.8456', '9']\n"
          ]
        }
      ]
    },
    {
      "cell_type": "code",
      "source": [
        "\"\"\"\n",
        "re.findall(r'\\w+|\\S\\w*',raw)でdon'tという単語をdonと'tに分けることはできたが、doとn'tにトークン化する方法は分からなかった。\n",
        "nltk.word_tokenize()を使うと出来たので、nltk.word_tokenize()について調べたが結局中身は分からなかった。\n",
        "re.findallでn't|\\w+をする場合、「\\'」で「'」をエスケープしないと「'」で望まない区切り方をしてしまうためうまくいかない。\n",
        "また、そのやり方だと、donとtのような分け方になるのでどのみちうまくはいかない。\n",
        "\"\"\"\n",
        "raw = \"\"\"'When I'M a Duchess,' she said to herself, (not in a very hopeful tone\n",
        "though), 'I won't have any pepper in my kitchen AT ALL. Soup does very\n",
        "well without--Maybe it's always pepper that makes people hot-tempered,'...\"\"\"\n",
        "print(re.findall(r'\\w+|\\S\\w*',raw))\n",
        "# print(nltk.word_tokenize(raw))"
      ],
      "metadata": {
        "colab": {
          "base_uri": "https://localhost:8080/"
        },
        "id": "uw229cf_vXcm",
        "outputId": "a693dcc4-9c17-476c-90f9-1c51cd361d13"
      },
      "execution_count": null,
      "outputs": [
        {
          "output_type": "stream",
          "name": "stdout",
          "text": [
            "[\"'When\", 'I', \"'M\", 'a', 'Duchess', ',', \"'\", 'she', 'said', 'to', 'herself', ',', '(not', 'in', 'a', 'very', 'hopeful', 'tone', 'though', ')', ',', \"'I\", 'won', \"'t\", 'have', 'any', 'pepper', 'in', 'my', 'kitchen', 'AT', 'ALL', '.', 'Soup', 'does', 'very', 'well', 'without', '-', '-Maybe', 'it', \"'s\", 'always', 'pepper', 'that', 'makes', 'people', 'hot', '-tempered', ',', \"'\", '.', '.', '.']\n",
            "[\"'When\", 'I', \"'M\", 'a', 'Duchess', ',', \"'\", 'she', 'said', 'to', 'herself', ',', '(', 'not', 'in', 'a', 'very', 'hopeful', 'tone', 'though', ')', ',', \"'I\", 'wo', \"n't\", 'have', 'any', 'pepper', 'in', 'my', 'kitchen', 'AT', 'ALL', '.', 'Soup', 'does', 'very', 'well', 'without', '--', 'Maybe', 'it', \"'s\", 'always', 'pepper', 'that', 'makes', 'people', 'hot-tempered', ',', \"'\", '...']\n"
          ]
        }
      ]
    },
    {
      "cell_type": "code",
      "source": [
        "raw = \"\"\"Hacker ate sugar cookie last night.\"\"\"\n",
        "raw = raw.lower()\n",
        "raw = re.sub('\\.','sweet!',raw)\n",
        "raw = re.sub('ate','8', raw)\n",
        "raw = re.sub('a','A', raw)\n",
        "raw = re.sub('e','3', raw)\n",
        "raw = re.sub('i','1', raw)\n",
        "raw = re.sub('s','$', raw,1)\n",
        "raw = re.sub('o','0', raw)\n",
        "raw = re.sub('l','|', raw)\n",
        "raw = re.sub('s','5', raw,0)\n",
        "print(raw)"
      ],
      "metadata": {
        "id": "R7_8w4miHnCt",
        "colab": {
          "base_uri": "https://localhost:8080/"
        },
        "outputId": "b138bc88-536b-4f3f-e53b-4983e06d1020"
      },
      "execution_count": null,
      "outputs": [
        {
          "output_type": "stream",
          "name": "stdout",
          "text": [
            "hAck3r 8 $ugAr c00k13 |A5t n1ght5w33t!\n"
          ]
        }
      ]
    }
  ]
}