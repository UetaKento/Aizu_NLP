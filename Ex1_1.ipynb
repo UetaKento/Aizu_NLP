{
  "nbformat": 4,
  "nbformat_minor": 0,
  "metadata": {
    "colab": {
      "name": "Ex1_1.ipynb",
      "provenance": [],
      "collapsed_sections": [],
      "authorship_tag": "ABX9TyMDke7Oyvh0CRkMXuzeebpK",
      "include_colab_link": true
    },
    "kernelspec": {
      "name": "python3",
      "display_name": "Python 3"
    },
    "language_info": {
      "name": "python"
    }
  },
  "cells": [
    {
      "cell_type": "markdown",
      "metadata": {
        "id": "view-in-github",
        "colab_type": "text"
      },
      "source": [
        "<a href=\"https://colab.research.google.com/github/UetaKento/Aizu_NLP/blob/main/Ex1_1.ipynb\" target=\"_parent\"><img src=\"https://colab.research.google.com/assets/colab-badge.svg\" alt=\"Open In Colab\"/></a>"
      ]
    },
    {
      "cell_type": "code",
      "metadata": {
        "id": "NXWSPLNSLtH7"
      },
      "source": [
        "print(\"This line will be printed.\")\n",
        "x=1;\n",
        "if x==1:\n",
        "  print(\"x is 1.\")\n",
        "myint = 7\n",
        "print(myint, type(myint))\n",
        "myfloat = float(7)\n",
        "print(myfloat, type(myfloat))\n",
        "print(type(\"aaaaa\"))\n",
        "print(type('bbbbb'))\n",
        "one = 1;\n",
        "two = 2;\n",
        "three = one + two\n",
        "print(three)\n",
        "print(\"\\n\")\n",
        "a, b, c = 1 , 2, 3\n",
        "print(a, b, c)"
      ],
      "execution_count": null,
      "outputs": []
    },
    {
      "cell_type": "code",
      "metadata": {
        "id": "zw1GgtisL6Ve"
      },
      "source": [
        "a, b, c = 1 , 2, 3\n",
        "print(a, b, c)\n",
        "mylist = []\n",
        "mylist.append(1)\n",
        "mylist.append(2)\n",
        "mylist.append(3)\n",
        "print(mylist[0]) # prints 1\n",
        "print(mylist[1]) # prints 2\n",
        "print(mylist[2]) # prints 3\n",
        "\n",
        "mylist=list(range(5))\n",
        "mylist[0] = 0\n",
        "mylist[1] = 1\n",
        "mylist[2] = 2\n",
        "print(mylist[2])"
      ],
      "execution_count": null,
      "outputs": []
    },
    {
      "cell_type": "code",
      "metadata": {
        "id": "K-T5jwD7ptpN"
      },
      "source": [
        "tuple_sample1 = (1,2,3,4,5, \"hello\") # どちらもTuple\n",
        "tuple_sample2 = 6,7,8,9,10, \"world\" # どちらもTuple\n",
        "print(tuple_sample1 + tuple_sample2)"
      ],
      "execution_count": null,
      "outputs": []
    },
    {
      "cell_type": "code",
      "metadata": {
        "id": "Jwwr4XTdqIq3"
      },
      "source": [
        "Multiplication = 2 * 3\n",
        "Power = 7 ** 2\n",
        "print(Multiplication, Power)\n",
        "helloworld = \"hello\" + \" \" + \"world\"\n",
        "print(helloworld)\n",
        "\n",
        "lotsofhellos = \"hello\" * 10\n",
        "print(lotsofhellos)\n",
        "\n",
        "even_numbers = [2,4,6,8]\n",
        "odd_numbers = [1,3,5,7]\n",
        "all_numbers = odd_numbers + even_numbers\n",
        "print(all_numbers)\n",
        "\n",
        "print([1,2,3]*3)"
      ],
      "execution_count": null,
      "outputs": []
    },
    {
      "cell_type": "code",
      "metadata": {
        "id": "0MYpNfFJq_u5"
      },
      "source": [
        "name = \"John\"\n",
        "print(\"My name is %s\" % name)\n",
        "age = 23\n",
        "print(\"My name is %s, %d years old\" % (name, age))\n",
        "mylist = [0, 1, 2, 3]\n",
        "print(\"%s\" % mylist)"
      ],
      "execution_count": null,
      "outputs": []
    },
    {
      "cell_type": "code",
      "metadata": {
        "id": "DOaQMJ81wLIL"
      },
      "source": [
        "list_r = [0, 1, 2, 3, 4]\n",
        "for i in list_r:\n",
        "  print(i)\n",
        "print(\"\\n\")\n",
        "\n",
        "for i in range(2, 5):\n",
        "  print(i)\n",
        "print(\"\\n\")\n",
        "\n",
        "for i in range(0, 10, 2):\n",
        "  print(i)"
      ],
      "execution_count": null,
      "outputs": []
    },
    {
      "cell_type": "code",
      "metadata": {
        "id": "iUGh-PJqyBP_"
      },
      "source": [
        "class Myclass:\n",
        "  vari = \"Kento\"\n",
        "  def function(self):\n",
        "      print(\"My name is Kento\")\n",
        "\n",
        "sample1 = Myclass()\n",
        "sample1.function()\n",
        "\n",
        "sample2 = Myclass()\n",
        "sample2.vari = 10\n",
        "\n",
        "print(sample1.vari, sample2.vari)\n",
        "\n",
        "class Color1:\n",
        "  def getName_A(self):\n",
        "    return \"Color1\"\n",
        "\n",
        "class Color2:\n",
        "  def getName_B(self):\n",
        "    return \"Color2\"\n",
        "\n",
        "class Color3(Color1, Color2):\n",
        "  def getName_C(self):\n",
        "    return \"Color3\"\n",
        "\n",
        "c3 = Color3()\n",
        "\n",
        "print(c3.getName_A())\n",
        "print(c3.getName_B()) \n",
        "print(c3.getName_C()) \n",
        "\n",
        "print(\"\\n\")\n",
        "\n",
        "class Color1:\n",
        "  def getName_A(self):\n",
        "    return \"Color1\"\n",
        "\n",
        "class Color2:\n",
        "  def getName_B(self):\n",
        "    return \"Color2\"\n",
        "\n",
        "class Color3(Color1):\n",
        "  def getName_C(self):\n",
        "    return super().getName_A()\n",
        "\n",
        "c3 = Color3()\n",
        "print(c3.getName_C())\n"
      ],
      "execution_count": null,
      "outputs": []
    },
    {
      "cell_type": "code",
      "metadata": {
        "colab": {
          "base_uri": "https://localhost:8080/"
        },
        "id": "VEY6Z-4LBXRl",
        "outputId": "e73ac99e-fc13-4fc5-d1f4-c986b5e038f9"
      },
      "source": [
        "phonebook = {}\n",
        "phonebook[\"aaa\"] = 111\n",
        "phonebook[\"bbb\"] = 222\n",
        "phonebook[\"ccc\"] = 333\n",
        "print(phonebook)\n",
        "\n",
        "for strs, ints in phonebook.items():\n",
        "  print(strs, ints)\n",
        "\n",
        "del phonebook['aaa']\n",
        "print(phonebook)\n"
      ],
      "execution_count": null,
      "outputs": [
        {
          "output_type": "stream",
          "name": "stdout",
          "text": [
            "{'aaa': 111, 'bbb': 222, 'ccc': 333}\n",
            "aaa 111\n",
            "bbb 222\n",
            "ccc 333\n",
            "{'bbb': 222, 'ccc': 333}\n"
          ]
        }
      ]
    },
    {
      "cell_type": "code",
      "metadata": {
        "id": "svh9C66aCssh"
      },
      "source": [
        "import nltk\n",
        "nltk.download('all')"
      ],
      "execution_count": null,
      "outputs": []
    },
    {
      "cell_type": "code",
      "metadata": {
        "id": "T91CuUW7dMd0"
      },
      "source": [
        "import nltk\n",
        "from nltk.book import *"
      ],
      "execution_count": null,
      "outputs": []
    },
    {
      "cell_type": "code",
      "metadata": {
        "colab": {
          "base_uri": "https://localhost:8080/"
        },
        "id": "O2LnkyasHK_6",
        "outputId": "62cbf3c5-4dbd-45ef-851c-4f5550cc4292"
      },
      "source": [
        "# print(text1[1:100])\n",
        "# text1.dispersion_plot([\"white\", \"Moby\"])\n",
        "# print(sorted(set(text3))[1:100])\n",
        "text1.count(\"white\")\n",
        "len(set(text3))"
      ],
      "execution_count": null,
      "outputs": [
        {
          "output_type": "execute_result",
          "data": {
            "text/plain": [
              "2789"
            ]
          },
          "metadata": {},
          "execution_count": 83
        }
      ]
    },
    {
      "cell_type": "code",
      "metadata": {
        "colab": {
          "base_uri": "https://localhost:8080/"
        },
        "id": "UM12DY5pK1uA",
        "outputId": "65fbfa2a-f06e-42fa-b852-d3725b6e1d8d"
      },
      "source": [
        "saying = ['After', 'all', 'is', 'said', 'and', 'done','more', 'is', 'said', 'than', 'done']\n",
        "token = set(saying)\n",
        "print(token)\n",
        "token = sorted(token)\n",
        "print(token)\n",
        "print(token[-2:])"
      ],
      "execution_count": null,
      "outputs": [
        {
          "output_type": "stream",
          "name": "stdout",
          "text": [
            "{'done', 'said', 'than', 'After', 'all', 'is', 'more', 'and'}\n",
            "['After', 'all', 'and', 'done', 'is', 'more', 'said', 'than']\n",
            "['said', 'than']\n"
          ]
        }
      ]
    },
    {
      "cell_type": "code",
      "metadata": {
        "id": "y9-dOZL7MHY8"
      },
      "source": [
        "fdist1 = FreqDist(text1) \n",
        "print(fdist1)\n",
        "\n",
        "print(fdist1.most_common(30))\n",
        "print(fdist1.plot(10, cumulative=False))\n",
        "print(fdist1.plot(10, cumulative=True))"
      ],
      "execution_count": null,
      "outputs": []
    },
    {
      "cell_type": "code",
      "metadata": {
        "colab": {
          "base_uri": "https://localhost:8080/"
        },
        "id": "3wybDn1_NZgp",
        "outputId": "5d9eb7d0-7b1b-4f7f-cb24-399edbcf9fa9"
      },
      "source": [
        "V = set(text1)\n",
        "long_words = [w for w in V if len(w) > 15] # 長い単語 (15文字以上) を抽出\n",
        "print(long_words)\n",
        "\n",
        "# text5の頻度リストを取得\n",
        "fdist5 = FreqDist(text5)\n",
        "# 単語長が7以上かつ頻度が７以上の語のリストをソートして取得し表示\n",
        "print(sorted(w for w in set(text5) if len(w) > 7 and fdist5[w] > 7))"
      ],
      "execution_count": null,
      "outputs": [
        {
          "output_type": "stream",
          "name": "stdout",
          "text": [
            "['preternaturalness', 'circumnavigations', 'simultaneousness', 'supernaturalness', 'superstitiousness', 'uninterpenetratingly', 'cannibalistically', 'hermaphroditical', 'circumnavigation', 'subterraneousness', 'physiognomically', 'irresistibleness', 'apprehensiveness', 'CIRCUMNAVIGATION', 'uncompromisedness', 'comprehensiveness', 'indiscriminately', 'undiscriminating', 'circumnavigating', 'Physiognomically', 'uncomfortableness', 'characteristically', 'indispensableness', 'responsibilities']\n",
            "['#14-19teens', '#talkcity_adults', '((((((((((', '........', 'Question', 'actually', 'anything', 'computer', 'cute.-ass', 'everyone', 'football', 'innocent', 'listening', 'remember', 'seriously', 'something', 'together', 'tomorrow', 'watching']\n"
          ]
        }
      ]
    },
    {
      "cell_type": "code",
      "metadata": {
        "colab": {
          "base_uri": "https://localhost:8080/"
        },
        "id": "whGaYfimXv9W",
        "outputId": "602a487b-f47f-4108-8c6a-2d8493343248"
      },
      "source": [
        "# 2語連接の取得\n",
        "print(list(bigrams(['more', 'is', 'said', 'than', 'done'])))\n",
        "# n語連接 (n=3) の取得\n",
        "from nltk.util import ngrams\n",
        "print(list(ngrams(['more', 'is', 'said', 'than', 'done'], 3)))"
      ],
      "execution_count": null,
      "outputs": [
        {
          "output_type": "stream",
          "name": "stdout",
          "text": [
            "[('more', 'is'), ('is', 'said'), ('said', 'than'), ('than', 'done')]\n",
            "[('more', 'is', 'said'), ('is', 'said', 'than'), ('said', 'than', 'done')]\n"
          ]
        }
      ]
    },
    {
      "cell_type": "code",
      "metadata": {
        "colab": {
          "base_uri": "https://localhost:8080/"
        },
        "id": "ZpQbEfwPYbWe",
        "outputId": "cf3d25c6-9ac7-4797-c85e-c5b3c4db7c67"
      },
      "source": [
        "fdist = FreqDist(len(w) for w in text3)\n",
        "print(fdist.most_common())\n",
        "print(fdist.max(), fdist[fdist.max()], fdist.freq(fdist.max()))"
      ],
      "execution_count": null,
      "outputs": [
        {
          "output_type": "stream",
          "name": "stdout",
          "text": [
            "[(3, 11599), (4, 8984), (1, 7408), (2, 5968), (5, 4693), (6, 2549), (7, 1674), (8, 928), (9, 599), (10, 182), (11, 123), (12, 39), (13, 9), (14, 7), (15, 2)]\n",
            "3 11599 0.2591144669823966\n"
          ]
        }
      ]
    },
    {
      "cell_type": "code",
      "metadata": {
        "colab": {
          "base_uri": "https://localhost:8080/"
        },
        "id": "DuJagQyxZe9h",
        "outputId": "ec7b1090-3386-4ee9-f60f-56d0347947a3"
      },
      "source": [
        "# sorted(set(w.lower() for w in text1))\n",
        "len(set(w.lower() for w in text1))"
      ],
      "execution_count": null,
      "outputs": [
        {
          "output_type": "execute_result",
          "data": {
            "text/plain": [
              "17231"
            ]
          },
          "metadata": {},
          "execution_count": 105
        }
      ]
    },
    {
      "cell_type": "code",
      "metadata": {
        "colab": {
          "base_uri": "https://localhost:8080/"
        },
        "id": "dGTOFE2XZwiV",
        "outputId": "01aebcec-52ab-48cb-ae49-7c0547671cb6"
      },
      "source": [
        "sorted(w.lower() for w in set(text1))\n",
        "len(set(text1))"
      ],
      "execution_count": null,
      "outputs": [
        {
          "output_type": "execute_result",
          "data": {
            "text/plain": [
              "19317"
            ]
          },
          "metadata": {},
          "execution_count": 106
        }
      ]
    }
  ]
}