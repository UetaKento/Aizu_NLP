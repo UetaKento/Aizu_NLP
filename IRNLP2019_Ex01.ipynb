{
  "nbformat": 4,
  "nbformat_minor": 0,
  "metadata": {
    "kernelspec": {
      "display_name": "Python 3",
      "language": "python",
      "name": "python3"
    },
    "language_info": {
      "codemirror_mode": {
        "name": "ipython",
        "version": 3
      },
      "file_extension": ".py",
      "mimetype": "text/x-python",
      "name": "python",
      "nbconvert_exporter": "python",
      "pygments_lexer": "ipython3",
      "version": "3.7.3"
    },
    "colab": {
      "name": "IRNLP2019_Ex01.ipynb",
      "provenance": [],
      "collapsed_sections": [
        "mDJIm5wgzpxW",
        "rkCa3DgqzpxW",
        "EcGao5FmzpxX",
        "muBEpshFzpxX",
        "5TIOw1z0zpxX",
        "g2EAAAn-zpxX",
        "oqC0fYn7zpxY",
        "d4a-gDGtzpxY",
        "EQ3FWpw5zpxY",
        "BAw23P5azpxY",
        "g-lBfBEgzpxY",
        "fjuNNriizpxZ",
        "OEPqrMJKzpxZ",
        "8tvfAgHizpxc",
        "aVBRay4Tzpxc",
        "GW7HxSvGzpxe",
        "uqAFIH3Jzpxe",
        "hZu2nC5ozpxg",
        "VfB2_Rxfzpxh",
        "lKdHPXYEzpxj",
        "LGsyHyc4zpxl",
        "_0DrU4qwzpxl",
        "Je0CRX3Yzpxm"
      ],
      "include_colab_link": true
    }
  },
  "cells": [
    {
      "cell_type": "markdown",
      "metadata": {
        "id": "view-in-github",
        "colab_type": "text"
      },
      "source": [
        "<a href=\"https://colab.research.google.com/github/UetaKento/Aizu_NLP/blob/main/IRNLP2019_Ex01.ipynb\" target=\"_parent\"><img src=\"https://colab.research.google.com/assets/colab-badge.svg\" alt=\"Open In Colab\"/></a>"
      ]
    },
    {
      "cell_type": "markdown",
      "metadata": {
        "id": "vDDSIKaBdu-r"
      },
      "source": [
        "# Google Colabでの演習について\n",
        "情報検索と自然言語処理の演習では、学内環境のほか、Google Colabを利用することも推奨しています。\n",
        "\n",
        "理由としては、学内環境では、Jupyter Notebookと呼ばれている、スクリプトを簡単に動かしてテストする環境が無く、遠隔でログインして動作させようとする場合に非常に手間がかかるからです。\n",
        "\n",
        "学内環境を利用する場合と違い、Google Colabでは、一時データ（nltkのダウンロードリソース）は永続しませんので、セッションを張るたびに予めダウンロードの手続きが必要ではありますが、無料部分のみで凡そのテストは行えると思いますので、ぜひご活用ください。\n",
        "\n",
        "また、Assignmentのレポートの動作チェックにも、Google Colabを利用すると楽に作れます。PDFも作れるようですので（https://clairdeluna-eve.hatenablog.com/entry/2020/05/20/100822 )\n",
        "、試してみてください。"
      ]
    },
    {
      "cell_type": "code",
      "metadata": {
        "id": "9kRqEZ_mz8t8"
      },
      "source": [
        "import nltk\n",
        "nltk.download('all')"
      ],
      "execution_count": null,
      "outputs": []
    },
    {
      "cell_type": "code",
      "metadata": {
        "colab": {
          "base_uri": "https://localhost:8080/"
        },
        "id": "m47tyApi-yFO",
        "outputId": "90709083-4c93-4f65-e40d-d4caa4473fd2"
      },
      "source": [
        "a = 10\n",
        "b = 20\n",
        "print(a+b)"
      ],
      "execution_count": null,
      "outputs": [
        {
          "output_type": "stream",
          "name": "stdout",
          "text": [
            "30\n"
          ]
        }
      ]
    },
    {
      "cell_type": "markdown",
      "metadata": {
        "id": "PBh3lK1gzpxR"
      },
      "source": [
        "# Exercise 1: Python and NLTK Basis\n",
        "\n",
        "Pythonを学ぶには、理論や読書よりも、何よりもサンプルコードをコピーして実行し、内容を書き換えて再度実行することが早道です。  \n",
        "第1回目のExerciseでは、以下のサンプルコードを実際に書き込んでみて、Pythonとは何か、NLTKとは何かを体験してください。\n",
        "\n",
        "## Lesson 0: Getting Start with Python\n",
        "\n",
        "Terminal上でpythonを起動しましょう。Pythonは3系を利用します。 (会津大のPython Versionは 3.4.5 です)"
      ]
    },
    {
      "cell_type": "markdown",
      "metadata": {
        "id": "6tRD_SGYzpxR"
      },
      "source": [
        "% python3\n",
        "\n",
        "Python 3.6.5 (default, Sep  4 2018, 14:42:03) \n",
        "[GCC 7.3.0] on sunos5\n",
        "Type \"help\", \"copyright\", \"credits\" or \"license\" for more information.\n",
        ">>>"
      ]
    },
    {
      "cell_type": "markdown",
      "metadata": {
        "id": "JpTjukdSzpxS"
      },
      "source": [
        "\">>>\" と表示されている部分の後ろに、次のように書いて、リターンキーを押すと、行が実行されます。"
      ]
    },
    {
      "cell_type": "code",
      "metadata": {
        "colab": {
          "base_uri": "https://localhost:8080/"
        },
        "id": "ZU_Yh5cgzpxS",
        "outputId": "7338f700-532d-4d92-fc3f-be385c07dea2"
      },
      "source": [
        "1 + 5 * 2 - 3 + 9 - 4 "
      ],
      "execution_count": null,
      "outputs": [
        {
          "output_type": "execute_result",
          "data": {
            "text/plain": [
              "13"
            ]
          },
          "metadata": {},
          "execution_count": 1
        }
      ]
    },
    {
      "cell_type": "markdown",
      "metadata": {
        "id": "tFsZO8cqzpxU"
      },
      "source": [
        "## Lesson 1: Python Basis\n",
        "\n",
        "### 1.1. Hello, World!\n",
        "一番最初のソースコードは、Hello Worldです。通常、所謂『標準出力』にテキストを出そうとすると、Cのコードでは\n",
        "\n",
        "- printf(\"Hello World\")\n",
        "\n",
        "となりますが、Pythonでは次のように書きます。"
      ]
    },
    {
      "cell_type": "code",
      "metadata": {
        "colab": {
          "base_uri": "https://localhost:8080/"
        },
        "id": "ZRBxOboCzpxU",
        "outputId": "005fb43f-da27-4771-cfdf-ce042a6aadce"
      },
      "source": [
        "print(\"This line will be printed.\")"
      ],
      "execution_count": null,
      "outputs": [
        {
          "output_type": "stream",
          "name": "stdout",
          "text": [
            "This line will be printed.\n"
          ]
        }
      ]
    },
    {
      "cell_type": "markdown",
      "metadata": {
        "id": "w1b78KUnzpxU"
      },
      "source": [
        "### 1.2. Indentation\n",
        "CやJavaではブロックの効果範囲を示すのに中括弧等 {} を使いますが、PythonではIndentを使って表現します。注意すべき点は、タブによるインデントとスペースによるインデントは違うように扱われること、また、4つのスペースで記述されたインデントと3つのスペースで記述されたインデントは違うブロックを示すので、同一ブロックはインデントの高さを正確に合わせることが必要です。"
      ]
    },
    {
      "cell_type": "code",
      "metadata": {
        "colab": {
          "base_uri": "https://localhost:8080/"
        },
        "id": "44oUJnfNzpxU",
        "outputId": "ba36926b-fb21-495f-db9a-de58b3c7bfb8"
      },
      "source": [
        "x = 1\n",
        "if x == 1:\n",
        "    # indented four spaces\n",
        "    print(\"x is 1.\")"
      ],
      "execution_count": null,
      "outputs": [
        {
          "output_type": "stream",
          "name": "stdout",
          "text": [
            "x is 1.\n"
          ]
        }
      ]
    },
    {
      "cell_type": "markdown",
      "metadata": {
        "id": "pS6CFCJdzpxV"
      },
      "source": [
        "### 1.3. Numbers\n",
        "PythonはCやJavaと違い、動的に型を定義できる言語です。CやJavaは、変数の宣言に型の定義を入れる必要がありますが、Pythonではその必要がありません。しかし、問題は、動的に型を定義できる分、後々その変数が『どの型の変数か』を忘れてしまうことが良くあります。その型が何であるかを知るには、type()メソッドを利用すると型を知ることができます。"
      ]
    },
    {
      "cell_type": "code",
      "metadata": {
        "colab": {
          "base_uri": "https://localhost:8080/"
        },
        "id": "kuTyEcyGzpxV",
        "outputId": "af4ec72b-4b96-43b9-a674-9527b7c0a0d3"
      },
      "source": [
        "myint = 7\n",
        "print(myint, type(myint))\n",
        "myfloat = 7.0\n",
        "print(myfloat, type(myfloat))\n",
        "myfloat = float(7)\n",
        "print(myfloat, type(myfloat))"
      ],
      "execution_count": null,
      "outputs": [
        {
          "output_type": "stream",
          "name": "stdout",
          "text": [
            "7 <class 'int'>\n",
            "7.0 <class 'float'>\n",
            "7.0 <class 'float'>\n"
          ]
        }
      ]
    },
    {
      "cell_type": "markdown",
      "metadata": {
        "id": "2Kr6V3WxzpxV"
      },
      "source": [
        "### 1.4. Strings\n",
        "文字列を扱うには、シングルクオーテーション (\\'), ダブルクォーテーション (\\\")を用います。これらによって囲まれた部分は文字列とみなされます。"
      ]
    },
    {
      "cell_type": "code",
      "metadata": {
        "colab": {
          "base_uri": "https://localhost:8080/"
        },
        "id": "-2otroEzzpxV",
        "outputId": "9bd32c8a-3d0e-4b48-a1b9-d146aa7f2fa4"
      },
      "source": [
        "print(type(\"double test\"))\n",
        "print(type('single test'))\n",
        "mystring = \"hello\"\n",
        "print(mystring)\n",
        "mystring = 'world'\n",
        "print(mystring)"
      ],
      "execution_count": null,
      "outputs": [
        {
          "output_type": "stream",
          "name": "stdout",
          "text": [
            "<class 'str'>\n",
            "<class 'str'>\n",
            "hello\n",
            "world\n"
          ]
        }
      ]
    },
    {
      "cell_type": "markdown",
      "metadata": {
        "id": "-lnSQiNizpxW"
      },
      "source": [
        "なお、文章を扱う場合、よくアポストロフィ(\\')が使われますが、この場合はダブルクォーテーションで囲めば十分利用できます。"
      ]
    },
    {
      "cell_type": "code",
      "metadata": {
        "colab": {
          "base_uri": "https://localhost:8080/"
        },
        "id": "P9kWSog_zpxW",
        "outputId": "f0c2d4e7-4b7c-49aa-9bec-89b63a469d00"
      },
      "source": [
        "mystring = \"Don't worry about apostrophes\"\n",
        "print(mystring)"
      ],
      "execution_count": null,
      "outputs": [
        {
          "output_type": "stream",
          "text": [
            "Don't worry about apostrophes\n"
          ],
          "name": "stdout"
        }
      ]
    },
    {
      "cell_type": "markdown",
      "metadata": {
        "id": "tRwJKcrozpxW"
      },
      "source": [
        "出力に関しては、Stringインスタンス同士のであれば、\\'+\\'演算子は『結合』になります。しかし、型が違うものを\\'+\\'演算子で扱うことはできません"
      ]
    },
    {
      "cell_type": "code",
      "metadata": {
        "colab": {
          "base_uri": "https://localhost:8080/"
        },
        "id": "xuFm-FjRzpxW",
        "outputId": "006f32b9-6ba8-4152-e826-328de5166b09"
      },
      "source": [
        "one = 1\n",
        "two = 2\n",
        "three = one + two\n",
        "print(three)\n",
        "\n",
        "hello = \"hello\"\n",
        "world = \"world\"\n",
        "helloworld = hello + \" \" + world\n",
        "print(helloworld)"
      ],
      "execution_count": null,
      "outputs": [
        {
          "output_type": "stream",
          "text": [
            "3\n",
            "hello world\n"
          ],
          "name": "stdout"
        }
      ]
    },
    {
      "cell_type": "markdown",
      "metadata": {
        "id": "ujP_awtUzpxW"
      },
      "source": [
        "print(one + two + hello)\n",
        "\n",
        "---------------------------------------------------------------------------\n",
        "TypeError                                 Traceback (most recent call last)\n",
        "<ipython-input-7-edccac85d7bd> in <module>\n",
        "      9 print(helloworld)\n",
        "     10 \n",
        "---> 11 print(one + two + hello)\n",
        "\n",
        "TypeError: unsupported operand type(s) for +: 'int' and 'str"
      ]
    },
    {
      "cell_type": "markdown",
      "metadata": {
        "id": "mDJIm5wgzpxW"
      },
      "source": [
        "### 1.5. Assignment\n",
        "変数に代入するときには、左辺にある変数をカンマ区切りで列挙し、右辺に置く値もカンマ区切りで列挙することで、同時に入力をしてしまうことができます。\n",
        "同様に、出力の時にも、カンマを用いて並列に出力することができます。"
      ]
    },
    {
      "cell_type": "code",
      "metadata": {
        "colab": {
          "base_uri": "https://localhost:8080/"
        },
        "id": "HyQXvLuMzpxW",
        "outputId": "59a8ac08-0a37-4364-ccf7-399a56a9bd64"
      },
      "source": [
        "a, b, hello = 1, 2, \"hello\"\n",
        "print(a, b, hello)"
      ],
      "execution_count": null,
      "outputs": [
        {
          "output_type": "stream",
          "name": "stdout",
          "text": [
            "1 2 hello\n"
          ]
        }
      ]
    },
    {
      "cell_type": "markdown",
      "metadata": {
        "id": "rkCa3DgqzpxW"
      },
      "source": [
        "### 1.6. Lists\n",
        "Pythonにおける配列（List）は、オブジェクトとして生成され、C++におけるVector型やJavaにおけるList型等と同様に、ビルトインのメソッドを用いて追加したり削除したりすることができます。"
      ]
    },
    {
      "cell_type": "code",
      "metadata": {
        "colab": {
          "base_uri": "https://localhost:8080/"
        },
        "id": "k9-94zQzzpxW",
        "outputId": "2d38c9c2-d51f-48e8-e48b-44114bf49a5e"
      },
      "source": [
        "mylist = []\n",
        "mylist.append(1)\n",
        "mylist.append(2)\n",
        "mylist.append(3)\n",
        "mylist[2] = 100\n",
        "print(mylist[0]) # prints 1\n",
        "print(mylist[1]) # prints 2\n",
        "print(mylist[2]) # prints 3\n",
        "\n",
        "# prints out 1, 2,3\n",
        "for x in mylist:\n",
        "    print(x)"
      ],
      "execution_count": null,
      "outputs": [
        {
          "output_type": "stream",
          "name": "stdout",
          "text": [
            "1\n",
            "2\n",
            "100\n",
            "1\n",
            "2\n",
            "100\n"
          ]
        }
      ]
    },
    {
      "cell_type": "markdown",
      "metadata": {
        "id": "PW1VpzSMzpxW"
      },
      "source": [
        "また、配列の変数を定義するタイミングで代入する場合は、カンマ区切りで代入することができます。"
      ]
    },
    {
      "cell_type": "code",
      "metadata": {
        "colab": {
          "base_uri": "https://localhost:8080/"
        },
        "id": "danpRuKazpxX",
        "outputId": "56b7a3d2-4624-4a95-8654-838ea48c6f0f"
      },
      "source": [
        "name = [\"John\", \"Eric\", \"Jessica\", \"Samuel\"]\n",
        "for x in name:\n",
        "    print(x)"
      ],
      "execution_count": null,
      "outputs": [
        {
          "output_type": "stream",
          "text": [
            "John\n",
            "Eric\n",
            "Jessica\n",
            "Samuel\n"
          ],
          "name": "stdout"
        }
      ]
    },
    {
      "cell_type": "markdown",
      "metadata": {
        "id": "EcGao5FmzpxX"
      },
      "source": [
        "### 1.7. Tuple\n",
        "Pythonには、配列(List)の他に、Tupleと呼ばれる『複数値型』というものがあります。先のAssignmentの項目で、並列にデータを同時代入することが出来るのはこの仕組みによります。\n",
        "Tupleの定義はカンマによって区切られた値列です。便宜上、括弧書き () で囲んでおいた方が、後々リストと混同しないで助かると思います。  \n",
        "TupleはListと違って、複数値のかたまりを定義した後に変更が出来ません。しかし、その代わり、実行が少し早いです。なお、リストと同様に、連結して他のTupleとして代入することは、\\'+\\'を用いて可能です。"
      ]
    },
    {
      "cell_type": "code",
      "metadata": {
        "colab": {
          "base_uri": "https://localhost:8080/"
        },
        "id": "A944oi-MzpxX",
        "outputId": "2efde0df-4c05-4d51-b80b-f7f8613940c9"
      },
      "source": [
        "tuple_sample1 = (1,2,3,4,5, \"hello\") # どちらもTuple\n",
        "tuple_sample2 = 6,7,8,9,10, \"world\" # どちらもTuple\n",
        "print(tuple_sample1 + tuple_sample2)"
      ],
      "execution_count": null,
      "outputs": [
        {
          "output_type": "stream",
          "text": [
            "(1, 2, 3, 4, 5, 'hello', 6, 7, 8, 9, 10, 'world')\n"
          ],
          "name": "stdout"
        }
      ]
    },
    {
      "cell_type": "markdown",
      "metadata": {
        "id": "muBEpshFzpxX"
      },
      "source": [
        "### 1.8. Basic Operators\n",
        "\n",
        "#### 1.8.1. Arithmetic Operators\n",
        "\n",
        "算術演算子で用いることが出来るのは、 \\'+\\' (Addition), \\'-\\' (Subtraction), \\'\\*\\' (Multiplication), \\'/\\' (Division) です。また、整数演算で \\'%\\' (Modulo), 累乗として \\'\\*\\*\\' (Power) を用いることができます。"
      ]
    },
    {
      "cell_type": "code",
      "metadata": {
        "colab": {
          "base_uri": "https://localhost:8080/"
        },
        "id": "j5RAqTdezpxX",
        "outputId": "6bc54fb2-4b4b-459b-f03f-a9a297719b38"
      },
      "source": [
        "number = 1 + 2 * 3 / 4.0\n",
        "print(number, type(number))\n",
        "\n",
        "remainder = 11 % 3\n",
        "print(remainder)\n",
        "\n",
        "squared = 7 ** 2\n",
        "cubed = 2 ** 3\n",
        "print(squared, cubed)"
      ],
      "execution_count": null,
      "outputs": [
        {
          "output_type": "stream",
          "text": [
            "2.5 <class 'float'>\n",
            "2\n",
            "49 8\n"
          ],
          "name": "stdout"
        }
      ]
    },
    {
      "cell_type": "markdown",
      "metadata": {
        "id": "5TIOw1z0zpxX"
      },
      "source": [
        "#### 1.8.2. Using Operators with String and Lists\n",
        "\n",
        "文字列やリストに演算子\\'+\\'や\\'\\*\\'を適用すると、『結合』『コピー』の意味合いになります。"
      ]
    },
    {
      "cell_type": "code",
      "metadata": {
        "colab": {
          "base_uri": "https://localhost:8080/"
        },
        "id": "-9lTzgZlzpxX",
        "outputId": "d5d69077-2e7a-489c-c496-0aaa99bb9408"
      },
      "source": [
        "helloworld = \"hello\" + \" \" + \"world\"\n",
        "print(helloworld)\n",
        "\n",
        "lotsofhellos = \"hello\" * 10\n",
        "print(lotsofhellos)\n",
        "\n",
        "even_numbers = [2,4,6,8]\n",
        "odd_numbers = [1,3,5,7]\n",
        "all_numbers = odd_numbers + even_numbers\n",
        "print(all_numbers)\n",
        "\n",
        "print([1,2,3]*3)"
      ],
      "execution_count": null,
      "outputs": [
        {
          "output_type": "stream",
          "text": [
            "hello world\n",
            "hellohellohellohellohellohellohellohellohellohello\n",
            "[1, 3, 5, 7, 2, 4, 6, 8]\n",
            "[1, 2, 3, 1, 2, 3, 1, 2, 3]\n"
          ],
          "name": "stdout"
        }
      ]
    },
    {
      "cell_type": "markdown",
      "metadata": {
        "id": "g2EAAAn-zpxX"
      },
      "source": [
        "### 1.9. String Formatting\n",
        "Pythonでは、C言語で用いられている形での文字列のフォーマットを行うことができます。この時、カンマで区切るのではなく、\\'%\\'演算子で区切ります。これは、後ろに含める値がTupleではることを示す演算子になります。そのため、含める値が複数ある場合は、Tupleを用いて指定することが出来ます。  \n",
        "なお、リテラルは以下の通りです。\n",
        "\n",
        " - %s: 文字列等\n",
        " - %d: 整数型 (Integer)\n",
        " - %f: 小数点型 (Floating point)\n",
        " - %.\\< number of digits \\>f: 丸め付き小数点型\n",
        " - %x/%X: 8進数整数 (lowercase/uppercase)\n",
        " "
      ]
    },
    {
      "cell_type": "code",
      "metadata": {
        "colab": {
          "base_uri": "https://localhost:8080/"
        },
        "id": "u9hw1AUezpxX",
        "outputId": "c4580e95-1d88-4276-9c6f-2751a79a973a"
      },
      "source": [
        "name = \"John\"\n",
        "print(\"Hello, %s!\" % name )\n",
        "age = 23\n",
        "print(\"%s is %d years old.\" % (name,age))"
      ],
      "execution_count": null,
      "outputs": [
        {
          "output_type": "stream",
          "text": [
            "Hello, John!\n",
            "John is 23 years old.\n"
          ],
          "name": "stdout"
        }
      ]
    },
    {
      "cell_type": "markdown",
      "metadata": {
        "id": "IOefMb73zpxX"
      },
      "source": [
        "なお、 %s指示子はStringのみしか適用できないものではなく、リストのように連続したデータを取り扱うメソッド（Repr method）のある型に適用できます。"
      ]
    },
    {
      "cell_type": "code",
      "metadata": {
        "colab": {
          "base_uri": "https://localhost:8080/"
        },
        "id": "khuttVXrzpxX",
        "outputId": "857542a8-4cb1-4d15-da07-2cd368763a5c"
      },
      "source": [
        "mylist = [1,2,3]\n",
        "print(\"A list: %s\" % mylist)"
      ],
      "execution_count": null,
      "outputs": [
        {
          "output_type": "stream",
          "text": [
            "A list: [1, 2, 3]\n"
          ],
          "name": "stdout"
        }
      ]
    },
    {
      "cell_type": "markdown",
      "metadata": {
        "id": "oqC0fYn7zpxY"
      },
      "source": [
        "### 1.10. Basig String Operations\n",
        "\n",
        "文字列に対して、文字列の長さを取得するlen()メソッドや、文字や文字列のある場所（0から始まる位置）を取り出すindex()メソッド, 特定の文字/文字列の数をカウントするcount()メソッド等があります。また、リスト操作を用いると、文字列の特定の並びを切り出すことができます。\n",
        "\n",
        " - len() 文字列の長さを取得する\n",
        " - index() 文字/文字列のある先頭位置の番号を取り出す\n",
        " - count() 文字/文字列の出現する回数を得る\n",
        " - upper() 文字列を大文字の列に変換する\n",
        " - lower() 文字列を小文字の列に変換する\n",
        " - startswith() 文字/文字列で開始する文字列かを判定する\n",
        " - endswidth() 文字/文字列で終了する文字列かを判定する\n",
        " - sprit() 文字/文字列を区切りとして文字列を切り分ける\n",
        " "
      ]
    },
    {
      "cell_type": "code",
      "metadata": {
        "colab": {
          "base_uri": "https://localhost:8080/"
        },
        "id": "i4pwnH-HzpxY",
        "outputId": "62ec909b-917b-42c4-9daa-681aebbf4a80"
      },
      "source": [
        "astring = \"Hello world!\"\n",
        "print(\"len\", len(astring))\n",
        "print(\"index\", astring.index(\"o\"))\n",
        "print(\"count\", astring.count(\"l\"))\n",
        "print(\"list1\", astring[3:7])\n",
        "print(\"list2\",astring[3:7:2])\n",
        "print(\"list3\",astring[::-1])\n",
        "print(\"upper\", astring.upper())\n",
        "print(\"lower\", astring.lower())\n",
        "print(\"startswith\", astring.startswith(\"Hello\"))\n",
        "print(\"endswith\", astring.endswith(\"asdf\"))\n",
        "print(\"split\", astring.split(\" \"))"
      ],
      "execution_count": null,
      "outputs": [
        {
          "output_type": "stream",
          "text": [
            "len 12\n",
            "index 4\n",
            "count 3\n",
            "list1 lo w\n",
            "list2 l \n",
            "list3 !dlrow olleH\n",
            "upper HELLO WORLD!\n",
            "lower hello world!\n",
            "startswith True\n",
            "endswith False\n",
            "split ['Hello', 'world!']\n"
          ],
          "name": "stdout"
        }
      ]
    },
    {
      "cell_type": "markdown",
      "metadata": {
        "id": "d4a-gDGtzpxY"
      },
      "source": [
        "### 1.11. Conditions\n",
        "\n",
        "Pythonにおける条件式には、比較演算 (等号/不等号) と論理演算 (否定, 対偶等) があります。なお、真はTrue, 偽はFalseとして値が出てきます。\n",
        "\n",
        "- 算術比較演算子 (値の比較)\n",
        " - a == b           # a が b と等しい\n",
        " - a != b           # a が b と異なる\n",
        " - a < b            # a が b よりも小さい\n",
        " - a > b            # a が b よりも大きい\n",
        " - a <= b           # a が b 以下である\n",
        " - a >= b           # a が b 以上である\n",
        " - a <> b           # a が b と異なる\n",
        " \n",
        "- Instance比較演算子（値の比較ではなくポインタの比較)\n",
        " - a is b           # a が b と等しい\n",
        " - a is not b       # a が b と異なる\n",
        " - a in b           # a が b に含まれる\n",
        " - a not in b       # a が b に含まれない\n",
        "\n",
        "- 論理演算子\n",
        " - a and b         # a も b も真であれば真\n",
        " - a or b          # a または b が真であれば真\n",
        " - not a           # a が偽であれば真"
      ]
    },
    {
      "cell_type": "code",
      "metadata": {
        "colab": {
          "base_uri": "https://localhost:8080/"
        },
        "id": "Pm23h3qwzpxY",
        "outputId": "48cc70ff-1ff7-4b25-bd62-597da69cc3c6"
      },
      "source": [
        "x = 2\n",
        "print(x == 2) # prints out True\n",
        "print(x == 3) # prints out False\n",
        "print(x < 3) # prints out True\n",
        "x = [1,2,3]\n",
        "y = [1,2,3]\n",
        "print(x == y) # Prints out True\n",
        "print(x is y) # Prints out False\n",
        "print(not False) # Prints out True\n",
        "print((not False) == (False)) # Prints out False"
      ],
      "execution_count": null,
      "outputs": [
        {
          "output_type": "stream",
          "text": [
            "True\n",
            "False\n",
            "True\n",
            "True\n",
            "False\n",
            "True\n",
            "False\n"
          ],
          "name": "stdout"
        }
      ]
    },
    {
      "cell_type": "code",
      "metadata": {
        "colab": {
          "base_uri": "https://localhost:8080/"
        },
        "id": "HF5K3_lxzpxY",
        "outputId": "9b210a0d-ce85-402a-ff9f-6f1a3a0b06d5"
      },
      "source": [
        "name = \"John\"\n",
        "age = 23\n",
        "if name == \"John\" and age == 23:\n",
        "    print(\"Your name is John, and you are also 23 years old.\")\n",
        "\n",
        "if name == \"John\" or name == \"Rick\":\n",
        "    print(\"Your name is either John or Rick.\")"
      ],
      "execution_count": null,
      "outputs": [
        {
          "output_type": "stream",
          "text": [
            "Your name is John, and you are also 23 years old.\n",
            "Your name is either John or Rick.\n"
          ],
          "name": "stdout"
        }
      ]
    },
    {
      "cell_type": "markdown",
      "metadata": {
        "id": "EQ3FWpw5zpxY"
      },
      "source": [
        "#### 1.11.1. in operation\n",
        "\n",
        "『リストの内部のどれかに』という表現を扱う場合には、inという表現を用いて扱うことができます。これは、本来であればC言語等ではforループで扱わなければいけなかったものが、1行で済んでしまうようになる非常に便利な表現です。"
      ]
    },
    {
      "cell_type": "code",
      "metadata": {
        "colab": {
          "base_uri": "https://localhost:8080/"
        },
        "id": "NDVcsrA5zpxY",
        "outputId": "4ec505a4-f1bd-48af-d6ca-558c23726bbe"
      },
      "source": [
        "name = \"John\"\n",
        "if name in [\"John\", \"Rick\"]:\n",
        "    print(\"Your name is either John or Rick.\")"
      ],
      "execution_count": null,
      "outputs": [
        {
          "output_type": "stream",
          "text": [
            "Your name is either John or Rick.\n"
          ],
          "name": "stdout"
        }
      ]
    },
    {
      "cell_type": "markdown",
      "metadata": {
        "id": "BAw23P5azpxY"
      },
      "source": [
        "#### 1.11.2. pass\n",
        "\n",
        "Pythonでは、if文を用いたりする場合は、コードブロックを『インデント』を用いて区切ります。なお、if文等、本来であればコードが入る部分を明示的に『何もしない』と書く場合には pass と言う指示を含めることが出来る。"
      ]
    },
    {
      "cell_type": "code",
      "metadata": {
        "id": "74xgsfsFzpxY"
      },
      "source": [
        "statement = False\n",
        "another_statement = True\n",
        "if statement is True:\n",
        "    # do something\n",
        "    pass\n",
        "elif another_statement is True: # else if\n",
        "    # do something else\n",
        "    pass\n",
        "else:\n",
        "    # do another thing\n",
        "    pass"
      ],
      "execution_count": null,
      "outputs": []
    },
    {
      "cell_type": "markdown",
      "metadata": {
        "id": "g-lBfBEgzpxY"
      },
      "source": [
        "### 1.12. Loop\n",
        "\n",
        "#### 1.12.1. for loop\n",
        "\n",
        "CやJavaと比較して、Pythonの最大の違いと言えるのがforループの仕様です。CやJavaにおいて、forループは指定された数値を列挙し、その列挙された数値をコードブロック内で利用する、と言うものでしたが、Pythonのforループは、『forで指定されている'リスト'の中の値を取り出してコードブロック内で適用する』ものとなっています。そのため、Pythonではそのまま\"i = 0, i<10, i++』と言ったような値の列挙を組み込むことが出来ません。  \n",
        "Pythonでは事前に適用したい範囲の値が全て入っているListを定義して、それから利用します。"
      ]
    },
    {
      "cell_type": "code",
      "metadata": {
        "colab": {
          "base_uri": "https://localhost:8080/"
        },
        "id": "mCx8Ke9szpxY",
        "outputId": "d8d0cefa-bb9c-4689-a3ea-85d0d0ac80fd"
      },
      "source": [
        "primes = [2, 3, 5, 7]\n",
        "for prime in primes:\n",
        "    print(prime)"
      ],
      "execution_count": null,
      "outputs": [
        {
          "output_type": "stream",
          "text": [
            "2\n",
            "3\n",
            "5\n",
            "7\n"
          ],
          "name": "stdout"
        }
      ]
    },
    {
      "cell_type": "code",
      "metadata": {
        "colab": {
          "base_uri": "https://localhost:8080/"
        },
        "id": "e4kRrQTozpxY",
        "outputId": "4c3126c1-5a41-4096-a0f1-3c1c686b76b2"
      },
      "source": [
        "# Prints out the numbers 0,1,2,3,4\n",
        "for x in range(5):\n",
        "    print(x)\n",
        "\n",
        "# Prints out 3,4,5\n",
        "for x in range(3, 6):\n",
        "    print(x)\n",
        "\n",
        "# Prints out 3,5,7\n",
        "for x in range(3, 8, 2):\n",
        "    print(x)"
      ],
      "execution_count": null,
      "outputs": [
        {
          "output_type": "stream",
          "text": [
            "0\n",
            "1\n",
            "2\n",
            "3\n",
            "4\n",
            "3\n",
            "4\n",
            "5\n",
            "3\n",
            "5\n",
            "7\n"
          ],
          "name": "stdout"
        }
      ]
    },
    {
      "cell_type": "markdown",
      "metadata": {
        "id": "fjuNNriizpxZ"
      },
      "source": [
        "#### 1.12.2. while loop\n",
        "\n",
        "一方で、whileループはほぼCやJavaと仕様が同じです。条件式がTrueになっている間は、コードブロックを実行するというものです。"
      ]
    },
    {
      "cell_type": "code",
      "metadata": {
        "colab": {
          "base_uri": "https://localhost:8080/"
        },
        "id": "62z8RKwazpxZ",
        "outputId": "479ca960-21c3-4881-a832-3a42e9c52ff7"
      },
      "source": [
        "# Prints out 0,1,2,3,4\n",
        "\n",
        "count = 0\n",
        "while count < 5:\n",
        "    print(count)\n",
        "    count += 1  # This is the same as count = count + 1"
      ],
      "execution_count": null,
      "outputs": [
        {
          "output_type": "stream",
          "text": [
            "0\n",
            "1\n",
            "2\n",
            "3\n",
            "4\n"
          ],
          "name": "stdout"
        }
      ]
    },
    {
      "cell_type": "markdown",
      "metadata": {
        "id": "OEPqrMJKzpxZ"
      },
      "source": [
        "#### 1.12.3. Break and Continue\n",
        "\n",
        "for文やwhile文の中で利用されるbreakやcontinueもCやJavaと同等です。"
      ]
    },
    {
      "cell_type": "code",
      "metadata": {
        "colab": {
          "base_uri": "https://localhost:8080/"
        },
        "id": "A082rFhEzpxZ",
        "outputId": "188e4c81-aefd-4592-c440-d6130ce94865"
      },
      "source": [
        "# Prints out 0,1,2,3,4\n",
        "\n",
        "count = 0\n",
        "while True:\n",
        "    print(count)\n",
        "    count += 1\n",
        "    if count >= 5:\n",
        "        break\n",
        "\n",
        "# Prints out only odd numbers - 1,3,5,7,9\n",
        "for x in range(10):\n",
        "    # Check if x is even\n",
        "    if x % 2 == 0:\n",
        "        continue\n",
        "    print(x)"
      ],
      "execution_count": null,
      "outputs": [
        {
          "output_type": "stream",
          "text": [
            "0\n",
            "1\n",
            "2\n",
            "3\n",
            "4\n",
            "1\n",
            "3\n",
            "5\n",
            "7\n",
            "9\n"
          ],
          "name": "stdout"
        }
      ]
    },
    {
      "cell_type": "markdown",
      "metadata": {
        "id": "8tvfAgHizpxc"
      },
      "source": [
        "#### 1.12.4. else in for loop\n",
        "\n",
        "CやJavaにない機能として、forやwhileの条件に対してelseを付与することができます。これは、内部の条件式に対してFalseが与えられた時に実行されるものです。whileでは条件式がFalseになるとコードブロックを終了しますが、else文が含まれる場合、else文のコードブロックを実行して終了します。forループはリスト内のものがなくなれば終了となりますので、else文は余り意味がありません。"
      ]
    },
    {
      "cell_type": "code",
      "metadata": {
        "colab": {
          "base_uri": "https://localhost:8080/"
        },
        "id": "PrY6HXHozpxc",
        "outputId": "7f49b111-eaf3-4a9b-e404-97096fd754e2"
      },
      "source": [
        "# Prints out 0,1,2,3,4 and then it prints \"count value reached 5\"\n",
        "\n",
        "count=0\n",
        "while(count<5):\n",
        "    print(count)\n",
        "    count +=1\n",
        "else:\n",
        "    print(\"count value reached %d\" %(count))\n",
        "\n",
        "# Prints out 1,2,3,4\n",
        "for i in range(1, 10):\n",
        "    if(i%5==0):\n",
        "        break\n",
        "    print(i)\n",
        "else:\n",
        "    print(\"this is not printed because for loop is terminated because of break but not due to fail in condition\")"
      ],
      "execution_count": null,
      "outputs": [
        {
          "output_type": "stream",
          "text": [
            "0\n",
            "1\n",
            "2\n",
            "3\n",
            "4\n",
            "count value reached 5\n",
            "1\n",
            "2\n",
            "3\n",
            "4\n"
          ],
          "name": "stdout"
        }
      ]
    },
    {
      "cell_type": "markdown",
      "metadata": {
        "id": "aVBRay4Tzpxc"
      },
      "source": [
        "### 1.12.5. Function\n",
        "\n",
        "Pythonは手続き型言語であり、オブジェクト指向言語でもあります。Javaほど明確にオブジェクトを定義しなければいけないものではなく、扱い的には『C++のような柔軟な書き方の出来るスクリプト言語』と言えるかと思います。  \n",
        "関数 (function) の定義には、def 予約語を用いて定義します。また、関数名の後ろに括弧書きで引数を、その後ろにコロン (:) でコードブロックを定義します。"
      ]
    },
    {
      "cell_type": "code",
      "metadata": {
        "id": "TS5lBNYozpxc"
      },
      "source": [
        "def my_function():\n",
        "    print(\"Hello From My Function!\")"
      ],
      "execution_count": null,
      "outputs": []
    },
    {
      "cell_type": "code",
      "metadata": {
        "colab": {
          "base_uri": "https://localhost:8080/"
        },
        "id": "AaPUBImmzpxc",
        "outputId": "bc32050c-8994-4241-d9fc-1ff04c00cfd3"
      },
      "source": [
        "my_function()"
      ],
      "execution_count": null,
      "outputs": [
        {
          "output_type": "stream",
          "text": [
            "Hello From My Function!\n"
          ],
          "name": "stdout"
        }
      ]
    },
    {
      "cell_type": "code",
      "metadata": {
        "id": "HbPO5TlUDyip"
      },
      "source": [
        "def my_func2(sent):\n",
        "    print(\"Hi There!, \" + sent)\n"
      ],
      "execution_count": null,
      "outputs": []
    },
    {
      "cell_type": "code",
      "metadata": {
        "colab": {
          "base_uri": "https://localhost:8080/"
        },
        "id": "_RhREZaoD9FW",
        "outputId": "e2712a7a-42b6-4075-b4a1-5076f22c110f"
      },
      "source": [
        "my_func2(\"aaa\")"
      ],
      "execution_count": null,
      "outputs": [
        {
          "output_type": "stream",
          "text": [
            "Hi There!, aaa\n"
          ],
          "name": "stdout"
        }
      ]
    },
    {
      "cell_type": "markdown",
      "metadata": {
        "id": "U5NeH08mzpxd"
      },
      "source": [
        "なお、引数の指定には、function名の定義の後ろにある括弧 () 内に列挙します。戻り値はreturnで扱います。戻り値に複数の値を指定することが可能です（タプル扱いとなります）"
      ]
    },
    {
      "cell_type": "code",
      "metadata": {
        "id": "SL3VcqjEzpxd"
      },
      "source": [
        "def my_function_with_args(username, greeting):\n",
        "    print(\"Hello, %s , From My Function!, I wish you %s\"%(username, greeting))"
      ],
      "execution_count": null,
      "outputs": []
    },
    {
      "cell_type": "code",
      "metadata": {
        "colab": {
          "base_uri": "https://localhost:8080/"
        },
        "id": "Z4edYt-_zpxd",
        "outputId": "1536c67c-6e94-484e-da63-6ec2eb22a196"
      },
      "source": [
        "my_function_with_args(\"Yaguchi\", \"a merry christmas!\")"
      ],
      "execution_count": null,
      "outputs": [
        {
          "output_type": "stream",
          "text": [
            "Hello, Yaguchi , From My Function!, I wish you a merry christmas!\n"
          ],
          "name": "stdout"
        }
      ]
    },
    {
      "cell_type": "code",
      "metadata": {
        "id": "ShI0ima-zpxd"
      },
      "source": [
        "def sum_two_numbers(a, b):\n",
        "    return a + b"
      ],
      "execution_count": null,
      "outputs": []
    },
    {
      "cell_type": "code",
      "metadata": {
        "colab": {
          "base_uri": "https://localhost:8080/"
        },
        "id": "sQunk0nczpxd",
        "outputId": "e0bdb4b8-6768-4290-fb94-1a814ce12d90"
      },
      "source": [
        "sum_two_numbers(10,20)"
      ],
      "execution_count": null,
      "outputs": [
        {
          "output_type": "execute_result",
          "data": {
            "text/plain": [
              "30"
            ]
          },
          "metadata": {
            "tags": []
          },
          "execution_count": 35
        }
      ]
    },
    {
      "cell_type": "code",
      "metadata": {
        "id": "TYjuOhlEzpxd"
      },
      "source": [
        "def calc_two_numbers(a, b):\n",
        "    return a + b, a - b, a * b, a / b"
      ],
      "execution_count": null,
      "outputs": []
    },
    {
      "cell_type": "code",
      "metadata": {
        "colab": {
          "base_uri": "https://localhost:8080/"
        },
        "id": "X4Ijw05dzpxd",
        "outputId": "a6f7750f-1078-483e-862d-3cb0120c56ed"
      },
      "source": [
        "calc_two_numbers(10,20)"
      ],
      "execution_count": null,
      "outputs": [
        {
          "output_type": "execute_result",
          "data": {
            "text/plain": [
              "(30, -10, 200, 0.5)"
            ]
          },
          "metadata": {
            "tags": []
          },
          "execution_count": 37
        }
      ]
    },
    {
      "cell_type": "markdown",
      "metadata": {
        "id": "J7wpBKOBzpxd"
      },
      "source": [
        "基本的には、C言語と同じで、関数の定義は利用するコードの部分よりも上に定義します（インタプリタを利用して動作させる場合はその限りではありませんが、スクリプトと同様に上から順番にコードが実行されることを意識して書くと間違いはありません）。"
      ]
    },
    {
      "cell_type": "markdown",
      "metadata": {
        "id": "GW7HxSvGzpxe"
      },
      "source": [
        "### 1.13. Class\n",
        "\n",
        "Classの定義の仕方も基本的にはJavaやC++と同じです。定義は class 予約語を用いて定義します。  \n",
        "PythonのClass定義で幾つか違いがあるのは、Accessibilityに関するものです。  \n",
        "明示的に self 予約語を用いてクラス内部変数か、クラス外部変数かを分けて利用します。  \n",
        "というのも、Pythonは基本スクリプト言語ですので、スクリプト内のグローバル変数が、クラス内部の変数名と干渉してしまう場合があるからです。  \n",
        "また、クラスを多重継承したりすることも可能なため、その時に self 予約語を効果的に使うことを求められます。"
      ]
    },
    {
      "cell_type": "code",
      "metadata": {
        "colab": {
          "base_uri": "https://localhost:8080/"
        },
        "id": "Sqkfs3yTzpxe",
        "outputId": "5c46121a-8a2a-4f8c-891e-5b0f7f9a4b94"
      },
      "source": [
        "class MyClass:\n",
        "    variable = \"blah\"\n",
        "\n",
        "    def function(self):\n",
        "        print(\"This is a message inside the class.\")\n",
        "\n",
        "myobjectx = MyClass()\n",
        "\n",
        "myobjectx.function()"
      ],
      "execution_count": null,
      "outputs": [
        {
          "output_type": "stream",
          "text": [
            "This is a message inside the class.\n"
          ],
          "name": "stdout"
        }
      ]
    },
    {
      "cell_type": "code",
      "metadata": {
        "colab": {
          "base_uri": "https://localhost:8080/"
        },
        "id": "3iL2bJuSzpxe",
        "outputId": "e5d28f40-702d-4177-eff2-b1012aaa77a7"
      },
      "source": [
        "myobjectx = MyClass()\n",
        "myobjecty = MyClass()\n",
        "\n",
        "myobjecty.variable = \"yackity\"\n",
        "\n",
        "# Then print out both values\n",
        "print(myobjectx.variable)\n",
        "print(myobjecty.variable)"
      ],
      "execution_count": null,
      "outputs": [
        {
          "output_type": "stream",
          "text": [
            "blah\n",
            "yackity\n"
          ],
          "name": "stdout"
        }
      ]
    },
    {
      "cell_type": "code",
      "metadata": {
        "colab": {
          "base_uri": "https://localhost:8080/"
        },
        "id": "rxBF65aJzpxe",
        "outputId": "0e0b03d5-db32-422e-b29e-316fde09f293"
      },
      "source": [
        "class Color1:\n",
        "    def getName1(self):\n",
        "        return \"red\"\n",
        "\n",
        "class Color2:\n",
        "    def getName2(self):\n",
        "        return \"blue\"\n",
        "\n",
        "class Color3(Color1,Color2):\n",
        "    def getName3(self):\n",
        "        return \"yellow\"\n",
        "\n",
        "c3 = Color3()\n",
        "\n",
        "print(c3.getName1()) # red\n",
        "print(c3.getName2()) # blue\n",
        "print(c3.getName3()) # yellow"
      ],
      "execution_count": null,
      "outputs": [
        {
          "output_type": "stream",
          "text": [
            "red\n",
            "blue\n",
            "yellow\n"
          ],
          "name": "stdout"
        }
      ]
    },
    {
      "cell_type": "code",
      "metadata": {
        "colab": {
          "base_uri": "https://localhost:8080/"
        },
        "id": "WnKjbrznzpxe",
        "outputId": "5ceac0e1-3da2-439a-ad5f-972bba5a8dd0"
      },
      "source": [
        "class Color1:\n",
        "    def getName1(self):\n",
        "        print (\"red\")\n",
        "\n",
        "class Color2(Color1):\n",
        "    def getName2(self):\n",
        "        super().getName1()\n",
        "\n",
        "c2 = Color2()\n",
        "\n",
        "c2.getName2()"
      ],
      "execution_count": null,
      "outputs": [
        {
          "output_type": "stream",
          "text": [
            "red\n"
          ],
          "name": "stdout"
        }
      ]
    },
    {
      "cell_type": "markdown",
      "metadata": {
        "id": "uqAFIH3Jzpxe"
      },
      "source": [
        "### 1.14. Dictionary\n",
        "\n",
        "JavaではHashMapを用いた実装例や、Dictionaryクラスとして提供されていた『連想配列』ですが、Pythonでは標準で『連想配列』を用いることができます。イメージとしては、TupleのListになります。"
      ]
    },
    {
      "cell_type": "code",
      "metadata": {
        "colab": {
          "base_uri": "https://localhost:8080/"
        },
        "id": "MwIKhzelzpxe",
        "outputId": "5bc74dc8-4c76-4483-fe6c-778f40e84f46"
      },
      "source": [
        "phonebook = {}\n",
        "phonebook[\"John\"] = 938477566\n",
        "phonebook[\"Jack\"] = 938377264\n",
        "phonebook[\"Jill\"] = 947662781\n",
        "print(phonebook)"
      ],
      "execution_count": null,
      "outputs": [
        {
          "output_type": "stream",
          "text": [
            "{'John': 938477566, 'Jack': 938377264, 'Jill': 947662781}\n"
          ],
          "name": "stdout"
        }
      ]
    },
    {
      "cell_type": "code",
      "metadata": {
        "colab": {
          "base_uri": "https://localhost:8080/"
        },
        "id": "V7EOpEBUzpxe",
        "outputId": "50cd201d-ee2e-477d-8957-fd45aeb6b5f3"
      },
      "source": [
        "phonebook = {\n",
        "    \"John\" : 938477566,\n",
        "    \"Jack\" : 938377264,\n",
        "    \"Jill\" : 947662781\n",
        "}\n",
        "print(phonebook)"
      ],
      "execution_count": null,
      "outputs": [
        {
          "output_type": "stream",
          "text": [
            "{'John': 938477566, 'Jack': 938377264, 'Jill': 947662781}\n"
          ],
          "name": "stdout"
        }
      ]
    },
    {
      "cell_type": "code",
      "metadata": {
        "colab": {
          "base_uri": "https://localhost:8080/"
        },
        "id": "paYKYZNhzpxf",
        "outputId": "fe2f8217-f0b5-4321-cfcc-d369bfa5ecce"
      },
      "source": [
        "for name, number in phonebook.items():\n",
        "    print(\"Phone number of %s is %d\" % (name, number))"
      ],
      "execution_count": null,
      "outputs": [
        {
          "output_type": "stream",
          "text": [
            "Phone number of John is 938477566\n",
            "Phone number of Jack is 938377264\n",
            "Phone number of Jill is 947662781\n"
          ],
          "name": "stdout"
        }
      ]
    },
    {
      "cell_type": "markdown",
      "metadata": {
        "id": "SW5vFrdvzpxf"
      },
      "source": [
        "連想配列から値を削除する場合は、del 予約語を用いるか、対象とするインスタンスに提供されている関数popを用いて削除します。中に該当するデータがない場合、エラーが返されます。"
      ]
    },
    {
      "cell_type": "code",
      "metadata": {
        "colab": {
          "base_uri": "https://localhost:8080/"
        },
        "id": "OPSucE92zpxf",
        "outputId": "4dd2c55c-c297-4f32-8209-a9966cfb639a"
      },
      "source": [
        "del phonebook[\"John\"]\n",
        "print(phonebook)"
      ],
      "execution_count": null,
      "outputs": [
        {
          "output_type": "stream",
          "text": [
            "{'Jack': 938377264, 'Jill': 947662781}\n"
          ],
          "name": "stdout"
        }
      ]
    },
    {
      "cell_type": "code",
      "metadata": {
        "colab": {
          "base_uri": "https://localhost:8080/"
        },
        "id": "pwAaMhP3zpxf",
        "outputId": "811a209b-a260-46a3-e9a0-3c2a52f23b60"
      },
      "source": [
        "phonebook.pop(\"Jill\")\n",
        "print(phonebook)"
      ],
      "execution_count": null,
      "outputs": [
        {
          "output_type": "stream",
          "text": [
            "{'Jack': 938377264}\n"
          ],
          "name": "stdout"
        }
      ]
    },
    {
      "cell_type": "markdown",
      "metadata": {
        "id": "5eYyt-10zpxf"
      },
      "source": [
        "## Lesson 2. NLTK Basis"
      ]
    },
    {
      "cell_type": "markdown",
      "metadata": {
        "id": "g7N__KAIzpxf"
      },
      "source": [
        "NLTKは会津大学標準環境に既にインストールされており、ドキュメント中で示されている\n",
        "\n",
        "    >>> import nltk\n",
        "    >>> nltk.download()\n",
        "\n",
        "は不要です。(既にダウンロードされています。） \n",
        "Google Colabでは、インストールされていないケースが多いですので、これを行いましょう。\n",
        "そのため、NLTKのデータを使用するために、下記のように打ち込んで、インポートしましょう。"
      ]
    },
    {
      "cell_type": "code",
      "metadata": {
        "id": "AWMxPduEzpxf",
        "colab": {
          "base_uri": "https://localhost:8080/"
        },
        "outputId": "ebfecf99-3a39-479b-9be4-7729870e1e68"
      },
      "source": [
        "import nltk\n",
        "from nltk.book import *"
      ],
      "execution_count": null,
      "outputs": [
        {
          "output_type": "stream",
          "name": "stdout",
          "text": [
            "*** Introductory Examples for the NLTK Book ***\n",
            "Loading text1, ..., text9 and sent1, ..., sent9\n",
            "Type the name of the text or sentence to view it.\n",
            "Type: 'texts()' or 'sents()' to list the materials.\n",
            "text1: Moby Dick by Herman Melville 1851\n",
            "text2: Sense and Sensibility by Jane Austen 1811\n",
            "text3: The Book of Genesis\n",
            "text4: Inaugural Address Corpus\n",
            "text5: Chat Corpus\n",
            "text6: Monty Python and the Holy Grail\n",
            "text7: Wall Street Journal\n",
            "text8: Personals Corpus\n",
            "text9: The Man Who Was Thursday by G . K . Chesterton 1908\n"
          ]
        }
      ]
    },
    {
      "cell_type": "markdown",
      "metadata": {
        "id": "kZTnRsTHzpxg"
      },
      "source": [
        "なお、中身が何かを知りたい場合は、直接テキストの変数名を打ち込むだけでOKです。"
      ]
    },
    {
      "cell_type": "code",
      "metadata": {
        "colab": {
          "base_uri": "https://localhost:8080/"
        },
        "id": "2lFKJ4r0zpxg",
        "outputId": "009fbdc0-1e39-4568-9a2d-3615a675a202"
      },
      "source": [
        "text1"
      ],
      "execution_count": null,
      "outputs": [
        {
          "output_type": "execute_result",
          "data": {
            "text/plain": [
              "<Text: Moby Dick by Herman Melville 1851>"
            ]
          },
          "metadata": {},
          "execution_count": 10
        }
      ]
    },
    {
      "cell_type": "code",
      "metadata": {
        "colab": {
          "base_uri": "https://localhost:8080/"
        },
        "id": "SF9t9nmjzpxg",
        "outputId": "20aaa01d-3d2f-46df-e3d4-57f91867b2db"
      },
      "source": [
        "text2"
      ],
      "execution_count": null,
      "outputs": [
        {
          "output_type": "execute_result",
          "data": {
            "text/plain": [
              "<Text: Sense and Sensibility by Jane Austen 1811>"
            ]
          },
          "metadata": {},
          "execution_count": 11
        }
      ]
    },
    {
      "cell_type": "markdown",
      "metadata": {
        "id": "hZu2nC5ozpxg"
      },
      "source": [
        "### 2.1. Display content and search text\n",
        "\n",
        "importされたテキストのタイトル等はそのまま変数名を打ち込むと表示されますが、内容はそのままでは表示されません。勿論、print文を用いても同じような表示をされてしまいます。これは、テキストが単なるリストではなく、テキストがクラスとして構造化されているからです。"
      ]
    },
    {
      "cell_type": "code",
      "metadata": {
        "colab": {
          "base_uri": "https://localhost:8080/"
        },
        "id": "Zcd8uc6Vzpxg",
        "outputId": "fba195e2-dbfe-4ecd-e362-28f963ec1f87"
      },
      "source": [
        "type(text1)"
      ],
      "execution_count": null,
      "outputs": [
        {
          "output_type": "execute_result",
          "data": {
            "text/plain": [
              "nltk.text.Text"
            ]
          },
          "metadata": {},
          "execution_count": 12
        }
      ]
    },
    {
      "cell_type": "markdown",
      "metadata": {
        "id": "kaprVIr8zpxg"
      },
      "source": [
        "その中身を表示するためには、様々な方法があります。テキストクラスはリストとして扱うことが出来るので、単語のリストとして番号指定をすることで表示をする方法のほか、その他特殊な表示方法があるので、それらを試してみましょう。\n",
        "\n",
        "- テキスト内部の表示方法:\n",
        " - concordance: コンコーダンスと呼ばれる、検索語の周辺を取得し比較する記法\n",
        " - similar: 類似語を取得する\n",
        " - common_contexts: 2語以上で共有されている文脈の抽出\n",
        " - dispersion_plot: 単語の出現している場所をグラフ上に表示\n",
        " - generate (NLTK3.0以降使用不可): 対応するコーパスを用いて新しい文章をランダム生成"
      ]
    },
    {
      "cell_type": "code",
      "metadata": {
        "colab": {
          "base_uri": "https://localhost:8080/"
        },
        "id": "_Z3TnCHIzpxg",
        "outputId": "9c03ffef-59e9-49d3-b17e-cd4b42f5062a"
      },
      "source": [
        "print(text1[1:100])"
      ],
      "execution_count": null,
      "outputs": [
        {
          "output_type": "stream",
          "name": "stdout",
          "text": [
            "['Moby', 'Dick', 'by', 'Herman', 'Melville', '1851', ']', 'ETYMOLOGY', '.', '(', 'Supplied', 'by', 'a', 'Late', 'Consumptive', 'Usher', 'to', 'a', 'Grammar', 'School', ')', 'The', 'pale', 'Usher', '--', 'threadbare', 'in', 'coat', ',', 'heart', ',', 'body', ',', 'and', 'brain', ';', 'I', 'see', 'him', 'now', '.', 'He', 'was', 'ever', 'dusting', 'his', 'old', 'lexicons', 'and', 'grammars', ',', 'with', 'a', 'queer', 'handkerchief', ',', 'mockingly', 'embellished', 'with', 'all', 'the', 'gay', 'flags', 'of', 'all', 'the', 'known', 'nations', 'of', 'the', 'world', '.', 'He', 'loved', 'to', 'dust', 'his', 'old', 'grammars', ';', 'it', 'somehow', 'mildly', 'reminded', 'him', 'of', 'his', 'mortality', '.', '\"', 'While', 'you', 'take', 'in', 'hand', 'to', 'school', 'others', ',']\n"
          ]
        }
      ]
    },
    {
      "cell_type": "code",
      "metadata": {
        "colab": {
          "base_uri": "https://localhost:8080/"
        },
        "id": "eWMKH5vVzpxg",
        "outputId": "d97c8176-eafd-4821-d5ef-dbcf3c9f5740"
      },
      "source": [
        "text1.concordance(\"monstrous\")"
      ],
      "execution_count": null,
      "outputs": [
        {
          "output_type": "stream",
          "text": [
            "Displaying 11 of 11 matches:\n",
            "ong the former , one was of a most monstrous size . ... This came towards us , \n",
            "ON OF THE PSALMS . \" Touching that monstrous bulk of the whale or ork we have r\n",
            "ll over with a heathenish array of monstrous clubs and spears . Some were thick\n",
            "d as you gazed , and wondered what monstrous cannibal and savage could ever hav\n",
            "that has survived the flood ; most monstrous and most mountainous ! That Himmal\n",
            "they might scout at Moby Dick as a monstrous fable , or still worse and more de\n",
            "th of Radney .'\" CHAPTER 55 Of the Monstrous Pictures of Whales . I shall ere l\n",
            "ing Scenes . In connexion with the monstrous pictures of whales , I am strongly\n",
            "ere to enter upon those still more monstrous stories of them which are to be fo\n",
            "ght have been rummaged out of this monstrous cabinet there is no telling . But \n",
            "of Whale - Bones ; for Whales of a monstrous size are oftentimes cast up dead u\n"
          ],
          "name": "stdout"
        }
      ]
    },
    {
      "cell_type": "code",
      "metadata": {
        "colab": {
          "base_uri": "https://localhost:8080/"
        },
        "id": "_q5R2X3Jzpxg",
        "outputId": "36186356-48d8-47da-d9df-31762c728998"
      },
      "source": [
        "text1.similar(\"monstrous\")"
      ],
      "execution_count": null,
      "outputs": [
        {
          "output_type": "stream",
          "text": [
            "true contemptible christian abundant few part mean careful puzzled\n",
            "mystifying passing curious loving wise doleful gamesome singular\n",
            "delightfully perilous fearless\n"
          ],
          "name": "stdout"
        }
      ]
    },
    {
      "cell_type": "code",
      "metadata": {
        "colab": {
          "base_uri": "https://localhost:8080/"
        },
        "id": "G40et1Gzzpxg",
        "outputId": "aec71bd4-2235-4318-e638-f0db67866ea5"
      },
      "source": [
        "text2.similar(\"monstrous\")"
      ],
      "execution_count": null,
      "outputs": [
        {
          "output_type": "stream",
          "text": [
            "very so exceedingly heartily a as good great extremely remarkably\n",
            "sweet vast amazingly\n"
          ],
          "name": "stdout"
        }
      ]
    },
    {
      "cell_type": "code",
      "metadata": {
        "colab": {
          "base_uri": "https://localhost:8080/"
        },
        "id": "7uSJKBKjzpxh",
        "outputId": "2f277881-bd2f-42d6-a90c-9db27c67b34a"
      },
      "source": [
        "text4.dispersion_plot([\"citizens\", \"democracy\", \"freedom\", \"duties\", \"America\"])"
      ],
      "execution_count": null,
      "outputs": [
        {
          "output_type": "display_data",
          "data": {
            "image/png": "[encoded data removed]",
            "text/plain": [
              "<Figure size 432x288 with 1 Axes>"
            ]
          },
          "metadata": {
            "tags": [],
            "needs_background": "light"
          }
        }
      ]
    },
    {
      "cell_type": "markdown",
      "metadata": {
        "id": "VfB2_Rxfzpxh"
      },
      "source": [
        "### 2.2. Document features\n",
        "\n",
        "NLTKに作られたテキストクラスは、既にパージング（分かち書き）がなされており、必要な情報が全て揃っている状態です。そのため、forループを駆使すれば、特定の単語をカウントしたりすることが可能になりますが、それはそれで非常に面倒臭いので、テキストクラスの中に文章の特徴を表示する関数が揃っています。また、それらを上手く組み合わせることで、重要な文章の特徴を計算することが容易です。\n",
        "\n",
        "- 単語の中身の状況を表示\n",
        " - len(A): 文書A中の単語数を表示\n",
        " - soreted(): 集合を昇順に並び替え\n",
        " - set(): 重複を許さない文書中の単語（語彙）数\n",
        " - len(set(A))/len(A): 語彙の豊かさの指標 (1が1つも語彙が重複しない)\n",
        " - count(): 引数に指定されている単語の頻度\n",
        " - 100 * A.count() / len(A): 文書A中の特定の単語の出現確率"
      ]
    },
    {
      "cell_type": "code",
      "metadata": {
        "colab": {
          "base_uri": "https://localhost:8080/"
        },
        "id": "E7eFIbV0zpxh",
        "outputId": "c1c25263-365f-43d4-ca7c-55492aecc2ef"
      },
      "source": [
        "# text3中の単語数\n",
        "len(text3)"
      ],
      "execution_count": null,
      "outputs": [
        {
          "output_type": "execute_result",
          "data": {
            "text/plain": [
              "44764"
            ]
          },
          "metadata": {
            "tags": []
          },
          "execution_count": 56
        }
      ]
    },
    {
      "cell_type": "code",
      "metadata": {
        "colab": {
          "base_uri": "https://localhost:8080/"
        },
        "id": "Bduk3owRzpxh",
        "outputId": "1d4db216-87bc-49fb-bc4b-8417da200b41"
      },
      "source": [
        "# Sortしたtext3中の単語セットの上位100個\n",
        "print(sorted(set(text3))[1:100])"
      ],
      "execution_count": null,
      "outputs": [
        {
          "output_type": "stream",
          "text": [
            "[\"'\", '(', ')', ',', ',)', '.', '.)', ':', ';', ';)', '?', '?)', 'A', 'Abel', 'Abelmizraim', 'Abidah', 'Abide', 'Abimael', 'Abimelech', 'Abr', 'Abrah', 'Abraham', 'Abram', 'Accad', 'Achbor', 'Adah', 'Adam', 'Adbeel', 'Admah', 'Adullamite', 'After', 'Aholibamah', 'Ahuzzath', 'Ajah', 'Akan', 'All', 'Allonbachuth', 'Almighty', 'Almodad', 'Also', 'Alvah', 'Alvan', 'Am', 'Amal', 'Amalek', 'Amalekites', 'Ammon', 'Amorite', 'Amorites', 'Amraphel', 'An', 'Anah', 'Anamim', 'And', 'Aner', 'Angel', 'Appoint', 'Aram', 'Aran', 'Ararat', 'Arbah', 'Ard', 'Are', 'Areli', 'Arioch', 'Arise', 'Arkite', 'Arodi', 'Arphaxad', 'Art', 'Arvadite', 'As', 'Asenath', 'Ashbel', 'Asher', 'Ashkenaz', 'Ashteroth', 'Ask', 'Asshur', 'Asshurim', 'Assyr', 'Assyria', 'At', 'Atad', 'Avith', 'Baalhanan', 'Babel', 'Bashemath', 'Be', 'Because', 'Becher', 'Bedad', 'Beeri', 'Beerlahairoi', 'Beersheba', 'Behold', 'Bela', 'Belah', 'Benam']\n"
          ],
          "name": "stdout"
        }
      ]
    },
    {
      "cell_type": "code",
      "metadata": {
        "colab": {
          "base_uri": "https://localhost:8080/"
        },
        "id": "cKSbC6o1zpxh",
        "outputId": "7f4983ee-5b9c-4d68-931b-d3d2d2472867"
      },
      "source": [
        "# text3における単語の種類数\n",
        "len(set(text3))"
      ],
      "execution_count": null,
      "outputs": [
        {
          "output_type": "execute_result",
          "data": {
            "text/plain": [
              "2789"
            ]
          },
          "metadata": {
            "tags": []
          },
          "execution_count": 58
        }
      ]
    },
    {
      "cell_type": "code",
      "metadata": {
        "colab": {
          "base_uri": "https://localhost:8080/"
        },
        "id": "WRP4O_Iezpxh",
        "outputId": "94025d1c-4c82-414d-fa68-c8a86a80a741"
      },
      "source": [
        "# 'smote'という単語がtext3中に出現する頻度\n",
        "text3.count(\"smote\")"
      ],
      "execution_count": null,
      "outputs": [
        {
          "output_type": "execute_result",
          "data": {
            "text/plain": [
              "5"
            ]
          },
          "metadata": {
            "tags": []
          },
          "execution_count": 59
        }
      ]
    },
    {
      "cell_type": "code",
      "metadata": {
        "colab": {
          "base_uri": "https://localhost:8080/"
        },
        "id": "oUFjs8jMzpxh",
        "outputId": "ec48b629-5e7e-4296-b87f-4d590ca99351"
      },
      "source": [
        "# text4中に含まれる単語 'a' の出現確率 (パーセント)\n",
        "100. * text4.count('a') / len(text4)"
      ],
      "execution_count": null,
      "outputs": [
        {
          "output_type": "execute_result",
          "data": {
            "text/plain": [
              "1.457973123627309"
            ]
          },
          "metadata": {
            "tags": []
          },
          "execution_count": 60
        }
      ]
    },
    {
      "cell_type": "code",
      "metadata": {
        "id": "iTNCbuBDzpxh"
      },
      "source": [
        "# 重要な文章特徴量を関数として定義\n",
        "# 文書中の単語の多様性尺度\n",
        "def lexical_diversity(text):\n",
        "    return len(set(text)) / (1.0 * len(text))"
      ],
      "execution_count": null,
      "outputs": []
    },
    {
      "cell_type": "code",
      "metadata": {
        "colab": {
          "base_uri": "https://localhost:8080/"
        },
        "id": "IrvfRISDzpxh",
        "outputId": "c2c10240-dac4-4a12-cb86-992246c04531"
      },
      "source": [
        "# text3 の多様性尺度\n",
        "print(\"text3: \", lexical_diversity(text3))\n",
        "# text5 の多様性尺度\n",
        "print(\"text5: \", lexical_diversity(text6))"
      ],
      "execution_count": null,
      "outputs": [
        {
          "output_type": "stream",
          "text": [
            "text3:  0.06230453042623537\n",
            "text5:  0.1276595744680851\n"
          ],
          "name": "stdout"
        }
      ]
    },
    {
      "cell_type": "markdown",
      "metadata": {
        "id": "LFQPTaEhzpxh"
      },
      "source": [
        "### 2.3. Document processing as list of words\n",
        "\n",
        "先に、単語ごとにパージングされた文書をリストとして扱うことが出来ることを紹介しましたが、それらを用いて、Pythonのリスト操作を巧みに扱うことで、単語リストを効果的に処理することができます。Pythonのリストに対する関数群は以下の通りになります。\n",
        "\n",
        "- list関数\n",
        " - list.append(x):リストの末尾に要素を一つ追加します。a[len(a):] = [x] と等価です。\n",
        " - list.extend(iterable): イテラブルのすべての要素を対象のリストに追加し、リストを拡張します。a[len(a):] = iterable と等価です。\n",
        " - list.insert(i, x): 指定した位置に要素を挿入します。第 1 引数は、リストのインデクスで、そのインデクスを持つ要素の直前に挿入が行われます。従って、 a.insert(0, x) はリストの先頭に挿入を行います。また a.insert(len(a), x) は a.append(x) と等価です。\n",
        " - list.remove(x): リスト中で x と等しい値を持つ最初の要素を削除します。該当する要素がなければ ValueError が送出されます。\n",
        " - list.pop([i]): リスト中の指定された位置にある要素をリストから削除して、その要素を返します。インデクスが指定されなければ、 a.pop() はリストの末尾の要素を削除して返します。この場合も要素は削除されます。 (メソッドの用法 (signature) で i の両側にある角括弧は、この引数がオプションであることを表しているだけなので、角括弧を入力する必要はありません。この表記法は Python Library Reference の中で頻繁に見ることになるでしょう。)\n",
        " - list.clear(): リスト中の全ての要素を削除します。del a[:] と等価です。\n",
        " - list.index(x[, start[, end]]): リスト中で x と等しい値を持つ最初の要素の位置をゼロから始まる添字で返します。 該当する要素がなければ ValueError が送出されます。 任意の引数である start と end はスライス記法として解釈され、リストの探索範囲を指定できます。返される添字は、start 引数からの相対位置ではなく、リスト全体の先頭からの位置になります。\n",
        " - list.count(x): リストでの x の出現回数を返します。\n",
        " - list.sort(key=None, reverse=False): リストの項目を、インプレース演算 (in place、元のデータを演算結果で置き換えるやりかた) でソートします。引数はソート方法のカスタマイズに使えます。 sorted() の説明を参照してください。\n",
        " - list.reverse(): リストの要素を、インプレース演算で逆順にします。\n",
        " - list.copy(): リストの浅い (shallow) コピーを返します。a[:] と等価です。\n"
      ]
    },
    {
      "cell_type": "code",
      "metadata": {
        "colab": {
          "base_uri": "https://localhost:8080/"
        },
        "id": "VtdJYUh0zpxi",
        "outputId": "7cfe27ff-6e99-4934-9ac8-6238da57f008"
      },
      "source": [
        "# Slicing: リスト内部のIndexに応じて、from:to:stepの形で指定すると、対応するリストを切り出すことが出来る。\n",
        "print(text6[100:120])\n",
        "print(text6[100:120:2])"
      ],
      "execution_count": null,
      "outputs": [
        {
          "output_type": "stream",
          "text": [
            "['search', 'of', 'knights', 'who', 'will', 'join', 'me', 'in', 'my', 'court', 'at', 'Camelot', '.', 'I', 'must', 'speak', 'with', 'your', 'lord', 'and']\n",
            "['search', 'of', 'knights', 'who', 'will', 'join', 'me', 'in', 'my', 'court', 'at', 'Camelot', '.', 'I', 'must', 'speak', 'with', 'your', 'lord', 'and']\n"
          ],
          "name": "stdout"
        }
      ]
    },
    {
      "cell_type": "code",
      "metadata": {
        "colab": {
          "base_uri": "https://localhost:8080/"
        },
        "id": "SYRNZbZizpxi",
        "outputId": "3e445a3e-532f-4e69-ed07-2a0208a1e518"
      },
      "source": [
        "# list.append: リストの末尾に要素を追加。\n",
        "print(sent1)\n",
        "sent1.append(\"test\")\n",
        "print(sent1)"
      ],
      "execution_count": null,
      "outputs": [
        {
          "output_type": "stream",
          "text": [
            "['Call', 'me', 'Ishmael', '.']\n",
            "['Call', 'me', 'Ishmael', '.', 'test']\n"
          ],
          "name": "stdout"
        }
      ]
    },
    {
      "cell_type": "code",
      "metadata": {
        "colab": {
          "base_uri": "https://localhost:8080/"
        },
        "id": "XTkxa2fKzpxi",
        "outputId": "274d44d4-6e48-421d-e7c3-c8cebeca1a17"
      },
      "source": [
        "# list.extend: リストに他のIterable（リスト等の要素）を追加。\n",
        "print(sent1)\n",
        "sent1.extend(sent2)\n",
        "print(sent1)"
      ],
      "execution_count": null,
      "outputs": [
        {
          "output_type": "stream",
          "name": "stdout",
          "text": [
            "['Call', 'me', 'Ishmael', '.']\n",
            "['Call', 'me', 'Ishmael', '.', 'The', 'family', 'of', 'Dashwood', 'had', 'long', 'been', 'settled', 'in', 'Sussex', '.']\n"
          ]
        }
      ]
    },
    {
      "cell_type": "code",
      "metadata": {
        "colab": {
          "base_uri": "https://localhost:8080/"
        },
        "id": "nz9PtFM7zpxi",
        "outputId": "2038a3f7-3635-4143-e2eb-31d9b14f9e18"
      },
      "source": [
        "#list.insert: 特定のIndexの場所に要素を追加\n",
        "print(sent1)\n",
        "sent1.insert(3,\"Insert\")\n",
        "print(sent1)"
      ],
      "execution_count": null,
      "outputs": [
        {
          "output_type": "stream",
          "text": [
            "['Call', 'me', 'Ishmael', '.', 'test', 'The', 'family', 'of', 'Dashwood', 'had', 'long', 'been', 'settled', 'in', 'Sussex', '.']\n",
            "['Call', 'me', 'Ishmael', 'Insert', '.', 'test', 'The', 'family', 'of', 'Dashwood', 'had', 'long', 'been', 'settled', 'in', 'Sussex', '.']\n"
          ],
          "name": "stdout"
        }
      ]
    },
    {
      "cell_type": "code",
      "metadata": {
        "colab": {
          "base_uri": "https://localhost:8080/"
        },
        "id": "ARGgqsKqzpxi",
        "outputId": "df354f3a-85fc-47de-de87-88c083075d22"
      },
      "source": [
        "#list.remove:内包される要素の中で指定したものがあった場合それを除去\n",
        "print(sent1)\n",
        "sent1.remove(\"Ishmael\")\n",
        "print(sent1)"
      ],
      "execution_count": null,
      "outputs": [
        {
          "output_type": "stream",
          "text": [
            "['Call', 'me', 'Ishmael', 'Insert', '.', 'test', 'The', 'family', 'of', 'Dashwood', 'had', 'long', 'been', 'settled', 'in', 'Sussex', '.']\n",
            "['Call', 'me', 'Insert', '.', 'test', 'The', 'family', 'of', 'Dashwood', 'had', 'long', 'been', 'settled', 'in', 'Sussex', '.']\n"
          ],
          "name": "stdout"
        }
      ]
    },
    {
      "cell_type": "code",
      "metadata": {
        "colab": {
          "base_uri": "https://localhost:8080/"
        },
        "id": "luNBu0Xfzpxi",
        "outputId": "75a4f9d3-a92e-40a2-c6c3-f28f68465e55"
      },
      "source": [
        "#list.pop: 指定したIndexにある値を取り出し（リストから除去し）、取り出した値を返す\n",
        "print(sent1)\n",
        "print(sent1.pop(3))\n",
        "print(sent1)"
      ],
      "execution_count": null,
      "outputs": [
        {
          "output_type": "stream",
          "text": [
            "['Call', 'me', 'Insert', '.', 'test', 'The', 'family', 'of', 'Dashwood', 'had', 'long', 'been', 'settled', 'in', 'Sussex', '.']\n",
            ".\n",
            "['Call', 'me', 'Insert', 'test', 'The', 'family', 'of', 'Dashwood', 'had', 'long', 'been', 'settled', 'in', 'Sussex', '.']\n"
          ],
          "name": "stdout"
        }
      ]
    },
    {
      "cell_type": "code",
      "metadata": {
        "colab": {
          "base_uri": "https://localhost:8080/"
        },
        "id": "QOopf6pwzpxj",
        "outputId": "d8aed499-74a0-4fb0-ae2a-786b610963aa"
      },
      "source": [
        "#list.count: 指定した値の頻度を取得\n",
        "print(sent1.count(\"me\"))\n",
        "#list.sort: ソートしたリストを取得\n",
        "sent1.sort()\n",
        "print(sent1)\n",
        "#list.reverse: リストを逆順にする\n",
        "sent1.reverse()\n",
        "print(sent1)"
      ],
      "execution_count": null,
      "outputs": [
        {
          "output_type": "stream",
          "text": [
            "1\n",
            "['.', 'Call', 'Dashwood', 'Insert', 'Sussex', 'The', 'been', 'family', 'had', 'in', 'long', 'me', 'of', 'settled', 'test']\n",
            "['test', 'settled', 'of', 'me', 'long', 'in', 'had', 'family', 'been', 'The', 'Sussex', 'Insert', 'Dashwood', 'Call', '.']\n"
          ],
          "name": "stdout"
        }
      ]
    },
    {
      "cell_type": "markdown",
      "metadata": {
        "id": "eRuxAe5_zpxj"
      },
      "source": [
        "### 2.4. Statistics on document feature\n",
        "\n",
        "統計処理は、文書の内包する内容を抽出するのに非常に有効なツールです。例えば、単語には意味（Semantics）が内包されているので、文書中に含まれる頻度の高い単語は、その文書のトピックであることが分かります。こうした統計処理を行うやり方のうち、簡単なものを実際に実行してみましょう。\n",
        "\n",
        "#### 2.4.1. Preprocessing for documents"
      ]
    },
    {
      "cell_type": "code",
      "metadata": {
        "id": "WE37jgurzpxj"
      },
      "source": [
        "# 元データ\n",
        "saying = ['After', 'all', 'is', 'said', 'and', 'done','more', 'is', 'said', 'than', 'done']"
      ],
      "execution_count": null,
      "outputs": []
    },
    {
      "cell_type": "code",
      "metadata": {
        "colab": {
          "base_uri": "https://localhost:8080/"
        },
        "id": "KFmkbMZlzpxj",
        "outputId": "f455493d-51ef-4cf7-acee-6a27ecfc1582"
      },
      "source": [
        "# 重複を除去する\n",
        "tokens = set(saying)\n",
        "print(tokens)"
      ],
      "execution_count": null,
      "outputs": [
        {
          "output_type": "stream",
          "text": [
            "{'said', 'than', 'and', 'done', 'more', 'is', 'After', 'all'}\n"
          ],
          "name": "stdout"
        }
      ]
    },
    {
      "cell_type": "code",
      "metadata": {
        "colab": {
          "base_uri": "https://localhost:8080/"
        },
        "id": "LkCl1smazpxj",
        "outputId": "f839e246-662c-474d-ed4a-3cd1e4d243dd"
      },
      "source": [
        "# 昇順にソートする。\n",
        "tokens = sorted(tokens)\n",
        "print(tokens)\n",
        "# 後ろから2つ分を出力する\n",
        "print(tokens[-2:])"
      ],
      "execution_count": null,
      "outputs": [
        {
          "output_type": "stream",
          "text": [
            "['After', 'all', 'and', 'done', 'is', 'more', 'said', 'than']\n",
            "['said', 'than']\n"
          ],
          "name": "stdout"
        }
      ]
    },
    {
      "cell_type": "markdown",
      "metadata": {
        "id": "lKdHPXYEzpxj"
      },
      "source": [
        "#### 2.4.2. Word count"
      ]
    },
    {
      "cell_type": "code",
      "metadata": {
        "colab": {
          "base_uri": "https://localhost:8080/"
        },
        "id": "hg_sgM2Zzpxj",
        "outputId": "9dd7e75d-e0e3-433d-c205-8c06299e8a36"
      },
      "source": [
        "# text1の頻度分布を取得\n",
        "fdist1 = FreqDist(text1) \n",
        "print(fdist1)"
      ],
      "execution_count": null,
      "outputs": [
        {
          "output_type": "stream",
          "text": [
            "<FreqDist with 19317 samples and 260819 outcomes>\n"
          ],
          "name": "stdout"
        }
      ]
    },
    {
      "cell_type": "code",
      "metadata": {
        "colab": {
          "base_uri": "https://localhost:8080/"
        },
        "id": "1XRkIfshzpxj",
        "outputId": "7fdcec97-d010-45eb-8c2e-1b443d7b76df"
      },
      "source": [
        "# text1の頻度分布を用いて、ベスト50となる頻度の高い語を抽出\n",
        "print(fdist1.most_common(50))"
      ],
      "execution_count": null,
      "outputs": [
        {
          "output_type": "stream",
          "text": [
            "[(',', 18713), ('the', 13721), ('.', 6862), ('of', 6536), ('and', 6024), ('a', 4569), ('to', 4542), (';', 4072), ('in', 3916), ('that', 2982), (\"'\", 2684), ('-', 2552), ('his', 2459), ('it', 2209), ('I', 2124), ('s', 1739), ('is', 1695), ('he', 1661), ('with', 1659), ('was', 1632), ('as', 1620), ('\"', 1478), ('all', 1462), ('for', 1414), ('this', 1280), ('!', 1269), ('at', 1231), ('by', 1137), ('but', 1113), ('not', 1103), ('--', 1070), ('him', 1058), ('from', 1052), ('be', 1030), ('on', 1005), ('so', 918), ('whale', 906), ('one', 889), ('you', 841), ('had', 767), ('have', 760), ('there', 715), ('But', 705), ('or', 697), ('were', 680), ('now', 646), ('which', 640), ('?', 637), ('me', 627), ('like', 624)]\n"
          ],
          "name": "stdout"
        }
      ]
    },
    {
      "cell_type": "code",
      "metadata": {
        "colab": {
          "base_uri": "https://localhost:8080/"
        },
        "id": "cw5kDx44zpxj",
        "outputId": "a01d4abe-fd8f-4a87-a950-81dce78e4824"
      },
      "source": [
        "# 指定する単語の頻度を出力\n",
        "print(fdist1['whale'])"
      ],
      "execution_count": null,
      "outputs": [
        {
          "output_type": "stream",
          "text": [
            "906\n"
          ],
          "name": "stdout"
        }
      ]
    },
    {
      "cell_type": "code",
      "metadata": {
        "colab": {
          "base_uri": "https://localhost:8080/"
        },
        "id": "M5noFp15zpxk",
        "outputId": "813a757c-1325-46b4-e427-1559106e1f75"
      },
      "source": [
        "# 頻度ヒストグラムの表示（50位まで）\n",
        "print(fdist1.plot(50, cumulative=False))"
      ],
      "execution_count": null,
      "outputs": [
        {
          "output_type": "display_data",
          "data": {
            "image/png": "[encoded data removed]",
            "text/plain": [
              "<Figure size 432x288 with 1 Axes>"
            ]
          },
          "metadata": {
            "tags": [],
            "needs_background": "light"
          }
        },
        {
          "output_type": "stream",
          "text": [
            "None\n"
          ],
          "name": "stdout"
        }
      ]
    },
    {
      "cell_type": "code",
      "metadata": {
        "colab": {
          "base_uri": "https://localhost:8080/"
        },
        "id": "m_cQJPwtzpxk",
        "outputId": "090197b6-f5bd-416a-98c0-ccc8858f8227"
      },
      "source": [
        "# 頻度に対する累積ヒストグラムの表示 (50位まで)\n",
        "print(fdist1.plot(50, cumulative=True))"
      ],
      "execution_count": null,
      "outputs": [
        {
          "output_type": "display_data",
          "data": {
            "image/png": "[encoded data removed]",
            "text/plain": [
              "<Figure size 432x288 with 1 Axes>"
            ]
          },
          "metadata": {
            "tags": [],
            "needs_background": "light"
          }
        },
        {
          "output_type": "stream",
          "text": [
            "None\n"
          ],
          "name": "stdout"
        }
      ]
    },
    {
      "cell_type": "markdown",
      "metadata": {
        "id": "LGsyHyc4zpxl"
      },
      "source": [
        "#### 2.4.3. Word search using set theory\n",
        "\n",
        "単語の検索を行うには、集合演算を用いて検索するのが一般的です。CやJavaでは若干、集合演算を実装しようとするとforループの多さに戸惑いますが、Pythonではin予約語を用いることで、簡単に記述できます。例えば、\n",
        "\n",
        "- {w | W ∈ V & P (W) }\n",
        "\n",
        "が、\n",
        "\n",
        "- [w for W in V if P(W) ] ← Pythonの記法はこちら\n",
        "\n",
        "になります。"
      ]
    },
    {
      "cell_type": "code",
      "metadata": {
        "colab": {
          "base_uri": "https://localhost:8080/"
        },
        "id": "NXRIE2PVzpxl",
        "outputId": "5970dfc9-1628-4df4-e8f5-1422ede4629f"
      },
      "source": [
        "# text1の重複無しの単語リストを取得\n",
        "V = set(text1)\n",
        "# 長い単語 (15文字以上) を抽出\n",
        "long_words = [w for w in V if len(w) > 15]\n",
        "# ソートしたリストを出力\n",
        "print(sorted(long_words))"
      ],
      "execution_count": null,
      "outputs": [
        {
          "output_type": "stream",
          "text": [
            "['CIRCUMNAVIGATION', 'Physiognomically', 'apprehensiveness', 'cannibalistically', 'characteristically', 'circumnavigating', 'circumnavigation', 'circumnavigations', 'comprehensiveness', 'hermaphroditical', 'indiscriminately', 'indispensableness', 'irresistibleness', 'physiognomically', 'preternaturalness', 'responsibilities', 'simultaneousness', 'subterraneousness', 'supernaturalness', 'superstitiousness', 'uncomfortableness', 'uncompromisedness', 'undiscriminating', 'uninterpenetratingly']\n"
          ],
          "name": "stdout"
        }
      ]
    },
    {
      "cell_type": "code",
      "metadata": {
        "colab": {
          "base_uri": "https://localhost:8080/"
        },
        "id": "olRDfdDYzpxl",
        "outputId": "f9c632e1-1af0-4697-a90e-126699fa9247"
      },
      "source": [
        "# text5の頻度リストを取得\n",
        "fdist5 = FreqDist(text5)\n",
        "# 単語長が7以上かつ頻度が７以上の語のリストをソートして取得し表示\n",
        "print(sorted(w for w in set(text5) if len(w) > 7 and fdist5[w] > 7))"
      ],
      "execution_count": null,
      "outputs": [
        {
          "output_type": "stream",
          "text": [
            "['#14-19teens', '#talkcity_adults', '((((((((((', '........', 'Question', 'actually', 'anything', 'computer', 'cute.-ass', 'everyone', 'football', 'innocent', 'listening', 'remember', 'seriously', 'something', 'together', 'tomorrow', 'watching']\n"
          ],
          "name": "stdout"
        }
      ]
    },
    {
      "cell_type": "markdown",
      "metadata": {
        "id": "_0DrU4qwzpxl"
      },
      "source": [
        "#### 2.4.4. Collocation\n",
        "\n",
        "連結語句 (Collocation) は、英語の地名や人名、Idiomを理解するのに重要な概念です。また、それらを取得するためには、隣同士となる語の頻度などを得る必要があるため、それらを得るBigram (2語連接) やTrigram (3語連接) などの抽出などが必要となります。これらの方法について、以下の例を試してください。"
      ]
    },
    {
      "cell_type": "code",
      "metadata": {
        "colab": {
          "base_uri": "https://localhost:8080/"
        },
        "id": "pLaWjzsFzpxl",
        "outputId": "2057041b-a4ff-479e-9783-08b9eb58cc2a"
      },
      "source": [
        "# 2語連接の取得\n",
        "print(list(bigrams(['more', 'is', 'said', 'than', 'done'])))\n",
        "# n語連接 (n=3) の取得\n",
        "from nltk.util import ngrams\n",
        "print(list(ngrams(['more', 'is', 'said', 'than', 'done'], 3)))"
      ],
      "execution_count": null,
      "outputs": [
        {
          "output_type": "stream",
          "name": "stdout",
          "text": [
            "[('more', 'is'), ('is', 'said'), ('said', 'than'), ('than', 'done')]\n",
            "[('more', 'is', 'said'), ('is', 'said', 'than'), ('said', 'than', 'done')]\n"
          ]
        }
      ]
    },
    {
      "cell_type": "code",
      "metadata": {
        "colab": {
          "base_uri": "https://localhost:8080/"
        },
        "id": "NoJD7-RTzpxl",
        "outputId": "f6ee8326-7cae-434b-b5f9-544b188bdc69"
      },
      "source": [
        "# パージング済テキストからの連結語句の取得\n",
        "# 現在深刻なバグがあるようで、joinを用いてdelimiterに','が必要。\n",
        "print(text4.collocations())\n",
        "print(text8.collocations())"
      ],
      "execution_count": null,
      "outputs": [
        {
          "output_type": "stream",
          "text": [
            "United States; fellow citizens; four years; years ago; Federal\n",
            "Government; General Government; American people; Vice President; God\n",
            "bless; Chief Justice; Old World; Almighty God; Fellow citizens; Chief\n",
            "Magistrate; every citizen; one another; fellow Americans; Indian\n",
            "tribes; public debt; foreign nations\n",
            "None\n",
            "would like; medium build; social drinker; quiet nights; non smoker;\n",
            "long term; age open; Would like; easy going; financially secure; fun\n",
            "times; similar interests; Age open; weekends away; poss rship; well\n",
            "presented; never married; single mum; permanent relationship; slim\n",
            "build\n",
            "None\n"
          ],
          "name": "stdout"
        }
      ]
    },
    {
      "cell_type": "markdown",
      "metadata": {
        "id": "Je0CRX3Yzpxm"
      },
      "source": [
        "#### 2.4.5. Combination with counting and indexing\n",
        "\n",
        "今まで学習した方法を組み合わせると、もう少し複雑なことができます。例えば、『文書中の\"単語長\"の頻度』を算出し、頻度分布を取得することができます。組合せとして、単語長の取得関数 len() と、頻度取得の関数 FreqDist()を用いることになります。"
      ]
    },
    {
      "cell_type": "code",
      "metadata": {
        "colab": {
          "base_uri": "https://localhost:8080/"
        },
        "id": "40gIxaquzpxm",
        "outputId": "7ec9d1cb-915e-40ef-c710-467911551905"
      },
      "source": [
        "# text1の単語それぞれに対してlen()を適用したリストにFreqDistを掛ける\n",
        "fdist = FreqDist(len(w) for w in text1)\n",
        "print(fdist.most_common())"
      ],
      "execution_count": null,
      "outputs": [
        {
          "output_type": "stream",
          "text": [
            "[(3, 50223), (1, 47933), (4, 42345), (2, 38513), (5, 26597), (6, 17111), (7, 14399), (8, 9966), (9, 6428), (10, 3528), (11, 1873), (12, 1053), (13, 567), (14, 177), (15, 70), (16, 22), (17, 12), (18, 1), (20, 1)]\n"
          ],
          "name": "stdout"
        }
      ]
    },
    {
      "cell_type": "code",
      "metadata": {
        "colab": {
          "base_uri": "https://localhost:8080/"
        },
        "id": "_rUTCwWmzpxm",
        "outputId": "d6d3b34f-cc18-454c-9e2d-1e4d2a18636f"
      },
      "source": [
        "print(fdist.max(), fdist[fdist.max()], fdist.freq(fdist.max()))"
      ],
      "execution_count": null,
      "outputs": [
        {
          "output_type": "stream",
          "text": [
            "3 50223 0.19255882431878046\n"
          ],
          "name": "stdout"
        }
      ]
    }
  ]
}