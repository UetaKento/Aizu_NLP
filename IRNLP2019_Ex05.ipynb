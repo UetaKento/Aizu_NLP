{
  "nbformat": 4,
  "nbformat_minor": 0,
  "metadata": {
    "kernelspec": {
      "display_name": "Python 3",
      "language": "python",
      "name": "python3"
    },
    "language_info": {
      "codemirror_mode": {
        "name": "ipython",
        "version": 3
      },
      "file_extension": ".py",
      "mimetype": "text/x-python",
      "name": "python",
      "nbconvert_exporter": "python",
      "pygments_lexer": "ipython3",
      "version": "3.7.3"
    },
    "colab": {
      "name": "IRNLP2019_Ex05.ipynb",
      "provenance": [],
      "collapsed_sections": [
        "VVKOGhXlVlLX",
        "3-4qt3aGVlLY",
        "IxnmxIkWVlLY",
        "mAvc32B5VlLd",
        "R0AMZe6MVlLe",
        "KMZww08AVlLi",
        "2svXlsmvVlLo",
        "nDnBX_g1VlLq",
        "gsKMfNbCVlLs",
        "WTKEICnbVlLv",
        "fHVIxpvsVlLw",
        "JuHIQ-dPVlLz",
        "kA0gdkgNVlL0",
        "hyRcIz8KVlL2",
        "an3TJYo_VlL4"
      ],
      "toc_visible": true,
      "include_colab_link": true
    }
  },
  "cells": [
    {
      "cell_type": "markdown",
      "metadata": {
        "id": "view-in-github",
        "colab_type": "text"
      },
      "source": [
        "<a href=\"https://colab.research.google.com/github/UetaKento/Aizu_NLP/blob/main/IRNLP2019_Ex05.ipynb\" target=\"_parent\"><img src=\"https://colab.research.google.com/assets/colab-badge.svg\" alt=\"Open In Colab\"/></a>"
      ]
    },
    {
      "cell_type": "markdown",
      "metadata": {
        "id": "nJD7t-7kVlLG"
      },
      "source": [
        "# Exercise 5. Word Sense II (Ch.5.1-4)\n",
        "\n",
        "For International Students: goto http://www.nltk.org/book/ch05.html\n",
        "Almost corresponded about:\n",
        "\n",
        "- Lesson 1: 5.1\n",
        "- Lesson 2: 5.2 \n",
        "- Lesson 3: 5.3\n",
        "- Lesson 4: 5.4\n",
        "\n",
        "(★ Assignment Remark): Please read carefully about 5.2.8, 5.3.2, 5.4.1 and 5.4.2\n",
        "\n",
        "Today's Topic:\n",
        "\n",
        " - Analysis of part of speech and POS tagging\n",
        " - How to use Dictionary in NLTK\n",
        " - How to get POS tag automatically by NLTK Tagger/ Regular expression tagging and lookup tagging\n",
        "\n",
        "本日のトピック:\n",
        "\n",
        " - 品詞分解とタグ: 品詞の種類, タグ付けの仕方\n",
        " - PythonにおけるDictionaryの使い方\n",
        " - NLTK Taggerの利用方法: 正規表現タグ, ルックアップタグ\n",
        " \n",
        "n-gram tagはDocument Modelと深いかかわりがあるので、次回行います。"
      ]
    },
    {
      "cell_type": "markdown",
      "metadata": {
        "id": "QajHzn7HVlLO"
      },
      "source": [
        "# 5. Categorizing and Tagging Words\n",
        "## 5.1. Using a Tagger\n",
        "\n",
        "品詞 (Part of Speech)を付ける: 品詞タグ付け（POS-Tagger)"
      ]
    },
    {
      "cell_type": "markdown",
      "metadata": {
        "id": "PHtSUWRmVlLP"
      },
      "source": [
        "POS-Tagger: 文中の単語に対して品詞タグをつける。"
      ]
    },
    {
      "cell_type": "code",
      "metadata": {
        "id": "Crjpaz8aVlLQ"
      },
      "source": [
        "#from __future__ import division  # Python 2 users only\n",
        "import nltk, re, pprint\n",
        "nltk.download('all')\n",
        "\n",
        "text1 = nltk.word_tokenize(\"And now for something completely different\")\n",
        "print(nltk.pos_tag(text1))\n",
        "text2 = nltk.word_tokenize(\"They refuse to permit us to obtain the refuse permit\")\n",
        "print(nltk.pos_tag(text2))"
      ],
      "execution_count": null,
      "outputs": []
    },
    {
      "cell_type": "markdown",
      "metadata": {
        "id": "MTNmUNV2VlLR"
      },
      "source": [
        "2例目において、REFUSEとPERMITの両方が現在時制動詞（VBP）と名詞（NN）として表示されることに注意してください。例えば、REFUSEは一方で「拒否」という意味の動詞であるREFUSEは、同時に「ゴミ」を意味する名詞としての機能も持ちます。したがって、POSタグを正しく理解するには、どちらの意味が使用されているかを知る必要があります。"
      ]
    },
    {
      "cell_type": "code",
      "metadata": {
        "colab": {
          "base_uri": "https://localhost:8080/"
        },
        "id": "Q1s8B8z0VlLS",
        "outputId": "2a1b4615-e51f-4470-dc40-fdd10d9c0a18"
      },
      "source": [
        "text = nltk.Text(word.lower() for word in nltk.corpus.brown.words())\n",
        "print('Similar/woman: ')\n",
        "text.similar('woman')\n",
        "print('Similar/bought: ')\n",
        "text.similar('bought')\n",
        "print('Similar/over: ')\n",
        "text.similar('over')\n",
        "print('Similar/the: ')\n",
        "text.similar('the')"
      ],
      "execution_count": null,
      "outputs": [
        {
          "output_type": "stream",
          "name": "stdout",
          "text": [
            "Similar/woman: \n",
            "man time day year car moment world house family child country boy\n",
            "state job place way war girl work word\n",
            "Similar/bought: \n",
            "made said done put had seen found given left heard was been brought\n",
            "set got that took in told felt\n",
            "Similar/over: \n",
            "in on to of and for with from at by that into as up out down through\n",
            "is all about\n",
            "Similar/the: \n",
            "a his this their its her an that our any all one these my in your no\n",
            "some other and\n"
          ]
        }
      ]
    },
    {
      "cell_type": "markdown",
      "metadata": {
        "id": "nMqAK1ZAVlLS"
      },
      "source": [
        "text.similar() メソッドは単語 wを与えると, wと同じコンテキストを持つ他の単語 w_1 w_2 ... 等の全てを検索します。"
      ]
    },
    {
      "cell_type": "markdown",
      "metadata": {
        "id": "ZFoIv_4CVlLT"
      },
      "source": [
        "## 5.2. タグ付きコーパス\n",
        "### 5.2.1. タグ付きトークンの表現\n",
        "str2tuple(): タグ付きトークンの標準文字列表現から、Tupleを作成。"
      ]
    },
    {
      "cell_type": "code",
      "metadata": {
        "colab": {
          "base_uri": "https://localhost:8080/"
        },
        "id": "lHVoPyu1VlLT",
        "outputId": "c3bfb7af-c9f0-4608-c223-fadc79b41525"
      },
      "source": [
        "tagged_token = nltk.tag.str2tuple('fly/NN')\n",
        "print(tagged_token)\n",
        "print(tagged_token[0])\n",
        "print(tagged_token[1])"
      ],
      "execution_count": null,
      "outputs": [
        {
          "output_type": "stream",
          "name": "stdout",
          "text": [
            "('fly', 'NN')\n",
            "fly\n",
            "NN\n"
          ]
        }
      ]
    },
    {
      "cell_type": "markdown",
      "metadata": {
        "id": "ZJuEUXM-VlLU"
      },
      "source": [
        "インラインでのタグ表現に対して、個々の単語/タグ文字列に分解して、それらをstr2tuple()を用いることでTupleに変換。"
      ]
    },
    {
      "cell_type": "code",
      "metadata": {
        "colab": {
          "base_uri": "https://localhost:8080/"
        },
        "id": "0LfPrhJBVlLU",
        "outputId": "76bab55b-731e-4290-bdab-bbfd638b9a84"
      },
      "source": [
        "sent = '''\n",
        "The/AT grand/JJ jury/NN commented/VBD on/IN a/AT number/NN of/IN\n",
        "other/AP topics/NNS ,/, AMONG/IN them/PPO the/AT Atlanta/NP and/CC\n",
        "Fulton/NP-tl County/NN-tl purchasing/VBG departments/NNS which/WDT it/PPS\n",
        "said/VBD ``/`` ARE/BER well/QL operated/VBN and/CC follow/VB generally/RB\n",
        "accepted/VBN practices/NNS which/WDT inure/VB to/IN the/AT best/JJT\n",
        "interest/NN of/IN both/ABX governments/NNS ''/'' ./.\n",
        "'''\n",
        "print([nltk.tag.str2tuple(t) for t in sent.split()])"
      ],
      "execution_count": null,
      "outputs": [
        {
          "output_type": "stream",
          "name": "stdout",
          "text": [
            "[('The', 'AT'), ('grand', 'JJ'), ('jury', 'NN'), ('commented', 'VBD'), ('on', 'IN'), ('a', 'AT'), ('number', 'NN'), ('of', 'IN'), ('other', 'AP'), ('topics', 'NNS'), (',', ','), ('AMONG', 'IN'), ('them', 'PPO'), ('the', 'AT'), ('Atlanta', 'NP'), ('and', 'CC'), ('Fulton', 'NP-TL'), ('County', 'NN-TL'), ('purchasing', 'VBG'), ('departments', 'NNS'), ('which', 'WDT'), ('it', 'PPS'), ('said', 'VBD'), ('``', '``'), ('ARE', 'BER'), ('well', 'QL'), ('operated', 'VBN'), ('and', 'CC'), ('follow', 'VB'), ('generally', 'RB'), ('accepted', 'VBN'), ('practices', 'NNS'), ('which', 'WDT'), ('inure', 'VB'), ('to', 'IN'), ('the', 'AT'), ('best', 'JJT'), ('interest', 'NN'), ('of', 'IN'), ('both', 'ABX'), ('governments', 'NNS'), (\"''\", \"''\"), ('.', '.')]\n"
          ]
        }
      ]
    },
    {
      "cell_type": "markdown",
      "metadata": {
        "id": "BamBXRK-VlLV"
      },
      "source": [
        "### 5.2.2. タグ付きコーパスの読み方\n",
        "Brown Corpus: 既に品詞タグがつけられている\n",
        " - Brown CorpusのTextを開くと下記のようにインライン型でタグが併記されている。\n",
        "\n",
        "    The/at Fulton/np-tl County/nn-tl Grand/jj-tl Jury/nn-tl said/vbd Friday/nr an/at investigation/nn of/in Atlanta's/np$ recent/jj primary/nn election/nn produced/vbd / no/at evidence/nn ''/'' that/cs any/dti irregularities/nns took/vbd place/nn ./.\n",
        "    \n",
        "品詞タグは大文字(Brown Corpusの記法が標準型となったため、このようになっている。）"
      ]
    },
    {
      "cell_type": "code",
      "metadata": {
        "colab": {
          "base_uri": "https://localhost:8080/"
        },
        "id": "rqgJAEA9VlLV",
        "outputId": "f9832611-413e-4d48-f7a1-8064b784c77f"
      },
      "source": [
        "print(nltk.corpus.brown.tagged_words())\n",
        "print(nltk.corpus.brown.tagged_words(tagset='universal'))"
      ],
      "execution_count": null,
      "outputs": [
        {
          "output_type": "stream",
          "name": "stdout",
          "text": [
            "[('The', 'AT'), ('Fulton', 'NP-TL'), ...]\n",
            "[('The', 'DET'), ('Fulton', 'NOUN'), ...]\n"
          ]
        }
      ]
    },
    {
      "cell_type": "code",
      "metadata": {
        "colab": {
          "base_uri": "https://localhost:8080/"
        },
        "id": "Xl5TDNmfVlLW",
        "outputId": "c61346e3-7ad2-4a54-a7f7-e359329a794a"
      },
      "source": [
        "print(nltk.corpus.nps_chat.tagged_words())\n",
        "print(nltk.corpus.conll2000.tagged_words())\n",
        "print(nltk.corpus.treebank.tagged_words())"
      ],
      "execution_count": null,
      "outputs": [
        {
          "output_type": "stream",
          "name": "stdout",
          "text": [
            "[('now', 'RB'), ('im', 'PRP'), ('left', 'VBD'), ...]\n",
            "[('Confidence', 'NN'), ('in', 'IN'), ('the', 'DT'), ...]\n",
            "[('Pierre', 'NNP'), ('Vinken', 'NNP'), (',', ','), ...]\n"
          ]
        }
      ]
    },
    {
      "cell_type": "markdown",
      "metadata": {
        "id": "-wmEHo8lVlLW"
      },
      "source": [
        "タグセットが異なる場合がある (この場合は, target=''でタグセットを指定する）"
      ]
    },
    {
      "cell_type": "code",
      "metadata": {
        "colab": {
          "base_uri": "https://localhost:8080/"
        },
        "id": "GfIRm70mVlLW",
        "outputId": "9cf2629b-be5e-40b0-920a-34c644c1990e"
      },
      "source": [
        "print(nltk.corpus.brown.tagged_words(tagset='universal'))\n",
        "print(nltk.corpus.treebank.tagged_words(tagset='universal'))"
      ],
      "execution_count": null,
      "outputs": [
        {
          "output_type": "stream",
          "name": "stdout",
          "text": [
            "[('The', 'DET'), ('Fulton', 'NOUN'), ...]\n",
            "[('Pierre', 'NOUN'), ('Vinken', 'NOUN'), (',', '.'), ...]\n"
          ]
        }
      ]
    },
    {
      "cell_type": "markdown",
      "metadata": {
        "id": "aOugDkN2VlLX"
      },
      "source": [
        "他の言語のタグ付きコーパスの読み込み例\n",
        " - このページではマルチバイトも表現できるが、Pythonのインターフェースによっては文字化けが起きる場合もある。（コーパスがダウンロードされていない場合は動きません）"
      ]
    },
    {
      "cell_type": "code",
      "metadata": {
        "colab": {
          "base_uri": "https://localhost:8080/"
        },
        "id": "TCfYpeeWVlLX",
        "outputId": "643c79b2-d93c-474c-d0f3-8e21dc479ff2"
      },
      "source": [
        "print(nltk.corpus.sinica_treebank.tagged_words()) #中文\n",
        "print(nltk.corpus.indian.tagged_words()) # インド\n",
        "print(nltk.corpus.mac_morpho.tagged_words()) # ポルトガル語\n",
        "print(nltk.corpus.conll2002.tagged_words()) # CONLL2002による自動判別コーパス\n",
        "print(nltk.corpus.cess_cat.tagged_words()) # カタラン語"
      ],
      "execution_count": null,
      "outputs": [
        {
          "output_type": "stream",
          "name": "stdout",
          "text": [
            "[('一', 'Neu'), ('友情', 'Nad'), ('嘉珍', 'Nba'), ...]\n",
            "[('মহিষের', 'NN'), ('সন্তান', 'NN'), (':', 'SYM'), ...]\n",
            "[('Jersei', 'N'), ('atinge', 'V'), ('média', 'N'), ...]\n",
            "[('Sao', 'NC'), ('Paulo', 'VMI'), ('(', 'Fpa'), ...]\n",
            "[('El', 'da0ms0'), ('Tribunal_Suprem', 'np0000o'), ...]\n"
          ]
        }
      ]
    },
    {
      "cell_type": "markdown",
      "metadata": {
        "id": "VVKOGhXlVlLX"
      },
      "source": [
        "### 5.2.3. ユニバーサル品詞タグセット\n",
        "ユニバーサル品詞タグセットのの表\n",
        "![image.png](attachment:image.png)"
      ]
    },
    {
      "cell_type": "code",
      "metadata": {
        "colab": {
          "base_uri": "https://localhost:8080/"
        },
        "id": "z1txMFOnVlLX",
        "outputId": "691b5e14-6a36-4e27-8109-bf40e9d2e9f9"
      },
      "source": [
        "from nltk.corpus import brown\n",
        "brown_news_tagged = brown.tagged_words(categories='news', tagset='universal')\n",
        "tag_fd = nltk.FreqDist(tag for (word, tag) in brown_news_tagged)\n",
        "print(tag_fd.most_common())"
      ],
      "execution_count": null,
      "outputs": [
        {
          "output_type": "stream",
          "name": "stdout",
          "text": [
            "[('NOUN', 30654), ('VERB', 14399), ('ADP', 12355), ('.', 11928), ('DET', 11389), ('ADJ', 6706), ('ADV', 3349), ('CONJ', 2717), ('PRON', 2535), ('PRT', 2264), ('NUM', 2166), ('X', 92)]\n"
          ]
        }
      ]
    },
    {
      "cell_type": "markdown",
      "metadata": {
        "id": "3-4qt3aGVlLY"
      },
      "source": [
        "### 5.2.4. Nouns\n",
        "名詞は人、場所、物、概念を指す。名詞はDETとADJの後に現れ、VBの主語または目的語になる事が出来る。\n",
        "\n",
        "幾つかの名詞を含む構文パターン\n",
        "![image.png](attachment:image.png)"
      ]
    },
    {
      "cell_type": "code",
      "metadata": {
        "colab": {
          "base_uri": "https://localhost:8080/"
        },
        "id": "ChLPXoNCVlLY",
        "outputId": "9e66b86b-43b2-404d-f232-4c938f682e28"
      },
      "source": [
        "word_tag_pairs = nltk.bigrams(brown_news_tagged)\n",
        "noun_preceders = [a[1] for (a, b) in word_tag_pairs if b[1] == 'NOUN']\n",
        "fdist = nltk.FreqDist(noun_preceders)\n",
        "print([tag for (tag, _) in fdist.most_common()])"
      ],
      "execution_count": null,
      "outputs": [
        {
          "output_type": "stream",
          "name": "stdout",
          "text": [
            "['NOUN', 'DET', 'ADJ', 'ADP', '.', 'VERB', 'CONJ', 'NUM', 'ADV', 'PRT', 'PRON', 'X']\n"
          ]
        }
      ]
    },
    {
      "cell_type": "markdown",
      "metadata": {
        "id": "IxnmxIkWVlLY"
      },
      "source": [
        "### 5.2.4. Verbs\n",
        "動詞は事象や行動を記述する。文脈において、動詞は典型的には一つまたは複数の名詞句の指示対象を含む関係を表す。\n",
        "\n",
        "いくつかの動詞を含む構文パターン\n",
        "![image.png](attachment:image.png)"
      ]
    },
    {
      "cell_type": "code",
      "metadata": {
        "scrolled": true,
        "colab": {
          "base_uri": "https://localhost:8080/"
        },
        "id": "p349bAUVVlLY",
        "outputId": "6c360bd3-2d8b-49d5-f3b3-d1906fcfc18a"
      },
      "source": [
        "wsj = nltk.corpus.treebank.tagged_words(tagset='universal')\n",
        "word_tag_fd = nltk.FreqDist(wsj)\n",
        "print(word_tag_fd.most_common())\n",
        "print([wt[0] for (wt, _) in word_tag_fd.most_common() if wt[1] == 'VERB'][:100]) # 動詞最頻順100件まで出力"
      ],
      "execution_count": null,
      "outputs": [
        {
          "output_type": "stream",
          "name": "stdout",
          "text": [
            "[((',', '.'), 4885), (('the', 'DET'), 4038), (('.', '.'), 3828), (('of', 'ADP'), 2319), (('to', 'PRT'), 2161), (('a', 'DET'), 1874), (('in', 'ADP'), 1554), (('and', 'CONJ'), 1505), (('*-1', 'X'), 1123), (('0', 'X'), 1099), (('*', 'X'), 965), (('for', 'ADP'), 815), (('*T*-1', 'X'), 806), ((\"'s\", 'PRT'), 761), (('*U*', 'X'), 744), (('$', '.'), 718), (('The', 'DET'), 713), (('``', '.'), 702), ((\"''\", '.'), 684), (('is', 'VERB'), 671), (('said', 'VERB'), 628), (('that', 'ADP'), 513), (('on', 'ADP'), 483), (('it', 'PRON'), 476), (('%', 'NOUN'), 445), (('by', 'ADP'), 427), (('at', 'ADP'), 402), (('with', 'ADP'), 387), (('from', 'ADP'), 386), (('million', 'NUM'), 383), (('Mr.', 'NOUN'), 375), (('*-2', 'X'), 372), (('was', 'VERB'), 367), (('are', 'VERB'), 367), (('be', 'VERB'), 356), (('*T*-2', 'X'), 345), (('has', 'VERB'), 339), (('as', 'ADP'), 333), (('its', 'PRON'), 332), ((\"n't\", 'ADV'), 325), (('have', 'VERB'), 323), (('an', 'DET'), 316), (('that', 'DET'), 291), (('or', 'CONJ'), 291), (('will', 'VERB'), 280), (('company', 'NOUN'), 260), (('--', '.'), 230), (('he', 'PRON'), 230), (('which', 'DET'), 224), (('U.S.', 'NOUN'), 220), (('year', 'NOUN'), 212), (('they', 'PRON'), 210), (('says', 'VERB'), 210), (('would', 'VERB'), 209), (('were', 'VERB'), 197), (('In', 'ADP'), 195), (('this', 'DET'), 184), (('their', 'PRON'), 181), (('than', 'ADP'), 180), (('about', 'ADP'), 176), (('market', 'NOUN'), 176), ((';', '.'), 171), (('had', 'VERB'), 165), (('who', 'PRON'), 163), (('new', 'ADJ'), 162), (('New', 'NOUN'), 159), (('billion', 'NUM'), 159), (('But', 'CONJ'), 157), (('but', 'CONJ'), 150), (('been', 'VERB'), 150), (('also', 'ADV'), 147), (('trading', 'NOUN'), 144), ((':', '.'), 142), (('stock', 'NOUN'), 136), (('other', 'ADJ'), 134), (('president', 'NOUN'), 133), (('not', 'ADV'), 133), (('*-3', 'X'), 130), (('program', 'NOUN'), 127), (('some', 'DET'), 122), (('one', 'NUM'), 121), (('his', 'PRON'), 121), (('could', 'VERB'), 120), (('Corp.', 'NOUN'), 117), (('because', 'ADP'), 116), (('share', 'NOUN'), 116), (('years', 'NOUN'), 115), (('shares', 'NOUN'), 114), (('I', 'PRON'), 113), (('more', 'ADJ'), 112), (('-RRB-', '.'), 112), (('York', 'NOUN'), 107), (('-LRB-', '.'), 106), (('A', 'DET'), 105), (('any', 'DET'), 103), ((\"'s\", 'VERB'), 103), (('two', 'NUM'), 103), (('all', 'DET'), 100), (('It', 'PRON'), 100), (('Inc.', 'NOUN'), 97), (('*T*-3', 'X'), 97), (('can', 'VERB'), 93), (('into', 'ADP'), 87), (('more', 'ADV'), 86), (('last', 'ADJ'), 86), (('prices', 'NOUN'), 86), (('&', 'CONJ'), 85), (('do', 'VERB'), 85), (('government', 'NOUN'), 83), (('many', 'ADJ'), 83), (('such', 'ADJ'), 82), (('if', 'ADP'), 80), (('Japanese', 'ADJ'), 80), (('up', 'PRT'), 77), (('after', 'ADP'), 77), (('when', 'ADV'), 77), (('she', 'PRON'), 77), (('no', 'DET'), 76), (('business', 'NOUN'), 76), (('say', 'VERB'), 75), (('Japan', 'NOUN'), 75), (('Co.', 'NOUN'), 74), (('make', 'VERB'), 73), (('He', 'PRON'), 73), (('over', 'ADP'), 72), (('recent', 'ADJ'), 72), (('*ICH*-1', 'X'), 70), (('you', 'PRON'), 70), (('may', 'VERB'), 70), (('them', 'PRON'), 70), (('cents', 'NOUN'), 70), (('only', 'ADV'), 68), (('funds', 'NOUN'), 67), (('first', 'ADJ'), 66), (('price', 'NOUN'), 66), (('stocks', 'NOUN'), 66), (('even', 'ADV'), 64), (('index', 'NOUN'), 64), ((\"'\", 'PRT'), 63), (('investors', 'NOUN'), 63), (('companies', 'NOUN'), 63), (('futures', 'NOUN'), 63), (('time', 'NOUN'), 62), (('did', 'VERB'), 62), (('now', 'ADV'), 61), (('rose', 'VERB'), 61), (('October', 'NOUN'), 61), (('yesterday', 'NOUN'), 61), (('under', 'ADP'), 60), (('sales', 'NOUN'), 59), (('bonds', 'NOUN'), 59), (('months', 'NOUN'), 59), (('next', 'ADJ'), 58), (('Mrs.', 'NOUN'), 58), (('made', 'VERB'), 56), (('people', 'NOUN'), 56), (('there', 'DET'), 56), (('investment', 'NOUN'), 56), (('yen', 'NOUN'), 56), (('those', 'DET'), 55), (('these', 'DET'), 55), (('week', 'NOUN'), 55), (('House', 'NOUN'), 55), (('so', 'ADV'), 55), (('common', 'ADJ'), 54), (('does', 'VERB'), 54), (('profit', 'NOUN'), 54), (('issue', 'NOUN'), 54), (('interest', 'NOUN'), 53), (('money', 'NOUN'), 53), (('They', 'PRON'), 53), (('expected', 'VERB'), 52), (('as', 'ADV'), 52), (('markets', 'NOUN'), 52), (('days', 'NOUN'), 51), (('federal', 'ADJ'), 51), (('banks', 'NOUN'), 51), (('10', 'NUM'), 51), (('her', 'PRON'), 51), (('since', 'ADP'), 50), (('Exchange', 'NOUN'), 50), (('rates', 'NOUN'), 49), (('up', 'ADV'), 49), (('what', 'PRON'), 49), (('buy', 'VERB'), 49), (('three', 'NUM'), 48), (('we', 'PRON'), 48), (('take', 'VERB'), 48), (('traders', 'NOUN'), 48), (('30', 'NUM'), 47), (('We', 'PRON'), 47), (('higher', 'ADJ'), 47), (('officials', 'NOUN'), 47), (('out', 'PRT'), 47), (('while', 'ADP'), 47), (('get', 'VERB'), 47), (('Tuesday', 'NOUN'), 46), (('well', 'ADV'), 46), (('Congress', 'NOUN'), 46), (('debt', 'NOUN'), 46), (('country', 'NOUN'), 46), (('50', 'NUM'), 46), (('chairman', 'NOUN'), 45), (('number', 'NOUN'), 45), (('*?*', 'X'), 45), (('plan', 'NOUN'), 45), (('1988', 'NUM'), 45), (('like', 'ADP'), 44), (('And', 'CONJ'), 44), (('just', 'ADV'), 44), (('month', 'NOUN'), 44), (('small', 'ADJ'), 44), (('major', 'ADJ'), 44), (('Bush', 'NOUN'), 44), (('Department', 'NOUN'), 44), (('group', 'NOUN'), 43), (('vice', 'NOUN'), 43), (('cash', 'NOUN'), 43), (('1990', 'NUM'), 43), (('might', 'VERB'), 43), (('Board', 'NOUN'), 43), (('Chicago', 'NOUN'), 43), (('before', 'ADP'), 42), (('most', 'ADJ'), 42), (('another', 'DET'), 42), (('financial', 'ADJ'), 42), (('September', 'NOUN'), 42), (('15', 'NUM'), 42), (('income', 'NOUN'), 42), (('rate', 'NOUN'), 41), (('Treasury', 'NOUN'), 41), (('industry', 'NOUN'), 41), (('economic', 'ADJ'), 41), (('chief', 'NOUN'), 41), (('through', 'ADP'), 41), (('concern', 'NOUN'), 41), (('sell', 'VERB'), 41), (('fiscal', 'ADJ'), 41), (('This', 'DET'), 40), (('managers', 'NOUN'), 40), (('executive', 'NOUN'), 40), (('good', 'ADJ'), 40), (('1989', 'NUM'), 40), (('added', 'VERB'), 40), (('1', 'NUM'), 40), (('100', 'NUM'), 40), (('own', 'ADJ'), 40), (('?', '.'), 40), (('If', 'ADP'), 40), (('sold', 'VERB'), 39), (('South', 'NOUN'), 39), (('growth', 'NOUN'), 39), (('That', 'DET'), 39), (('spokesman', 'NOUN'), 39), (('help', 'VERB'), 39), (('investor', 'NOUN'), 39), (('part', 'NOUN'), 39), (('American', 'NOUN'), 39), (('including', 'VERB'), 38), (('should', 'VERB'), 38), (('during', 'ADP'), 38), (('500', 'NUM'), 38), (('trade', 'NOUN'), 38), (('earnings', 'NOUN'), 38), (('firm', 'NOUN'), 38), (('Street', 'NOUN'), 38), (('bank', 'NOUN'), 38), (('due', 'ADJ'), 38), (('net', 'ADJ'), 38), (('reported', 'VERB'), 37), (('same', 'ADJ'), 37), (('big', 'ADJ'), 37), (('offer', 'NOUN'), 37), (('each', 'DET'), 37), (('law', 'NOUN'), 37), (('Wall', 'NOUN'), 37), (('Yeargin', 'NOUN'), 37), (('Columbia', 'NOUN'), 37), (('unit', 'NOUN'), 36), (('contract', 'NOUN'), 36), (('For', 'ADP'), 36), (('still', 'ADV'), 36), (('between', 'ADP'), 36), (('Stock', 'NOUN'), 36), (('Cray', 'NOUN'), 36), (('8', 'NUM'), 36), (('issues', 'NOUN'), 36), (('quarter', 'NOUN'), 36), (('First', 'NOUN'), 35), (('court', 'NOUN'), 35), (('already', 'ADV'), 35), (('both', 'DET'), 35), (('S&P', 'NOUN'), 35), (('*-4', 'X'), 34), (('*ICH*-2', 'X'), 34), (('according', 'VERB'), 34), (('where', 'ADV'), 34), (('earlier', 'ADJ'), 34), (('*RNR*-1', 'X'), 34), (('John', 'NOUN'), 34), (('against', 'ADP'), 34), (('firms', 'NOUN'), 34), (('test', 'NOUN'), 34), (('research', 'NOUN'), 33), (('few', 'ADJ'), 33), (('securities', 'NOUN'), 33), (('International', 'NOUN'), 33), (('pay', 'VERB'), 33), (('compared', 'VERB'), 33), (('being', 'VERB'), 33), (('Big', 'NOUN'), 33), (('most', 'ADV'), 33), (('*EXP*-1', 'X'), 33), (('bill', 'NOUN'), 33), (('director', 'NOUN'), 32), (('There', 'DET'), 32), (('products', 'NOUN'), 32), (('fell', 'VERB'), 32), (('capital', 'NOUN'), 32), (('began', 'VERB'), 32), (('below', 'ADP'), 32), (('officer', 'NOUN'), 32), (('several', 'ADJ'), 32), (('loss', 'NOUN'), 32), (('1987', 'NUM'), 32), (('Bank', 'NOUN'), 32), (('among', 'ADP'), 31), (('based', 'VERB'), 31), (('until', 'ADP'), 31), (('six', 'NUM'), 31), (('bid', 'NOUN'), 31), (('state', 'NOUN'), 31), (('construction', 'NOUN'), 31), (('report', 'NOUN'), 31), (('students', 'NOUN'), 31), (('board', 'NOUN'), 30), (('used', 'VERB'), 30), (('problem', 'NOUN'), 30), (('current', 'ADJ'), 30), (('lower', 'ADJ'), 30), (('way', 'NOUN'), 30), (('closed', 'VERB'), 30), (('much', 'ADV'), 30), (('much', 'ADJ'), 30), (('analysts', 'NOUN'), 30), (('points', 'NOUN'), 30), (('administration', 'NOUN'), 30), ((\"'re\", 'VERB'), 29), (('early', 'ADJ'), 29), (('five', 'NUM'), 29), (('large', 'ADJ'), 29), (('operations', 'NOUN'), 29), (('without', 'ADP'), 29), (('case', 'NOUN'), 29), (('want', 'VERB'), 29), (('As', 'ADP'), 29), (('see', 'VERB'), 29), (('less', 'ADJ'), 29), (('notes', 'NOUN'), 29), (('whether', 'ADP'), 28), (('very', 'ADV'), 28), (('paper', 'NOUN'), 28), (('far', 'ADV'), 28), (('took', 'VERB'), 28), (('maker', 'NOUN'), 28), (('ad', 'NOUN'), 28), (('largest', 'ADJ'), 28), (('out', 'ADP'), 28), (('executive', 'ADJ'), 28), (('demand', 'NOUN'), 28), (('orders', 'NOUN'), 28), (('At', 'ADP'), 28), (('problems', 'NOUN'), 28), (('American', 'ADJ'), 28), (('President', 'NOUN'), 28), (('3\\\\/4', 'NUM'), 28), (('yield', 'VERB'), 28), (('junk', 'NOUN'), 28), (('example', 'NOUN'), 27), (('sale', 'NOUN'), 27), (('then', 'ADV'), 27), (('manager', 'NOUN'), 27), (('off', 'PRT'), 27), (('department', 'NOUN'), 27), (('2', 'NUM'), 27), (('1\\\\/2', 'NUM'), 27), (('Securities', 'NOUN'), 27), (('about', 'ADV'), 27), (('up', 'ADP'), 27), (('action', 'NOUN'), 27), (('analyst', 'NOUN'), 27), (('Campbell', 'NOUN'), 27), (('high', 'ADJ'), 26), (('our', 'PRON'), 26), (('information', 'NOUN'), 26), (('us', 'PRON'), 26), (('point', 'NOUN'), 26), (('economy', 'NOUN'), 26), (('offered', 'VERB'), 26), (('additional', 'ADJ'), 26), (('set', 'VERB'), 26), (('Group', 'NOUN'), 26), (('priced', 'VERB'), 26), (('certain', 'ADJ'), 26), (('London', 'NOUN'), 26), (('members', 'NOUN'), 26), (('13', 'NUM'), 26), (('bond', 'NOUN'), 26), (('California', 'NOUN'), 26), (('suspension', 'NOUN'), 26), (('recently', 'ADV'), 25), (('though', 'ADP'), 25), (('period', 'NOUN'), 25), (('approved', 'VERB'), 25), (('20', 'NUM'), 25), (('nation', 'NOUN'), 25), (('corporate', 'ADJ'), 25), (('come', 'VERB'), 25), (('noted', 'VERB'), 25), (('power', 'NOUN'), 25), (('record', 'NOUN'), 25), (('While', 'ADP'), 25), (('China', 'NOUN'), 25), (('cut', 'VERB'), 25), (('how', 'ADV'), 25), (('Oct.', 'NOUN'), 25), (('charge', 'NOUN'), 25), (('services', 'NOUN'), 25), (('appropriations', 'NOUN'), 25), (('old', 'ADJ'), 24), (('Nov.', 'NOUN'), 24), (('ended', 'VERB'), 24), (('service', 'NOUN'), 24), (('division', 'NOUN'), 24), (('spending', 'NOUN'), 24), (('news', 'NOUN'), 24), (('value', 'NOUN'), 24), (('around', 'ADP'), 24), (('possible', 'ADJ'), 24), (('Robert', 'NOUN'), 24), (('strong', 'ADJ'), 24), (('least', 'ADJ'), 24), (('You', 'PRON'), 24), (('40', 'NUM'), 24), (('often', 'ADV'), 24), (('however', 'ADV'), 24), (('contracts', 'NOUN'), 24), (('Tokyo', 'NOUN'), 24), (('fine', 'NOUN'), 24), (('England', 'NOUN'), 23), (('*T*-4', 'X'), 23), (('found', 'VERB'), 23), (('day', 'NOUN'), 23), (('end', 'NOUN'), 23), (('William', 'NOUN'), 23), (('increased', 'VERB'), 23), (('magazine', 'NOUN'), 23), (('Washington', 'NOUN'), 23), (('become', 'VERB'), 23), (('purchase', 'NOUN'), 23), (('local', 'ADJ'), 23), (('customers', 'NOUN'), 23), (('12', 'NUM'), 23), (('addition', 'NOUN'), 23), (('foreign', 'ADJ'), 23), (('computer', 'NOUN'), 23), (('office', 'NOUN'), 23), (('stake', 'NOUN'), 23), (('dividend', 'NOUN'), 23), (('low', 'ADJ'), 23), (('think', 'VERB'), 23), (('your', 'PRON'), 23), (('programs', 'NOUN'), 23), (('safety', 'NOUN'), 23), (('Georgia', 'NOUN'), 23), (('sugar', 'NOUN'), 23), (('USX', 'NOUN'), 23), (('named', 'VERB'), 22), (('ago', 'ADP'), 22), (('latest', 'ADJ'), 22), (('today', 'NOUN'), 22), (('James', 'NOUN'), 22), (('University', 'NOUN'), 22), (('almost', 'ADV'), 22), (('average', 'ADJ'), 22), (('go', 'VERB'), 22), (('currently', 'ADV'), 22), (('down', 'ADV'), 22), (('management', 'NOUN'), 22), (('trying', 'VERB'), 22), (('too', 'ADV'), 22), (('proposed', 'VERB'), 22), (('return', 'NOUN'), 22), (('received', 'VERB'), 22), (('weeks', 'NOUN'), 22), (('growing', 'VERB'), 22), (('world', 'NOUN'), 22), (('legislation', 'NOUN'), 22), (('These', 'DET'), 22), (('cases', 'NOUN'), 22), (('II', 'NOUN'), 22), (('right', 'NOUN'), 22), (('production', 'NOUN'), 22), (('costs', 'NOUN'), 22), (('declined', 'VERB'), 22), (('school', 'NOUN'), 22), (('Some', 'DET'), 22), (('questions', 'NOUN'), 22), (('card', 'NOUN'), 22), (('arbitrage', 'NOUN'), 22), (('results', 'NOUN'), 21), (('different', 'ADJ'), 21), (('countries', 'NOUN'), 21), (('plant', 'NOUN'), 21), (('dividends', 'NOUN'), 21), (('When', 'ADV'), 21), (('Association', 'NOUN'), 21), (('held', 'VERB'), 21), (('give', 'VERB'), 21), (('full', 'ADJ'), 21), (('gains', 'NOUN'), 21), (('Edison', 'NOUN'), 21), (('past', 'ADJ'), 21), (('Research', 'NOUN'), 21), (('came', 'VERB'), 21), (('She', 'PRON'), 21), (('use', 'VERB'), 21), (('product', 'NOUN'), 21), (('put', 'VERB'), 21), (('payments', 'NOUN'), 21), (('outstanding', 'ADJ'), 21), (('Union', 'NOUN'), 21), (('credit', 'NOUN'), 21), (('never', 'ADV'), 21), (('proposal', 'NOUN'), 21), (('family', 'NOUN'), 21), (('volume', 'NOUN'), 21), (('takeover', 'NOUN'), 21), (('transactions', 'NOUN'), 21), (('America', 'NOUN'), 21), (('15,000', 'NUM'), 21), (('volatility', 'NOUN'), 21), (('ringers', 'NOUN'), 21), (('Hahn', 'NOUN'), 21), (('workers', 'NOUN'), 20), (('likely', 'ADJ'), 20), (('National', 'NOUN'), 20), (('making', 'VERB'), 20), (('yield', 'NOUN'), 20), (('continue', 'VERB'), 20), (('shareholders', 'NOUN'), 20), (('transaction', 'NOUN'), 20), (('raise', 'VERB'), 20), (('four', 'NUM'), 20), (('increase', 'NOUN'), 20), (('Federal', 'NOUN'), 20), (('estimated', 'VERB'), 20), (('public', 'ADJ'), 20), (('called', 'VERB'), 20), (('paid', 'VERB'), 20), (('rights', 'NOUN'), 20), (('level', 'NOUN'), 20), (('designed', 'VERB'), 20), (('here', 'ADV'), 20), (('7', 'NUM'), 20), (('private', 'ADJ'), 20), (('going', 'VERB'), 20), (('employees', 'NOUN'), 20), (('Rep.', 'NOUN'), 20), (('High', 'NOUN'), 20), (('Dow', 'NOUN'), 20), (('Jones', 'NOUN'), 20), (('Gulf', 'NOUN'), 20), (('former', 'ADJ'), 19), (('work', 'NOUN'), 19), (('bills', 'NOUN'), 19), (('fees', 'NOUN'), 19), (('Ltd.', 'NOUN'), 19), (('expects', 'VERB'), 19), (('general', 'ADJ'), 19), (('decision', 'NOUN'), 19), (('executives', 'NOUN'), 19), (('cars', 'NOUN'), 19), (('Korea', 'NOUN'), 19), (('What', 'PRON'), 19), (('United', 'NOUN'), 19), (('political', 'ADJ'), 19), (('seeking', 'VERB'), 19), (('amount', 'NOUN'), 19), (('every', 'DET'), 19), (('previous', 'ADJ'), 19), (('Sales', 'NOUN'), 19), (('must', 'VERB'), 19), (('exchange', 'NOUN'), 19), (('One', 'NUM'), 19), (('plans', 'VERB'), 19), (('health', 'NOUN'), 19), (('wo', 'VERB'), 19), (('San', 'NOUN'), 19), (('Inc', 'NOUN'), 19), (('down', 'ADP'), 19), (('trades', 'NOUN'), 19), (('bells', 'NOUN'), 19), (('Express', 'NOUN'), 19), (('corn', 'NOUN'), 19), (('industrial', 'ADJ'), 18), (('A.', 'NOUN'), 18), (('18', 'NUM'), 18), (('August', 'NOUN'), 18), (('institutions', 'NOUN'), 18), (('9', 'NUM'), 18), (('thrift', 'NOUN'), 18), (('Senate', 'NOUN'), 18), (('senior', 'ADJ'), 18), (('future', 'ADJ'), 18), (('increasing', 'VERB'), 18), (('5', 'NUM'), 18), (('saying', 'VERB'), 18), (('move', 'NOUN'), 18), (('got', 'VERB'), 18), (('owns', 'VERB'), 18), (('order', 'NOUN'), 18), (('performance', 'NOUN'), 18), (('March', 'NOUN'), 18), (('development', 'NOUN'), 18), (('1991', 'NUM'), 18), (('terms', 'NOUN'), 18), (('trading', 'VERB'), 18), (('international', 'ADJ'), 18), (('acquired', 'VERB'), 18), (('An', 'DET'), 18), (('clients', 'NOUN'), 18), (('oil', 'NOUN'), 18), (('talks', 'NOUN'), 18), (('deal', 'NOUN'), 18), (('conditions', 'NOUN'), 18), (('job', 'NOUN'), 18), (('Industries', 'NOUN'), 18), (('insurance', 'NOUN'), 18), (('commercial', 'ADJ'), 18), (('effect', 'NOUN'), 18), (('funding', 'NOUN'), 18), (('my', 'PRON'), 18), (('gained', 'VERB'), 18), (('10,000', 'NUM'), 18), (('Nixon', 'NOUN'), 18), (('fined', 'VERB'), 18), (('wage', 'NOUN'), 18), (('veto', 'NOUN'), 18), (('Buick', 'NOUN'), 18), (('Boston', 'NOUN'), 17), (('team', 'NOUN'), 17), (('particularly', 'ADV'), 17), (('place', 'NOUN'), 17), (('investments', 'NOUN'), 17), (('reached', 'VERB'), 17), (('holding', 'VERB'), 17), (('annual', 'ADJ'), 17), (('city', 'NOUN'), 17), (('On', 'ADP'), 17), (('announced', 'VERB'), 17), (('use', 'NOUN'), 17), (('11', 'NUM'), 17), (('equity', 'NOUN'), 17), (('Commerce', 'NOUN'), 17), (('Dec.', 'NOUN'), 17), (('3', 'NUM'), 17), (('1985', 'NUM'), 17), (('tax', 'NOUN'), 17), (('filed', 'VERB'), 17), (('assets', 'NOUN'), 17), (('agreement', 'NOUN'), 17), (('official', 'NOUN'), 17), (('home', 'NOUN'), 17), (('system', 'NOUN'), 17), (('became', 'VERB'), 17), (('White', 'NOUN'), 17), (('dollars', 'NOUN'), 17), (('seek', 'VERB'), 17), (('restructuring', 'NOUN'), 17), (('nearly', 'ADV'), 17), (('Michael', 'NOUN'), 17), (('6', 'NUM'), 17), (('survey', 'NOUN'), 17), (('sector', 'NOUN'), 17), (('included', 'VERB'), 17), (('important', 'ADJ'), 17), (('agency', 'NOUN'), 17), (('real', 'ADJ'), 17), (('To', 'PRT'), 17), (('Many', 'ADJ'), 17), (('pressure', 'NOUN'), 17), (('banking', 'NOUN'), 17), (('wine', 'NOUN'), 17), (('package', 'NOUN'), 17), (('limit', 'NOUN'), 17), (('form', 'NOUN'), 16), (('using', 'VERB'), 16), (('led', 'VERB'), 16), (('times', 'NOUN'), 16), (('force', 'NOUN'), 16), (('meeting', 'NOUN'), 16), (('decided', 'VERB'), 16), (('so', 'ADP'), 16), (('food', 'NOUN'), 16), (('Wednesday', 'NOUN'), 16), (('keep', 'VERB'), 16), (('...', '.'), 16), (('Commission', 'NOUN'), 16), (('composite', 'ADJ'), 16), (('City', 'NOUN'), 16), (('R.', 'NOUN'), 16), (('31', 'NUM'), 16), (('Texas', 'NOUN'), 16), (('control', 'NOUN'), 16), (('disclosed', 'VERB'), 16), (('him', 'PRON'), 16), (('able', 'ADJ'), 16), (('rather', 'ADV'), 16), (('Shearson', 'NOUN'), 16), (('Co', 'NOUN'), 16), (('agreed', 'VERB'), 16), (('find', 'VERB'), 16), (('failed', 'VERB'), 16), (('activity', 'NOUN'), 16), (('materials', 'NOUN'), 16), (('delivery', 'NOUN'), 16), (('run', 'VERB'), 16), (('tests', 'NOUN'), 16), (('taken', 'VERB'), 16), (('ago', 'ADV'), 16), (('know', 'VERB'), 16), (('region', 'NOUN'), 16), (('coming', 'VERB'), 16), ((\"'ve\", 'VERB'), 16), (('loan', 'NOUN'), 16), (('Also', 'ADV'), 16), (('violations', 'NOUN'), 16), (('Calif.', 'NOUN'), 16), (('dollar', 'NOUN'), 16), (('Sea', 'NOUN'), 16), (('Containers', 'NOUN'), 16), (('car', 'NOUN'), 16), (('Ford', 'NOUN'), 16), (('#', '.'), 16), (('farmers', 'NOUN'), 16), (('UAL', 'NOUN'), 16), (('Moody', 'NOUN'), 16), (('Institute', 'NOUN'), 15), (('closely', 'ADV'), 15), (('nations', 'NOUN'), 15), (('in', 'PRT'), 15), (('D.', 'NOUN'), 15), (('acquisition', 'NOUN'), 15), (('completed', 'VERB'), 15), (('J.', 'NOUN'), 15), (('fall', 'NOUN'), 15), (('special', 'ADJ'), 15), (('4', 'NUM'), 15), (('World', 'NOUN'), 15), (('drop', 'NOUN'), 15), (('operating', 'NOUN'), 15), (('long', 'ADJ'), 15), (('fact', 'NOUN'), 15), (('Judge', 'NOUN'), 15), (('trucks', 'NOUN'), 15), (('Hills', 'NOUN'), 15), (('17', 'NUM'), 15), (('computers', 'NOUN'), 15), (('built', 'VERB'), 15), (('via', 'ADP'), 15), (('raised', 'VERB'), 15), (('changes', 'NOUN'), 15), (('above', 'ADP'), 15), (('traded', 'VERB'), 15), (('late', 'ADJ'), 15), (('Asia', 'NOUN'), 15), (('always', 'ADV'), 15), (('charges', 'NOUN'), 15), (('dealers', 'NOUN'), 15), (('women', 'NOUN'), 15), (('little', 'ADJ'), 15), (('plans', 'NOUN'), 15), (('Mitsubishi', 'NOUN'), 15), (('campaign', 'NOUN'), 15), (('policy', 'NOUN'), 15), (('budget', 'NOUN'), 15), (('School', 'NOUN'), 15), (('gain', 'NOUN'), 15), (('things', 'NOUN'), 15), (('third', 'ADJ'), 15), (('lost', 'VERB'), 15), (('back', 'ADV'), 15), (('statement', 'NOUN'), 15), (('St.', 'NOUN'), 15), (('wines', 'NOUN'), 15), (('offering', 'NOUN'), 15), (('NL', 'NOUN'), 15), (('change', 'NOUN'), 15), (('Phelan', 'NOUN'), 15), (('grain', 'NOUN'), 15), (('3\\\\/8', 'NUM'), 15), (('Although', 'ADP'), 14), (('probably', 'ADV'), 14), (('huge', 'ADJ'), 14), (('continued', 'VERB'), 14), (('again', 'ADV'), 14), (('down', 'PRT'), 14), (('short-term', 'ADJ'), 14), (('Financial', 'NOUN'), 14), (('marketing', 'NOUN'), 14), (('Under', 'ADP'), 14), (('Trade', 'NOUN'), 14), (('second', 'ADJ'), 14), (('yet', 'ADV'), 14), (('decline', 'NOUN'), 14), (('paying', 'VERB'), 14), (('holders', 'NOUN'), 14), (('Commonwealth', 'NOUN'), 14), (('State', 'NOUN'), 14), (('whose', 'PRON'), 14), (('Last', 'ADJ'), 14), (('include', 'VERB'), 14), (('believe', 'VERB'), 14), (('receive', 'VERB'), 14), (('half', 'DET'), 14), (('posted', 'VERB'), 14), (('software', 'NOUN'), 14), (('-LCB-', '.'), 14), (('-RCB-', '.'), 14), (('bad', 'ADJ'), 14), (('David', 'NOUN'), 14), (('significant', 'ADJ'), 14), (('wants', 'VERB'), 14), (('personal', 'ADJ'), 14), (('data', 'NOUN'), 14), (('capacity', 'NOUN'), 14), (('scheduled', 'VERB'), 14), (('Thomas', 'NOUN'), 14), (('despite', 'ADP'), 14), (('went', 'VERB'), 14), (('early', 'ADV'), 14), (('June', 'NOUN'), 14), (('regulators', 'NOUN'), 14), (('available', 'ADJ'), 14), (('long-term', 'ADJ'), 14), (('Johnson', 'NOUN'), 14), (('indicated', 'VERB'), 14), (('manufacturing', 'NOUN'), 14), (('provide', 'VERB'), 14), (('helped', 'VERB'), 14), (('earlier', 'ADV'), 14), (('thing', 'NOUN'), 14), (('Ms.', 'NOUN'), 14), (('life', 'NOUN'), 14), (('needed', 'VERB'), 14), (('goes', 'VERB'), 14), (('across', 'ADP'), 14), (('lawyers', 'NOUN'), 14), (('jobs', 'NOUN'), 14), (('told', 'VERB'), 14), (('others', 'NOUN'), 14), (('result', 'VERB'), 14), (('buy-out', 'NOUN'), 14), (('IRS', 'NOUN'), 14), (('need', 'VERB'), 14), (('Francisco', 'NOUN'), 14), (('December', 'NOUN'), 14), (('General', 'NOUN'), 14), (('U.K.', 'NOUN'), 14), (('apparently', 'ADV'), 14), (('Voice', 'NOUN'), 14), (('PLC', 'NOUN'), 13), (('once', 'ADV'), 13), (('caused', 'VERB'), 13), (('researchers', 'NOUN'), 13), (('Dr.', 'NOUN'), 13), (('Among', 'ADP'), 13), (('process', 'NOUN'), 13), (('continues', 'VERB'), 13), (('savings', 'NOUN'), 13), (('dropped', 'VERB'), 13), (('auto', 'NOUN'), 13), (('away', 'ADV'), 13), (('free', 'ADJ'), 13), (('showed', 'VERB'), 13), (('advertisers', 'NOUN'), 13), (('concerns', 'NOUN'), 13), (('matter', 'NOUN'), 13), (('increases', 'NOUN'), 13), (('25', 'NUM'), 13), (('consumer', 'NOUN'), 13), (('ordered', 'VERB'), 13), (('Richard', 'NOUN'), 13), (('April', 'NOUN'), 13), (('changed', 'VERB'), 13), (('domestic', 'ADJ'), 13), (('*ICH*-3', 'X'), 13), (('60', 'NUM'), 13), (('Computer', 'NOUN'), 13), (('although', 'ADP'), 13), (('face', 'VERB'), 13), (('Fujitsu', 'NOUN'), 13), (('All', 'DET'), 13), (('continuing', 'VERB'), 13), (('reports', 'NOUN'), 13), (('launched', 'VERB'), 13), (('convertible', 'ADJ'), 13), (('gives', 'VERB'), 13), (('70', 'NUM'), 13), (('reduce', 'VERB'), 13), (('finance', 'NOUN'), 13), (('90', 'NUM'), 13), ((\"'m\", 'VERB'), 13), (('levels', 'NOUN'), 13), (('quickly', 'ADV'), 13), (('goods', 'NOUN'), 13), (('generally', 'ADV'), 13), (('lead', 'VERB'), 13), (('committee', 'NOUN'), 13), (('evidence', 'NOUN'), 13), (('Sony', 'NOUN'), 13), (('something', 'NOUN'), 13), (('newspaper', 'NOUN'), 13), (('line', 'NOUN'), 13), (('planned', 'VERB'), 13), (('person', 'NOUN'), 13), (('situation', 'NOUN'), 13), (('abortion', 'NOUN'), 13), (('wanted', 'VERB'), 13), (('following', 'VERB'), 13), (('aid', 'NOUN'), 13), (('remains', 'VERB'), 13), (('Greenville', 'NOUN'), 13), (('teacher', 'NOUN'), 13), (('Carolina', 'NOUN'), 13), (('Scoring', 'NOUN'), 13), (('Ward', 'NOUN'), 13), (('7\\\\/8', 'NUM'), 13), (('5\\\\/8', 'NUM'), 13), (('losses', 'NOUN'), 13), (('drug', 'NOUN'), 13), (('profits', 'NOUN'), 13), (('Los', 'NOUN'), 13), (('within', 'ADP'), 13), (('departure', 'NOUN'), 13), (('Program', 'NOUN'), 13), (('net', 'NOUN'), 13), (('airline', 'NOUN'), 13), (('Herald', 'NOUN'), 13), (('Hearst', 'NOUN'), 13), (('antitrust', 'ADJ'), 13), (('rating', 'NOUN'), 13), (('pence', 'NOUN'), 13), (('Drexel', 'NOUN'), 13), (('Wedtech', 'NOUN'), 13), (('factory', 'NOUN'), 12), (('kind', 'NOUN'), 12), (('question', 'NOUN'), 12), (('Fund', 'NOUN'), 12), (('Monday', 'NOUN'), 12), (('authority', 'NOUN'), 12), (('position', 'NOUN'), 12), (('makers', 'NOUN'), 12), (('Valley', 'NOUN'), 12), (('followed', 'VERB'), 12), (('nine', 'NUM'), 12), (('figures', 'NOUN'), 12), (('imports', 'NOUN'), 12), (('remain', 'VERB'), 12), (('January', 'NOUN'), 12), (('meet', 'VERB'), 12), (('potential', 'ADJ'), 12), (('Jr.', 'NOUN'), 12), (('off', 'ADP'), 12), (('cost', 'NOUN'), 12), (('ruling', 'NOUN'), 12), (('Court', 'NOUN'), 12), (('units', 'NOUN'), 12), (('21', 'NUM'), 12), (('fully', 'ADV'), 12), (('May', 'NOUN'), 12), (('age', 'NOUN'), 12), (('16', 'NUM'), 12), (('believes', 'VERB'), 12), (('trade', 'VERB'), 12), (('includes', 'VERB'), 12), (('improve', 'VERB'), 12), (('themselves', 'PRON'), 12), (('best', 'ADJ'), 12), (('there', 'ADV'), 12), (('enough', 'ADV'), 12), (('shareholder', 'NOUN'), 12), (('conference', 'NOUN'), 12), (('buying', 'VERB'), 12), (('issued', 'VERB'), 12), (('14', 'NUM'), 12), (('steel', 'NOUN'), 12), (('Management', 'NOUN'), 12), (('traditional', 'ADJ'), 12), (('legal', 'ADJ'), 12), (('rise', 'VERB'), 12), (('defense', 'NOUN'), 12), (('leading', 'VERB'), 12), (('lot', 'NOUN'), 12), (('anything', 'NOUN'), 12), (('young', 'ADJ'), 12), (('great', 'ADJ'), 12), (('Committee', 'NOUN'), 12), (('Health', 'NOUN'), 12), (('man', 'NOUN'), 12), (('ca', 'VERB'), 12), (('really', 'ADV'), 12), (('highly', 'ADV'), 12), (('serious', 'ADJ'), 12), (('series', 'NOUN'), 12), (('support', 'NOUN'), 12), (('involved', 'VERB'), 12), (('known', 'VERB'), 12), (('plants', 'NOUN'), 12), (('ability', 'NOUN'), 12), (('term', 'NOUN'), 12), (('5,000', 'NUM'), 12), (('like', 'VERB'), 12), (('parent', 'NOUN'), 12), (('Random', 'NOUN'), 12), (('Constitution', 'NOUN'), 12), (('1\\\\/4', 'NUM'), 12), (('Sept.', 'NOUN'), 12), (('Justice', 'NOUN'), 12), (('rule', 'NOUN'), 12), (('Chairman', 'NOUN'), 12), (('buyers', 'NOUN'), 12), (('Angeles', 'NOUN'), 12), (('largely', 'ADV'), 12), (('light', 'ADJ'), 12), (('bottle', 'NOUN'), 12), (('clear', 'ADJ'), 12), (('Fed', 'NOUN'), 12), (('floor', 'NOUN'), 12), (('church', 'NOUN'), 12), (('USIA', 'NOUN'), 12), (('McGovern', 'NOUN'), 12), (('Waertsilae', 'NOUN'), 12), (('asbestos', 'NOUN'), 11), (('percentage', 'NOUN'), 11), (('later', 'ADJ'), 11), (('makes', 'VERB'), 11), (('having', 'VERB'), 11), (('nor', 'CONJ'), 11), (('type', 'NOUN'), 11), (('West', 'NOUN'), 11), (('*-5', 'X'), 11), (('T.', 'NOUN'), 11), (('rejected', 'VERB'), 11), (('By', 'ADP'), 11), (('further', 'ADJ'), 11), (('relatively', 'ADV'), 11), (('rising', 'VERB'), 11), (('editor', 'NOUN'), 11), (('Despite', 'ADP'), 11), (('fund', 'NOUN'), 11), (('revenue', 'NOUN'), 11), (('Corp', 'NOUN'), 11), (('idea', 'NOUN'), 11), (('course', 'NOUN'), 11), (('sharply', 'ADV'), 11), (('exports', 'NOUN'), 11), (('increase', 'VERB'), 11), (('long', 'ADV'), 11), (('However', 'ADV'), 11), (('risks', 'NOUN'), 11), (('less', 'ADV'), 11), (('turned', 'VERB'), 11), (('operating', 'VERB'), 11), (('comment', 'NOUN'), 11), (('enforcement', 'NOUN'), 11), (('efforts', 'NOUN'), 11), (('So', 'ADP'), 11), (('principal', 'NOUN'), 11), (('history', 'NOUN'), 11), (('greater', 'ADJ'), 11), (('fields', 'NOUN'), 11), (('effort', 'NOUN'), 11), (('role', 'NOUN'), 11), (('similar', 'ADJ'), 11), (('total', 'ADJ'), 11), (('publicly', 'ADV'), 11), (('crash', 'NOUN'), 11), (('soon', 'ADV'), 11), (('individual', 'ADJ'), 11), (('reason', 'NOUN'), 11), (('Its', 'PRON'), 11), (('So', 'ADV'), 11), (('recession', 'NOUN'), 11), (('export', 'NOUN'), 11), (('short', 'ADJ'), 11), (('read', 'VERB'), 11), (('Japanese', 'NOUN'), 11), (('strike', 'NOUN'), 11), (('feel', 'VERB'), 11), (('win', 'VERB'), 11), (('River', 'NOUN'), 11), (('Lane', 'NOUN'), 11), (('given', 'VERB'), 11), (('TV', 'NOUN'), 11), (('Dinkins', 'NOUN'), 11), (('Coleman', 'NOUN'), 11), (('Mary', 'NOUN'), 11), (('teachers', 'NOUN'), 11), (('scores', 'NOUN'), 11), (('states', 'NOUN'), 11), (('district', 'NOUN'), 11), (('prevent', 'VERB'), 11), (('Savings', 'NOUN'), 11), (('Louis', 'NOUN'), 11), (('one-time', 'ADJ'), 11), (('returns', 'NOUN'), 11), (('member', 'NOUN'), 11), (('offset', 'VERB'), 11), (('Georgia-Pacific', 'NOUN'), 11), (('speculation', 'NOUN'), 11), (('With', 'ADP'), 11), (('barred', 'VERB'), 11), (('minimum', 'ADJ'), 11), (('options', 'NOUN'), 11), (('third-quarter', 'NOUN'), 11), (('fourth', 'ADJ'), 11), (('30-year', 'ADJ'), 11), (('200', 'NUM'), 11), (('Simmons', 'NOUN'), 11), (('unchanged', 'ADJ'), 11), (('earned', 'VERB'), 11), (('Standard', 'NOUN'), 11), (('Bernstein', 'NOUN'), 11), (('consented', 'VERB'), 11), (('OSHA', 'NOUN'), 11), (('drugs', 'NOUN'), 11), (('Marine', 'NOUN'), 11), (('1\\\\/8', 'NUM'), 11), (('Spiegel', 'NOUN'), 11), (('55', 'NUM'), 10), (('Journal', 'NOUN'), 10), (('men', 'NOUN'), 10), (('support', 'VERB'), 10), (('ban', 'NOUN'), 10), (('material', 'NOUN'), 10), (('top', 'ADJ'), 10), (('Pacific', 'NOUN'), 10), (('approval', 'NOUN'), 10), (('ceiling', 'NOUN'), 10), (('After', 'ADP'), 10), (('No', 'DET'), 10), (('gave', 'VERB'), 10), (('Ministry', 'NOUN'), 10), (('1986', 'NUM'), 10), (('Newsweek', 'NOUN'), 10), (('advertising', 'NOUN'), 10), (('competition', 'NOUN'), 10), (('circulation', 'NOUN'), 10), (('totaled', 'VERB'), 10), (('Service', 'NOUN'), 10), (('acquire', 'VERB'), 10), (('chief', 'ADJ'), 10), (('field', 'NOUN'), 10), (('review', 'NOUN'), 10), (('electronics', 'NOUN'), 10), (('previously', 'ADV'), 10), (('groups', 'NOUN'), 10), (('required', 'VERB'), 10), (('begin', 'VERB'), 10), (('interview', 'NOUN'), 10), (('perhaps', 'ADV'), 10), (('require', 'VERB'), 10), (('equipment', 'NOUN'), 10), (('Business', 'NOUN'), 10), (('list', 'NOUN'), 10), (('result', 'NOUN'), 10), (('measure', 'NOUN'), 10), (('patent', 'NOUN'), 10), (('only', 'ADJ'), 10), (('face', 'NOUN'), 10), (('telephone', 'NOUN'), 10), (('offer', 'VERB'), 10), (('preferred', 'VERB'), 10), (('businesses', 'NOUN'), 10), (('produced', 'VERB'), 10), (('organization', 'NOUN'), 10), (('bought', 'VERB'), 10), (('institutional', 'ADJ'), 10), (('offering', 'VERB'), 10), (('announcement', 'NOUN'), 10), (('single', 'ADJ'), 10), (('Charles', 'NOUN'), 10), (('head', 'NOUN'), 10), (('easy', 'ADJ'), 10), (('Europe', 'NOUN'), 10), (('Soviet', 'ADJ'), 10), (('Soviets', 'NOUN'), 10), (('reading', 'NOUN'), 10), (('asked', 'VERB'), 10), (('`', '.'), 10), ((\"'\", '.'), 10), (('better', 'ADJ'), 10), (('difference', 'NOUN'), 10), (('usually', 'ADV'), 10), (('carry', 'VERB'), 10), (('practice', 'NOUN'), 10), (('average', 'NOUN'), 10), (('size', 'NOUN'), 10), (('study', 'NOUN'), 10), (('consumers', 'NOUN'), 10), (('build', 'VERB'), 10), (('necessary', 'ADJ'), 10), (('Poland', 'NOUN'), 10), (('loans', 'NOUN'), 10), (('national', 'ADJ'), 10), (('Martin', 'NOUN'), 10), (('student', 'NOUN'), 10), (('takes', 'VERB'), 10), (('view', 'NOUN'), 10), (('seem', 'VERB'), 10), (('expensive', 'ADJ'), 10), (('Peter', 'NOUN'), 10), (('introduced', 'VERB'), 10), (('stations', 'NOUN'), 10), (('Courter', 'NOUN'), 10), (('Market', 'NOUN'), 10), (('taking', 'VERB'), 10), (('answers', 'NOUN'), 10), (('won', 'VERB'), 10), (('testing', 'NOUN'), 10), (('Learning', 'NOUN'), 10), (('Materials', 'NOUN'), 10), (('areas', 'NOUN'), 10), (('unfair', 'ADJ'), 10), (('no', 'ADV'), 10), (('widely', 'ADV'), 10), (('Iowa', 'NOUN'), 10), (('aimed', 'VERB'), 10), (('C.', 'NOUN'), 10), (('slightly', 'ADV'), 10), (('Heritage', 'NOUN'), 10), (('year-earlier', 'ADJ'), 10), (('bids', 'NOUN'), 10), (('leaders', 'NOUN'), 10), (('hurt', 'VERB'), 10), (('Capital', 'NOUN'), 10), (('ratings', 'NOUN'), 10), (('adds', 'VERB'), 10), (('130', 'NUM'), 10), (('congressional', 'ADJ'), 10), (('cited', 'VERB'), 10), (('acquisitions', 'NOUN'), 10), (('minority', 'NOUN'), 10), (('stock-index', 'NOUN'), 10), (('Bell', 'NOUN'), 10), (('Williams', 'NOUN'), 10), (('sought', 'VERB'), 10), (('tons', 'NOUN'), 10), (('Section', 'NOUN'), 10), (('retirement', 'NOUN'), 10), (('Article', 'NOUN'), 10), (('unconstitutional', 'ADJ'), 10), (('line-item', 'ADJ'), 10), (('crop', 'NOUN'), 10), (('promotion', 'NOUN'), 10), (('Guard', 'NOUN'), 10), (('Upjohn', 'NOUN'), 10), (('Carnival', 'NOUN'), 10), (('bring', 'VERB'), 9), (('schools', 'NOUN'), 9), (('total', 'NOUN'), 9), (('remaining', 'VERB'), 9), (('area', 'NOUN'), 9), (('portfolio', 'NOUN'), 9), (('considered', 'VERB'), 9), (('sign', 'NOUN'), 9), (('seven', 'NUM'), 9), (('Ohio', 'NOUN'), 9), (('suspended', 'VERB'), 9), (('prove', 'VERB'), 9), (('space', 'NOUN'), 9), (('treatment', 'NOUN'), 9), (('looking', 'VERB'), 9), (('base', 'NOUN'), 9), (('per', 'ADP'), 9), (('doing', 'VERB'), 9), (('Both', 'DET'), 9), (('reorganization', 'NOUN'), 9), (('bankruptcy', 'NOUN'), 9), (('Now', 'ADV'), 9), (('one', 'NOUN'), 9), (('M.', 'NOUN'), 9), (('ever', 'ADV'), 9), (('45', 'NUM'), 9), (('Supreme', 'NOUN'), 9), (('involving', 'VERB'), 9), (('Dealers', 'NOUN'), 9), (('opened', 'VERB'), 9), (('working', 'VERB'), 9), (('first', 'ADV'), 9), (('filing', 'NOUN'), 9), (('close', 'VERB'), 9), (('Analysts', 'NOUN'), 9), (('own', 'VERB'), 9), (('report', 'VERB'), 9), (('Brazil', 'NOUN'), 9), (('standards', 'NOUN'), 9), (('little', 'ADV'), 9), (('television', 'NOUN'), 9), (('joint', 'ADJ'), 9), (('reserves', 'NOUN'), 9), (('left', 'VERB'), 9), (('purchases', 'NOUN'), 9), (('France', 'NOUN'), 9), (('key', 'ADJ'), 9), (('Such', 'ADJ'), 9), (('boosted', 'VERB'), 9), (('giving', 'VERB'), 9), (('November', 'NOUN'), 9), (('gold', 'NOUN'), 9), (('Finance', 'NOUN'), 9), (('24', 'NUM'), 9), (('fixed', 'VERB'), 9), (('listed', 'VERB'), 9), (('runs', 'VERB'), 9), (('premium', 'NOUN'), 9), (('better', 'ADV'), 9), (('Soviet', 'NOUN'), 9), (('unless', 'ADP'), 9), (('Act', 'NOUN'), 9), (('Americans', 'NOUN'), 9), (('Meanwhile', 'ADV'), 9), (('purchasing', 'VERB'), 9), (('separate', 'ADJ'), 9), (('building', 'NOUN'), 9), (('half', 'NOUN'), 9), (('association', 'NOUN'), 9), (('consider', 'VERB'), 9), (('Each', 'DET'), 9), (('sides', 'NOUN'), 9), (('especially', 'ADV'), 9), (('relations', 'NOUN'), 9), (('publishing', 'NOUN'), 9), (('stores', 'NOUN'), 9), (('hours', 'NOUN'), 9), (('rise', 'NOUN'), 9), (('prepared', 'VERB'), 9), (('woman', 'NOUN'), 9), (('ahead', 'ADV'), 9), (('hit', 'VERB'), 9), (('negative', 'ADJ'), 9), (('getting', 'VERB'), 9), (('candidates', 'NOUN'), 9), (('side', 'NOUN'), 9), (('battle', 'NOUN'), 9), (('himself', 'PRON'), 9), (('Asian', 'ADJ'), 9), (('cheating', 'NOUN'), 9), (('me', 'PRON'), 9), (('partly', 'ADV'), 9), (('alleged', 'VERB'), 9), (('ones', 'NOUN'), 9), (('nothing', 'NOUN'), 9), (('look', 'VERB'), 9), (('staff', 'NOUN'), 9), (('allowed', 'VERB'), 9), (('Britain', 'NOUN'), 9), (('transplants', 'NOUN'), 9), (('daily', 'ADJ'), 9), (('roughly', 'ADV'), 9), (('approve', 'VERB'), 9), (('Ratners', 'NOUN'), 9), (('POP', 'NOUN'), 9), (('customer', 'NOUN'), 9), (('payment', 'NOUN'), 9), (('letters', 'NOUN'), 9), (('next', 'ADP'), 9), (('activities', 'NOUN'), 9), (('benefits', 'NOUN'), 9), (('Thursday', 'NOUN'), 9), (('close', 'NOUN'), 9), (('Nekoosa', 'NOUN'), 9), (('Cosby', 'NOUN'), 9), (('wrote', 'VERB'), 9), (('Temple', 'NOUN'), 9), (('Transportation', 'NOUN'), 9), (('requirements', 'NOUN'), 9), (('Reagan', 'NOUN'), 9), (('reduced', 'VERB'), 9), (('300', 'NUM'), 9), (('advantage', 'NOUN'), 9), (('benchmark', 'NOUN'), 9), (('Mitsui', 'NOUN'), 9), (('public', 'NOUN'), 9), (('Fla.', 'NOUN'), 9), (('ways', 'NOUN'), 9), (('Poor', 'NOUN'), 9), (('stock-index', 'ADJ'), 9), (('program-trading', 'ADJ'), 9), (('fall', 'VERB'), 9), (('carrier', 'NOUN'), 9), (('homelessness', 'NOUN'), 9), (('Baum', 'NOUN'), 9), (('pretax', 'NOUN'), 9), (('Index', 'NOUN'), 9), (('2009', 'NUM'), 9), (('DES', 'NOUN'), 9), (('guilders', 'NOUN'), 9), (('advanced', 'VERB'), 9), (('Reliance', 'NOUN'), 9), (('Reuters', 'NOUN'), 9), (('Kent', 'NOUN'), 8), (('findings', 'NOUN'), 8), (('attention', 'NOUN'), 8), (('spokeswoman', 'NOUN'), 8), (('Mass.', 'NOUN'), 8), (('appears', 'VERB'), 8), (('highest', 'ADJ'), 8), (('class', 'NOUN'), 8), (('professor', 'NOUN'), 8), (('July', 'NOUN'), 8), (('mixed', 'VERB'), 8), (('described', 'VERB'), 8), (('mutual', 'ADJ'), 8), (('signs', 'NOUN'), 8), (('expect', 'VERB'), 8), (('Report', 'NOUN'), 8), (('30-day', 'ADJ'), 8), (('regulatory', 'ADJ'), 8), (('engineering', 'NOUN'), 8), (('manufacturing', 'VERB'), 8), (('sluggish', 'ADJ'), 8), (('target', 'NOUN'), 8), (('19', 'NUM'), 8), (('Time', 'NOUN'), 8), (('spent', 'VERB'), 8), (('attempt', 'NOUN'), 8), (('pages', 'NOUN'), 8), (('According', 'VERB'), 8), (('flat', 'ADJ'), 8), (('Hampshire', 'NOUN'), 8), (('future', 'NOUN'), 8), (('Northeast', 'NOUN'), 8), (('request', 'NOUN'), 8), (('hopes', 'VERB'), 8), (('summer', 'NOUN'), 8), (('chain', 'NOUN'), 8), (('Curry', 'NOUN'), 8), (('underlying', 'VERB'), 8), (('commission', 'NOUN'), 8), (('actual', 'ADJ'), 8), (('near', 'ADP'), 8), (('expenses', 'NOUN'), 8), (('subject', 'ADJ'), 8), (('introduction', 'NOUN'), 8), (('produce', 'VERB'), 8), (('spinoff', 'NOUN'), 8), (('initial', 'ADJ'), 8), (('financing', 'NOUN'), 8), (('Cray-3', 'NOUN'), 8), (('technology', 'NOUN'), 8), (('why', 'ADV'), 8), (('hand', 'NOUN'), 8), (('work', 'VERB'), 8), (('Taiwan', 'NOUN'), 8), (('spring', 'NOUN'), 8), (('placed', 'VERB'), 8), (('movie', 'NOUN'), 8), (('lawyer', 'NOUN'), 8), (('provision', 'NOUN'), 8), (('reduction', 'NOUN'), 8), (('allow', 'VERB'), 8), (('23', 'NUM'), 8), (('sells', 'VERB'), 8), (('operate', 'VERB'), 8), (('main', 'ADJ'), 8), (('Magna', 'NOUN'), 8), (('McAlpine', 'NOUN'), 8), (('jointly', 'ADV'), 8), (('900', 'NUM'), 8), (('extend', 'VERB'), 8), (('energy', 'NOUN'), 8), (('temporarily', 'ADV'), 8), (('surged', 'VERB'), 8), (('E.', 'NOUN'), 8), (('1992', 'NUM'), 8), (('jumped', 'VERB'), 8), (('essentially', 'ADV'), 8), (('*EXP*-2', 'X'), 8), (('eventually', 'ADV'), 8), (('boost', 'VERB'), 8), (('slowing', 'VERB'), 8), (('provided', 'VERB'), 8), (('seems', 'VERB'), 8), (('game', 'NOUN'), 8), (('rules', 'NOUN'), 8), (('sometimes', 'ADV'), 8), (('mark', 'NOUN'), 8), (('ending', 'VERB'), 8), (('par', 'NOUN'), 8), (('Artist', 'NOUN'), 8), (('selling', 'VERB'), 8), (('night', 'NOUN'), 8), (('final', 'ADJ'), 8), (('client', 'NOUN'), 8), (('Old', 'NOUN'), 8), (('press', 'NOUN'), 8), (('ads', 'NOUN'), 8), (('voice', 'NOUN'), 8), (('opposed', 'VERB'), 8), (('Wilder', 'NOUN'), 8), (('created', 'VERB'), 8), (('victims', 'NOUN'), 8), (('Even', 'ADV'), 8), (('commitments', 'NOUN'), 8), (('Investment', 'NOUN'), 8), (('military', 'ADJ'), 8), (('past', 'NOUN'), 8), (('move', 'VERB'), 8), (('Moreover', 'ADV'), 8), (('seen', 'VERB'), 8), (('Germany', 'NOUN'), 8), (('forms', 'NOUN'), 8), (('laws', 'NOUN'), 8), (('1984', 'NUM'), 8), (('pay', 'NOUN'), 8), (('critics', 'NOUN'), 8), (('fetal-tissue', 'ADJ'), 8), (('swap', 'NOUN'), 8), (('Rally', 'NOUN'), 8), (('Miami', 'NOUN'), 8), (('accounts', 'NOUN'), 8), (('individuals', 'NOUN'), 8), (('comment', 'VERB'), 8), (('restrictions', 'NOUN'), 8), (('Terms', 'NOUN'), 8), (('headquarters', 'NOUN'), 8), (('access', 'NOUN'), 8), (('marks', 'NOUN'), 8), (('valued', 'VERB'), 8), (('network', 'NOUN'), 8), (('losing', 'VERB'), 8), (('willing', 'ADJ'), 8), (('opportunity', 'NOUN'), 8), (('75', 'NUM'), 8), (('Philadelphia', 'NOUN'), 8), (('upon', 'ADP'), 8), (('experience', 'NOUN'), 8), (('segments', 'NOUN'), 8), (('instead', 'ADV'), 8), (('Orleans', 'NOUN'), 8), (('mature', 'VERB'), 8), (('smaller', 'ADJ'), 8), (('provides', 'VERB'), 8), (('duties', 'NOUN'), 8), (('training', 'NOUN'), 8), (('Still', 'ADV'), 8), (('session', 'NOUN'), 8), (('Dingell', 'NOUN'), 8), (('let', 'VERB'), 8), (('sources', 'NOUN'), 8), (('Futures', 'NOUN'), 8), (('successor', 'NOUN'), 8), (('Telerate', 'NOUN'), 8), (('Newhouse', 'NOUN'), 8), (('strategy', 'NOUN'), 8), (('current-carrying', 'ADJ'), 8), (('superconductors', 'NOUN'), 8), (('rumors', 'NOUN'), 8), (('fourth-quarter', 'NOUN'), 8), (('utilities', 'NOUN'), 8), (('Steinberg', 'NOUN'), 8), (('British', 'ADJ'), 7), (('filters', 'NOUN'), 7), (('cancer', 'NOUN'), 7), (('stopped', 'VERB'), 7), (('risk', 'NOUN'), 7), (('medical', 'ADJ'), 7), (('33', 'NUM'), 7), (('worked', 'VERB'), 7), (('diseases', 'NOUN'), 7), (('parts', 'NOUN'), 7), (('35', 'NUM'), 7), (('400', 'NUM'), 7), (('yields', 'NOUN'), 7), (('thought', 'VERB'), 7), (('open', 'ADJ'), 7), (('watch', 'VERB'), 7), (('1.5', 'NUM'), 7), (('heavily', 'ADV'), 7), (('seats', 'NOUN'), 7), (('interests', 'NOUN'), 7), (('Motor', 'NOUN'), 7), (('Not', 'ADV'), 7), (('Then', 'ADV'), 7), (('name', 'NOUN'), 7), (('fifth', 'ADJ'), 7), (('monthly', 'ADJ'), 7), (('introduce', 'VERB'), 7), (('B.', 'NOUN'), 7), (('watches', 'NOUN'), 7), (('Electric', 'NOUN'), 7), (('PS', 'NOUN'), 7), (('Conn.', 'NOUN'), 7), (('related', 'VERB'), 7), (('improved', 'VERB'), 7), (('true', 'ADJ'), 7), (('raising', 'VERB'), 7), (('seemed', 'VERB'), 7), (('factors', 'NOUN'), 7), (('directors', 'NOUN'), 7), (('250', 'NUM'), 7), (('force', 'VERB'), 7), (('Ill.', 'NOUN'), 7), (('courts', 'NOUN'), 7), (('devices', 'NOUN'), 7), (('machine', 'NOUN'), 7), (('prospects', 'NOUN'), 7), (('beginning', 'VERB'), 7), (('note', 'NOUN'), 7), (('direct', 'ADJ'), 7), (('NEC', 'NOUN'), 7), (('leave', 'VERB'), 7), (('book', 'NOUN'), 7), (('so-called', 'ADJ'), 7), (('scientists', 'NOUN'), 7), (('Canada', 'NOUN'), 7), (('believed', 'VERB'), 7), (('stand', 'VERB'), 7), (('developed', 'VERB'), 7), (('barrels', 'NOUN'), 7), (('subsidiary', 'NOUN'), 7), (('itself', 'PRON'), 7), (('Hong', 'NOUN'), 7), (('Kong', 'NOUN'), 7), (('Goldman', 'NOUN'), 7), (('Sachs', 'NOUN'), 7), (('decline', 'VERB'), 7), (('L.', 'NOUN'), 7), (('judge', 'NOUN'), 7), (('aerospace', 'NOUN'), 7), (('expire', 'VERB'), 7), (('currency', 'NOUN'), 7), (('managing', 'VERB'), 7), (('partner', 'NOUN'), 7), (('Associates', 'NOUN'), 7), (('popular', 'ADJ'), 7), (('hold', 'VERB'), 7), (('hard', 'ADJ'), 7), (('instance', 'NOUN'), 7), (('right', 'ADV'), 7), (('specialists', 'NOUN'), 7), (('invested', 'VERB'), 7), (('suggests', 'VERB'), 7), (('represent', 'VERB'), 7), (('Moscow', 'NOUN'), 7), (('branch', 'NOUN'), 7), (('settle', 'VERB'), 7), (('neither', 'DET'), 7), (('Reserve', 'NOUN'), 7), (('strength', 'NOUN'), 7), (('change', 'VERB'), 7), (('pressures', 'NOUN'), 7), (('particular', 'ADJ'), 7), (('trend', 'NOUN'), 7), (('contributed', 'VERB'), 7), (('stadium', 'NOUN'), 7), (('partners', 'NOUN'), 7), (('employee', 'NOUN'), 7), (('except', 'ADP'), 7), (('indicates', 'VERB'), 7), (('asking', 'VERB'), 7), (('Beijing', 'NOUN'), 7), (('debentures', 'NOUN'), 7), (('1,000', 'NUM'), 7), (('elaborate', 'VERB'), 7), (('film', 'NOUN'), 7), (('streets', 'NOUN'), 7), (('purpose', 'NOUN'), 7), (('sense', 'NOUN'), 7), (('children', 'NOUN'), 7), (('larger', 'ADJ'), 7), (('discussions', 'NOUN'), 7), (('elections', 'NOUN'), 7), (('simply', 'ADV'), 7), (('shows', 'VERB'), 7), (('refused', 'VERB'), 7), (('Bob', 'NOUN'), 7), (('environment', 'NOUN'), 7), (('quoted', 'VERB'), 7), (('Southeast', 'NOUN'), 7), (('assistance', 'NOUN'), 7), (('overseas', 'ADJ'), 7), (('decade', 'NOUN'), 7), (('comes', 'VERB'), 7), (('specialist', 'NOUN'), 7), (('regional', 'ADJ'), 7), (('difficult', 'ADJ'), 7), (('ease', 'VERB'), 7), (('security', 'NOUN'), 7), (('Pennsylvania', 'NOUN'), 7), (('Test', 'NOUN'), 7), (('passed', 'VERB'), 7), (('unusual', 'ADJ'), 7), (('reform', 'NOUN'), 7), (('wrongdoing', 'NOUN'), 7), (('standardized', 'ADJ'), 7), (('classroom', 'NOUN'), 7), (('Says', 'VERB'), 7), (('over', 'PRT'), 7), (('overall', 'ADJ'), 7), (('hearing', 'NOUN'), 7), (('pretty', 'ADV'), 7), (('avoid', 'VERB'), 7), (('show', 'NOUN'), 7), (('mostly', 'ADV'), 7), (('close', 'ADJ'), 7), (('Mason', 'NOUN'), 7), (('letter', 'NOUN'), 7), (('threatened', 'VERB'), 7), (('majority', 'NOUN'), 7), (('cause', 'VERB'), 7), (('cause', 'NOUN'), 7), (('mental', 'ADJ'), 7), (('biggest', 'ADJ'), 7), (('Connecticut', 'NOUN'), 7), (('Massachusetts', 'NOUN'), 7), (('substantially', 'ADV'), 7), (('51', 'NUM'), 7), (('criminal', 'ADJ'), 7), (('end', 'VERB'), 7), (('judges', 'NOUN'), 7), (('Trudeau', 'NOUN'), 7), (('East', 'NOUN'), 7), (('guild', 'NOUN'), 7), (('violate', 'VERB'), 7), (('Dallas', 'NOUN'), 7), (('N.J.', 'NOUN'), 7), (('operates', 'VERB'), 7), (('G.', 'NOUN'), 7), (('kept', 'VERB'), 7), (('Viacom', 'NOUN'), 7), (('Midwest', 'NOUN'), 7), ((\"'ll\", 'VERB'), 7), (('officially', 'ADV'), 7), (('N.Y.', 'NOUN'), 7), (('Soup', 'NOUN'), 7), (('experts', 'NOUN'), 7), (('account', 'NOUN'), 7), (('reaction', 'NOUN'), 7), (('65', 'NUM'), 7), (('employment', 'NOUN'), 7), (('metals', 'NOUN'), 7), (('La', 'NOUN'), 7), (('80', 'NUM'), 7), (('soared', 'VERB'), 7), (('62', 'NUM'), 7), (('eliminated', 'VERB'), 7), (('Morgan', 'NOUN'), 7), (('Stanley', 'NOUN'), 7), (('becomes', 'VERB'), 7), (('university', 'NOUN'), 7), (('differences', 'NOUN'), 7), (('ships', 'NOUN'), 7), (('houses', 'NOUN'), 7), (('packages', 'NOUN'), 7), (('create', 'VERB'), 7), (('active', 'ADJ'), 7), (('margins', 'NOUN'), 7), (('profitable', 'ADJ'), 7), (('Foster', 'NOUN'), 7), (('Your', 'PRON'), 7), (('confidence', 'NOUN'), 7), (('circuit', 'NOUN'), 7), (('Merc', 'NOUN'), 7), (('Edward', 'NOUN'), 7), (('enough', 'ADJ'), 7), (('Great', 'NOUN'), 7), (('stock-market', 'NOUN'), 7), (('sharp', 'ADJ'), 7), (('Western', 'NOUN'), 7), (('Chinese', 'ADJ'), 7), (('NASD', 'NOUN'), 7), (('compromise', 'NOUN'), 7), (('hour', 'NOUN'), 7), (('pound', 'NOUN'), 7), (('coupon', 'NOUN'), 7), (('leveraged', 'ADJ'), 7), (('print', 'VERB'), 7), (('shall', 'VERB'), 7), (('clause', 'NOUN'), 7), (('drought', 'NOUN'), 7), (('farm', 'NOUN'), 7), (('basket', 'NOUN'), 7), (('widget', 'NOUN'), 7), (('emissions', 'NOUN'), 7), (('Meridian', 'NOUN'), 7), (('deaths', 'NOUN'), 6), (('show', 'VERB'), 6), (('New', 'ADJ'), 6), (('cigarettes', 'NOUN'), 6), (('story', 'NOUN'), 6), (('anyone', 'NOUN'), 6), (('replaced', 'VERB'), 6), (('Western', 'ADJ'), 6), (('owned', 'VERB'), 6), (('argue', 'VERB'), 6), (('College', 'NOUN'), 6), (('easily', 'ADV'), 6), (('virtually', 'ADV'), 6), (('About', 'ADP'), 6), (('Money', 'NOUN'), 6), (('six-month', 'ADJ'), 6), (('beat', 'VERB'), 6), (('elected', 'VERB'), 6), (('Energy', 'NOUN'), 6), (('complete', 'VERB'), 6), (('systems', 'NOUN'), 6), (('issue', 'VERB'), 6), (('act', 'VERB'), 6), (('Chrysler', 'NOUN'), 6), (('along', 'ADP'), 6), (('meetings', 'NOUN'), 6), (('return', 'VERB'), 6), (('registered', 'VERB'), 6), (('deficit', 'NOUN'), 6), (('pace', 'NOUN'), 6), (('News', 'NOUN'), 6), (('electronic', 'ADJ'), 6), (('bidding', 'NOUN'), 6), (('internal', 'ADJ'), 6), (('independent', 'ADJ'), 6), (('suffer', 'VERB'), 6), (('substantial', 'ADJ'), 6), (('worried', 'VERB'), 6), (('succeed', 'VERB'), 6), (('illegal', 'ADJ'), 6), (('refund', 'NOUN'), 6), (('block', 'VERB'), 6), (('exact', 'ADJ'), 6), (('administrative', 'ADJ'), 6), (('12.5', 'NUM'), 6), (('49', 'NUM'), 6), (('vehicles', 'NOUN'), 6), (('directly', 'ADV'), 6), (('120', 'NUM'), 6), (('details', 'NOUN'), 6), (('presence', 'NOUN'), 6), (('concept', 'NOUN'), 6), (('SEC', 'NOUN'), 6), (('contain', 'VERB'), 6), (('Ltd', 'NOUN'), 6), (('fewer', 'ADJ'), 6), (('range', 'NOUN'), 6), (('occur', 'VERB'), 6), (('Nasdaq', 'NOUN'), 6), (('primarily', 'ADV'), 6), (('clearly', 'ADV'), 6), (('Without', 'ADP'), 6), (('Donald', 'NOUN'), 6), (('59', 'NUM'), 6), (('Mexico', 'NOUN'), 6), (('protection', 'NOUN'), 6), (('progress', 'NOUN'), 6), (('pursue', 'VERB'), 6), (('effective', 'ADJ'), 6), (('producers', 'NOUN'), 6), (('Those', 'DET'), 6), (('combined', 'VERB'), 6), (('slow', 'ADJ'), 6), (('Malaysia', 'NOUN'), 6), (('pharmaceutical', 'ADJ'), 6), (('act', 'NOUN'), 6), (('requires', 'VERB'), 6), (('met', 'VERB'), 6), (('Secretary', 'NOUN'), 6), (('1977', 'NUM'), 6), (('advance', 'NOUN'), 6), (('Stephen', 'NOUN'), 6), (('PCs', 'NOUN'), 6), (('types', 'NOUN'), 6), (('IBM', 'NOUN'), 6), (('Atlanta', 'NOUN'), 6), (('Today', 'NOUN'), 6), (('together', 'ADV'), 6), (('brought', 'VERB'), 6), (('started', 'VERB'), 6), (('Southern', 'NOUN'), 6), (('Lehman', 'NOUN'), 6), (('Hutton', 'NOUN'), 6), (('response', 'NOUN'), 6), (('covered', 'VERB'), 6), (('Philippines', 'NOUN'), 6), (('eligible', 'ADJ'), 6), (('turn', 'VERB'), 6), (('expansion', 'NOUN'), 6), (('steady', 'ADJ'), 6), (('running', 'VERB'), 6), (('Mae', 'NOUN'), 6), (('rest', 'NOUN'), 6), (('fixed-rate', 'ADJ'), 6), (('eliminate', 'VERB'), 6), (('file', 'VERB'), 6), (('creditors', 'NOUN'), 6), (('debts', 'NOUN'), 6), (('Acquisition', 'NOUN'), 6), (('People', 'NOUN'), 6), (('before', 'ADV'), 6), (('Smith', 'NOUN'), 6), (('brokers', 'NOUN'), 6), (('gyrations', 'NOUN'), 6), (('Another', 'DET'), 6), (('broader', 'ADJ'), 6), (('plunged', 'VERB'), 6), (('European', 'ADJ'), 6), (('global', 'ADJ'), 6), (('on', 'PRT'), 6), (('millions', 'NOUN'), 6), (('fallen', 'VERB'), 6), (('ran', 'VERB'), 6), (('significantly', 'ADV'), 6), (('inflation', 'NOUN'), 6), (('economist', 'NOUN'), 6), (('Cleveland', 'NOUN'), 6), (('lack', 'NOUN'), 6), (('inventories', 'NOUN'), 6), (('McGraw-Hill', 'NOUN'), 6), (('improvement', 'NOUN'), 6), (('supply', 'NOUN'), 6), (('article', 'NOUN'), 6), (('manufacturers', 'NOUN'), 6), (('Chase', 'NOUN'), 6), (('affairs', 'NOUN'), 6), (('language', 'NOUN'), 6), (('ties', 'NOUN'), 6), (('whom', 'PRON'), 6), (('parties', 'NOUN'), 6), (('fired', 'VERB'), 6), (('social', 'ADJ'), 6), (('editorial', 'NOUN'), 6), (('becoming', 'VERB'), 6), (('elevators', 'NOUN'), 6), (('center', 'NOUN'), 6), (('membership', 'NOUN'), 6), (('1979', 'NUM'), 6), (('150', 'NUM'), 6), (('environmental', 'ADJ'), 6), (('100,000', 'NUM'), 6), (('estate', 'NOUN'), 6), (('date', 'NOUN'), 6), (('contained', 'VERB'), 6), (('homeless', 'ADJ'), 6), (('further', 'ADV'), 6), (('managed', 'VERB'), 6), (('Most', 'ADJ'), 6), (('possibly', 'ADV'), 6), (('commercial', 'NOUN'), 6), (('Take', 'VERB'), 6), (('Why', 'ADV'), 6), (('politicians', 'NOUN'), 6), (('Marshall', 'NOUN'), 6), (('attorney', 'NOUN'), 6), (('suggested', 'VERB'), 6), (('accused', 'VERB'), 6), (('positive', 'ADJ'), 6), (('heating', 'NOUN'), 6), (('appeared', 'VERB'), 6), (('lead', 'NOUN'), 6), (('Because', 'ADP'), 6), (('approach', 'NOUN'), 6), (('uncertainty', 'NOUN'), 6), (('slow', 'VERB'), 6), (('section', 'NOUN'), 6), (('colleagues', 'NOUN'), 6), (('provisions', 'NOUN'), 6), (('bonus', 'NOUN'), 6), (('education', 'NOUN'), 6), (('wrong', 'ADJ'), 6), (('numerous', 'ADJ'), 6), (('Since', 'ADP'), 6), (('reforms', 'NOUN'), 6), (('death', 'NOUN'), 6), (('blacks', 'NOUN'), 6), (('helping', 'VERB'), 6), (('source', 'NOUN'), 6), (('Indeed', 'ADV'), 6), (('interested', 'ADJ'), 6), (('hands', 'NOUN'), 6), (('discovered', 'VERB'), 6), (('someone', 'NOUN'), 6), (('radio', 'NOUN'), 6), (('add', 'VERB'), 6), (('CAT', 'NOUN'), 6), (('referred', 'VERB'), 6), (('items', 'NOUN'), 6), (('Loan', 'NOUN'), 6), (('central', 'ADJ'), 6), (('oppose', 'VERB'), 6), (('stop', 'VERB'), 6), (('privately', 'ADV'), 6), (('panel', 'NOUN'), 6), (('Several', 'ADJ'), 6), (('applications', 'NOUN'), 6), (('interstate', 'ADJ'), 6), (('Yesterday', 'NOUN'), 6), (('water', 'NOUN'), 6), (('trader', 'NOUN'), 6), (('merger', 'NOUN'), 6), (('Radio', 'NOUN'), 6), (('attorneys', 'NOUN'), 6), (('claim', 'VERB'), 6), (('sent', 'VERB'), 6), (('formed', 'VERB'), 6), (('ABA', 'NOUN'), 6), (('moderate', 'ADJ'), 6), (('litigation', 'NOUN'), 6), (('suit', 'NOUN'), 6), (('damages', 'NOUN'), 6), (('opinion', 'NOUN'), 6), (('Murray', 'NOUN'), 6), (('alone', 'ADV'), 6), (('factor', 'NOUN'), 6), (('Other', 'ADJ'), 6), (('Profit', 'NOUN'), 6), (('media', 'NOUN'), 6), (('Price', 'NOUN'), 6), (('Communications', 'NOUN'), 6), (('surprise', 'NOUN'), 6), (('Santa', 'NOUN'), 6), (('resulting', 'VERB'), 6), (('Insurance', 'NOUN'), 6), (('Garbage', 'NOUN'), 6), (('packaging', 'NOUN'), 6), (('turning', 'VERB'), 6), (('Baltimore', 'NOUN'), 6), (('1.1', 'NUM'), 6), (('asset', 'NOUN'), 6), (('back', 'PRT'), 6), (('belts', 'NOUN'), 6), (('model', 'NOUN'), 6), (('Sen.', 'NOUN'), 6), (('resistance', 'NOUN'), 6), (('interesting', 'ADJ'), 6), (('cent', 'NOUN'), 6), (('Cabernet', 'NOUN'), 6), (('limited', 'VERB'), 6), (('!', '.'), 6), (('retail', 'ADJ'), 6), (('shipped', 'VERB'), 6), (('thin', 'ADJ'), 6), (('rapidly', 'ADV'), 6), (('forced', 'VERB'), 6), (('door', 'NOUN'), 6), (('easier', 'ADJ'), 6), (('chance', 'NOUN'), 6), (('merchant', 'NOUN'), 6), (('vote', 'NOUN'), 6), (('2019', 'NUM'), 6), (('two-year', 'ADJ'), 6), (('Investors', 'NOUN'), 6), (('Industrial', 'NOUN'), 6), (('Average', 'NOUN'), 6), (('chemicals', 'NOUN'), 6), (('alternatives', 'NOUN'), 6), (('various', 'ADJ'), 6), (('Candela', 'NOUN'), 6), (('corporations', 'NOUN'), 6), (('deals', 'NOUN'), 6), (('glass', 'NOUN'), 6), (('segment', 'NOUN'), 6), (('Partners', 'NOUN'), 6), (('appeal', 'NOUN'), 6), (('send', 'VERB'), 6), (('Mercantile', 'NOUN'), 6), (('breaker', 'NOUN'), 6), (('Markey', 'NOUN'), 6), (('tower', 'NOUN'), 6), (('ton', 'NOUN'), 6), (('Care', 'NOUN'), 6), (('attract', 'VERB'), 6), (('estimates', 'NOUN'), 6), (('PaineWebber', 'NOUN'), 6), (('settlement', 'NOUN'), 6), (('admitting', 'VERB'), 6), (('denying', 'VERB'), 6), (('Pa.', 'NOUN'), 6), (('disgorge', 'VERB'), 6), (('one-year', 'ADJ'), 6), (('impact', 'NOUN'), 6), (('Air', 'NOUN'), 6), (('alcohol', 'NOUN'), 6), (('powers', 'NOUN'), 6), (('attributed', 'VERB'), 6), (('buying', 'NOUN'), 6), (('buyer', 'NOUN'), 6), (('Neuberger', 'NOUN'), 6), (('margin', 'NOUN'), 6), (('ownership', 'NOUN'), 6), (('liquidity', 'NOUN'), 6), (('filings', 'NOUN'), 6), (('tentatively', 'ADV'), 6), (('underwriter', 'NOUN'), 6), (('tomorrow', 'NOUN'), 6), (('Younkers', 'NOUN'), 6), (('Reupke', 'NOUN'), 6), (('shipyard', 'NOUN'), 6), (('Ralston', 'NOUN'), 6), (('Mississippi', 'NOUN'), 6), (('61', 'NUM'), 5), (('nonexecutive', 'ADJ'), 5), (('29', 'NUM'), 5), (('crocidolite', 'NOUN'), 5), (('causing', 'VERB'), 5), (('Lorillard', 'NOUN'), 5), (('preliminary', 'ADJ'), 5), (('Medicine', 'NOUN'), 5), (('Neither', 'DET'), 5), (('studied', 'VERB'), 5), (('amounts', 'NOUN'), 5), (('From', 'ADP'), 5), (('substance', 'NOUN'), 5), (('*T*-5', 'X'), 5), (('Agency', 'NOUN'), 5), (('blue', 'ADJ'), 5), (('resources', 'NOUN'), 5), (('declines', 'NOUN'), 5), (('stronger', 'ADJ'), 5), (('auction', 'NOUN'), 5), (('resigned', 'VERB'), 5), (('Toronto', 'NOUN'), 5), (('27', 'NUM'), 5), (('Until', 'ADP'), 5), (('trillion', 'NUM'), 5), (('cutting', 'VERB'), 5), (('voted', 'VERB'), 5), (('3.1', 'NUM'), 5), (('settled', 'VERB'), 5), (('expand', 'VERB'), 5), (('Steel', 'NOUN'), 5), (('H.', 'NOUN'), 5), (('police', 'NOUN'), 5), (('announcer', 'NOUN'), 5), (('Indiana', 'NOUN'), 5), (('stood', 'VERB'), 5), (('labor', 'NOUN'), 5), (('page', 'NOUN'), 5), (('heavy', 'ADJ'), 5), (('System', 'NOUN'), 5), (('outside', 'ADJ'), 5), (('proceedings', 'NOUN'), 5), (('Rowe', 'NOUN'), 5), (('hard', 'ADV'), 5), (('Ross', 'NOUN'), 5), (('adviser', 'NOUN'), 5), (('troubled', 'ADJ'), 5), (('63', 'NUM'), 5), (('appliances', 'NOUN'), 5), (('retired', 'VERB'), 5), (('nuclear', 'ADJ'), 5), (('utility', 'NOUN'), 5), (('moved', 'VERB'), 5), (('round', 'NOUN'), 5), (('poor', 'ADJ'), 5), (('records', 'NOUN'), 5), (('supercomputer', 'NOUN'), 5), (('Seymour', 'NOUN'), 5), (('balance', 'NOUN'), 5), (('pending', 'VERB'), 5), (('providing', 'VERB'), 5), (('project', 'NOUN'), 5), (('documents', 'NOUN'), 5), (('anticipated', 'VERB'), 5), (('P.', 'NOUN'), 5), (('Minneapolis', 'NOUN'), 5), (('chip', 'NOUN'), 5), (('chips', 'NOUN'), 5), (('handling', 'NOUN'), 5), (('intense', 'ADJ'), 5), (('world-wide', 'ADJ'), 5), (('distribution', 'NOUN'), 5), (('Instead', 'ADV'), 5), (('marketplace', 'NOUN'), 5), (('decide', 'VERB'), 5), (('Colo.', 'NOUN'), 5), (('47', 'NUM'), 5), (('Douglas', 'NOUN'), 5), (('hardware', 'NOUN'), 5), (('positions', 'NOUN'), 5), (('Eastern', 'NOUN'), 5), (('intellectual-property', 'ADJ'), 5), (('Thailand', 'NOUN'), 5), (('sanctions', 'NOUN'), 5), (('property', 'NOUN'), 5), (('authors', 'NOUN'), 5), (('creating', 'VERB'), 5), (('standing', 'NOUN'), 5), (('works', 'NOUN'), 5), (('prompted', 'VERB'), 5), (('investigation', 'NOUN'), 5), (('developing', 'VERB'), 5), (('During', 'ADP'), 5), (('Apple', 'NOUN'), 5), (('models', 'NOUN'), 5), (('Paul', 'NOUN'), 5), (('leader', 'NOUN'), 5), (('shipments', 'NOUN'), 5), (('Oil', 'NOUN'), 5), (('Australia', 'NOUN'), 5), (('venture', 'NOUN'), 5), (('start', 'VERB'), 5), (('duty-free', 'ADJ'), 5), (('producer', 'NOUN'), 5), (('Stronach', 'NOUN'), 5), (('maintained', 'VERB'), 5), (('automotive', 'ADJ'), 5), (('downturn', 'NOUN'), 5), (('quarterly', 'ADJ'), 5), (('A', 'NOUN'), 5), (('Canadian', 'ADJ'), 5), (('founder', 'NOUN'), 5), (('seat', 'NOUN'), 5), (('throughout', 'ADP'), 5), (('career', 'NOUN'), 5), (('mortgage', 'NOUN'), 5), (('instruments', 'NOUN'), 5), (('expanding', 'VERB'), 5), (('hefty', 'ADJ'), 5), (('consecutive', 'ADJ'), 5), (('follows', 'VERB'), 5), (('portfolios', 'NOUN'), 5), (('ranged', 'VERB'), 5), (('visit', 'NOUN'), 5), (('George', 'NOUN'), 5), (('focused', 'VERB'), 5), (('surge', 'NOUN'), 5), (('discount', 'NOUN'), 5), (('climbed', 'VERB'), 5), (('reflect', 'VERB'), 5), (('exposure', 'NOUN'), 5), (('insist', 'VERB'), 5), (('party', 'NOUN'), 5), (('technical', 'ADJ'), 5), (('owed', 'VERB'), 5), (('happen', 'VERB'), 5), (('Foreign', 'NOUN'), 5), (('adjusted', 'VERB'), 5), (('measures', 'NOUN'), 5), (('economists', 'NOUN'), 5), (('cutbacks', 'NOUN'), 5), (('front', 'NOUN'), 5), (('awarded', 'VERB'), 5), (('purchasing', 'NOUN'), 5), (('imminent', 'ADJ'), 5), (('Only', 'ADV'), 5), (('indicators', 'NOUN'), 5), (('reporting', 'VERB'), 5), (('import', 'NOUN'), 5), (('talk', 'VERB'), 5), (('offers', 'VERB'), 5), (('copies', 'NOUN'), 5), (('books', 'NOUN'), 5), (('written', 'VERB'), 5), (('version', 'NOUN'), 5), (('Giants', 'NOUN'), 5), (('players', 'NOUN'), 5), (('Katzenstein', 'NOUN'), 5), (('crime', 'NOUN'), 5), (('deputy', 'NOUN'), 5), (('fast-food', 'NOUN'), 5), (('urged', 'VERB'), 5), (('carried', 'VERB'), 5), (('identified', 'VERB'), 5), (('20,000', 'NUM'), 5), (('Central', 'NOUN'), 5), (('application', 'NOUN'), 5), (('confirmed', 'VERB'), 5), (('dam', 'NOUN'), 5), (('Czechoslovakia', 'NOUN'), 5), (('1999', 'NUM'), 5), (('warrants', 'NOUN'), 5), (('Tramp', 'NOUN'), 5), (('1976', 'NUM'), 5), (('playing', 'VERB'), 5), (('thinking', 'VERB'), 5), (('calls', 'VERB'), 5), (('His', 'PRON'), 5), (('sound', 'NOUN'), 5), (('picture', 'NOUN'), 5), (('look', 'NOUN'), 5), (('means', 'VERB'), 5), (('principal', 'ADJ'), 5), (('Democratic', 'ADJ'), 5), (('mayor', 'NOUN'), 5), (('Giuliani', 'NOUN'), 5), (('rape', 'NOUN'), 5), (('tried', 'VERB'), 5), (('legislative', 'ADJ'), 5), (('1983', 'NUM'), 5), (('Florio', 'NOUN'), 5), (('Pictures', 'NOUN'), 5), (('lying', 'VERB'), 5), (('asks', 'VERB'), 5), (('building', 'VERB'), 5), (('Democrat', 'NOUN'), 5), (('Rockefeller', 'NOUN'), 5), (('toward', 'ADP'), 5), (('suggest', 'VERB'), 5), (('flow', 'NOUN'), 5), (('influence', 'NOUN'), 5), (('falling', 'VERB'), 5), (('discuss', 'VERB'), 5), (('telecommunications', 'NOUN'), 5), (('matched', 'VERB'), 5), (('parents', 'NOUN'), 5), (('examination', 'NOUN'), 5), (('geography', 'NOUN'), 5), (('alternative', 'NOUN'), 5), (('wake', 'NOUN'), 5), (('nature', 'NOUN'), 5), (('actions', 'NOUN'), 5), (('Education', 'NOUN'), 5), (('educators', 'NOUN'), 5), (('concluded', 'VERB'), 5), (('widespread', 'ADJ'), 5), (('right', 'ADJ'), 5), (('practices', 'NOUN'), 5), (('booklets', 'NOUN'), 5), (('Publishing', 'NOUN'), 5), (('sophisticated', 'ADJ'), 5), (('County', 'NOUN'), 5), (('entire', 'ADJ'), 5), (('abuse', 'NOUN'), 5), (('keeping', 'VERB'), 5), (('kids', 'NOUN'), 5), (('trouble', 'NOUN'), 5), ((\"'d\", 'VERB'), 5), (('longer', 'ADV'), 5), (('salary', 'NOUN'), 5), (('returned', 'VERB'), 5), (('trial', 'NOUN'), 5), (('authorities', 'NOUN'), 5), (('meanwhile', 'ADV'), 5), (('familiar', 'ADJ'), 5), (('Mich.', 'NOUN'), 5), (('Macmillan\\\\/McGraw', 'NOUN'), 5), (('Comprehensive', 'NOUN'), 5), (('the', 'ADJ'), 5), (('offices', 'NOUN'), 5), (('Sullivan', 'NOUN'), 5), (('dispute', 'NOUN'), 5), (('withdrawn', 'VERB'), 5), (('views', 'NOUN'), 5), (('Development', 'NOUN'), 5), (('*ICH*-4', 'X'), 5), (('debate', 'NOUN'), 5), (('over-the-counter', 'ADJ'), 5), (('modestly', 'ADV'), 5), (('bid', 'VERB'), 5), (('saw', 'VERB'), 5), (('green', 'ADJ'), 5), (('signed', 'VERB'), 5), (('financing', 'VERB'), 5), (('assuming', 'VERB'), 5), (('Weisfield', 'NOUN'), 5), (('Media', 'NOUN'), 5), (('operator', 'NOUN'), 5), (('Systems', 'NOUN'), 5), (('cities', 'NOUN'), 5), (('taxpayers', 'NOUN'), 5), (('lawsuit', 'NOUN'), 5), (('mainly', 'ADV'), 5), (('adopted', 'VERB'), 5), (('Jack', 'NOUN'), 5), (('GAF', 'NOUN'), 5), (('specialty', 'NOUN'), 5), (('attempting', 'VERB'), 5), (('pricing', 'NOUN'), 5), (('auctions', 'NOUN'), 5), (('sure', 'ADJ'), 5), (('Yamamoto', 'NOUN'), 5), (('accepted', 'VERB'), 5), (('normal', 'ADJ'), 5), (('community', 'NOUN'), 5), (('machinery', 'NOUN'), 5), (('cover', 'VERB'), 5), (('extraordinary', 'ADJ'), 5), (('older', 'ADJ'), 5), (('facility', 'NOUN'), 5), (('facing', 'VERB'), 5), (('N.J', 'NOUN'), 5), (('Madison', 'NOUN'), 5), (('Entertainment', 'NOUN'), 5), (('merely', 'ADV'), 5), (('expectations', 'NOUN'), 5), (('ounce', 'NOUN'), 5), (('risk', 'VERB'), 5), (('Life', 'NOUN'), 5), (('conventional', 'ADJ'), 5), (('considerable', 'ADJ'), 5), (('initially', 'ADV'), 5), (('programming', 'NOUN'), 5), (('expanded', 'VERB'), 5), (('AT&T', 'NOUN'), 5), (('Telephone', 'NOUN'), 5), (('Young', 'NOUN'), 5), (('Holdings', 'NOUN'), 5), (('leaving', 'VERB'), 5), (('raises', 'VERB'), 5), (('vans', 'NOUN'), 5), (('minivans', 'NOUN'), 5), (('vehicle', 'NOUN'), 5), (('surprising', 'ADJ'), 5), (('Safety', 'NOUN'), 5), (('fairly', 'ADV'), 5), (('1982', 'NUM'), 5), (('Heights', 'NOUN'), 5), (('declared', 'VERB'), 5), (('de', 'ADP'), 5), (('180', 'NUM'), 5), (('plunge', 'NOUN'), 5), (('1993', 'NUM'), 5), (('exercise', 'VERB'), 5), (('finished', 'VERB'), 5), (('afternoon', 'NOUN'), 5), (('Net', 'ADJ'), 5), (('commodity', 'NOUN'), 5), (('regarding', 'VERB'), 5), (('finance', 'VERB'), 5), (('Retin-A', 'NOUN'), 5), (('moves', 'NOUN'), 5), (('successful', 'ADJ'), 5), (('frequently', 'ADV'), 5), (('Trading', 'NOUN'), 5), (('basis', 'NOUN'), 5), (('competitive', 'ADJ'), 5), (('charge', 'VERB'), 5), (('Charlotte', 'NOUN'), 5), (('starting', 'VERB'), 5), (('travel', 'NOUN'), 5), (('standard', 'ADJ'), 5), (('Chemical', 'NOUN'), 5), (('direction', 'NOUN'), 5), (('realize', 'VERB'), 5), (('Like', 'ADP'), 5), (('felt', 'VERB'), 5), (('remained', 'VERB'), 5), (('equal', 'ADJ'), 5), (('sell', 'NOUN'), 5), (('expressed', 'VERB'), 5), (('done', 'VERB'), 5), (('Agriculture', 'NOUN'), 5), (('worker', 'NOUN'), 5), (('Two', 'NUM'), 5), (('vicar', 'NOUN'), 5), (('council', 'NOUN'), 5), (('Merrill', 'NOUN'), 5), (('Lynch', 'NOUN'), 5), (('basically', 'ADV'), 5), (('replace', 'VERB'), 5), (('NBI', 'NOUN'), 5), (('States', 'NOUN'), 5), (('guards', 'NOUN'), 5), (('voters', 'NOUN'), 5), (('either', 'DET'), 5), (('connection', 'NOUN'), 5), (('Anthony', 'NOUN'), 5), (('25,000', 'NUM'), 5), (('sizable', 'ADJ'), 5), (('Bronx', 'NOUN'), 5), (('such', 'DET'), 5), (('Salomon', 'NOUN'), 5), (('*RNR*-2', 'X'), 5), (('brokerage', 'NOUN'), 5), (('option', 'NOUN'), 5), (('Democrats', 'NOUN'), 5), (('Rockwell', 'NOUN'), 5), (('guarantees', 'NOUN'), 5), (('Administration', 'NOUN'), 5), (('numbers', 'NOUN'), 5), (('homeless', 'NOUN'), 5), (('buy-outs', 'NOUN'), 5), (('veto', 'VERB'), 5), (('amendment', 'NOUN'), 5), (('Harper', 'NOUN'), 5), (('Prudential-Bache', 'NOUN'), 5), (('stay', 'VERB'), 5), (('pension', 'NOUN'), 5), (('Motors', 'NOUN'), 5), (('mortgages', 'NOUN'), 5), (('house', 'NOUN'), 5), (('nomination', 'NOUN'), 5), (('forces', 'NOUN'), 5), (('Airlines', 'NOUN'), 5), (('Hammersmith', 'NOUN'), 5), (('cheaper', 'ADJ'), 5), (('swings', 'NOUN'), 5), (('FTC', 'NOUN'), 5), (('lines', 'NOUN'), 5), (('crystals', 'NOUN'), 5), (('Markets', 'NOUN'), 5), (('99', 'NUM'), 5), (('Fees', 'NOUN'), 5), (('Swiss', 'ADJ'), 5), (('Reed', 'NOUN'), 5), (('Burnham', 'NOUN'), 5), (('Lambert', 'NOUN'), 5), (('financings', 'NOUN'), 5), (('Veraldi', 'NOUN'), 5), (('defendants', 'NOUN'), 5), (('Drug', 'NOUN'), 5), (('Ackerman', 'NOUN'), 5), (('investment-grade', 'ADJ'), 5), (('Michelin', 'NOUN'), 5), (('Tyre', 'NOUN'), 5), (('rain', 'NOUN'), 5), (('Intelogic', 'NOUN'), 5), (('exporter', 'NOUN'), 5), (('Tony', 'NOUN'), 5), (('Lama', 'NOUN'), 5), (('partnership', 'NOUN'), 5), (('Freeport-McMoRan', 'NOUN'), 5), (('delivered', 'VERB'), 5), (('bone', 'NOUN'), 5), (('Lentjes', 'NOUN'), 5), (('Army', 'NOUN'), 5), (('exporters', 'NOUN'), 5), (('join', 'VERB'), 4), (('publishing', 'VERB'), 4), (('cigarette', 'NOUN'), 4), (('enters', 'VERB'), 4), (('brief', 'ADJ'), 4), (('York-based', 'ADJ'), 4), (('appear', 'VERB'), 4), (('talking', 'VERB'), 4), (('heard', 'VERB'), 4), (('Talcott', 'NOUN'), 4), (('28', 'NUM'), 4), (('finding', 'NOUN'), 4), (('fibers', 'NOUN'), 4), (('uses', 'NOUN'), 4), (('*-6', 'X'), 4), (('*-7', 'X'), 4), (('dumped', 'VERB'), 4), (('imported', 'VERB'), 4), (('dry', 'ADJ'), 4), (('human', 'ADJ'), 4), (('amid', 'ADP'), 4), (('compound', 'NOUN'), 4), (('assume', 'VERB'), 4), (('Average', 'ADJ'), 4), (('41', 'NUM'), 4), (('declining', 'VERB'), 4), (('longer', 'ADJ'), 4), (('capture', 'VERB'), 4), (('indicator', 'NOUN'), 4), (('7.90', 'NUM'), 4), (('grew', 'VERB'), 4), (('overseas', 'ADV'), 4), (('simple', 'ADJ'), 4), (('Grace', 'NOUN'), 4), (('holds', 'VERB'), 4), (('Italian', 'ADJ'), 4), (('mechanical', 'ADJ'), 4), (('lift', 'VERB'), 4), (('taxes', 'NOUN'), 4), (('Previously', 'ADV'), 4), (('Indianapolis', 'NOUN'), 4), (('treat', 'VERB'), 4), (('owners', 'NOUN'), 4), (('125', 'NUM'), 4), (('receiving', 'VERB'), 4), (('message', 'NOUN'), 4), (('Factory', 'NOUN'), 4), (('joined', 'VERB'), 4), (('evening', 'NOUN'), 4), (('Champagne', 'NOUN'), 4), (('morning', 'NOUN'), 4), (('More', 'ADJ'), 4), (('forward', 'ADV'), 4), (('reflecting', 'VERB'), 4), (('released', 'VERB'), 4), (('Industry', 'NOUN'), 4), (('Government', 'NOUN'), 4), (('forecast', 'NOUN'), 4), (('incentive', 'NOUN'), 4), (('maintaining', 'VERB'), 4), (('cost', 'VERB'), 4), (('lowered', 'VERB'), 4), (('effectively', 'ADV'), 4), (('costs', 'VERB'), 4), (('exceed', 'VERB'), 4), (('3.2', 'NUM'), 4), (('gaining', 'VERB'), 4), (('none', 'NOUN'), 4), (('7.3', 'NUM'), 4), (('Public', 'NOUN'), 4), (('Chapter', 'NOUN'), 4), (('places', 'NOUN'), 4), (('2.2', 'NUM'), 4), (('forecasts', 'NOUN'), 4), (('electricity', 'NOUN'), 4), (('persistent', 'ADJ'), 4), (('Illinois', 'NOUN'), 4), (('appeals', 'NOUN'), 4), (('considering', 'VERB'), 4), (('determined', 'VERB'), 4), (('2.5', 'NUM'), 4), (('ruled', 'VERB'), 4), (('hope', 'VERB'), 4), (('precedent', 'NOUN'), 4), (('22', 'NUM'), 4), (('reductions', 'NOUN'), 4), (('located', 'VERB'), 4), (('miles', 'NOUN'), 4), (('Seoul', 'NOUN'), 4), (('survival', 'NOUN'), 4), (('designer', 'NOUN'), 4), (('tied', 'VERB'), 4), (('heads', 'VERB'), 4), (('Gary', 'NOUN'), 4), (('Besides', 'ADP'), 4), (('Machines', 'NOUN'), 4), (('applied', 'VERB'), 4), (('53', 'NUM'), 4), (('father', 'NOUN'), 4), (('450', 'NUM'), 4), (('Saudi', 'NOUN'), 4), (('failing', 'VERB'), 4), (('patents', 'NOUN'), 4), (('priority', 'NOUN'), 4), (('watch', 'NOUN'), 4), (('interim', 'ADJ'), 4), (('degrees', 'NOUN'), 4), (('bilateral', 'ADJ'), 4), (('showing', 'VERB'), 4), (('apply', 'VERB'), 4), (('though', 'ADV'), 4), (('Spain', 'NOUN'), 4), (('protecting', 'VERB'), 4), (('tells', 'VERB'), 4), (('complained', 'VERB'), 4), (('ask', 'VERB'), 4), (('Minister', 'NOUN'), 4), (('Rapanelli', 'NOUN'), 4), (('The', 'NOUN'), 4), (('crude', 'ADJ'), 4), (('sets', 'NOUN'), 4), (('triggered', 'VERB'), 4), (('faster', 'ADJ'), 4), (('memory', 'NOUN'), 4), (('1981', 'NUM'), 4), (('F.', 'NOUN'), 4), (('entered', 'VERB'), 4), (('annually', 'ADV'), 4), (('total', 'VERB'), 4), (('affiliate', 'NOUN'), 4), (('Whiting', 'NOUN'), 4), (('producing', 'VERB'), 4), (('denied', 'VERB'), 4), (('58', 'NUM'), 4), (('status', 'NOUN'), 4), (('aide', 'NOUN'), 4), (('Frank', 'NOUN'), 4), (('manufacturer', 'NOUN'), 4), (('US$', '.'), 4), (('consulting', 'NOUN'), 4), (('English', 'NOUN'), 4), (('chemical', 'NOUN'), 4), (('Fannie', 'NOUN'), 4), (('Maxwell', 'NOUN'), 4), (('reducing', 'VERB'), 4), (('extremely', 'ADV'), 4), (('outside', 'ADP'), 4), (('exclusive', 'ADJ'), 4), (('tender', 'NOUN'), 4), (('reflects', 'VERB'), 4), (('account', 'VERB'), 4), (('Porter', 'NOUN'), 4), (('integration', 'NOUN'), 4), (('increasingly', 'ADV'), 4), (('ADRs', 'NOUN'), 4), (('*-52', 'X'), 4), (('default', 'NOUN'), 4), (('War', 'NOUN'), 4), (('Purchasing', 'NOUN'), 4), (('46', 'NUM'), 4), (('Society', 'NOUN'), 4), (('residential', 'ADJ'), 4), (('slowly', 'ADV'), 4), (('Yet', 'CONJ'), 4), (('predicting', 'VERB'), 4), (('Donaldson', 'NOUN'), 4), (('Lufkin', 'NOUN'), 4), (('Jenrette', 'NOUN'), 4), (('slowdown', 'NOUN'), 4), (('intended', 'VERB'), 4), (('Dodge', 'NOUN'), 4), (('purchased', 'VERB'), 4), (('dozen', 'NOUN'), 4), (('milk', 'NOUN'), 4), (('blamed', 'VERB'), 4), (('Sheep', 'NOUN'), 4), (('novel', 'NOUN'), 4), (('entirely', 'ADV'), 4), (('reruns', 'NOUN'), 4), (('worry', 'VERB'), 4), (('broken', 'VERB'), 4), (('contemporary', 'ADJ'), 4), (('author', 'NOUN'), 4), (('carries', 'VERB'), 4), (('reality', 'NOUN'), 4), (('figure', 'NOUN'), 4), (('spirit', 'NOUN'), 4), (('lives', 'NOUN'), 4), (('road', 'NOUN'), 4), (('responsibility', 'NOUN'), 4), (('lesson', 'NOUN'), 4), (('appointment', 'NOUN'), 4), (('certainly', 'ADV'), 4), (('learned', 'VERB'), 4), (('features', 'NOUN'), 4), (('Singapore', 'NOUN'), 4), (('smoking', 'NOUN'), 4), (('minister', 'NOUN'), 4), (('renewed', 'VERB'), 4), (('assistant', 'NOUN'), 4), (('Chinese', 'NOUN'), 4), (('Daily', 'NOUN'), 4), (('disease', 'NOUN'), 4), (('gas', 'NOUN'), 4), (('Hungary', 'NOUN'), 4), (('1972', 'NUM'), 4), (('Chaplin', 'NOUN'), 4), (('writer', 'NOUN'), 4), (('Sidewalk', 'NOUN'), 4), (('Stories', 'NOUN'), 4), (('Of', 'ADP'), 4), (('friend', 'NOUN'), 4), (('precisely', 'ADV'), 4), (('words', 'NOUN'), 4), (('walk', 'VERB'), 4), (('box', 'NOUN'), 4), (('behind', 'ADP'), 4), (('street', 'NOUN'), 4), (('French', 'ADJ'), 4), (('achievement', 'NOUN'), 4), (('viewed', 'VERB'), 4), (('thousands', 'NOUN'), 4), (('Her', 'PRON'), 4), (('die', 'VERB'), 4), (('speculated', 'VERB'), 4), (('secondary', 'ADJ'), 4), (('campaigns', 'NOUN'), 4), (('attack', 'NOUN'), 4), (('politics', 'NOUN'), 4), (('art', 'NOUN'), 4), (('needs', 'VERB'), 4), (('Jersey', 'NOUN'), 4), (('Virginia', 'NOUN'), 4), (('screen', 'NOUN'), 4), (('tight', 'ADJ'), 4), (('master', 'NOUN'), 4), (('gets', 'VERB'), 4), (('wait', 'VERB'), 4), (('caught', 'VERB'), 4), (('finally', 'ADV'), 4), (('claims', 'VERB'), 4), (('choose', 'VERB'), 4), (('Who', 'PRON'), 4), (('fail', 'VERB'), 4), (('insists', 'VERB'), 4), (('incomplete', 'ADJ'), 4), (('knows', 'VERB'), 4), (('away', 'PRT'), 4), (('pass', 'VERB'), 4), (('grown', 'VERB'), 4), (('gotten', 'VERB'), 4), (('Mark', 'NOUN'), 4), (('rival', 'NOUN'), 4), (('Jim', 'NOUN'), 4), (('female', 'ADJ'), 4), (('focus', 'NOUN'), 4), (('grows', 'VERB'), 4), (('responded', 'VERB'), 4), (('motion', 'NOUN'), 4), (('ground', 'NOUN'), 4), (('decisions', 'NOUN'), 4), (('transportation', 'NOUN'), 4), (('speech', 'NOUN'), 4), (('play', 'VERB'), 4), (('complicated', 'ADJ'), 4), (('try', 'VERB'), 4), (('hardly', 'ADV'), 4), (('word', 'NOUN'), 4), (('light', 'NOUN'), 4), (('Friends', 'NOUN'), 4), (('help', 'NOUN'), 4), (('mean', 'VERB'), 4), (('districts', 'NOUN'), 4), (('extra', 'ADJ'), 4), (('lowest', 'ADJ'), 4), (('primary', 'ADJ'), 4), (('worst', 'ADJ'), 4), (('preparation', 'NOUN'), 4), (('broad', 'ADJ'), 4), (('encourage', 'VERB'), 4), (('teaching', 'NOUN'), 4), (('chosen', 'VERB'), 4), (('Beth', 'NOUN'), 4), (('48', 'NUM'), 4), (('admits', 'VERB'), 4), (('bottom', 'NOUN'), 4), (('newspapers', 'NOUN'), 4), (('Watson', 'NOUN'), 4), (('Do', 'VERB'), 4), (('dismissed', 'VERB'), 4), (('policies', 'NOUN'), 4), (('host', 'NOUN'), 4), (('realized', 'VERB'), 4), (('favor', 'NOUN'), 4), (('prior', 'ADV'), 4), (('Kaminski', 'NOUN'), 4), (('knowledge', 'NOUN'), 4), (('need', 'NOUN'), 4), (('44', 'NUM'), 4), (('Services', 'NOUN'), 4), (('secretary', 'NOUN'), 4), (('scientific', 'ADJ'), 4), (('prestigious', 'ADJ'), 4), (('NIH', 'NOUN'), 4), (('serve', 'VERB'), 4), (('hope', 'NOUN'), 4), (('Trust', 'NOUN'), 4), (('London-based', 'ADJ'), 4), (('pretax', 'ADJ'), 4), (('associated', 'VERB'), 4), (('Jaguar', 'NOUN'), 4), (('4.4', 'NUM'), 4), (('Giant', 'NOUN'), 4), (('Trotter', 'NOUN'), 4), (('slipped', 'VERB'), 4), (('prison', 'NOUN'), 4), (('argued', 'VERB'), 4), (('citing', 'VERB'), 4), (('Sonnett', 'NOUN'), 4), (('dozens', 'NOUN'), 4), (('requirement', 'NOUN'), 4), (('Christopher', 'NOUN'), 4), (('Detroit', 'NOUN'), 4), (('union', 'NOUN'), 4), (('disciplinary', 'ADJ'), 4), (('K.', 'NOUN'), 4), (('seeks', 'VERB'), 4), (('preventing', 'VERB'), 4), (('care', 'NOUN'), 4), (('limits', 'NOUN'), 4), (('sparked', 'VERB'), 4), (('park', 'NOUN'), 4), (('review', 'VERB'), 4), (('opening', 'VERB'), 4), (('Manhattan', 'NOUN'), 4), (('D.C.', 'NOUN'), 4), (('step', 'NOUN'), 4), (('No.', 'NOUN'), 4), (('fueled', 'VERB'), 4), (('complaints', 'NOUN'), 4), (('unfairly', 'ADV'), 4), (('municipalities', 'NOUN'), 4), (('Stores', 'NOUN'), 4), (('retail', 'NOUN'), 4), (('design', 'NOUN'), 4), (('-', '.'), 4), (('thrifts', 'NOUN'), 4), (('weakness', 'NOUN'), 4), (('techniques', 'NOUN'), 4), (('slowing', 'NOUN'), 4), (('42', 'NUM'), 4), (('poorly', 'ADV'), 4), (('Lake', 'NOUN'), 4), (('Sterling', 'NOUN'), 4), (('solid', 'ADJ'), 4), (('Estate', 'NOUN'), 4), (('Northern', 'NOUN'), 4), (('high-yield', 'ADJ'), 4), (('participants', 'NOUN'), 4), (('Commodity', 'NOUN'), 4), (('considerably', 'ADV'), 4), (('negotiate', 'VERB'), 4), (('drop', 'VERB'), 4), (('pleased', 'VERB'), 4), (('quite', 'ADV'), 4), (('Brooklyn', 'NOUN'), 4), (('Poore', 'NOUN'), 4), (('alleged', 'ADJ'), 4), (('editors', 'NOUN'), 4), (('giant', 'ADJ'), 4), (('spend', 'VERB'), 4), (('care', 'VERB'), 4), (('original', 'ADJ'), 4), (('Telegraph', 'NOUN'), 4), (('Sherwood', 'NOUN'), 4), (('possibility', 'NOUN'), 4), (('subsidiaries', 'NOUN'), 4), (('represents', 'VERB'), 4), (('roof-crush', 'ADJ'), 4), (('deadline', 'NOUN'), 4), (('Sir', 'NOUN'), 4), (('British', 'NOUN'), 4), (('Petroleum', 'NOUN'), 4), (('Currently', 'ADV'), 4), (('accessories', 'NOUN'), 4), (('Wine', 'NOUN'), 4), (('Creek', 'NOUN'), 4), (('quality', 'NOUN'), 4), (('Petrus', 'NOUN'), 4), (('magnitude', 'NOUN'), 4), (('Salon', 'NOUN'), 4), (('None', 'NOUN'), 4), (('march', 'NOUN'), 4), (('98', 'NUM'), 4), (('spread', 'VERB'), 4), (('Pratt', 'NOUN'), 4), (('sort', 'NOUN'), 4), (('explains', 'VERB'), 4), (('equally', 'ADV'), 4), (('32', 'NUM'), 4), (('push', 'VERB'), 4), (('beautiful', 'ADJ'), 4), (('Guffey', 'NOUN'), 4), (('objective', 'NOUN'), 4), (('weak', 'ADJ'), 4), (('slower', 'ADJ'), 4), (('divided', 'VERB'), 4), (('presidents', 'NOUN'), 4), (('23.5', 'NUM'), 4), (('bankers', 'NOUN'), 4), (('10-year', 'ADJ'), 4), (('2.50', 'NUM'), 4), (('7.88', 'NUM'), 4), (('Harold', 'NOUN'), 4), (('aggressive', 'ADJ'), 4), (('proposing', 'VERB'), 4), (('consent', 'NOUN'), 4), (('Jerry', 'NOUN'), 4), (('friendly', 'ADJ'), 4), (('gain', 'VERB'), 4), (('representing', 'VERB'), 4), (('subject', 'NOUN'), 4), (('Dallara', 'NOUN'), 4), (('owner', 'NOUN'), 4), (('Pickens', 'NOUN'), 4), (('troubles', 'NOUN'), 4), (('Just', 'ADV'), 4), (('controversial', 'ADJ'), 4), (('financed', 'VERB'), 4), (('commodities', 'NOUN'), 4), (('Klauser', 'NOUN'), 4), (('U.S.A.', 'NOUN'), 4), (('deposit', 'NOUN'), 4), (('deposits', 'NOUN'), 4), (('population', 'NOUN'), 4), (('off', 'ADV'), 4), (('fee', 'NOUN'), 4), (('banker', 'NOUN'), 4), (('bulk', 'NOUN'), 4), (('peripheral', 'ADJ'), 4), (('vacation', 'NOUN'), 4), (('Corporate', 'NOUN'), 4), (('healthy', 'ADJ'), 4), (('Lewis', 'NOUN'), 4), (('worth', 'NOUN'), 4), (('institution', 'NOUN'), 4), (('subcommittee', 'NOUN'), 4), (('collar', 'NOUN'), 4), (('execute', 'VERB'), 4), (('existing', 'VERB'), 4), (('slide', 'NOUN'), 4), (('shortly', 'ADV'), 4), (('minutes', 'NOUN'), 4), (('volatile', 'ADJ'), 4), (('beyond', 'ADP'), 4), (('discussed', 'VERB'), 4), (('uses', 'VERB'), 4), (('ropes', 'NOUN'), 4), (('churches', 'NOUN'), 4), (('band', 'NOUN'), 4), (('ringer', 'NOUN'), 4), (('live', 'VERB'), 4), (('ring', 'VERB'), 4), (('bell', 'NOUN'), 4), (('thus', 'ADV'), 4), (('eight', 'NUM'), 4), (('Baldwin', 'NOUN'), 4), (('signal', 'VERB'), 4), (('strongest', 'ADJ'), 4), (('relative', 'ADJ'), 4), (('50,000', 'NUM'), 4), (('focus', 'VERB'), 4), (('quarters', 'NOUN'), 4), (('hired', 'VERB'), 4), (('normally', 'ADV'), 4), (('Embassy', 'NOUN'), 4), (('professionals', 'NOUN'), 4), (('85', 'NUM'), 4), (('Henry', 'NOUN'), 4), (('30,000', 'NUM'), 4), (('10-day', 'ADJ'), 4), (('call', 'NOUN'), 4), (('Whelen', 'NOUN'), 4), (('2,500', 'NUM'), 4), (('ticket', 'NOUN'), 4), (('Houston', 'NOUN'), 4), (('Park', 'NOUN'), 4), (('agents', 'NOUN'), 4), (('stupid', 'ADJ'), 4), (('limit', 'VERB'), 4), (('S.', 'NOUN'), 4), (('begins', 'VERB'), 4), (('reflected', 'VERB'), 4), (('observers', 'NOUN'), 4), (('post', 'NOUN'), 4), (('1970', 'NUM'), 4), (('administrator', 'NOUN'), 4), (('initiatives', 'NOUN'), 4), (('portion', 'NOUN'), 4), (('railings', 'NOUN'), 4), (('reasons', 'NOUN'), 4), (('fines', 'NOUN'), 4), (('employer', 'NOUN'), 4), (('penalties', 'NOUN'), 4), (('hazards', 'NOUN'), 4), (('Resources', 'NOUN'), 4), (('complex', 'ADJ'), 4), (('disorders', 'NOUN'), 4), (('psychiatric', 'ADJ'), 4), (('persons', 'NOUN'), 4), (('fear', 'NOUN'), 4), (('motive', 'NOUN'), 4), (('text', 'NOUN'), 4), (('hear', 'VERB'), 4), (('dissemination', 'NOUN'), 4), (('reporters', 'NOUN'), 4), (('plaintiffs', 'NOUN'), 4), (('determine', 'VERB'), 4), (('Xerox', 'NOUN'), 4), (('Dorrance', 'NOUN'), 4), (('profitability', 'NOUN'), 4), (('closing', 'ADJ'), 4), (('Switzerland', 'NOUN'), 4), (('natural', 'ADJ'), 4), (('Speculation', 'NOUN'), 4), (('interpretation', 'NOUN'), 4), (('Law', 'NOUN'), 4), (('separation', 'NOUN'), 4), (('execution', 'NOUN'), 4), (('excision', 'NOUN'), 4), (('constitutional', 'ADJ'), 4), (('1980s', 'NUM'), 4), (('second-largest', 'ADJ'), 4), (('Times', 'NOUN'), 4), (('Orange', 'NOUN'), 4), (('dealings', 'NOUN'), 4), (('GMAC', 'NOUN'), 4), (('3.8', 'NUM'), 4), (('councils', 'NOUN'), 4), (('Kidder', 'NOUN'), 4), (('pickers', 'NOUN'), 4), (('Travelers', 'NOUN'), 4), (('wide', 'ADJ'), 4), (('speculative', 'ADJ'), 4), (('uptick', 'NOUN'), 4), (('profit', 'VERB'), 4), (('index-arbitrage', 'ADJ'), 4), (('buy', 'NOUN'), 4), (('expert', 'NOUN'), 4), (('harder', 'ADJ'), 4), (('agencies', 'NOUN'), 4), (('cuts', 'NOUN'), 4), (('diaper', 'NOUN'), 4), (('marketed', 'VERB'), 4), (('quantity', 'NOUN'), 4), (('superconductor', 'NOUN'), 4), (('van', 'NOUN'), 4), (('Dover', 'NOUN'), 4), (('samples', 'NOUN'), 4), (('after-tax', 'ADJ'), 4), (('Community', 'NOUN'), 4), (('3.7', 'NUM'), 4), (('disposal', 'NOUN'), 4), (('CS', 'NOUN'), 4), (('warned', 'VERB'), 4), (('junk-bond', 'NOUN'), 4), (('scandal', 'NOUN'), 4), (('lens', 'NOUN'), 4), (('estimate', 'NOUN'), 4), (('Volume', 'NOUN'), 4), (('defensive', 'ADJ'), 4), (('Hurricane', 'NOUN'), 4), (('Hugo', 'NOUN'), 4), (('clean-air', 'ADJ'), 4), (('Wolf', 'NOUN'), 4), (('Primerica', 'NOUN'), 4), (('Edelman', 'NOUN'), 4), (('Brazilian', 'ADJ'), 4), (('Ganes', 'NOUN'), 4), (('Oxnard', 'NOUN'), 4), (('copper', 'NOUN'), 4), (('Equitable', 'NOUN'), 4), (('Equus', 'NOUN'), 4), (('DD', 'NOUN'), 4), ((\"Dunkin'\", 'NOUN'), 4), (('GenCorp', 'NOUN'), 4), (('Nissan', 'NOUN'), 4), (('Finnish', 'ADJ'), 4), (('ship', 'NOUN'), 4), (('Genetics', 'NOUN'), 4), (('Interleukin-3', 'NOUN'), 4), (('qualified', 'VERB'), 4), (('ITC', 'NOUN'), 4), (('Feeding', 'NOUN'), 4), (('Frenzy', 'NOUN'), 4), (('Mariotta', 'NOUN'), 4), (('Corps', 'NOUN'), 4), (('bushel', 'NOUN'), 4), (('harvest', 'NOUN'), 4), (('N.V.', 'NOUN'), 3), (('Rudolph', 'NOUN'), 3), (('conglomerate', 'NOUN'), 3), (('exposures', 'NOUN'), 3), (('decades', 'NOUN'), 3), (('questionable', 'ADJ'), 3), (('aware', 'ADJ'), 3), (('Harvard', 'NOUN'), 3), (('modest', 'ADJ'), 3), (('died', 'VERB'), 3), (('surviving', 'VERB'), 3), (('asbestos-related', 'ADJ'), 3), (('study', 'VERB'), 3), (('buildings', 'NOUN'), 3), (('regulation', 'NOUN'), 3), (('explained', 'VERB'), 3), (('imposed', 'VERB'), 3), (('recognize', 'VERB'), 3), (('events', 'NOUN'), 3), (('money-market', 'ADJ'), 3), (('seven-day', 'ADJ'), 3), (('eased', 'VERB'), 3), (('maturity', 'NOUN'), 3), (('maturities', 'NOUN'), 3), (('indicate', 'VERB'), 3), (('permit', 'VERB'), 3), (('retain', 'VERB'), 3), (('comparable', 'ADJ'), 3), (('yielding', 'VERB'), 3), (('dollar-denominated', 'ADJ'), 3), (('boosts', 'VERB'), 3), (('W.R.', 'NOUN'), 3), (('formerly', 'ADV'), 3), (('obtain', 'VERB'), 3), (('Bailey', 'NOUN'), 3), (('controls', 'NOUN'), 3), (('employs', 'VERB'), 3), (('borrowing', 'NOUN'), 3), (('fight', 'NOUN'), 3), (('arm', 'NOUN'), 3), (('43', 'NUM'), 3), (('typically', 'ADV'), 3), (('Boca', 'NOUN'), 3), (('Springs', 'NOUN'), 3), (('Manufacturers', 'NOUN'), 3), (('guests', 'NOUN'), 3), (('Belt', 'NOUN'), 3), (('III', 'NOUN'), 3), (('governor', 'NOUN'), 3), (('banned', 'VERB'), 3), (('drivers', 'NOUN'), 3), (('official', 'ADJ'), 3), (('race', 'NOUN'), 3), (('pointed', 'VERB'), 3), (('hotel', 'NOUN'), 3), (('buses', 'NOUN'), 3), (('block', 'NOUN'), 3), (('town', 'NOUN'), 3), (('February', 'NOUN'), 3), (('disputes', 'NOUN'), 3), (('71', 'NUM'), 3), (('Imports', 'NOUN'), 3), (('Warner', 'NOUN'), 3), (('Alan', 'NOUN'), 3), (('Spoon', 'NOUN'), 3), (('7.5', 'NUM'), 3), (('Credit', 'NOUN'), 3), (('Information', 'NOUN'), 3), (('leaves', 'VERB'), 3), (('Illuminating', 'NOUN'), 3), (('Utilities', 'NOUN'), 3), (('bidders', 'NOUN'), 3), (('worth', 'ADP'), 3), (('Hartford', 'NOUN'), 3), (('withdraw', 'VERB'), 3), (('withdrawal', 'NOUN'), 3), (('5.5', 'NUM'), 3), (('negotiations', 'NOUN'), 3), (('Separately', 'ADV'), 3), (('52', 'NUM'), 3), (('Banking', 'NOUN'), 3), (('retailing', 'NOUN'), 3), (('refund', 'VERB'), 3), (('collected', 'VERB'), 3), (('upheld', 'VERB'), 3), (('challenge', 'NOUN'), 3), (('195', 'NUM'), 3), (('plus', 'CONJ'), 3), (('140', 'NUM'), 3), (('Braidwood', 'NOUN'), 3), (('passenger', 'NOUN'), 3), (('medium-sized', 'ADJ'), 3), (('benefited', 'VERB'), 3), (('doubled', 'VERB'), 3), (('household', 'NOUN'), 3), (('sheet', 'NOUN'), 3), (('attached', 'VERB'), 3), (('Barnum', 'NOUN'), 3), (('theory', 'NOUN'), 3), (('jump', 'VERB'), 3), (('processors', 'NOUN'), 3), (('competitor', 'NOUN'), 3), (('compete', 'VERB'), 3), (('stockholders', 'NOUN'), 3), (('sheets', 'NOUN'), 3), (('incurred', 'VERB'), 3), (('contractor', 'NOUN'), 3), (('arrangement', 'NOUN'), 3), (('*-25', 'X'), 3), (('Messrs.', 'NOUN'), 3), (('Joseph', 'NOUN'), 3), (('37', 'NUM'), 3), (('holding', 'NOUN'), 3), (('Arthur', 'NOUN'), 3), (('success', 'NOUN'), 3), (('removed', 'VERB'), 3), (('Arabia', 'NOUN'), 3), (('allegedly', 'ADV'), 3), (('honor', 'VERB'), 3), (('Representative', 'NOUN'), 3), (('Carla', 'NOUN'), 3), (('varying', 'VERB'), 3), (('scrutiny', 'NOUN'), 3), (('marketing', 'VERB'), 3), (('task', 'NOUN'), 3), (('teams', 'NOUN'), 3), (('prosecutors', 'NOUN'), 3), (('procedures', 'NOUN'), 3), (('copyright', 'NOUN'), 3), (('protect', 'VERB'), 3), (('films', 'NOUN'), 3), (('Taipei', 'NOUN'), 3), (('Italy', 'NOUN'), 3), (('recognition', 'NOUN'), 3), (('disturbing', 'ADJ'), 3), (('64', 'NUM'), 3), (('reach', 'VERB'), 3), (('Carlos', 'NOUN'), 3), (('century', 'NOUN'), 3), (('PC', 'NOUN'), 3), (('Allen', 'NOUN'), 3), (('1975', 'NUM'), 3), (('Technology', 'NOUN'), 3), (('disk', 'NOUN'), 3), (('share', 'VERB'), 3), (('Faulding', 'NOUN'), 3), (('pharmaceuticals', 'NOUN'), 3), (('Moleculon', 'NOUN'), 3), (('holdings', 'NOUN'), 3), (('launch', 'NOUN'), 3), (('Esso', 'NOUN'), 3), (('Hill', 'NOUN'), 3), (('10.2', 'NUM'), 3), (('Timex', 'NOUN'), 3), (('requested', 'VERB'), 3), (('grant', 'VERB'), 3), (('potential', 'NOUN'), 3), (('stepping', 'VERB'), 3), (('around', 'ADV'), 3), (('direct', 'VERB'), 3), (('curb', 'VERB'), 3), (('excess', 'ADJ'), 3), (('high', 'NOUN'), 3), (('controlling', 'VERB'), 3), (('Parliament', 'NOUN'), 3), (('Mortgage', 'NOUN'), 3), (('Earlier', 'ADJ'), 3), (('snapped', 'VERB'), 3), (('mortgage-backed', 'ADJ'), 3), (('together', 'PRT'), 3), (('floating-rate', 'ADJ'), 3), (('First', 'ADJ'), 3), (('semiannual', 'ADJ'), 3), (('Montedison', 'NOUN'), 3), (('pursuant', 'ADJ'), 3), (('sixth', 'ADJ'), 3), (('craze', 'NOUN'), 3), (('closed-end', 'ADJ'), 3), (('about', 'PRT'), 3), (('Guinea', 'NOUN'), 3), (('Foot', 'NOUN'), 3), (('Mass', 'NOUN'), 3), (('1929', 'NUM'), 3), (('Unlike', 'ADP'), 3), (('billions', 'NOUN'), 3), (('claims', 'NOUN'), 3), (('Barney', 'NOUN'), 3), (('tend', 'VERB'), 3), (('historically', 'ADV'), 3), (('premiums', 'NOUN'), 3), (('underlying', 'ADJ'), 3), (('partially', 'ADV'), 3), (('rich', 'ADJ'), 3), (('newly', 'ADV'), 3), (('viewpoint', 'NOUN'), 3), (('cast', 'VERB'), 3), (('receipts', 'NOUN'), 3), (('folks', 'NOUN'), 3), (('clear', 'VERB'), 3), (('permitted', 'VERB'), 3), (('Economic', 'NOUN'), 3), (('democratic', 'ADJ'), 3), (('reflection', 'NOUN'), 3), (('47.6', 'NUM'), 3), (('Any', 'DET'), 3), (('2.1', 'NUM'), 3), (('remove', 'VERB'), 3), (('effects', 'NOUN'), 3), (('usual', 'ADJ'), 3), (('patterns', 'NOUN'), 3), (('revive', 'VERB'), 3), (('draw', 'VERB'), 3), (('warning', 'NOUN'), 3), (('0.1', 'NUM'), 3), (('soft', 'ADJ'), 3), (('excessive', 'ADJ'), 3), (('1.6', 'NUM'), 3), (('Bankers', 'NOUN'), 3), (('predicted', 'VERB'), 3), (('homes', 'NOUN'), 3), (('Bretz', 'NOUN'), 3), (('Stamford', 'NOUN'), 3), (('suppliers', 'NOUN'), 3), (('*T*-51', 'X'), 3), (('suspect', 'VERB'), 3), (('that', 'ADV'), 3), (('odd', 'ADJ'), 3), (('coupled', 'VERB'), 3), (('Here', 'ADV'), 3), (('Wild', 'NOUN'), 3), (('common', 'NOUN'), 3), (('reader', 'NOUN'), 3), (('society', 'NOUN'), 3), (('belong', 'VERB'), 3), (('funny', 'ADJ'), 3), (('else', 'ADV'), 3), (('Wood', 'NOUN'), 3), (('Their', 'PRON'), 3), (('baseball', 'NOUN'), 3), (('call', 'VERB'), 3), (('describes', 'VERB'), 3), (('ballplayers', 'NOUN'), 3), (('commitment', 'NOUN'), 3), (('image', 'NOUN'), 3), (('played', 'VERB'), 3), (('even', 'ADJ'), 3), (('shame', 'NOUN'), 3), (('strict', 'ADJ'), 3), (('worth', 'ADJ'), 3), (('complaint', 'NOUN'), 3), (('and', 'ADJ'), 3), (('style', 'NOUN'), 3), (('*EXP*-3', 'X'), 3), (('assistant', 'ADJ'), 3), (('committed', 'VERB'), 3), (('globe', 'NOUN'), 3), (('restaurants', 'NOUN'), 3), (('sports', 'NOUN'), 3), (('prime', 'ADJ'), 3), (('advertising', 'VERB'), 3), (('pressured', 'ADJ'), 3), (('Olympic', 'NOUN'), 3), (('Organization', 'NOUN'), 3), (('organizations', 'NOUN'), 3), (('Once', 'ADV'), 3), (('tested', 'VERB'), 3), (('*-64', 'X'), 3), (('financially', 'ADV'), 3), (('parliament', 'NOUN'), 3), (('Prime', 'NOUN'), 3), (('damage', 'NOUN'), 3), (('statistics', 'NOUN'), 3), (('underwriters', 'NOUN'), 3), (('revived', 'VERB'), 3), (('college', 'NOUN'), 3), (('earns', 'VERB'), 3), (('feeling', 'VERB'), 3), (('Bill', 'NOUN'), 3), (('*-73', 'X'), 3), (('mother', 'NOUN'), 3), (('child', 'NOUN'), 3), (('turns', 'VERB'), 3), (('far', 'ADJ'), 3), (('strongly', 'ADV'), 3), (('harsh', 'ADJ'), 3), (('Yet', 'ADV'), 3), (('Marie-Louise', 'NOUN'), 3), (('executed', 'VERB'), 3), (('killed', 'VERB'), 3), (('husband', 'NOUN'), 3), (('presented', 'VERB'), 3), (('nice', 'ADJ'), 3), (('deserve', 'VERB'), 3), (('scenes', 'NOUN'), 3), (('mention', 'VERB'), 3), (('spot', 'NOUN'), 3), (('seeing', 'VERB'), 3), (('discussing', 'VERB'), 3), (('regular', 'ADJ'), 3), (('767', 'NUM'), 3), (('stages', 'NOUN'), 3), (('Heavy', 'NOUN'), 3), (('event', 'NOUN'), 3), (('boost', 'NOUN'), 3), (('presidential', 'ADJ'), 3), (('fears', 'NOUN'), 3), (('era', 'NOUN'), 3), (('consultant', 'NOUN'), 3), (('straight', 'ADJ'), 3), (('convicted', 'VERB'), 3), (('cop-killer', 'ADJ'), 3), (('bullets', 'NOUN'), 3), (('telling', 'VERB'), 3), (('classic', 'ADJ'), 3), (('Republican', 'ADJ'), 3), (('agree', 'VERB'), 3), (('flag', 'NOUN'), 3), (('freedom', 'NOUN'), 3), (('denies', 'VERB'), 3), (('very', 'ADJ'), 3), (('lawmakers', 'NOUN'), 3), (('remainder', 'NOUN'), 3), (('season', 'NOUN'), 3), (('truce', 'NOUN'), 3), (('attacks', 'NOUN'), 3), (('Pinocchio', 'NOUN'), 3), (('waste', 'NOUN'), 3), (('nose', 'NOUN'), 3), (('barrel', 'NOUN'), 3), (('land', 'NOUN'), 3), (('cooperation', 'NOUN'), 3), (('Southeast', 'ADJ'), 3), (('pursued', 'VERB'), 3), (('fresh', 'ADJ'), 3), (('economies', 'NOUN'), 3), (('Hormats', 'NOUN'), 3), (('spurred', 'VERB'), 3), (('accommodate', 'VERB'), 3), (('East', 'ADJ'), 3), (('closer', 'ADJ'), 3), (('Baker', 'NOUN'), 3), (('intention', 'NOUN'), 3), (('shape', 'NOUN'), 3), (('friends', 'NOUN'), 3), (('architecture', 'NOUN'), 3), (('optimism', 'NOUN'), 3), (('understanding', 'NOUN'), 3), (('functions', 'NOUN'), 3), (('bases', 'NOUN'), 3), (('Basic', 'ADJ'), 3), (('Skills', 'NOUN'), 3), (('graders', 'NOUN'), 3), (('surrendered', 'VERB'), 3), (('low-ability', 'ADJ'), 3), (('gone', 'VERB'), 3), (('guilty', 'ADJ'), 3), (('jail', 'NOUN'), 3), (('teach', 'VERB'), 3), (('statute', 'NOUN'), 3), (('greatly', 'ADV'), 3), (('booming', 'VERB'), 3), (('Macmillan\\\\/McGraw-Hill', 'NOUN'), 3), (('academic', 'ADJ'), 3), (('projects', 'NOUN'), 3), (('Cannell', 'NOUN'), 3), (('seriously', 'ADV'), 3), (('Partly', 'ADV'), 3), (('textile', 'NOUN'), 3), (('serving', 'VERB'), 3), (('restore', 'VERB'), 3), (('restructured', 'VERB'), 3), (('curriculum', 'NOUN'), 3), (('taught', 'VERB'), 3), (('creation', 'NOUN'), 3), (('club', 'NOUN'), 3), (('all', 'ADV'), 3), (('feared', 'VERB'), 3), (('meant', 'VERB'), 3), (('eager', 'ADJ'), 3), (('out', 'ADV'), 3), (('studies', 'NOUN'), 3), (('badly', 'ADV'), 3), (('heart', 'NOUN'), 3), (('adding', 'VERB'), 3), (('quiet', 'ADJ'), 3), (('resignation', 'NOUN'), 3), (('talk', 'NOUN'), 3), (('offenders', 'NOUN'), 3), (('doubt', 'NOUN'), 3), (('mathematics', 'NOUN'), 3), (('reinstatement', 'NOUN'), 3), (('afraid', 'ADJ'), 3), (('sentiment', 'NOUN'), 3), (('Achievement', 'NOUN'), 3), (('set', 'NOUN'), 3), (('publishes', 'VERB'), 3), (('improving', 'VERB'), 3), (('Michigan', 'NOUN'), 3), (('fifth-grade', 'NOUN'), 3), (('metric', 'ADJ'), 3), (('bar', 'NOUN'), 3), (('intent', 'NOUN'), 3), (('sounds', 'NOUN'), 3), (('ignoring', 'VERB'), 3), (('represented', 'VERB'), 3), (('Sacramento', 'NOUN'), 3), (('Foundation', 'NOUN'), 3), (('Human', 'NOUN'), 3), (('moratorium', 'NOUN'), 3), (('fetal', 'ADJ'), 3), (('funded', 'VERB'), 3), (('involve', 'VERB'), 3), (('HHS', 'NOUN'), 3), (('controversy', 'NOUN'), 3), (('ethical', 'ADJ'), 3), (('posts', 'NOUN'), 3), (('names', 'NOUN'), 3), (('consideration', 'NOUN'), 3), (('Antonio', 'NOUN'), 3), (('charged', 'VERB'), 3), (('Medical', 'NOUN'), 3), (('mechanism', 'NOUN'), 3), (('beginning', 'NOUN'), 3), (('regions', 'NOUN'), 3), (('real-estate', 'NOUN'), 3), (('targets', 'NOUN'), 3), (('speculators', 'NOUN'), 3), (('immediately', 'ADV'), 3), (('OTC', 'NOUN'), 3), (('Bancorp', 'NOUN'), 3), (('fared', 'VERB'), 3), (('related', 'ADJ'), 3), (('eliminates', 'VERB'), 3), (('dramatic', 'ADJ'), 3), (('tumbled', 'VERB'), 3), (('preferred', 'ADJ'), 3), (('redeemed', 'VERB'), 3), (('resolve', 'VERB'), 3), (('SCI', 'NOUN'), 3), (('Revenue', 'NOUN'), 3), (('stem', 'VERB'), 3), (('hire', 'VERB'), 3), (('circumstances', 'NOUN'), 3), (('Gerald', 'NOUN'), 3), (('resolution', 'NOUN'), 3), (('permission', 'NOUN'), 3), (('obtained', 'VERB'), 3), (('develop', 'VERB'), 3), (('confidential', 'ADJ'), 3), (('victim', 'NOUN'), 3), (('lucrative', 'ADJ'), 3), (('Calif', 'NOUN'), 3), (('couple', 'NOUN'), 3), (('around', 'PRT'), 3), (('eye', 'NOUN'), 3), (('high-priced', 'ADJ'), 3), (('Darkhorse', 'NOUN'), 3), (('employed', 'VERB'), 3), (('Samnick', 'NOUN'), 3), (('prohibits', 'VERB'), 3), (('promote', 'VERB'), 3), (('comments', 'NOUN'), 3), (('District', 'NOUN'), 3), (('Hampton', 'NOUN'), 3), (('judicial', 'ADJ'), 3), (('impose', 'VERB'), 3), (('principle', 'NOUN'), 3), (('tire', 'NOUN'), 3), (('consist', 'VERB'), 3), (('feet', 'NOUN'), 3), (('investigating', 'VERB'), 3), (('reputation', 'NOUN'), 3), (('accepting', 'VERB'), 3), (('plan', 'VERB'), 3), (('insisted', 'VERB'), 3), (('contacted', 'VERB'), 3), (('Backe', 'NOUN'), 3), (('German', 'ADJ'), 3), (('minimum', 'NOUN'), 3), (('note', 'VERB'), 3), (('driving', 'VERB'), 3), (('1.8500', 'NUM'), 3), (('143.80', 'NUM'), 3), (('trust', 'NOUN'), 3), (('contends', 'VERB'), 3), (('cites', 'VERB'), 3), (('Great', 'ADJ'), 3), (('point', 'VERB'), 3), (('3.5', 'NUM'), 3), (('ounces', 'NOUN'), 3), (('shows', 'NOUN'), 3), (('sign', 'VERB'), 3), (('station', 'NOUN'), 3), (('N.C.', 'NOUN'), 3), (('disappointment', 'NOUN'), 3), (('promise', 'NOUN'), 3), (('crisis', 'NOUN'), 3), (('premiere', 'NOUN'), 3), (('*-80', 'X'), 3), (('printed', 'VERB'), 3), (('surprisingly', 'ADV'), 3), (('advertise', 'VERB'), 3), (('economics', 'NOUN'), 3), (('publisher', 'NOUN'), 3), (('breaks', 'VERB'), 3), (('damaged', 'VERB'), 3), (('Free', 'NOUN'), 3), (('Pittsburgh', 'NOUN'), 3), (('Holding', 'NOUN'), 3), (('AG', 'NOUN'), 3), (('device', 'NOUN'), 3), (('automobiles', 'NOUN'), 3), (('ongoing', 'ADJ'), 3), (('one-third', 'NOUN'), 3), (('actually', 'ADV'), 3), (('Highway', 'NOUN'), 3), (('automatic', 'ADJ'), 3), (('pounds', 'NOUN'), 3), (('rear-seat', 'NOUN'), 3), (('shoulder', 'NOUN'), 3), (('railcars', 'NOUN'), 3), (('offers', 'NOUN'), 3), (('opposition', 'NOUN'), 3), (('passage', 'NOUN'), 3), (('slump', 'NOUN'), 3), (('Warren', 'NOUN'), 3), (('Stag', 'NOUN'), 3), (('Leap', 'NOUN'), 3), (('shops', 'NOUN'), 3), (('Diamond', 'NOUN'), 3), (('Bordeaux', 'NOUN'), 3), (('Romanee-Conti', 'NOUN'), 3), (('Tache', 'NOUN'), 3), (('Roederer', 'NOUN'), 3), (('Cristal', 'NOUN'), 3), (('Chateau', 'NOUN'), 3), (('barrier', 'NOUN'), 3), (('precious', 'ADJ'), 3), (('Larry', 'NOUN'), 3), (('Shapiro', 'NOUN'), 3), (('originally', 'ADV'), 3), (('merchants', 'NOUN'), 3), (('check', 'VERB'), 3), (('1', 'X'), 3), (('responses', 'NOUN'), 3), (('2', 'X'), 3), (('3', 'X'), 3), (('thinks', 'VERB'), 3), (('Or', 'CONJ'), 3), (('movement', 'NOUN'), 3), (('ideas', 'NOUN'), 3), (('moment', 'NOUN'), 3), (('looming', 'VERB'), 3), (('Black', 'NOUN'), 3), (('Kansas', 'NOUN'), 3), (('hopefully', 'ADV'), 3), (('expecting', 'VERB'), 3), (('0.25', 'NUM'), 3), (('halt', 'NOUN'), 3), (('exercised', 'VERB'), 3), (('Copperweld', 'NOUN'), 3), (('Basham', 'NOUN'), 3), (('13.8', 'NUM'), 3), (('auctioned', 'VERB'), 3), (('rally', 'NOUN'), 3), (('Bond', 'NOUN'), 3), (('2645.90', 'NUM'), 3), (('disappointed', 'VERB'), 3), (('3.18', 'NUM'), 3), (('pattern', 'NOUN'), 3), (('Mining', 'NOUN'), 3), (('9.9', 'NUM'), 3), (('subordinated', 'VERB'), 3), (('hundred', 'NUM'), 3), (('respond', 'VERB'), 3), (('acne', 'NOUN'), 3), (('medicine', 'NOUN'), 3), (('elsewhere', 'ADV'), 3), (('researcher', 'NOUN'), 3), (('Officials', 'NOUN'), 3), (('indeed', 'ADV'), 3), (('barriers', 'NOUN'), 3), (('signal', 'NOUN'), 3), (('notably', 'ADV'), 3), (('fuel', 'NOUN'), 3), (('1.2', 'NUM'), 3), (('Koito', 'NOUN'), 3), (('structures', 'NOUN'), 3), (('recommendations', 'NOUN'), 3), (('quick', 'ADJ'), 3), (('basic', 'ADJ'), 3), (('high-tech', 'ADJ'), 3), (('secured', 'VERB'), 3), (('skin', 'NOUN'), 3), (('Center', 'NOUN'), 3), (('Wakui', 'NOUN'), 3), (('integrated', 'VERB'), 3), (('start', 'NOUN'), 3), (('goal', 'NOUN'), 3), (('performed', 'VERB'), 3), (('extent', 'NOUN'), 3), (('Hudson', 'NOUN'), 3), (('Stearn', 'NOUN'), 3), (('maintenance', 'NOUN'), 3), (('convenient', 'ADJ'), 3), (('loyalty', 'NOUN'), 3), (('targeting', 'VERB'), 3), (('Moore', 'NOUN'), 3), (('stepped', 'VERB'), 3), (('Banks', 'NOUN'), 3), (('branches', 'NOUN'), 3), (('Panama', 'NOUN'), 3), (('market-share', 'ADJ'), 3), (('N.C', 'NOUN'), 3), (('costly', 'ADJ'), 3), (('moving', 'VERB'), 3), (('split', 'VERB'), 3), (('registration', 'NOUN'), 3), (('500,000', 'NUM'), 3), (('2.3', 'NUM'), 3), (('Buy', 'VERB'), 3), (('Chevrolet', 'NOUN'), 3), (('demise', 'NOUN'), 3), (('Ranieri', 'NOUN'), 3), (('worse', 'ADJ'), 3), (('stemming', 'VERB'), 3), (('halts', 'NOUN'), 3), (('one-hour', 'ADJ'), 3), (('industrials', 'NOUN'), 3), (('12-point', 'ADJ'), 3), (('selling', 'NOUN'), 3), (('executing', 'VERB'), 3), (('shut', 'VERB'), 3), (('writing', 'VERB'), 3), (('regulated', 'VERB'), 3), (('English', 'ADJ'), 3), (('Dorothy', 'NOUN'), 3), (('stone', 'NOUN'), 3), (('stands', 'VERB'), 3), (('modern', 'ADJ'), 3), (('Hammond', 'NOUN'), 3), (('youth', 'NOUN'), 3), (('Ringers', 'NOUN'), 3), (('methods', 'NOUN'), 3), (('ringing', 'NOUN'), 3), (('belfry', 'NOUN'), 3), (('Church', 'NOUN'), 3), (('attend', 'VERB'), 3), (('promptly', 'ADV'), 3), (('reopen', 'VERB'), 3), (('crunch', 'NOUN'), 3), (('bang', 'NOUN'), 3), (('hopes', 'NOUN'), 3), (('drawn', 'VERB'), 3), (('weekly', 'ADJ'), 3), (('payouts', 'NOUN'), 3), (('Boesel', 'NOUN'), 3), (('Growth', 'NOUN'), 3), (('watchers', 'NOUN'), 3), (('Put', 'VERB'), 3), (('3.3', 'NUM'), 3), (('W.', 'NOUN'), 3), (('Coxon', 'NOUN'), 3), (('notes', 'VERB'), 3), (('Einhorn', 'NOUN'), 3), (('weaken', 'VERB'), 3), (('trailed', 'VERB'), 3), (('deliver', 'VERB'), 3), (('appreciation', 'NOUN'), 3), (('plight', 'NOUN'), 3), (('Berliner', 'NOUN'), 3), (('Beverly', 'NOUN'), 3), (('Kingdom', 'NOUN'), 3), (('Series', 'NOUN'), 3), (('historic', 'ADJ'), 3), (('interference', 'NOUN'), 3), (('Yang', 'NOUN'), 3), (('respect', 'NOUN'), 3), (('occurred', 'VERB'), 3), (('exchanges', 'NOUN'), 3), (('citizen', 'NOUN'), 3), (('arms', 'NOUN'), 3), (('protests', 'NOUN'), 3), (('tree', 'NOUN'), 3), (('working', 'NOUN'), 3), (('compensation', 'NOUN'), 3), (('changing', 'VERB'), 3), (('accept', 'VERB'), 3), (('Higher', 'ADJ'), 3), (('continually', 'ADV'), 3), (('favorable', 'ADJ'), 3), (('assumption', 'NOUN'), 3), (('expelled', 'VERB'), 3), (('Vargas', 'NOUN'), 3), (('listing', 'NOUN'), 3), (('Otero', 'NOUN'), 3), (('Triton', 'NOUN'), 3), (('Crane', 'NOUN'), 3), (('Glenn', 'NOUN'), 3), (('Canepa', 'NOUN'), 3), (('Dell', 'NOUN'), 3), (('markdown', 'NOUN'), 3), (('Fred', 'NOUN'), 3), (('Davis', 'NOUN'), 3), (('amounted', 'VERB'), 3), (('Scott', 'NOUN'), 3), (('45,000', 'NUM'), 3), (('Jamaica', 'NOUN'), 3), (('compliance', 'NOUN'), 3), (('2,000', 'NUM'), 3), (('Randolph', 'NOUN'), 3), (('Las', 'NOUN'), 3), (('Vegas', 'NOUN'), 3), (('Nev.', 'NOUN'), 3), (('furor', 'NOUN'), 3), (('abroad', 'ADV'), 3), (('scrutinizing', 'VERB'), 3), (('suspend', 'VERB'), 3), (('strategies', 'NOUN'), 3), (('Options', 'NOUN'), 3), (('FT-SE', 'NOUN'), 3), (('compares', 'VERB'), 3), (('backed', 'VERB'), 3), (('opponents', 'NOUN'), 3), (('vote', 'VERB'), 3), (('nickel', 'NOUN'), 3), (('Labor', 'NOUN'), 3), (('covers', 'VERB'), 3), (('impossible', 'ADJ'), 3), (('Force', 'NOUN'), 3), (('replacement', 'NOUN'), 3), (('completion', 'NOUN'), 3), (('war', 'NOUN'), 3), (('knew', 'VERB'), 3), (('joining', 'VERB'), 3), (('transition', 'NOUN'), 3), (('swiftly', 'ADV'), 3), (('repair', 'NOUN'), 3), (('waters', 'NOUN'), 3), (('sweeping', 'ADJ'), 3), (('variety', 'NOUN'), 3), (('quota', 'NOUN'), 3), (('Gray', 'NOUN'), 3), (('Caribbean', 'NOUN'), 3), (('conservative', 'ADJ'), 3), (('17.3', 'NUM'), 3), (('bridges', 'NOUN'), 3), (('railing', 'NOUN'), 3), (('F', 'NOUN'), 3), (('Bridge', 'NOUN'), 3), (('bridge', 'NOUN'), 3), (('Similarly', 'ADV'), 3), (('designers', 'NOUN'), 3), (('Eggers', 'NOUN'), 3), (('cell', 'NOUN'), 3), (('efficient', 'ADJ'), 3), (('penalty', 'NOUN'), 3), (('Fairless', 'NOUN'), 3), (('1,500', 'NUM'), 3), (('electrical', 'ADJ'), 3), (('citations', 'NOUN'), 3), (('severe', 'ADJ'), 3), (('record', 'VERB'), 3), (('discrepancies', 'NOUN'), 3), (('edition', 'NOUN'), 3), (('causes', 'NOUN'), 3), (('illness', 'NOUN'), 3), (('M.D.', 'NOUN'), 3), (('Wright', 'NOUN'), 3), (('combination', 'NOUN'), 3), (('regarded', 'VERB'), 3), (('unable', 'ADJ'), 3), (('yourself', 'PRON'), 3), (('what', 'DET'), 3), (('namely', 'ADV'), 3), (('conversion', 'NOUN'), 3), (('benefit', 'NOUN'), 3), (('democracy', 'NOUN'), 3), (('propaganda', 'NOUN'), 3), (('facilities', 'NOUN'), 3), (('VOA', 'NOUN'), 3), (('How', 'ADV'), 3), (('copy', 'VERB'), 3), (('Des', 'NOUN'), 3), (('Moines', 'NOUN'), 3), (('McCormick', 'NOUN'), 3), (('helpful', 'ADJ'), 3), (('duty', 'NOUN'), 3), (('conclude', 'VERB'), 3), (('ought', 'VERB'), 3), (('Gordon', 'NOUN'), 3), (('responsibilities', 'NOUN'), 3), (('McMillin', 'NOUN'), 3), (('operation', 'NOUN'), 3), (('dominated', 'VERB'), 3), (('pushed', 'VERB'), 3), (('closing', 'VERB'), 3), (('disappointing', 'ADJ'), 3), (('2.8', 'NUM'), 3), (('FEDERAL', 'NOUN'), 3), (('Source', 'NOUN'), 3), (('unsecured', 'ADJ'), 3), (('8.50', 'NUM'), 3), (('800', 'NUM'), 3), (('Alfred', 'NOUN'), 3), (('divisions', 'NOUN'), 3), (('rumored', 'VERB'), 3), (('respected', 'VERB'), 3), (('prerogatives', 'NOUN'), 3), (('specified', 'VERB'), 3), (('understand', 'VERB'), 3), (('presidency', 'NOUN'), 3), (('supported', 'VERB'), 3), (('framers', 'NOUN'), 3), (('perform', 'VERB'), 3), (('declaring', 'VERB'), 3), (('appointments', 'NOUN'), 3), (('Thus', 'ADV'), 3), (('rider', 'NOUN'), 3), (('agricultural', 'ADJ'), 3), (('v.', 'CONJ'), 3), (('Gorbachev', 'NOUN'), 3), (('Plains', 'NOUN'), 3), (('crops', 'NOUN'), 3), (('2.7', 'NUM'), 3), (('16.7', 'NUM'), 3), (('struggling', 'VERB'), 3), (('Examiner', 'NOUN'), 3), (('abandoned', 'VERB'), 3), (('Bradley', 'NOUN'), 3), (('Riese', 'NOUN'), 3), (('considers', 'VERB'), 3), (('responsible', 'ADJ'), 3), (('interest-rate', 'NOUN'), 3), (('600', 'NUM'), 3), (('Peabody', 'NOUN'), 3), (('stockbrokers', 'NOUN'), 3), (('Contel', 'NOUN'), 3), (('program-trading', 'NOUN'), 3), (('blue-chip', 'ADJ'), 3), (('Brothers', 'NOUN'), 3), (('psychology', 'NOUN'), 3), (('constantly', 'ADV'), 3), (('fundamental', 'ADJ'), 3), (('evil', 'ADJ'), 3), (('ultimate', 'ADJ'), 3), (('commissions', 'NOUN'), 3), (('*PPA*-3', 'X'), 3), (('warning', 'VERB'), 3), (('mergers', 'NOUN'), 3), (('offsetting', 'VERB'), 3), (('cut', 'NOUN'), 3), (('ballot', 'NOUN'), 3), (('Cruise', 'NOUN'), 3), (('prints', 'NOUN'), 3), (('stability', 'NOUN'), 3), (('break', 'VERB'), 3), (('blood', 'NOUN'), 3), (('Israel', 'NOUN'), 3), (('follow', 'VERB'), 3), (('Diaper', 'NOUN'), 3), (('Egnuss', 'NOUN'), 3), (('figure', 'VERB'), 3), (('increases', 'VERB'), 3), (('magnetic', 'ADJ'), 3), (('multi-crystal', 'ADJ'), 3), (('crystal', 'NOUN'), 3), (('Citadel', 'NOUN'), 3), (('Taylor', 'NOUN'), 3), (('750', 'NUM'), 3), (('obligation', 'NOUN'), 3), (('6.20', 'NUM'), 3), (('7.272', 'NUM'), 3), (('Ana', 'NOUN'), 3), (('6.40', 'NUM'), 3), (('7.458', 'NUM'), 3), (('2029', 'NUM'), 3), (('1994', 'NUM'), 3), (('francs', 'NOUN'), 3), (('Candlestick', 'NOUN'), 3), (('ballpark', 'NOUN'), 3), (('backers', 'NOUN'), 3), (('longer-term', 'ADJ'), 3), (('collapse', 'NOUN'), 3), (('squeeze', 'NOUN'), 3), (('proving', 'VERB'), 3), (('Food', 'NOUN'), 3), (('liable', 'ADJ'), 3), (('liability', 'NOUN'), 3), (('Hymowitz', 'NOUN'), 3), (('pill', 'NOUN'), 3), (('justices', 'NOUN'), 3), (('DSM', 'NOUN'), 3), (('cataract', 'NOUN'), 3), (('El', 'NOUN'), 3), (('1.65', 'NUM'), 3), (('Oshkosh', 'NOUN'), 3), (('chassis', 'NOUN'), 3), (('edged', 'VERB'), 3), (('8.5', 'NUM'), 3), (('profit-taking', 'NOUN'), 3), (('indication', 'NOUN'), 3), (('Frankfurt', 'NOUN'), 3), (('Buying', 'VERB'), 3), (('forecast', 'VERB'), 3), (('refunding', 'NOUN'), 3), (('22\\\\/32', 'NUM'), 3), (('Issues', 'NOUN'), 3), (('2\\\\/32', 'NUM'), 3), (('earthquake', 'NOUN'), 3), (('acid', 'ADJ'), 3), (('weaker', 'ADJ'), 3), (('acid-rain', 'NOUN'), 3), (('Russell', 'NOUN'), 3), (('mix', 'NOUN'), 3), (('Stock-index', 'NOUN'), 3), (('labor-management', 'NOUN'), 3), (('skeptical', 'ADJ'), 3), (('0.82', 'NUM'), 3), (('specify', 'VERB'), 3), (('extended', 'VERB'), 3), (('tendered', 'VERB'), 3), (('Prices', 'NOUN'), 3), (('1989-90', 'NUM'), 3), (('1.25', 'NUM'), 3), (('supplies', 'NOUN'), 3), (('Bougainville', 'NOUN'), 3), (('Savin', 'NOUN'), 3), (('Paper', 'NOUN'), 3), (('diversified', 'ADJ'), 3), (('RMS', 'NOUN'), 3), (('Finland', 'NOUN'), 3), (('Coleco', 'NOUN'), 3), (('unveiled', 'VERB'), 3), (('Crum', 'NOUN'), 3), (('Forster', 'NOUN'), 3), (('treating', 'VERB'), 3), (('rulings', 'NOUN'), 3), (('anti-dumping', 'ADJ'), 3), (('scammers', 'NOUN'), 3), (('Oy', 'NOUN'), 3), (('markkaa', 'NOUN'), 3), (('Nichol', 'NOUN'), 3), (('pet', 'NOUN'), 3), (('battery', 'NOUN'), 3), (('river', 'NOUN'), 3), (('barges', 'NOUN'), 3), (('barge', 'NOUN'), 3), (('Missouri', 'NOUN'), 3), (('stockpiles', 'NOUN'), 3), (('metal', 'NOUN'), 3), (('steelmakers', 'NOUN'), 3), (('Vinken', 'NOUN'), 2), (('Consolidated', 'NOUN'), 2), (('Gold', 'NOUN'), 2), (('Fields', 'NOUN'), 2), (('exposed', 'VERB'), 2), (('unusually', 'ADV'), 2), (('1956', 'NUM'), 2), (('forum', 'NOUN'), 2), (('smokers', 'NOUN'), 2), (('useful', 'ADJ'), 2), (('users', 'NOUN'), 2), (('Cancer', 'NOUN'), 2), (('1950s', 'NUM'), 2), (('9.8', 'NUM'), 2), (('lung', 'NOUN'), 2), (('striking', 'ADJ'), 2), (('industrialized', 'VERB'), 2), (('Hollingsworth', 'NOUN'), 2), (('Vose', 'NOUN'), 2), (('*T*-6', 'X'), 2), (('regulate', 'VERB'), 2), (('chrysotile', 'NOUN'), 2), (('*T*-7', 'X'), 2), (('standard', 'NOUN'), 2), (('Mossman', 'NOUN'), 2), (('More', 'ADV'), 2), (('body', 'NOUN'), 2), (('*T*-8', 'X'), 2), (('*-8', 'X'), 2), (('Workers', 'NOUN'), 2), (('fans', 'NOUN'), 2), (('contracted', 'VERB'), 2), (('Phillips', 'NOUN'), 2), (('taxable', 'ADJ'), 2), (('8.45', 'NUM'), 2), (('8.47', 'NUM'), 2), (('*-9', 'X'), 2), (('sooner', 'ADV'), 2), (('Nevertheless', 'ADV'), 2), (('blip', 'VERB'), 2), (('8.04', 'NUM'), 2), (('Typically', 'ADV'), 2), (('vary', 'VERB'), 2), (('Dollar', 'NOUN'), 2), (('*T*-9', 'X'), 2), (('slid', 'VERB'), 2), (('*T*-10', 'X'), 2), (('*-10', 'X'), 2), (('succeeds', 'VERB'), 2), (('*T*-11', 'X'), 2), (('year-end', 'NOUN'), 2), (('Controls', 'NOUN'), 2), (('Operations', 'NOUN'), 2), (('Finmeccanica', 'NOUN'), 2), (('state-owned', 'ADJ'), 2), (('lifted', 'VERB'), 2), (('acts', 'VERB'), 2), (('obligations', 'NOUN'), 2), (('midnight', 'NOUN'), 2), (('2.87', 'NUM'), 2), (('*-11', 'X'), 2), (('Vitulli', 'NOUN'), 2), (('*-12', 'X'), 2), (('Mazda', 'NOUN'), 2), (('resort', 'NOUN'), 2), (('towns', 'NOUN'), 2), (('Raton', 'NOUN'), 2), (('stars', 'NOUN'), 2), (('giants', 'NOUN'), 2), (('Du', 'NOUN'), 2), (('Pont', 'NOUN'), 2), (('Mayor', 'NOUN'), 2), (('Victor', 'NOUN'), 2), (('red', 'ADJ'), 2), (('lights', 'NOUN'), 2), (('welcomed', 'VERB'), 2), (('museum', 'NOUN'), 2), (('visitors', 'NOUN'), 2), (('honor', 'NOUN'), 2), (('exhibition', 'NOUN'), 2), (('machines', 'NOUN'), 2), (('sponsor', 'NOUN'), 2), (('downtown', 'NOUN'), 2), (('squeezed', 'VERB'), 2), (('dinner', 'NOUN'), 2), (('chefs', 'NOUN'), 2), (('fed', 'VERB'), 2), (('meal', 'NOUN'), 2), (('CEOs', 'NOUN'), 2), (('101', 'NUM'), 2), (('setback', 'NOUN'), 2), (('casting', 'VERB'), 2), (('mere', 'ADJ'), 2), (('boom', 'NOUN'), 2), (('*T*-12', 'X'), 2), (('prolonged', 'VERB'), 2), (('conflicts', 'NOUN'), 2), (('68', 'NUM'), 2), (('recorded', 'VERB'), 2), (('surplus', 'NOUN'), 2), (('Plans', 'NOUN'), 2), (('*T*-13', 'X'), 2), (('permanent', 'ADJ'), 2), (('weeklies', 'NOUN'), 2), (('fierce', 'ADJ'), 2), (('announce', 'VERB'), 2), (('Plan', 'NOUN'), 2), (('credits', 'NOUN'), 2), (('reward', 'VERB'), 2), (('bonuses', 'NOUN'), 2), (('Bureau', 'NOUN'), 2), (('*T*-14', 'X'), 2), (('*T*-15', 'X'), 2), (('decrease', 'NOUN'), 2), (('2.6', 'NUM'), 2), (('bowed', 'VERB'), 2), (('*RNR*-4', 'X'), 2), (('justify', 'VERB'), 2), (('*-13', 'X'), 2), (('Haven', 'NOUN'), 2), (('*-14', 'X'), 2), (('Conn', 'NOUN'), 2), (('rewards', 'NOUN'), 2), (('*T*-16', 'X'), 2), (('*T*-17', 'X'), 2), (('4.8', 'NUM'), 2), (('asserted', 'VERB'), 2), (('3.75', 'NUM'), 2), (('Norman', 'NOUN'), 2), (('Frederick', 'NOUN'), 2), (('*-15', 'X'), 2), (('Daniel', 'NOUN'), 2), (('Circuit', 'NOUN'), 2), (('undersecretary', 'NOUN'), 2), (('refunds', 'NOUN'), 2), (('*T*-18', 'X'), 2), (('electric', 'ADJ'), 2), (('*T*-19', 'X'), 2), (('Feb.', 'NOUN'), 2), (('attempts', 'NOUN'), 2), (('appealing', 'VERB'), 2), (('*-16', 'X'), 2), (('collections', 'NOUN'), 2), (('1.55', 'NUM'), 2), (('*T*-20', 'X'), 2), (('Byron', 'NOUN'), 2), (('Rockford', 'NOUN'), 2), (('*-17', 'X'), 2), (('unreasonable', 'ADJ'), 2), (('190', 'NUM'), 2), (('faces', 'VERB'), 2), (('rule', 'VERB'), 2), (('I', 'NOUN'), 2), (('inched', 'VERB'), 2), (('*T*-21', 'X'), 2), (('Instruments', 'NOUN'), 2), (('manufacture', 'VERB'), 2), (('motor', 'NOUN'), 2), (('creativity', 'NOUN'), 2), (('*-18', 'X'), 2), (('64-year-old', 'ADJ'), 2), (('*-19', 'X'), 2), (('strings', 'NOUN'), 2), (('choice', 'NOUN'), 2), (('Gregory', 'NOUN'), 2), (('*-20', 'X'), 2), (('fund', 'VERB'), 2), (('*T*-22', 'X'), 2), (('anticipates', 'VERB'), 2), (('scenario', 'NOUN'), 2), (('38', 'NUM'), 2), (('link', 'VERB'), 2), (('valuation', 'NOUN'), 2), (('*-21', 'X'), 2), (('Smaby', 'NOUN'), 2), (('either', 'ADV'), 2), (('describe', 'VERB'), 2), (('*-22', 'X'), 2), (('fragile', 'ADJ'), 2), (('*T*-23', 'X'), 2), (('*T*-24', 'X'), 2), (('roll', 'VERB'), 2), (('Big', 'ADJ'), 2), (('Three', 'NUM'), 2), (('supercomputers', 'NOUN'), 2), (('presumably', 'ADV'), 2), (('*-23', 'X'), 2), (('calculate', 'VERB'), 2), (('Along', 'ADP'), 2), (('transferring', 'VERB'), 2), (('*T*-25', 'X'), 2), (('drain', 'NOUN'), 2), (('favored', 'VERB'), 2), (('*-24', 'X'), 2), (('Colorado', 'NOUN'), 2), (('600,000', 'NUM'), 2), (('*-26', 'X'), 2), (('Neil', 'NOUN'), 2), (('Malcolm', 'NOUN'), 2), (('*T*-26', 'X'), 2), (('Stevens', 'NOUN'), 2), (('*-27', 'X'), 2), (('Hatch', 'NOUN'), 2), (('*-28', 'X'), 2), (('*-29', 'X'), 2), (('claiming', 'VERB'), 2), (('stiff', 'ADJ'), 2), (('intellectual', 'ADJ'), 2), (('realization', 'NOUN'), 2), (('negotiators', 'NOUN'), 2), (('inadequate', 'ADJ'), 2), (('hurting', 'VERB'), 2), (('investing', 'VERB'), 2), (('officers', 'NOUN'), 2), (('trained', 'VERB'), 2), (('instituted', 'VERB'), 2), (('introducing', 'VERB'), 2), (('vowed', 'VERB'), 2), (('completely', 'ADV'), 2), (('hook', 'NOUN'), 2), (('*T*-27', 'X'), 2), (('deemed', 'VERB'), 2), (('pose', 'VERB'), 2), (('threat', 'NOUN'), 2), (('*T*-28', 'X'), 2), (('concerned', 'VERB'), 2), (('Turkey', 'NOUN'), 2), (('elaborate', 'ADJ'), 2), (('videocassette', 'NOUN'), 2), (('accelerated', 'VERB'), 2), (('Argentina', 'NOUN'), 2), (('creditor', 'NOUN'), 2), (('Argentine', 'ADJ'), 2), (('stature', 'NOUN'), 2), (('*T*-29', 'X'), 2), (('feels', 'VERB'), 2), (('solved', 'VERB'), 2), (('*-31', 'X'), 2), (('forgiven', 'VERB'), 2), (('*T*-30', 'X'), 2), (('*T*-31', 'X'), 2), (('computing', 'NOUN'), 2), (('*-32', 'X'), 2), (('screens', 'NOUN'), 2), (('stored', 'VERB'), 2), (('*-33', 'X'), 2), (('Steven', 'NOUN'), 2), (('Crude', 'ADJ'), 2), (('memories', 'NOUN'), 2), (('Current', 'ADJ'), 2), (('counterparts', 'NOUN'), 2), (('pioneer', 'NOUN'), 2), (('Gates', 'NOUN'), 2), (('versions', 'NOUN'), 2), (('*T*-32', 'X'), 2), (('drives', 'NOUN'), 2), (('Dennis', 'NOUN'), 2), (('engineers', 'NOUN'), 2), (('*T*-33', 'X'), 2), (('Australian', 'ADJ'), 2), (('Kalipharma', 'NOUN'), 2), (('*T*-34', 'X'), 2), (('voting', 'NOUN'), 2), (('Bass', 'NOUN'), 2), (('*-34', 'X'), 2), (('11,000', 'NUM'), 2), (('*-35', 'X'), 2), (('Exxon', 'NOUN'), 2), (('Reserves', 'NOUN'), 2), (('*-36', 'X'), 2), (('R.P.', 'NOUN'), 2), (('Scherer', 'NOUN'), 2), (('Optical', 'NOUN'), 2), (('*T*-35', 'X'), 2), (('quantities', 'NOUN'), 2), (('Virgin', 'NOUN'), 2), (('Islands', 'NOUN'), 2), (('petition', 'NOUN'), 2), (('*-37', 'X'), 2), (('tariff', 'NOUN'), 2), (('because', 'ADV'), 2), (('seller', 'NOUN'), 2), (('assembled', 'VERB'), 2), (('*T*-36', 'X'), 2), (('in', 'ADV'), 2), (('satisfactory', 'ADJ'), 2), (('ambitious', 'ADJ'), 2), (('Class', 'NOUN'), 2), (('37.5', 'NUM'), 2), (('C$', '.'), 2), (('unsuccessfully', 'ADV'), 2), (('influential', 'ADJ'), 2), (('*-38', 'X'), 2), (('Lord', 'NOUN'), 2), (('*-39', 'X'), 2), (('single-handedly', 'ADV'), 2), (('totaling', 'VERB'), 2), (('*-40', 'X'), 2), (('*-41', 'X'), 2), (('*-42', 'X'), 2), (('Daiwa', 'NOUN'), 2), (('linked', 'VERB'), 2), (('interbank', 'NOUN'), 2), (('advantages', 'NOUN'), 2), (('prepayment', 'NOUN'), 2), (('*-43', 'X'), 2), (('forces', 'VERB'), 2), (('Second', 'ADJ'), 2), (('burden', 'NOUN'), 2), (('attractive', 'ADJ'), 2), (('rapid', 'ADJ'), 2), (('purchasers', 'NOUN'), 2), (('2.4', 'NUM'), 2), (('*-44', 'X'), 2), (('Bankruptcy', 'NOUN'), 2), (('Code', 'NOUN'), 2), (('lawsuits', 'NOUN'), 2), (('attempts', 'VERB'), 2), (('Erbamont', 'NOUN'), 2), (('Netherlands', 'NOUN'), 2), (('advertised', 'VERB'), 2), (('72', 'NUM'), 2), (('*-45', 'X'), 2), (('currencies', 'NOUN'), 2), (('drawing', 'NOUN'), 2), (('marks', 'VERB'), 2), (('protracted', 'ADJ'), 2), (('intensity', 'NOUN'), 2), (('sweeping', 'VERB'), 2), (('*T*-37', 'X'), 2), (('invest', 'VERB'), 2), (('Simon', 'NOUN'), 2), (('Chile', 'NOUN'), 2), (('*-46', 'X'), 2), (('kicked', 'VERB'), 2), (('Newgate', 'NOUN'), 2), (('explosion', 'NOUN'), 2), (('*T*-38', 'X'), 2), (('brings', 'VERB'), 2), (('*T*-39', 'X'), 2), (('Harris', 'NOUN'), 2), (('Upham', 'NOUN'), 2), (('scrambled', 'VERB'), 2), (('*T*-40', 'X'), 2), (('Financial', 'ADJ'), 2), (('planners', 'NOUN'), 2), (('diversify', 'VERB'), 2), (('swing', 'VERB'), 2), (('*-47', 'X'), 2), (('*T*-41', 'X'), 2), (('wild', 'ADJ'), 2), (('fat', 'ADJ'), 2), (('*T*-42', 'X'), 2), (('*T*-43', 'X'), 2), (('skyrocketed', 'VERB'), 2), (('startling', 'ADJ'), 2), (('targeted', 'VERB'), 2), (('*-48', 'X'), 2), (('*T*-44', 'X'), 2), (('*T*-45', 'X'), 2), (('late', 'ADV'), 2), (('188', 'NUM'), 2), (('repaid', 'VERB'), 2), (('*-49', 'X'), 2), (('*-50', 'X'), 2), (('open', 'VERB'), 2), (('Affairs', 'NOUN'), 2), (('crippled', 'VERB'), 2), (('*-51', 'X'), 2), (('lent', 'VERB'), 2), (('Monetary', 'NOUN'), 2), (('belongs', 'VERB'), 2), (('stressed', 'VERB'), 2), (('key', 'NOUN'), 2), (('obstacles', 'NOUN'), 2), (('hundreds', 'NOUN'), 2), (('leveling', 'VERB'), 2), (('manufactured', 'VERB'), 2), (('Kenneth', 'NOUN'), 2), (('*T*-46', 'X'), 2), (('pick', 'VERB'), 2), (('payrolls', 'NOUN'), 2), (('cite', 'VERB'), 2), (('imbalances', 'NOUN'), 2), (('*T*-47', 'X'), 2), (('clues', 'NOUN'), 2), (('Economists', 'NOUN'), 2), (('provoke', 'VERB'), 2), (('*T*-48', 'X'), 2), (('landing', 'NOUN'), 2), (('Platt', 'NOUN'), 2), (('*T*-49', 'X'), 2), (('last', 'VERB'), 2), (('0.3', 'NUM'), 2), (('climbing', 'VERB'), 2), (('0.9', 'NUM'), 2), (('3.9', 'NUM'), 2), (('5.4', 'NUM'), 2), (('backlogs', 'NOUN'), 2), (('Excluding', 'VERB'), 2), (('*T*-50', 'X'), 2), (('off', 'ADJ'), 2), (('4.3', 'NUM'), 2), (('88', 'NUM'), 2), (('adjusting', 'VERB'), 2), (('counts', 'VERB'), 2), (('*-53', 'X'), 2), (('*-54', 'X'), 2), (('renovation', 'NOUN'), 2), (('*-55', 'X'), 2), (('steeper', 'ADJ'), 2), (('handle', 'VERB'), 2), (('*-56', 'X'), 2), (('polled', 'VERB'), 2), (('73', 'NUM'), 2), (('row', 'NOUN'), 2), (('shortage', 'NOUN'), 2), (('exceptionally', 'ADV'), 2), (('quotas', 'NOUN'), 2), (('Pamela', 'NOUN'), 2), (('seasonally', 'ADV'), 2), (('Americana', 'NOUN'), 2), (('Murakami', 'NOUN'), 2), (('Kodansha', 'NOUN'), 2), (('drink', 'VERB'), 2), (('careers', 'NOUN'), 2), (('marriages', 'NOUN'), 2), (('*T*-52', 'X'), 2), (('writers', 'NOUN'), 2), (('*T*-53', 'X'), 2), (('notion', 'NOUN'), 2), (('*-57', 'X'), 2), (('hero', 'NOUN'), 2), (('sets', 'VERB'), 2), (('star', 'NOUN'), 2), (('back', 'NOUN'), 2), (('Stanford', 'NOUN'), 2), (('degree', 'NOUN'), 2), (('*T*-54', 'X'), 2), (('*T*-55', 'X'), 2), (('phone', 'NOUN'), 2), (('Man', 'NOUN'), 2), (('sweet', 'ADJ'), 2), (('*T*-56', 'X'), 2), (('a', 'ADJ'), 2), (('Beatles', 'NOUN'), 2), (('*T*-57', 'X'), 2), (('Gotta', 'NOUN'), 2), (('Have', 'NOUN'), 2), (('Macmillan', 'NOUN'), 2), (('17.95', 'NUM'), 2), (('Nipponese', 'ADJ'), 2), (('harmony', 'NOUN'), 2), (('Wa', 'NOUN'), 2), (('male', 'ADJ'), 2), (('symbol', 'NOUN'), 2), (('unrecognizable', 'ADJ'), 2), (('foul', 'ADJ'), 2), (('zone', 'NOUN'), 2), (('sidestep', 'VERB'), 2), (('amusing', 'ADJ'), 2), (('fare', 'VERB'), 2), (('enormous', 'ADJ'), 2), (('sums', 'NOUN'), 2), (('plate', 'NOUN'), 2), (('228', 'NUM'), 2), (('*T*-58', 'X'), 2), (('to', 'ADP'), 2), (('regret', 'NOUN'), 2), (('*-59', 'X'), 2), (('letting', 'VERB'), 2), (('*T*-59', 'X'), 2), (('ultimately', 'ADV'), 2), (('venerable', 'ADJ'), 2), (('Akio', 'NOUN'), 2), (('Morita', 'NOUN'), 2), (('entering', 'VERB'), 2), (('centers', 'NOUN'), 2), (('clubs', 'NOUN'), 2), (('*-60', 'X'), 2), (('ban', 'VERB'), 2), (('visiting', 'VERB'), 2), (('materialistic', 'ADJ'), 2), (('*T*-60', 'X'), 2), (('*T*-61', 'X'), 2), (('values', 'NOUN'), 2), (('endorsed', 'VERB'), 2), (('*T*-62', 'X'), 2), (('*-61', 'X'), 2), (('Hotel', 'NOUN'), 2), (('balked', 'VERB'), 2), (('*-62', 'X'), 2), (('AIDS', 'NOUN'), 2), (('sex', 'NOUN'), 2), (('*T*-63', 'X'), 2), (('*-63', 'X'), 2), (('associates', 'NOUN'), 2), (('Polish', 'ADJ'), 2), (('compensate', 'VERB'), 2), (('coal', 'NOUN'), 2), (('victory', 'NOUN'), 2), (('environmentalists', 'NOUN'), 2), (('terminated', 'VERB'), 2), (('Nagymaros', 'NOUN'), 2), (('Nemeth', 'NOUN'), 2), (('modify', 'VERB'), 2), (('*T*-64', 'X'), 2), (('*-67', 'X'), 2), (('*-68', 'X'), 2), (('operated', 'VERB'), 2), (('*-69', 'X'), 2), (('peak', 'NOUN'), 2), (('periods', 'NOUN'), 2), (('Stockholm', 'NOUN'), 2), (('weddings', 'NOUN'), 2), (('6,000', 'NUM'), 2), (('Toronto-based', 'ADJ'), 2), (('warrant', 'NOUN'), 2), (('entitles', 'VERB'), 2), (('holder', 'NOUN'), 2), (('*-70', 'X'), 2), (('claim', 'NOUN'), 2), (('*T*-65', 'X'), 2), (('Little', 'NOUN'), 2), (('sketch', 'NOUN'), 2), (('artist', 'NOUN'), 2), (('later', 'ADV'), 2), (('piece', 'NOUN'), 2), (('dialogue', 'NOUN'), 2), (('*-71', 'X'), 2), (('silent', 'ADJ'), 2), (('*T*-66', 'X'), 2), (('music', 'NOUN'), 2), (('score', 'NOUN'), 2), (('*T*-67', 'X'), 2), (('Much', 'ADV'), 2), (('romanticized', 'VERB'), 2), (('Avenue', 'NOUN'), 2), (('one', 'PRON'), 2), (('cardboard', 'NOUN'), 2), (('spends', 'VERB'), 2), (('condemned', 'VERB'), 2), (('competing', 'VERB'), 2), (('*-72', 'X'), 2), (('blind', 'ADJ'), 2), (('girl', 'NOUN'), 2), (('Lights', 'NOUN'), 2), (('returning', 'VERB'), 2), (('murdered', 'VERB'), 2), (('*-74', 'X'), 2), (('blessing', 'NOUN'), 2), (('load', 'VERB'), 2), (('stakes', 'NOUN'), 2), (('romance', 'NOUN'), 2), (('*T*-68', 'X'), 2), (('*T*-69', 'X'), 2), (('lives', 'VERB'), 2), (('apartment', 'NOUN'), 2), (('rough', 'ADJ'), 2), (('voices', 'NOUN'), 2), (('Chabrol', 'NOUN'), 2), (('brilliant', 'ADJ'), 2), (('*T*-70', 'X'), 2), (('character', 'NOUN'), 2), (('sympathetic', 'ADJ'), 2), (('angle', 'NOUN'), 2), (('historical', 'ADJ'), 2), (('Vichy', 'NOUN'), 2), (('Germans', 'NOUN'), 2), (('abortionist', 'NOUN'), 2), (('kind', 'ADJ'), 2), (('openly', 'ADV'), 2), (('Latour', 'NOUN'), 2), (('recommend', 'VERB'), 2), (('either', 'CONJ'), 2), (('fighting', 'VERB'), 2), (('bright', 'ADJ'), 2), (('energetic', 'ADJ'), 2), (('*T*-71', 'X'), 2), (('Before', 'ADP'), 2), (('Boeing', 'NOUN'), 2), (('specific', 'ADJ'), 2), (('sections', 'NOUN'), 2), (('aircraft', 'NOUN'), 2), (('election', 'NOUN'), 2), (('contests', 'NOUN'), 2), (('*T*-72', 'X'), 2), (('stage', 'NOUN'), 2), (('bold', 'ADJ'), 2), (('unlike', 'ADP'), 2), (('*T*-73', 'X'), 2), (('tone', 'NOUN'), 2), (('fills', 'VERB'), 2), (('shot', 'NOUN'), 2), (('candidate', 'NOUN'), 2), (('male', 'NOUN'), 2), (('Roger', 'NOUN'), 2), (('Ailes', 'NOUN'), 2), (('charges', 'VERB'), 2), (('links', 'NOUN'), 2), (('kicker', 'NOUN'), 2), (('corruption', 'NOUN'), 2), (('*T*-74', 'X'), 2), (('exist', 'VERB'), 2), (('Stung', 'VERB'), 2), (('consultants', 'NOUN'), 2), (('One', 'NOUN'), 2), (('banning', 'VERB'), 2), (('pro-choice', 'ADJ'), 2), (('truth', 'NOUN'), 2), (('nobody', 'NOUN'), 2), (('*T*-75', 'X'), 2), (('accurate', 'ADJ'), 2), (('voluntarily', 'ADV'), 2), (('admitted', 'VERB'), 2), (('reporting', 'NOUN'), 2), (('reservations', 'NOUN'), 2), (('Gov.', 'NOUN'), 2), (('talks', 'VERB'), 2), (('tradition', 'NOUN'), 2), (('*T*-76', 'X'), 2), (('dynamics', 'NOUN'), 2), (('referendum', 'NOUN'), 2), (('general', 'NOUN'), 2), (('launch', 'VERB'), 2), (('advertisements', 'NOUN'), 2), (('*T*-77', 'X'), 2), (('attracted', 'VERB'), 2), (('featured', 'VERB'), 2), (('courtroom', 'NOUN'), 2), (('*T*-78', 'X'), 2), (('younger', 'ADJ'), 2), (('scientist', 'NOUN'), 2), (('campaigning', 'NOUN'), 2), (('devote', 'VERB'), 2), (('featuring', 'VERB'), 2), (('hazardous', 'ADJ'), 2), (('suing', 'VERB'), 2), (('fraud', 'NOUN'), 2), (('partisans', 'NOUN'), 2), (('photographs', 'NOUN'), 2), (('shrinks', 'VERB'), 2), (('Salmore', 'NOUN'), 2), (('credibility', 'NOUN'), 2), (('re-election', 'NOUN'), 2), ((\"O'Connor\", 'NOUN'), 2), (('GOP', 'NOUN'), 2), (('Nelson', 'NOUN'), 2), (('350,000', 'NUM'), 2), (('16,000', 'NUM'), 2), (('Friday', 'NOUN'), 2), (('record', 'ADJ'), 2), (('Aug.', 'NOUN'), 2), (('domination', 'NOUN'), 2), (('tripled', 'VERB'), 2), (('steep', 'ADJ'), 2), (('pumping', 'VERB'), 2), (('wages', 'NOUN'), 2), (('contributing', 'VERB'), 2), (('recipient', 'ADJ'), 2), (('spur', 'VERB'), 2), (('constraints', 'NOUN'), 2), (('evolution', 'NOUN'), 2), (('concentrated', 'VERB'), 2), (('donor', 'NOUN'), 2), (('Graduate', 'NOUN'), 2), (('Rather', 'ADV'), 2), (('Princeton', 'NOUN'), 2), (('export', 'VERB'), 2), (('Indonesia', 'NOUN'), 2), (('pull', 'VERB'), 2), (('matters', 'NOUN'), 2), (('Nations', 'NOUN'), 2), (('crucial', 'ADJ'), 2), (('flows', 'NOUN'), 2), (('caution', 'NOUN'), 2), (('commerce', 'NOUN'), 2), (('approach', 'VERB'), 2), (('attitude', 'NOUN'), 2), (('everyone', 'NOUN'), 2), (('step', 'VERB'), 2), (('leases', 'NOUN'), 2), (('regard', 'VERB'), 2), (('desirable', 'ADJ'), 2), (('Lee', 'NOUN'), 2), (('Cathryn', 'NOUN'), 2), (('Rice', 'NOUN'), 2), (('eyes', 'NOUN'), 2), (('social-studies', 'NOUN'), 2), (('protest', 'NOUN'), 2), (('My', 'PRON'), 2), (('Nancy', 'NOUN'), 2), (('classes', 'NOUN'), 2), (('overhead', 'ADJ'), 2), (('*T*-79', 'X'), 2), (('breach', 'VERB'), 2), (('pleaded', 'VERB'), 2), (('*T*-80', 'X'), 2), (('inspired', 'VERB'), 2), (('*T*-81', 'X'), 2), (('defended', 'VERB'), 2), (('treated', 'VERB'), 2), (('harshly', 'ADV'), 2), (('casts', 'VERB'), 2), (('temptation', 'NOUN'), 2), (('violated', 'VERB'), 2), (('enforce', 'VERB'), 2), (('Prosecutors', 'NOUN'), 2), (('Improvement', 'NOUN'), 2), (('Albuquerque', 'NOUN'), 2), (('N.M.', 'NOUN'), 2), (('outright', 'ADJ'), 2), (('surfaced', 'VERB'), 2), (('adult', 'NOUN'), 2), (('statewide', 'ADJ'), 2), (('test-coaching', 'ADJ'), 2), (('instruction', 'NOUN'), 2), (('crib', 'NOUN'), 2), (('concentrate', 'VERB'), 2), (('promotions', 'NOUN'), 2), (('Critics', 'NOUN'), 2), (('stressing', 'VERB'), 2), (('allegations', 'NOUN'), 2), (('run-down', 'ADJ'), 2), (('governors', 'NOUN'), 2), (('physicist', 'NOUN'), 2), (('*PPA*-1', 'X'), 2), (('violence', 'NOUN'), 2), (('Linda', 'NOUN'), 2), (('immediate', 'ADJ'), 2), (('predecessor', 'NOUN'), 2), (('suffered', 'VERB'), 2), (('nervous', 'ADJ'), 2), (('evenly', 'ADV'), 2), (('white', 'ADJ'), 2), (('neighborhoods', 'NOUN'), 2), (('faculty', 'NOUN'), 2), (('behalf', 'NOUN'), 2), (('educational', 'ADJ'), 2), (('ambitions', 'NOUN'), 2), (('reformers', 'NOUN'), 2), (('loved', 'VERB'), 2), (('fast', 'ADV'), 2), (('favorite', 'ADJ'), 2), (('cadet', 'NOUN'), 2), (('advised', 'VERB'), 2), (('Civilization', 'NOUN'), 2), (('Year', 'NOUN'), 2), (('lady', 'NOUN'), 2), (('studying', 'VERB'), 2), (('Marchand', 'NOUN'), 2), (('senior', 'NOUN'), 2), (('furniture', 'NOUN'), 2), (('stands', 'NOUN'), 2), (('football', 'NOUN'), 2), (('fellow', 'ADJ'), 2), (('pushing', 'VERB'), 2), (('earn', 'VERB'), 2), (('meaningful', 'ADJ'), 2), (('Elizabeth', 'NOUN'), 2), (('high', 'ADV'), 2), (('*T*-92', 'X'), 2), (('seminar', 'NOUN'), 2), (('mistake', 'NOUN'), 2), (('subjects', 'NOUN'), 2), (('whole', 'ADJ'), 2), (('alive', 'ADJ'), 2), (('somebody', 'NOUN'), 2), (('blow', 'NOUN'), 2), (('advanced', 'ADJ'), 2), (('Joe', 'NOUN'), 2), (('over', 'ADV'), 2), (('disclosure', 'NOUN'), 2), (('save', 'VERB'), 2), (('certificate', 'NOUN'), 2), (('callers', 'NOUN'), 2), (('murder', 'NOUN'), 2), (('Over', 'ADP'), 2), (('interviewed', 'VERB'), 2), (('explain', 'VERB'), 2), (('Soon', 'ADV'), 2), (('angry', 'ADJ'), 2), (('harm', 'NOUN'), 2), (('damn', 'ADV'), 2), (('wisdom', 'NOUN'), 2), (('Key', 'NOUN'), 2), (('jury', 'NOUN'), 2), (('answer', 'NOUN'), 2), (('worksheets', 'NOUN'), 2), (('used', 'ADJ'), 2), (('instances', 'NOUN'), 2), (('parallels', 'NOUN'), 2), (('coaching', 'NOUN'), 2), (('gauge', 'VERB'), 2), (('grade', 'NOUN'), 2), (('reach', 'NOUN'), 2), (('Florida', 'NOUN'), 2), (('Maryland', 'NOUN'), 2), (('Kean', 'NOUN'), 2), (('Mehrens', 'NOUN'), 2), (('scale', 'NOUN'), 2), (('measured', 'VERB'), 2), (('subskills', 'NOUN'), 2), (('69', 'NUM'), 2), (('Rick', 'NOUN'), 2), (('Brownell', 'NOUN'), 2), (('format', 'NOUN'), 2), (('deny', 'VERB'), 2), (('Alleghany', 'NOUN'), 2), (('S&L', 'NOUN'), 2), (('tissue', 'NOUN'), 2), (('Alzheimer', 'NOUN'), 2), (('Parkinson', 'NOUN'), 2), (('anti-abortionists', 'NOUN'), 2), (('transplant', 'NOUN'), 2), (('indefinitely', 'ADV'), 2), (('Institutes', 'NOUN'), 2), (('implications', 'NOUN'), 2), (('suffering', 'NOUN'), 2), (('hampered', 'VERB'), 2), (('prominent', 'ADJ'), 2), (('fill', 'VERB'), 2), (('Novello', 'NOUN'), 2), (('nominated', 'VERB'), 2), (('assured', 'VERB'), 2), (('ideological', 'ADJ'), 2), (('uncharted', 'ADJ'), 2), (('Genel', 'NOUN'), 2), (('associate', 'NOUN'), 2), (('Yale', 'NOUN'), 2), (('finding', 'VERB'), 2), (('conducting', 'VERB'), 2), (('climate', 'NOUN'), 2), (('visible', 'ADJ'), 2), (('flap', 'NOUN'), 2), (('tissues', 'NOUN'), 2), (('genes', 'NOUN'), 2), (('summary', 'NOUN'), 2), (('paltry', 'ADJ'), 2), (('turnover', 'NOUN'), 2), (('145', 'NUM'), 2), (('tracks', 'VERB'), 2), (('merge', 'VERB'), 2), (('merged', 'VERB'), 2), (('banking', 'VERB'), 2), (('Jennison', 'NOUN'), 2), (('Ed', 'NOUN'), 2), (('third-quarter', 'ADJ'), 2), (('70.7', 'NUM'), 2), (('89.9', 'NUM'), 2), (('mobile', 'ADJ'), 2), (('Dan', 'NOUN'), 2), (('core', 'NOUN'), 2), (('fluctuation', 'NOUN'), 2), (('achieve', 'VERB'), 2), (('depositary', 'NOUN'), 2), (('57.50', 'NUM'), 2), (('acquiring', 'VERB'), 2), (('Burt', 'NOUN'), 2), (('Sugarman', 'NOUN'), 2), (('42.5', 'NUM'), 2), (('nine-member', 'ADJ'), 2), (('post', 'VERB'), 2), (('detailed', 'ADJ'), 2), (('warnings', 'NOUN'), 2), (('criminal', 'NOUN'), 2), (('attorney-client', 'ADJ'), 2), (('privilege', 'NOUN'), 2), (('Security', 'NOUN'), 2), (('punishable', 'ADJ'), 2), (('misdemeanor', 'NOUN'), 2), (('felony', 'NOUN'), 2), (('Attorneys', 'NOUN'), 2), (('wish', 'VERB'), 2), (('Neal', 'NOUN'), 2), (('Defense', 'NOUN'), 2), (('Lawyers', 'NOUN'), 2), (('necessarily', 'ADV'), 2), (('retained', 'VERB'), 2), (('spark', 'VERB'), 2), (('chaired', 'VERB'), 2), (('deal', 'VERB'), 2), (('Bar', 'NOUN'), 2), (('code', 'NOUN'), 2), (('stance', 'NOUN'), 2), (('submit', 'VERB'), 2), (('individual', 'NOUN'), 2), (('sending', 'VERB'), 2), (('test', 'VERB'), 2), (('THE', 'DET'), 2), (('Ramirez', 'NOUN'), 2), (('refusal', 'NOUN'), 2), (('unjust', 'ADJ'), 2), (('professional', 'ADJ'), 2), (('sudden', 'ADJ'), 2), (('relegated', 'VERB'), 2), (('Writers', 'NOUN'), 2), (('Guild', 'NOUN'), 2), (('alleging', 'VERB'), 2), (('mounted', 'VERB'), 2), (('harass', 'VERB'), 2), (('crossing', 'VERB'), 2), (('picket', 'NOUN'), 2), (('involves', 'VERB'), 2), (('co-owner', 'NOUN'), 2), (('illegally', 'ADV'), 2), (('threats', 'NOUN'), 2), (('unjustified', 'ADJ'), 2), (('family-planning', 'ADJ'), 2), (('Title', 'NOUN'), 2), (('X', 'NOUN'), 2), (('assist', 'VERB'), 2), (('counseling', 'NOUN'), 2), (('Second', 'NOUN'), 2), (('bias', 'NOUN'), 2), (('homosexual', 'ADJ'), 2), (('inquiry', 'NOUN'), 2), (('defendant', 'NOUN'), 2), (('killing', 'VERB'), 2), (('boys', 'NOUN'), 2), (('fairness', 'NOUN'), 2), (('justice', 'NOUN'), 2), (('arguments', 'NOUN'), 2), (('Wayne', 'NOUN'), 2), (('prosecution', 'NOUN'), 2), (('Brown', 'NOUN'), 2), (('Bromwich', 'NOUN'), 2), (('Oliver', 'NOUN'), 2), (('North', 'NOUN'), 2), (('served', 'VERB'), 2), (('Cooper', 'NOUN'), 2), (('Ga.', 'NOUN'), 2), (('Bridgestone\\\\/Firestone', 'NOUN'), 2), (('1.8', 'NUM'), 2), (('square', 'ADJ'), 2), (('acres', 'NOUN'), 2), (('apology', 'NOUN'), 2), (('cutthroat', 'ADJ'), 2), (('equivalent', 'NOUN'), 2), (('municipal', 'ADJ'), 2), (('competitors', 'NOUN'), 2), (('lottery', 'NOUN'), 2), (('understood', 'VERB'), 2), (('Fair', 'NOUN'), 2), (('Takuma', 'NOUN'), 2), (('situations', 'NOUN'), 2), (('fire', 'NOUN'), 2), (('touch', 'VERB'), 2), (('tense', 'ADJ'), 2), (('limited', 'ADJ'), 2), (('Asked', 'VERB'), 2), (('Hiroshima', 'NOUN'), 2), (('design', 'VERB'), 2), (('library', 'NOUN'), 2), (('Nagano', 'NOUN'), 2), (('prefecture', 'NOUN'), 2), (('Atlantic', 'NOUN'), 2), (('Publications', 'NOUN'), 2), (('CBS', 'NOUN'), 2), (('NTG', 'NOUN'), 2), (('retaining', 'VERB'), 2), (('Furukawa', 'NOUN'), 2), (('belonging', 'VERB'), 2), (('Dresser', 'NOUN'), 2), (('shovels', 'NOUN'), 2), (('Structural', 'NOUN'), 2), (('compiled', 'VERB'), 2), (('Guaranteed', 'VERB'), 2), (('35.7', 'NUM'), 2), (('oldest', 'ADJ'), 2), (('switch', 'NOUN'), 2), (('six-inch', 'ADJ'), 2), (('additions', 'NOUN'), 2), (('aggressively', 'ADV'), 2), (('suddenly', 'ADV'), 2), (('positioned', 'VERB'), 2), (('dead', 'ADJ'), 2), (('while', 'NOUN'), 2), (('traditionally', 'ADV'), 2), (('plunging', 'VERB'), 2), (('locked', 'VERB'), 2), (('stalemate', 'NOUN'), 2), (('Jay', 'NOUN'), 2), (('Tom', 'NOUN'), 2), (('starts', 'VERB'), 2), (('1.8415', 'NUM'), 2), (('142.85', 'NUM'), 2), (('waiting', 'VERB'), 2), (('wings', 'NOUN'), 2), (('perception', 'NOUN'), 2), (('rolled', 'VERB'), 2), (('prospect', 'NOUN'), 2), (('lock', 'VERB'), 2), (('drifted', 'VERB'), 2), (('release', 'NOUN'), 2), (('measures', 'VERB'), 2), (('Estimated', 'VERB'), 2), (('NBC', 'NOUN'), 2), (('debut', 'NOUN'), 2), (('keeps', 'VERB'), 2), (('laughing', 'VERB'), 2), (('affiliates', 'NOUN'), 2), (('episodes', 'NOUN'), 2), (('distributor', 'NOUN'), 2), (('persuade', 'VERB'), 2), (('Gillespie', 'NOUN'), 2), (('syndication', 'NOUN'), 2), (('*-76', 'X'), 2), (('Providence', 'NOUN'), 2), (('Louisville', 'NOUN'), 2), (('renew', 'VERB'), 2), (('*-78', 'X'), 2), (('representative', 'NOUN'), 2), (('survive', 'VERB'), 2), (('Founded', 'VERB'), 2), (('pieces', 'NOUN'), 2), (('topics', 'NOUN'), 2), (('identify', 'VERB'), 2), (('In', 'NOUN'), 2), (('Dumpster', 'NOUN'), 2), (('offender', 'NOUN'), 2), (('Souper', 'NOUN'), 2), (('Combo', 'NOUN'), 2), (('chastised', 'VERB'), 2), (('*-79', 'X'), 2), (('pointing', 'VERB'), 2), (('*-81', 'X'), 2), (('question', 'VERB'), 2), (('spenders', 'NOUN'), 2), (('run', 'NOUN'), 2), (('Needham', 'NOUN'), 2), (('Waste', 'NOUN'), 2), (('haul', 'NOUN'), 2), (('subscriptions', 'NOUN'), 2), (('*-83', 'X'), 2), (('sleep', 'VERB'), 2), (('Interpublic', 'NOUN'), 2), (('4,000', 'NUM'), 2), (('*-84', 'X'), 2), (('Television', 'NOUN'), 2), (('*-85', 'X'), 2), (('handled', 'VERB'), 2), (('Rubicam', 'NOUN'), 2), (('Enterprise', 'NOUN'), 2), (('specializes', 'VERB'), 2), (('pressed', 'VERB'), 2), (('shipping', 'NOUN'), 2), (('proceeds', 'NOUN'), 2), (('apiece', 'ADV'), 2), (('ward', 'VERB'), 2), (('Stena', 'NOUN'), 2), (('Tiphook', 'NOUN'), 2), (('sweetened', 'VERB'), 2), (('approximately', 'ADV'), 2), (('allocated', 'VERB'), 2), (('*-87', 'X'), 2), (('buy-back', 'NOUN'), 2), (('criticized', 'VERB'), 2), (('conditional', 'ADJ'), 2), (('superior', 'ADJ'), 2), (('place', 'VERB'), 2), (('mired', 'VERB'), 2), (('62.5', 'NUM'), 2), (('responding', 'VERB'), 2), (('advocates', 'NOUN'), 2), (('steps', 'NOUN'), 2), (('requiring', 'VERB'), 2), (('roofs', 'NOUN'), 2), (('front', 'ADJ'), 2), (('extension', 'NOUN'), 2), (('cargo', 'NOUN'), 2), (('systematic', 'ADJ'), 2), (('address', 'VERB'), 2), (('Danforth', 'NOUN'), 2), (('praised', 'VERB'), 2), (('noting', 'VERB'), 2), (('light-truck', 'ADJ'), 2), (('fatalities', 'NOUN'), 2), (('air', 'NOUN'), 2), (('withstand', 'VERB'), 2), (('phasing', 'VERB'), 2), (('installed', 'VERB'), 2), (('Leinonen', 'NOUN'), 2), (('Manufacturing', 'NOUN'), 2), (('Ill', 'NOUN'), 2), (('railroad', 'NOUN'), 2), (('joins', 'VERB'), 2), (('formal', 'ADJ'), 2), (('Driscoll', 'NOUN'), 2), (('Investor', 'NOUN'), 2), (('conversations', 'NOUN'), 2), (('hot', 'ADJ'), 2), (('prevailing', 'VERB'), 2), (('18,000', 'NUM'), 2), (('year-ago', 'ADJ'), 2), (('succeeding', 'VERB'), 2), (('Butler', 'NOUN'), 2), (('Winiarski', 'NOUN'), 2), (('Cask', 'NOUN'), 2), (('Vineyard', 'NOUN'), 2), (('weighed', 'VERB'), 2), (('category', 'NOUN'), 2), (('superpremiums', 'NOUN'), 2), (('perceived', 'VERB'), 2), (('stable', 'NOUN'), 2), (('classics', 'NOUN'), 2), (('growths', 'NOUN'), 2), (('Burgundies', 'NOUN'), 2), (('Yquem', 'NOUN'), 2), (('Biondi-Santi', 'NOUN'), 2), (('Brunello', 'NOUN'), 2), (('Tuscany', 'NOUN'), 2), (('releases', 'NOUN'), 2), (('vintages', 'NOUN'), 2), (('vintage', 'NOUN'), 2), (('179', 'NUM'), 2), (('Mesnil', 'NOUN'), 2), (('Blanc', 'NOUN'), 2), (('Blancs', 'NOUN'), 2), (('115', 'NUM'), 2), (('Burgundy', 'NOUN'), 2), (('higher', 'ADV'), 2), (('Richebourg', 'NOUN'), 2), (('225', 'NUM'), 2), (('155', 'NUM'), 2), (('Hermitage', 'NOUN'), 2), (('Marty', 'NOUN'), 2), (('grapes', 'NOUN'), 2), (('perfectly', 'ADV'), 2), (('*-98', 'X'), 2), (('six-packs', 'NOUN'), 2), (('remarked', 'VERB'), 2), (('dramatically', 'ADV'), 2), (('Red', 'NOUN'), 2), (('Cabernets', 'NOUN'), 2), (('Producers', 'NOUN'), 2), (('appeal', 'VERB'), 2), (('lowering', 'VERB'), 2), (('and', 'NOUN'), 2), (('moderated', 'VERB'), 2), (('Richmond', 'NOUN'), 2), (('posting', 'VERB'), 2), (('agrees', 'VERB'), 2), (('stated', 'VERB'), 2), (('discretionary', 'ADJ'), 2), (('*-102', 'X'), 2), (('Integra', 'NOUN'), 2), (('Hallwood', 'NOUN'), 2), (('steelmaker', 'NOUN'), 2), (('reject', 'VERB'), 2), (('fails', 'VERB'), 2), (('redeem', 'VERB'), 2), (('three-year', 'ADJ'), 2), (('five-year', 'ADJ'), 2), (('estimates', 'VERB'), 2), (('Lancaster', 'NOUN'), 2), (('Reames', 'NOUN'), 2), (('Foods', 'NOUN'), 2), (('marketer', 'NOUN'), 2), (('frozen', 'VERB'), 2), (('fractionally', 'ADV'), 2), (('advancing', 'VERB'), 2), (('847', 'NUM'), 2), (('644', 'NUM'), 2), (('enthusiasm', 'NOUN'), 2), (('rushed', 'VERB'), 2), (('Eaton', 'NOUN'), 2), (('Sierra', 'NOUN'), 2), (('supplies', 'VERB'), 2), (('proposals', 'NOUN'), 2), (('Late', 'ADV'), 2), (('*PPA*-2', 'X'), 2), (('pit', 'NOUN'), 2), (('bull', 'NOUN'), 2), (('Leming', 'NOUN'), 2), (('Valhi', 'NOUN'), 2), (('turn', 'NOUN'), 2), (('two-thirds', 'NOUN'), 2), (('surprised', 'VERB'), 2), (('collapsed', 'VERB'), 2), (('answer', 'VERB'), 2), (('1.85', 'NUM'), 2), (('Patents', 'NOUN'), 2), (('Albert', 'NOUN'), 2), (('Kligman', 'NOUN'), 2), (('1960s', 'NUM'), 2), (('licensed', 'VERB'), 2), (('disagree', 'VERB'), 2), (('Where', 'ADV'), 2), (('focusing', 'VERB'), 2), (('rhetoric', 'NOUN'), 2), (('half-hour', 'ADJ'), 2), (('publicized', 'VERB'), 2), (('Boone', 'NOUN'), 2), (('pressure', 'VERB'), 2), (('hay', 'NOUN'), 2), (('anxious', 'ADJ'), 2), (('clarify', 'VERB'), 2), (('MITI', 'NOUN'), 2), (('view', 'VERB'), 2), (('putting', 'VERB'), 2), (('reports', 'VERB'), 2), (('Venture', 'NOUN'), 2), (('Economics', 'NOUN'), 2), (('acceleration', 'NOUN'), 2), (('conspicuous', 'ADJ'), 2), (('feed', 'VERB'), 2), (('anxieties', 'NOUN'), 2), (('fit', 'NOUN'), 2), (('Va.', 'NOUN'), 2), (('Ronald', 'NOUN'), 2), (('Bodner', 'NOUN'), 2), (('window', 'NOUN'), 2), (('merchandise', 'NOUN'), 2), (('declines', 'VERB'), 2), (('Itoh', 'NOUN'), 2), (('Adds', 'VERB'), 2), (('ventures', 'NOUN'), 2), (('objectives', 'NOUN'), 2), (('drive', 'VERB'), 2), (('businessman', 'NOUN'), 2), (('airlines', 'NOUN'), 2), (('omitted', 'VERB'), 2), (('assumed', 'VERB'), 2), (('Driskill', 'NOUN'), 2), (('neighborhood', 'NOUN'), 2), (('Crown', 'NOUN'), 2), (('Account', 'NOUN'), 2), (('lure', 'VERB'), 2), (('installment', 'NOUN'), 2), (('qualify', 'VERB'), 2), (('Anne', 'NOUN'), 2), (('Synergistics', 'NOUN'), 2), (('throws', 'VERB'), 2), (('cash-flow', 'ADJ'), 2), (('demographic', 'ADJ'), 2), (('MacDonald', 'NOUN'), 2), (('Barnett', 'NOUN'), 2), (('targets', 'VERB'), 2), (('Seniors', 'NOUN'), 2), (('games', 'NOUN'), 2), (('checking', 'NOUN'), 2), (('checks', 'NOUN'), 2), (('promoting', 'VERB'), 2), (('target', 'VERB'), 2), (('emphasis', 'NOUN'), 2), (('switched', 'VERB'), 2), (('enabling', 'VERB'), 2), (('1970s', 'NUM'), 2), (('bigger', 'ADJ'), 2), (('unions', 'NOUN'), 2), (('scrambling', 'VERB'), 2), (('define', 'VERB'), 2), (('Jacob', 'NOUN'), 2), (('demanding', 'VERB'), 2), (('needs', 'NOUN'), 2), (('Alvin', 'NOUN'), 2), (('Sale', 'NOUN'), 2), (('Chandler', 'NOUN'), 2), (('Ariz.', 'NOUN'), 2), (('exercisable', 'ADJ'), 2), (('ShareData', 'NOUN'), 2), (('4.1', 'NUM'), 2), (('savings-and-loan', 'ADJ'), 2), (('ailing', 'VERB'), 2), (('Parent', 'NOUN'), 2), (('Institution', 'NOUN'), 2), (('gift', 'NOUN'), 2), (('good', 'NOUN'), 2), (('Every', 'DET'), 2), (('delay', 'VERB'), 2), (('Think', 'VERB'), 2), (('arguing', 'VERB'), 2), (('p.m', 'ADV'), 2), (('hitting', 'VERB'), 2), (('Leo', 'NOUN'), 2), (('panic', 'NOUN'), 2), (('30-point', 'ADJ'), 2), (('*-128', 'X'), 2), (('one-day', 'ADJ'), 2), (('five-point', 'ADJ'), 2), (('aides', 'NOUN'), 2), (('congressmen', 'NOUN'), 2), (('manually', 'ADV'), 2), (('Capitol', 'NOUN'), 2), (('preset', 'ADJ'), 2), (('trigger', 'NOUN'), 2), (('26', 'NUM'), 2), (('regulating', 'VERB'), 2), (('Sayers', 'NOUN'), 2), (('rural', 'ADJ'), 2), (('ancient', 'ADJ'), 2), (('sounded', 'VERB'), 2), (('Aslacton', 'NOUN'), 2), (('peal', 'NOUN'), 2), (('autumn', 'NOUN'), 2), (('Sunday', 'NOUN'), 2), (('youngsters', 'NOUN'), 2), (('train', 'VERB'), 2), (('worries', 'VERB'), 2), (('ranks', 'NOUN'), 2), (('rung', 'VERB'), 2), (('exercise', 'NOUN'), 2), (('invented', 'VERB'), 2), (('physical', 'ADJ'), 2), (('weigh', 'VERB'), 2), (('sound', 'VERB'), 2), (('rhythm', 'NOUN'), 2), (('Major', 'NOUN'), 2), (('Abbot', 'NOUN'), 2), (('speaks', 'VERB'), 2), (('absorbed', 'VERB'), 2), (('straight', 'ADV'), 2), (('above', 'ADV'), 2), (('swing', 'NOUN'), 2), (('swap', 'VERB'), 2), (('well-known', 'ADJ'), 2), (('ringing', 'VERB'), 2), (('passion', 'NOUN'), 2), (('Ringing', 'NOUN'), 2), (('bit', 'NOUN'), 2), (('Stephanie', 'NOUN'), 2), (('worship', 'NOUN'), 2), (('strong-willed', 'ADJ'), 2), (('vicars', 'NOUN'), 2), (('Hummerstone', 'NOUN'), 2), (('Torrington', 'NOUN'), 2), (('Devon', 'NOUN'), 2), (('Vicar', 'NOUN'), 2), (('congregation', 'NOUN'), 2), (('fault', 'NOUN'), 2), (('Council', 'NOUN'), 2), (('publish', 'VERB'), 2), (('Right', 'ADV'), 2), (('everywhere', 'ADV'), 2), (('founded', 'VERB'), 2), (('signing', 'VERB'), 2), (('peals', 'NOUN'), 2), (('observed', 'VERB'), 2), (('desired', 'VERB'), 2), (('black', 'ADJ'), 2), (('reference', 'NOUN'), 2), (('kill', 'VERB'), 2), (('recessionary', 'ADJ'), 2), (('environments', 'NOUN'), 2), (('risen', 'VERB'), 2), (('peaks', 'NOUN'), 2), (('500-stock', 'ADJ'), 2), (('double-digit', 'ADJ'), 2), (('trends', 'NOUN'), 2), (('advances', 'NOUN'), 2), (('sustained', 'VERB'), 2), (('rebound', 'NOUN'), 2), (('exception', 'NOUN'), 2), (('Perritt', 'NOUN'), 2), (('1965', 'NUM'), 2), (('1971', 'NUM'), 2), (('manner', 'NOUN'), 2), (('Cigna', 'NOUN'), 2), (('insurer', 'NOUN'), 2), (('3.6', 'NUM'), 2), (('Common', 'ADJ'), 2), (('argument', 'NOUN'), 2), (('plenty', 'NOUN'), 2), (('tally', 'NOUN'), 2), (('outlook', 'NOUN'), 2), (('supposedly', 'ADV'), 2), (('microphone', 'NOUN'), 2), (('sued', 'VERB'), 2), (('grandfather', 'NOUN'), 2), (('any', 'ADV'), 2), (('Boulder', 'NOUN'), 2), (('Jerritts', 'NOUN'), 2), (('commit', 'VERB'), 2), (('Further', 'ADV'), 2), (('nowhere', 'ADV'), 2), (('easing', 'VERB'), 2), (('strains', 'NOUN'), 2), (('relationship', 'NOUN'), 2), (('pro-democracy', 'ADJ'), 2), (('demonstrators', 'NOUN'), 2), (('phrase', 'NOUN'), 2), (('sphere', 'NOUN'), 2), (('toast', 'NOUN'), 2), (('assault', 'NOUN'), 2), (('crackdown', 'NOUN'), 2), (('turmoil', 'NOUN'), 2), (('greatest', 'ADJ'), 2), (('Relations', 'NOUN'), 2), (('Fang', 'NOUN'), 2), (('wife', 'NOUN'), 2), (('Li', 'NOUN'), 2), (('traveling', 'VERB'), 2), (('welcome', 'VERB'), 2), (('contacts', 'NOUN'), 2), (('concession', 'NOUN'), 2), (('contingent', 'NOUN'), 2), (('rifles', 'NOUN'), 2), (('loaded', 'VERB'), 2), (('states', 'VERB'), 2), (('passing', 'VERB'), 2), (('everything', 'NOUN'), 2), (('spending', 'VERB'), 2), (('vacations', 'NOUN'), 2), (('puts', 'VERB'), 2), (('Such', 'DET'), 2), (('Fernando', 'NOUN'), 2), (('J.L.', 'NOUN'), 2), (('unpublished', 'ADJ'), 2), (('Biscayne', 'NOUN'), 2), (('Rosenblum', 'NOUN'), 2), (('suspensions', 'NOUN'), 2), (('Danville', 'NOUN'), 2), (('limited-partnership', 'NOUN'), 2), (('escrow', 'NOUN'), 2), (('two-week', 'ADJ'), 2), (('inaccurate', 'ADJ'), 2), (('principals', 'NOUN'), 2), (('Eugene', 'NOUN'), 2), (('Island', 'NOUN'), 2), (('McFall', 'NOUN'), 2), (('inappropriate', 'ADJ'), 2), (('Georgetown', 'NOUN'), 2), (('Del.', 'NOUN'), 2), (('transacting', 'VERB'), 2), (('62%-owned', 'ADJ'), 2), (('Andrew', 'NOUN'), 2), (('Francis', 'NOUN'), 2), (('Arlington', 'NOUN'), 2), (('7,500', 'NUM'), 2), (('Miss.', 'NOUN'), 2), (('200,000', 'NUM'), 2), (('Jeffrey', 'NOUN'), 2), (('Gerard', 'NOUN'), 2), (('Felten', 'NOUN'), 2), (('parking', 'NOUN'), 2), (('60,000', 'NUM'), 2), (('Ann', 'NOUN'), 2), (('Ore.', 'NOUN'), 2), (('Sun', 'NOUN'), 2), (('Dahl', 'NOUN'), 2), (('following', 'NOUN'), 2), (('Cutrer', 'NOUN'), 2), (('Baton', 'NOUN'), 2), (('Rouge', 'NOUN'), 2), (('one-month', 'ADJ'), 2), (('Kane', 'NOUN'), 2), (('Aurora', 'NOUN'), 2), (('Miller', 'NOUN'), 2), (('3,500', 'NUM'), 2), (('actively', 'ADV'), 2), (('engaged', 'VERB'), 2), (('computer-driven', 'ADJ'), 2), (('plays', 'VERB'), 2), (('resist', 'VERB'), 2), (('marching', 'VERB'), 2), (('cope', 'VERB'), 2), (('wary', 'ADJ'), 2), (('drove', 'VERB'), 2), (('operators', 'NOUN'), 2), (('Maybe', 'ADV'), 2), (('chunk', 'NOUN'), 2), (('Maughan', 'NOUN'), 2), (('attractions', 'NOUN'), 2), (('pegged', 'VERB'), 2), (('privacy', 'NOUN'), 2), (('index-arbitrage', 'NOUN'), 2), (('Times-Stock', 'NOUN'), 2), (('100-share', 'ADJ'), 2), (('proponents', 'NOUN'), 2), (('4.25', 'NUM'), 2), (('poor', 'NOUN'), 2), (('compromise', 'VERB'), 2), (('enacted', 'VERB'), 2), (('*-163', 'X'), 2), (('3.35', 'NUM'), 2), (('Pat', 'NOUN'), 2), (('Roukema', 'NOUN'), 2), (('acceptance', 'NOUN'), 2), (('subminimum', 'NOUN'), 2), (('restriction', 'NOUN'), 2), (('Chamber', 'NOUN'), 2), (('Zenith', 'NOUN'), 2), (('Data', 'NOUN'), 2), (('Electronics', 'NOUN'), 2), (('Navy', 'NOUN'), 2), (('gunship', 'NOUN'), 2), (('intelligence', 'NOUN'), 2), (('faced', 'VERB'), 2), (('negotiated', 'VERB'), 2), (('tough', 'ADJ'), 2), (('implies', 'VERB'), 2), (('fold', 'VERB'), 2), (('Correll', 'NOUN'), 2), (('pulp', 'NOUN'), 2), (('winning', 'VERB'), 2), (('consensus', 'NOUN'), 2), (('insiders', 'NOUN'), 2), (('onto', 'ADP'), 2), (('careful', 'ADJ'), 2), (('Assuming', 'VERB'), 2), (('stand', 'NOUN'), 2), (('protesters', 'NOUN'), 2), (('Pamplin', 'NOUN'), 2), (('son', 'NOUN'), 2), (('physics', 'NOUN'), 2), (('turnaround', 'NOUN'), 2), (('Taking', 'VERB'), 2), (('covers', 'NOUN'), 2), (('new-home', 'ADJ'), 2), (('9.5', 'NUM'), 2), (('flows', 'VERB'), 2), (('forest-products', 'NOUN'), 2), (('House-Senate', 'NOUN'), 2), (('portions', 'NOUN'), 2), (('relies', 'VERB'), 2), (('240', 'NUM'), 2), (('stimulating', 'VERB'), 2), (('appropriators', 'NOUN'), 2), (('confined', 'VERB'), 2), (('Appropriations', 'NOUN'), 2), (('planning', 'VERB'), 2), (('African', 'ADJ'), 2), (('amendments', 'NOUN'), 2), (('exemption', 'NOUN'), 2), (('struggle', 'NOUN'), 2), (('fate', 'NOUN'), 2), (('Basin', 'NOUN'), 2), (('powerful', 'ADJ'), 2), (('Hawaii', 'NOUN'), 2), (('Inouye', 'NOUN'), 2), (('abandon', 'VERB'), 2), (('flights', 'NOUN'), 2), (('leadership', 'NOUN'), 2), (('funding', 'VERB'), 2), (('disagreement', 'NOUN'), 2), (('lose', 'VERB'), 2), (('install', 'VERB'), 2), (('concrete', 'ADJ'), 2), (('openings', 'NOUN'), 2), (('structure', 'NOUN'), 2), (('upset', 'VERB'), 2), (('trays', 'NOUN'), 2), (('outlets', 'NOUN'), 2), (('plastic', 'ADJ'), 2), (('loops', 'NOUN'), 2), (('hang', 'VERB'), 2), (('Marvin', 'NOUN'), 2), (('promises', 'VERB'), 2), (('Citicorp', 'NOUN'), 2), (('Carnegie-Mellon', 'NOUN'), 2), (('Droz', 'NOUN'), 2), (('sees', 'VERB'), 2), (('house', 'VERB'), 2), (('preserving', 'VERB'), 2), (('tubular', 'ADJ'), 2), (('middle', 'NOUN'), 2), (('yet', 'CONJ'), 2), (('close', 'ADV'), 2), (('architect', 'NOUN'), 2), (('pyramids', 'NOUN'), 2), (('Egypt', 'NOUN'), 2), (('vacant', 'ADJ'), 2), (('Occupational', 'NOUN'), 2), (('6.1', 'NUM'), 2), (('covering', 'VERB'), 2), (('Clairton', 'NOUN'), 2), (('Dole', 'NOUN'), 2), (('resulted', 'VERB'), 2), (('Scannell', 'NOUN'), 2), (('deficiencies', 'NOUN'), 2), (('failures', 'NOUN'), 2), (('injuries', 'NOUN'), 2), (('firm', 'ADJ'), 2), (('proved', 'VERB'), 2), (('Cincinnati', 'NOUN'), 2), (('Due', 'ADJ'), 2), (('mentally', 'ADV'), 2), (('ill', 'ADJ'), 2), (('examined', 'VERB'), 2), (('lack', 'VERB'), 2), (('shelter', 'NOUN'), 2), (('lacks', 'VERB'), 2), (('Prof.', 'NOUN'), 2), (('poverty', 'NOUN'), 2), (('connected', 'VERB'), 2), (('obviously', 'ADV'), 2), (('77', 'NUM'), 2), (('logic', 'NOUN'), 2), (('consequences', 'NOUN'), 2), (('assertion', 'NOUN'), 2), (('Cambridge', 'NOUN'), 2), (('Home', 'NOUN'), 2), (('Allied', 'NOUN'), 2), (('greed', 'NOUN'), 2), (('subscribe', 'VERB'), 2), (('Charities', 'NOUN'), 2), (('nonprofit', 'ADJ'), 2), (('203', 'NUM'), 2), (('underwent', 'VERB'), 2), (('conduct', 'VERB'), 2), (('predict', 'VERB'), 2), (('Thunderbird', 'NOUN'), 2), (('175', 'NUM'), 2), (('placement', 'NOUN'), 2), (('organized', 'VERB'), 2), (('supporters', 'NOUN'), 2), (('Hammerschmidt', 'NOUN'), 2), (('diminished', 'VERB'), 2), (('occasionally', 'ADV'), 2), (('purchase', 'VERB'), 2), (('tune', 'VERB'), 2), (('extensive', 'ADJ'), 2), (('reporter', 'NOUN'), 2), (('censorship', 'NOUN'), 2), (('tours', 'NOUN'), 2), (('publications', 'NOUN'), 2), (('beauty', 'NOUN'), 2), (('enables', 'VERB'), 2), (('facts', 'NOUN'), 2), (('1948', 'NUM'), 2), (('scholars', 'NOUN'), 2), (('texts', 'NOUN'), 2), (('intend', 'VERB'), 2), (('Amendment', 'NOUN'), 2), ((\"O'Brien\", 'NOUN'), 2), (('scripts', 'NOUN'), 2), (('answered', 'VERB'), 2), (('reshaping', 'VERB'), 2), (('3.375', 'NUM'), 2), (('47.125', 'NUM'), 2), (('oriented', 'VERB'), 2), (('short', 'ADV'), 2), (('Pepperidge', 'NOUN'), 2), (('Farm', 'NOUN'), 2), (('veteran', 'NOUN'), 2), (('controlled', 'VERB'), 2), (('restructuring', 'VERB'), 2), (('eliminating', 'VERB'), 2), (('agenda', 'NOUN'), 2), (('naming', 'VERB'), 2), (('PRIME', 'NOUN'), 2), (('RATE', 'NOUN'), 2), (('COMMERCIAL', 'ADJ'), 2), (('PAPER', 'NOUN'), 2), (('Acceptance', 'NOUN'), 2), (('8.55', 'NUM'), 2), (('8.25', 'NUM'), 2), (('89', 'NUM'), 2), (('270', 'NUM'), 2), (('OF', 'ADP'), 2), (('8.07', 'NUM'), 2), (('7.95', 'NUM'), 2), (('LONDON', 'NOUN'), 2), (('7\\\\/16', 'NUM'), 2), (('RATES', 'NOUN'), 2), (('lending', 'VERB'), 2), (('location', 'NOUN'), 2), (('MORTGAGE', 'NOUN'), 2), (('Posted', 'VERB'), 2), (('capped', 'ADJ'), 2), (('adjustable', 'ADJ'), 2), (('empire', 'NOUN'), 2), (('minute', 'NOUN'), 2), (('Sometimes', 'ADV'), 2), (('unhappy', 'ADJ'), 2), (('tenure', 'NOUN'), 2), (('stable', 'ADJ'), 2), (('succeeded', 'VERB'), 2), (('Susan', 'NOUN'), 2), (('Petersen', 'NOUN'), 2), (('Knopf', 'NOUN'), 2), (('Evans', 'NOUN'), 2), (('Mehta', 'NOUN'), 2), (('wish', 'NOUN'), 2), (('full-time', 'ADJ'), 2), (('signals', 'VERB'), 2), (('pretext', 'NOUN'), 2), (('purse', 'NOUN'), 2), (('withhold', 'VERB'), 2), (('independence', 'NOUN'), 2), (('Confederation', 'NOUN'), 2), (('contradict', 'VERB'), 2), (('placing', 'VERB'), 2), (('rewrite', 'VERB'), 2), (('violation', 'NOUN'), 2), (('severable', 'ADJ'), 2), (('nominate', 'VERB'), 2), (('recess', 'NOUN'), 2), (('605', 'NUM'), 2), (('choosing', 'VERB'), 2), (('regulations', 'NOUN'), 2), (('prevents', 'VERB'), 2), (('Perhaps', 'ADV'), 2), (('implement', 'VERB'), 2), (('duly', 'ADV'), 2), (('kinds', 'NOUN'), 2), (('discharge', 'VERB'), 2), (('establish', 'VERB'), 2), (('vindication', 'NOUN'), 2), (('entrusted', 'VERB'), 2), (('works', 'VERB'), 2), (('extending', 'VERB'), 2), (('analysis', 'NOUN'), 2), (('Duke', 'NOUN'), 2), (('droughts', 'NOUN'), 2), (('59.9', 'NUM'), 2), (('pockets', 'NOUN'), 2), (('Corn', 'NOUN'), 2), (('northern', 'ADJ'), 2), (('Nebraska', 'NOUN'), 2), (('wheat', 'NOUN'), 2), (('Collins', 'NOUN'), 2), (('Farmers', 'NOUN'), 2), (('benefit', 'VERB'), 2), (('6.5', 'NUM'), 2), (('Minnesota', 'NOUN'), 2), (('relief', 'NOUN'), 2), (('range', 'VERB'), 2), (('unsuccessful', 'ADJ'), 2), (('exceeding', 'VERB'), 2), (('Register', 'NOUN'), 2), (('Beach', 'NOUN'), 2), (('dailies', 'NOUN'), 2), (('attempted', 'VERB'), 2), (('prospective', 'ADJ'), 2), (('editorially', 'ADV'), 2), (('tabloid', 'ADJ'), 2), (('marginally', 'ADV'), 2), (('condition', 'NOUN'), 2), (('deterioration', 'NOUN'), 2), (('bitter', 'ADJ'), 2), (('recovered', 'VERB'), 2), (('consistently', 'ADV'), 2), (('newsroom', 'NOUN'), 2), (('preference', 'NOUN'), 2), (('1.64', 'NUM'), 2), (('working', 'ADJ'), 2), (('encouraging', 'VERB'), 2), (('begun', 'VERB'), 2), (('upscale', 'NOUN'), 2), (('gasoline', 'NOUN'), 2), (('GM', 'NOUN'), 2), (('direct-mail', 'ADJ'), 2), (('maximize', 'VERB'), 2), (('nameplate', 'NOUN'), 2), (('6.9', 'NUM'), 2), (('establishment', 'NOUN'), 2), (('tickets', 'NOUN'), 2), (('chooses', 'VERB'), 2), (('fly', 'VERB'), 2), (('prizes', 'NOUN'), 2), (('Riviera', 'NOUN'), 2), (('luxury', 'NOUN'), 2), (('cancellation', 'NOUN'), 2), (('Fulham', 'NOUN'), 2), (('engage', 'VERB'), 2), (('obligated', 'VERB'), 2), (('swaps', 'NOUN'), 2), (('capital-markets', 'ADJ'), 2), (('recover', 'VERB'), 2), (('aftermath', 'NOUN'), 2), (('baskets', 'NOUN'), 2), (('labeled', 'VERB'), 2), (('fast-growing', 'ADJ'), 2), (('refuse', 'VERB'), 2), (('practitioners', 'NOUN'), 2), (('Some', 'ADV'), 2), (('Berman', 'NOUN'), 2), (('racket', 'NOUN'), 2), (('casino', 'NOUN'), 2), (('Corporations', 'NOUN'), 2), (('denounce', 'VERB'), 2), (('Brean', 'NOUN'), 2), (('Advanced', 'NOUN'), 2), (('computer-assisted', 'ADJ'), 2), (('occurs', 'VERB'), 2), (('seize', 'VERB'), 2), (('speed', 'NOUN'), 2), (('movements', 'NOUN'), 2), (('Vanderbilt', 'NOUN'), 2), (('Stoll', 'NOUN'), 2), (('Volatility', 'NOUN'), 2), (('6.79', 'NUM'), 2), (('halted', 'VERB'), 2), (('indexers', 'NOUN'), 2), (('virtue', 'NOUN'), 2), (('Small', 'ADJ'), 2), (('absolutely', 'ADV'), 2), (('broker', 'NOUN'), 2), (('Legg', 'NOUN'), 2), (('Corporate', 'ADJ'), 2), (('transformed', 'VERB'), 2), (('complains', 'VERB'), 2), (('Sigler', 'NOUN'), 2), (('Champion', 'NOUN'), 2), (('Too', 'ADV'), 2), (('trades', 'VERB'), 2), (('anti-programmers', 'NOUN'), 2), (('anytime', 'ADV'), 2), (('beaten', 'VERB'), 2), (('sellers', 'NOUN'), 2), (('Jihad', 'NOUN'), 2), (('widgets', 'NOUN'), 2), (('performing', 'VERB'), 2), (('match', 'VERB'), 2), (('Few', 'ADJ'), 2), (('fundamentalist', 'ADJ'), 2), (('contribute', 'VERB'), 2), (('surrounding', 'VERB'), 2), (('opportunities', 'NOUN'), 2), (('inefficiencies', 'NOUN'), 2), (('playing', 'NOUN'), 2), (('Arbitrage', 'NOUN'), 2), (('likely', 'ADV'), 2), (('cleaner', 'ADJ'), 2), (('cautious', 'ADJ'), 2), (('tolerate', 'VERB'), 2), (('surely', 'ADV'), 2), (('stellar', 'ADJ'), 2), (('profitably', 'ADV'), 2), (('affect', 'VERB'), 2), (('34', 'NUM'), 2), (('Edwards', 'NOUN'), 2), (('excess', 'NOUN'), 2), (('Patrick', 'NOUN'), 2), (('McGuigan', 'NOUN'), 2), (('Family', 'NOUN'), 2), (('Ballot', 'NOUN'), 2), (('Lawmakers', 'NOUN'), 2), (('Oklahoma', 'NOUN'), 2), (('Stieglitz', 'NOUN'), 2), (('Ray', 'NOUN'), 2), (('patients', 'NOUN'), 2), (('Hospital', 'NOUN'), 2), (('Fire', 'NOUN'), 2), (('cloth', 'NOUN'), 2), (('fasteners', 'NOUN'), 2), (('bearing', 'VERB'), 2), (('Arighi', 'NOUN'), 2), (('Arnold', 'NOUN'), 2), (('creates', 'VERB'), 2), (('inherent', 'ADJ'), 2), (('limiting', 'VERB'), 2), (('denouncing', 'VERB'), 2), (('immune', 'ADJ'), 2), (('Taccetta', 'NOUN'), 2), (('Gorman', 'NOUN'), 2), (('corporation', 'NOUN'), 2), (('Underwood', 'NOUN'), 2), (('closing', 'NOUN'), 2), (('Laboratories', 'NOUN'), 2), (('current', 'NOUN'), 2), (('moderately', 'ADV'), 2), (('cooled', 'VERB'), 2), (('overcome', 'VERB'), 2), (('cautioned', 'VERB'), 2), (('feasible', 'ADJ'), 2), (('processes', 'NOUN'), 2), (('non-callable', 'ADJ'), 2), (('57', 'NUM'), 2), (('triple-A', 'ADJ'), 2), (('distributable', 'ADJ'), 2), (('Serial', 'ADJ'), 2), (('2000', 'NUM'), 2), (('Redevelopment', 'NOUN'), 2), (('107', 'NUM'), 2), (('allocation', 'NOUN'), 2), (('rated', 'VERB'), 2), (('6.25', 'NUM'), 2), (('7.74', 'NUM'), 2), (('2017', 'NUM'), 2), (('7.40', 'NUM'), 2), (('2005', 'NUM'), 2), (('Bonds', 'NOUN'), 2), (('Eurobonds', 'NOUN'), 2), (('indicating', 'VERB'), 2), (('Svenska', 'NOUN'), 2), (('franc', 'NOUN'), 2), (('Dai-Ichi', 'NOUN'), 2), (('Kangyo', 'NOUN'), 2), (('proposition', 'NOUN'), 2), (('wonder', 'NOUN'), 2), (('sink', 'VERB'), 2), (('stadiums', 'NOUN'), 2), (('boosters', 'NOUN'), 2), (('Stadium', 'NOUN'), 2), (('wealth', 'NOUN'), 2), (('claimed', 'VERB'), 2), (('spaces', 'NOUN'), 2), (('Robbie', 'NOUN'), 2), (('Superdome', 'NOUN'), 2), (('benefits', 'VERB'), 2), (('118', 'NUM'), 2), (('discontinued', 'VERB'), 2), (('4.6', 'NUM'), 2), (('Earnings', 'NOUN'), 2), (('downgrade', 'NOUN'), 2), (('maintain', 'VERB'), 2), (('Mahoney', 'NOUN'), 2), (('delays', 'NOUN'), 2), (('Bowman', 'NOUN'), 2), (('meaning', 'VERB'), 2), (('Campeau', 'NOUN'), 2), (('Total', 'ADJ'), 2), (('1.7', 'NUM'), 2), (('goodwill', 'NOUN'), 2), (('competes', 'VERB'), 2), (('uncertainties', 'NOUN'), 2), (('Taurus', 'NOUN'), 2), (('Mercury', 'NOUN'), 2), (('Most', 'ADV'), 2), (('instrumental', 'ADJ'), 2), (('bureaucracy', 'NOUN'), 2), (('synthetic', 'ADJ'), 2), (('daughters', 'NOUN'), 2), (('Van', 'NOUN'), 2), (('reasoning', 'NOUN'), 2), (('beneficial', 'ADJ'), 2), (('Limited', 'NOUN'), 2), (('Partnership', 'NOUN'), 2), (('Caldor', 'NOUN'), 2), (('Dutch', 'ADJ'), 2), (('Allergan', 'NOUN'), 2), (('surgery', 'NOUN'), 2), (('habit', 'NOUN'), 2), (('unfocused', 'ADJ'), 2), (('Elco', 'NOUN'), 2), (('1.125', 'NUM'), 2), (('Truck', 'NOUN'), 2), (('anticipation', 'NOUN'), 2), (('larger-than-normal', 'ADJ'), 2), (('Nikkei', 'NOUN'), 2), (('selected', 'VERB'), 2), (('ample', 'ADJ'), 2), (('sidelines', 'NOUN'), 2), (('participate', 'VERB'), 2), (('Nippon', 'NOUN'), 2), (('bolstered', 'VERB'), 2), (('B.A.T', 'NOUN'), 2), (('Hoylake', 'NOUN'), 2), (('highs', 'NOUN'), 2), (('Stocks', 'NOUN'), 2), (('market-makers', 'NOUN'), 2), (('holiday', 'NOUN'), 2), (('Elsewhere', 'ADV'), 2), (('Municipal', 'NOUN'), 2), (('Gas', 'NOUN'), 2), (('Irvine', 'NOUN'), 2), (('acid', 'NOUN'), 2), (('hearings', 'NOUN'), 2), (('Consumer', 'NOUN'), 2), (('Linden', 'NOUN'), 2), (('Conference', 'NOUN'), 2), (('19.6', 'NUM'), 2), (('26.8', 'NUM'), 2), (('households', 'NOUN'), 2), (('Toledo', 'NOUN'), 2), (('respondents', 'NOUN'), 2), (('8.1', 'NUM'), 2), (('2.9', 'NUM'), 2), (('Lieberman', 'NOUN'), 2), (('showing', 'NOUN'), 2), (('unemployment', 'NOUN'), 2), (('102', 'NUM'), 2), (('three-month', 'ADJ'), 2), (('debenture', 'NOUN'), 2), (('7.2', 'NUM'), 2), (('4.2', 'NUM'), 2), (('Ginnie', 'NOUN'), 2), (('West', 'ADJ'), 2), (('111', 'NUM'), 2), (('Net', 'NOUN'), 2), (('property\\\\/casualty', 'NOUN'), 2), (('BTR', 'NOUN'), 2), (('unveil', 'VERB'), 2), (('lobbyists', 'NOUN'), 2), (('sulfur-dioxide', 'NOUN'), 2), (('dirtiest', 'ADJ'), 2), (('cost-sharing', 'NOUN'), 2), (('Midwestern', 'ADJ'), 2), (('devise', 'VERB'), 2), (('Shaw', 'NOUN'), 2), (('falls', 'VERB'), 2), (('processing', 'NOUN'), 2), (('SuperDot', 'NOUN'), 2), (('Contracts', 'NOUN'), 2), (('Traders', 'NOUN'), 2), (('financier', 'NOUN'), 2), (('doubted', 'VERB'), 2), (('clearance', 'NOUN'), 2), (('Takeover', 'NOUN'), 2), (('300-a-share', 'ADJ'), 2), (('4.7', 'NUM'), 2), (('formally', 'ADV'), 2), (('Coniston', 'NOUN'), 2), (('177', 'NUM'), 2), (('attempt', 'VERB'), 2), (('accord', 'NOUN'), 2), (('A.L.', 'NOUN'), 2), (('financial-services', 'NOUN'), 2), (('Beall', 'NOUN'), 2), (('first-half', 'ADJ'), 2), (('graphics', 'NOUN'), 2), (('fixed-price', 'ADJ'), 2), (('Intel', 'NOUN'), 2), (('386', 'NUM'), 2), (('ship', 'VERB'), 2), (('rumor', 'NOUN'), 2), (('Stevenson', 'NOUN'), 2), (('shift', 'NOUN'), 2), (('645,000', 'NUM'), 2), (('contrast', 'NOUN'), 2), (('curtail', 'VERB'), 2), (('confirm', 'VERB'), 2), (('ENERGY', 'NOUN'), 2), (('gallon', 'NOUN'), 2), (('Gasoline', 'NOUN'), 2), (('Intermediate', 'NOUN'), 2), (('firmness', 'NOUN'), 2), (('weather', 'NOUN'), 2), (('310', 'NUM'), 2), (('bushels', 'NOUN'), 2), (('COPPER', 'NOUN'), 2), (('Chilean', 'ADJ'), 2), (('mines', 'NOUN'), 2), (('Papua-New', 'NOUN'), 2), (('13.65', 'NUM'), 2), (('Unicorp', 'NOUN'), 2), (('Cara', 'NOUN'), 2), (('diluted', 'VERB'), 2), (('poison', 'NOUN'), 2), (('Hadson', 'NOUN'), 2), (('write', 'VERB'), 2), (('exploration', 'NOUN'), 2), (('154,240,000', 'NUM'), 2), (('subdued', 'VERB'), 2), (('somewhat', 'ADV'), 2), (('Philip', 'NOUN'), 2), (('Puccio', 'NOUN'), 2), (('Eakle', 'NOUN'), 2), (('revival', 'NOUN'), 2), (('Avon', 'NOUN'), 2), (('Trump', 'NOUN'), 2), (('39', 'NUM'), 2), (('Texaco', 'NOUN'), 2), (('Fe', 'NOUN'), 2), (('exchange', 'VERB'), 2), (('entity', 'NOUN'), 2), (('liquidated', 'VERB'), 2), (('1.76', 'NUM'), 2), (('in-store', 'ADJ'), 2), (('accident', 'NOUN'), 2), (('Ohio-based', 'ADJ'), 2), (('assembly', 'NOUN'), 2), (('Transamerica', 'NOUN'), 2), (('8.9', 'NUM'), 2), (('750,000', 'NUM'), 2), (('jeweler', 'NOUN'), 2), (('1.26', 'NUM'), 2), (('Lines', 'NOUN'), 2), (('cruise', 'NOUN'), 2), (('Miami-based', 'ADJ'), 2), (('shipbuilding', 'NOUN'), 2), (('capitalized', 'VERB'), 2), (('6.6', 'NUM'), 2), (('Contras', 'NOUN'), 2), (('rebels', 'NOUN'), 2), (('balloting', 'NOUN'), 2), (('troops', 'NOUN'), 2), (('Communist', 'NOUN'), 2), (('Berlin', 'NOUN'), 2), (('massive', 'ADJ'), 2), (('exodus', 'NOUN'), 2), (('discussion', 'NOUN'), 2), (('Pretoria', 'NOUN'), 2), (('Salinas', 'NOUN'), 2), (('votes', 'NOUN'), 2), (('jet', 'NOUN'), 2), (('studio', 'NOUN'), 2), (('Guber\\\\/Peters', 'NOUN'), 2), (('cost-cutting', 'ADJ'), 2), (('comparison', 'NOUN'), 2), (('Komatsu', 'NOUN'), 2), (('shrank', 'VERB'), 2), (('markdowns', 'NOUN'), 2), (('reaching', 'VERB'), 2), (('Carl', 'NOUN'), 2), (('Jonathan', 'NOUN'), 2), (('morphogenetic', 'ADJ'), 2), (('cartilage', 'NOUN'), 2), (('BMP-1', 'NOUN'), 2), (('proteins', 'NOUN'), 2), (('BMP', 'NOUN'), 2), (('narrowed', 'VERB'), 2), (('Metallgesellschaft', 'NOUN'), 2), (('specialized', 'VERB'), 2), (('backlog', 'NOUN'), 2), (('sweaters', 'NOUN'), 2), (('1,100', 'NUM'), 2), (('co-author', 'NOUN'), 2), (('Sternberg', 'NOUN'), 2), (('Carter', 'NOUN'), 2), (('bribed', 'VERB'), 2), (('Karns', 'NOUN'), 2), (('cake', 'NOUN'), 2), (('ports', 'NOUN'), 2), (('Railroad', 'NOUN'), 2), (('shipping', 'VERB'), 2), (('Engineers', 'NOUN'), 2), (('storage', 'NOUN'), 2), (('platinum', 'NOUN'), 2), (('Silver', 'NOUN'), 2), (('strike', 'VERB'), 2), (('Tower', 'NOUN'), 2), (('Icahn', 'NOUN'), 2), (('Kurland', 'NOUN'), 2), (('Tribe', 'NOUN'), 2), (('procedure', 'NOUN'), 2), (('Kennedy', 'NOUN'), 2), (('professors', 'NOUN'), 2), (('Trinity', 'NOUN'), 2), (('Pierre', 'NOUN'), 1), (('Elsevier', 'NOUN'), 1), (('Dutch', 'NOUN'), 1), (('Agnew', 'NOUN'), 1), (('fiber', 'NOUN'), 1), (('resilient', 'ADJ'), 1), (('once', 'ADP'), 1), (('lungs', 'NOUN'), 1), (('symptoms', 'NOUN'), 1), (('Loews', 'NOUN'), 1), (('Micronite', 'NOUN'), 1), (('spokewoman', 'NOUN'), 1), (('properties', 'NOUN'), 1), (('Dana-Farber', 'NOUN'), 1), (('filter', 'NOUN'), 1), (('1953', 'NUM'), 1), (('1955', 'NUM'), 1), (('Four', 'NUM'), 1), (('diagnosed', 'VERB'), 1), (('malignant', 'ADJ'), 1), (('mesothelioma', 'NOUN'), 1), (('asbestosis', 'NOUN'), 1), (('morbidity', 'NOUN'), 1), (('Groton', 'NOUN'), 1), (('stringently', 'ADV'), 1), (('smooth', 'ADJ'), 1), (('needle-like', 'ADJ'), 1), (('classified', 'VERB'), 1), (('amphobiles', 'NOUN'), 1), (('Brooke', 'NOUN'), 1), (('pathlogy', 'NOUN'), 1), (('Vermont', 'NOUN'), 1), (('curly', 'ADJ'), 1), (('Environmental', 'NOUN'), 1), (('Protection', 'NOUN'), 1), (('gradual', 'ADJ'), 1), (('1997', 'NUM'), 1), (('cancer-causing', 'ADJ'), 1), (('outlawed', 'VERB'), 1), (('160', 'NUM'), 1), (('Areas', 'NOUN'), 1), (('dusty', 'ADJ'), 1), (('burlap', 'NOUN'), 1), (('sacks', 'NOUN'), 1), (('bin', 'NOUN'), 1), (('poured', 'VERB'), 1), (('cotton', 'NOUN'), 1), (('acetate', 'NOUN'), 1), (('mechanically', 'ADV'), 1), (('clouds', 'NOUN'), 1), (('dust', 'NOUN'), 1), (('hung', 'VERB'), 1), (('exhaust', 'NOUN'), 1), (('ventilated', 'VERB'), 1), (('Darrell', 'NOUN'), 1), (('bearing', 'NOUN'), 1), (('Yields', 'NOUN'), 1), (('slide', 'VERB'), 1), (('tracked', 'VERB'), 1), (('IBC', 'NOUN'), 1), (('fraction', 'NOUN'), 1), (('Compound', 'NOUN'), 1), (('reinvestment', 'NOUN'), 1), (('lengthened', 'VERB'), 1), (('longest', 'ADJ'), 1), (('Donoghue', 'NOUN'), 1), (('Longer', 'ADJ'), 1), (('Shorter', 'ADJ'), 1), (('Brenda', 'NOUN'), 1), (('Malizia', 'NOUN'), 1), (('Negus', 'NOUN'), 1), (('rises', 'NOUN'), 1), (('pour', 'VERB'), 1), (('Assets', 'NOUN'), 1), (('352.7', 'NUM'), 1), (('money-fund', 'NOUN'), 1), (('Dreyfus', 'NOUN'), 1), (('World-Wide', 'NOUN'), 1), (('top-yielding', 'ADJ'), 1), (('9.37', 'NUM'), 1), (('9.45', 'NUM'), 1), (('invests', 'VERB'), 1), (('waiving', 'VERB'), 1), (('8.12', 'NUM'), 1), (('8.14', 'NUM'), 1), (('8.19', 'NUM'), 1), (('8.22', 'NUM'), 1), (('8.53', 'NUM'), 1), (('8.56', 'NUM'), 1), (('J.P.', 'NOUN'), 1), (('Bolduc', 'NOUN'), 1), (('83.4', 'NUM'), 1), (('energy-services', 'ADJ'), 1), (('Terrence', 'NOUN'), 1), (('Daniels', 'NOUN'), 1), (('Royal', 'NOUN'), 1), (('Trustco', 'NOUN'), 1), (('212', 'NUM'), 1), (('McDermott', 'NOUN'), 1), (('Babcock', 'NOUN'), 1), (('Wilcox', 'NOUN'), 1), (('S.p', 'NOUN'), 1), (('295', 'NUM'), 1), (('Wickliffe', 'NOUN'), 1), (('computerized', 'ADJ'), 1), (('2,700', 'NUM'), 1), (('370', 'NUM'), 1), (('2.80', 'NUM'), 1), (('Legislation', 'NOUN'), 1), (('ensnarled', 'VERB'), 1), (('capital-gains', 'ADJ'), 1), (('earliest', 'ADJ'), 1), (('default', 'VERB'), 1), (('Clark', 'NOUN'), 1), (('oversee', 'VERB'), 1), (('biannual', 'ADJ'), 1), (('powwow', 'NOUN'), 1), (('titans', 'NOUN'), 1), (('jet', 'VERB'), 1), (('sunny', 'ADJ'), 1), (('confines', 'NOUN'), 1), (('Hot', 'NOUN'), 1), (('Hoosier', 'NOUN'), 1), (('royalty', 'NOUN'), 1), (('rock', 'NOUN'), 1), (('buckle', 'NOUN'), 1), (('Rust', 'NOUN'), 1), (('rusty', 'ADJ'), 1), (('Maytag', 'NOUN'), 1), (('lesser', 'ADJ'), 1), (('knowns', 'NOUN'), 1), (('Trojan', 'NOUN'), 1), (('Queen', 'NOUN'), 1), (('Cheese', 'NOUN'), 1), (('starters', 'NOUN'), 1), (('Hudnut', 'NOUN'), 1), (('Symphony', 'NOUN'), 1), (('Orchestra', 'NOUN'), 1), (('guest', 'NOUN'), 1), (('pianist-comedian', 'NOUN'), 1), (('Borge', 'NOUN'), 1), (('dessert', 'NOUN'), 1), (('escort', 'NOUN'), 1), (('busloads', 'NOUN'), 1), (('wives', 'NOUN'), 1), (('raced', 'VERB'), 1), (('Speedway', 'NOUN'), 1), (('unimpeded', 'ADJ'), 1), (('traffic', 'NOUN'), 1), (('lieutenant', 'NOUN'), 1), (('buffet', 'NOUN'), 1), (('breakfast', 'NOUN'), 1), (('drinks', 'NOUN'), 1), (('everyday', 'ADJ'), 1), (('speedway', 'NOUN'), 1), (('hauled', 'VERB'), 1), (('crews', 'NOUN'), 1), (('10-lap', 'ADJ'), 1), (('Fortune', 'NOUN'), 1), (('drooled', 'VERB'), 1), (('schoolboys', 'NOUN'), 1), (('dummies', 'NOUN'), 1), (('Back', 'ADV'), 1), (('execs', 'NOUN'), 1), (('boarding', 'VERB'), 1), (('dancing', 'NOUN'), 1), (('moons', 'NOUN'), 1), (('renovated', 'VERB'), 1), (('Roof', 'NOUN'), 1), (('ballroom', 'NOUN'), 1), (('hottest', 'ADJ'), 1), (('duckling', 'NOUN'), 1), (('mousseline', 'NOUN'), 1), (('lobster', 'NOUN'), 1), (('consomme', 'NOUN'), 1), (('veal', 'NOUN'), 1), (('mignon', 'NOUN'), 1), (('chocolate', 'ADJ'), 1), (('terrine', 'NOUN'), 1), (('raspberry', 'NOUN'), 1), (('sauce', 'NOUN'), 1), (('Knowing', 'VERB'), 1), (('tasty', 'ADJ'), 1), (('eat', 'VERB'), 1), (('standing', 'ADJ'), 1), (('ovation', 'NOUN'), 1), (('red-carpet', 'ADJ'), 1), (('tempts', 'VERB'), 1), (('heartland', 'NOUN'), 1), (('winter', 'NOUN'), 1), (('sluggishness', 'NOUN'), 1), (('Preliminary', 'ADJ'), 1), (('tallies', 'NOUN'), 1), (('cloud', 'NOUN'), 1), (('export-oriented', 'ADJ'), 1), (('Exports', 'NOUN'), 1), (('5.29', 'NUM'), 1), (('0.7', 'NUM'), 1), (('5.39', 'NUM'), 1), (('gloomy', 'ADJ'), 1), (('far', 'ADP'), 1), (('accumulated', 'VERB'), 1), (('50.45', 'NUM'), 1), (('50.38', 'NUM'), 1), (('rival', 'ADJ'), 1), (('Post', 'NOUN'), 1), (('discounts', 'NOUN'), 1), (('fixtures', 'NOUN'), 1), (('underscore', 'VERB'), 1), (('Mortimer', 'NOUN'), 1), (('Zuckerman', 'NOUN'), 1), (('four-color', 'ADJ'), 1), (('100,980', 'NUM'), 1), (('mid-October', 'NOUN'), 1), (('guaranteed', 'VERB'), 1), (('subscriber', 'NOUN'), 1), (('120,000', 'NUM'), 1), (('Circulation', 'NOUN'), 1), (('awards', 'VERB'), 1), (('renewal', 'NOUN'), 1), (('325,000', 'NUM'), 1), (('340,000', 'NUM'), 1), (('shore', 'VERB'), 1), (('1,620', 'NUM'), 1), (('Publishers', 'NOUN'), 1), (('matters', 'VERB'), 1), (('fine', 'ADV'), 1), (('giveaways', 'NOUN'), 1), (('subscribers', 'NOUN'), 1), (('telephones', 'NOUN'), 1), (('Audit', 'NOUN'), 1), (('Circulations', 'NOUN'), 1), (('newsweekly', 'ADV'), 1), (('4,393,237', 'NUM'), 1), (('3,288,453', 'NUM'), 1), (('2,303,328', 'NUM'), 1), (('payoff', 'NOUN'), 1), (('Westborough', 'NOUN'), 1), (('2.29', 'NUM'), 1), (('2.25', 'NUM'), 1), (('Manchester', 'NOUN'), 1), (('N.H.', 'NOUN'), 1), (('values', 'VERB'), 1), (('efficiencies', 'NOUN'), 1), (('evaluated', 'VERB'), 1), (('emerges', 'VERB'), 1), (('attracts', 'VERB'), 1), (('Wilbur', 'NOUN'), 1), (('Rothschild', 'NOUN'), 1), (('speed', 'VERB'), 1), (('boosts', 'NOUN'), 1), (('complicated', 'ADP'), 1), (('cluttered', 'VERB'), 1), (('Regulatory', 'NOUN'), 1), (('refile', 'VERB'), 1), (('expedited', 'VERB'), 1), (('FERC', 'NOUN'), 1), (('Ricken', 'NOUN'), 1), (('Toys', 'NOUN'), 1), (('R', 'NOUN'), 1), (('Us', 'NOUN'), 1), (('Deane', 'NOUN'), 1), (('Signet', 'NOUN'), 1), (('Rexinger', 'NOUN'), 1), (('Glauber', 'NOUN'), 1), (('12-member', 'ADJ'), 1), (('ratepayers', 'NOUN'), 1), (('overruns', 'NOUN'), 1), (('entertain', 'VERB'), 1), (('pool', 'NOUN'), 1), (('hostage', 'NOUN'), 1), (('slash', 'VERB'), 1), (('737.5', 'NUM'), 1), (('3.01', 'NUM'), 1), (('tracking', 'VERB'), 1), (('addresses', 'NOUN'), 1), (('nightmare', 'NOUN'), 1), (('38.375', 'NUM'), 1), (('disputed', 'VERB'), 1), (('audit', 'VERB'), 1), (('collecting', 'VERB'), 1), (('refunded', 'VERB'), 1), (('calculations', 'NOUN'), 1), (('court-ordered', 'ADJ'), 1), (('summer\\\\/winter', 'ADJ'), 1), (('differential', 'ADJ'), 1), (('Appellate', 'NOUN'), 1), (('245', 'NUM'), 1), (('72.7', 'NUM'), 1), (('LaSalle', 'NOUN'), 1), (('500,004', 'NUM'), 1), (('Automobile', 'NOUN'), 1), (('year-to-year', 'ADJ'), 1), (('setting', 'VERB'), 1), (('0.4', 'NUM'), 1), (('361,376', 'NUM'), 1), (('arising', 'VERB'), 1), (('consumption', 'NOUN'), 1), (('30,841', 'NUM'), 1), (('13,056', 'NUM'), 1), (('Chinchon', 'NOUN'), 1), (('diversifying', 'VERB'), 1), (('fledgling', 'NOUN'), 1), (('depend', 'VERB'), 1), (('longevity', 'NOUN'), 1), (('Documents', 'NOUN'), 1), (('product-design', 'ADJ'), 1), (('scrapped', 'VERB'), 1), (('operational', 'ADJ'), 1), (('prototype', 'NOUN'), 1), (('Moreover', 'ADJ'), 1), (('Minneapolis-based', 'ADJ'), 1), (('needing', 'VERB'), 1), (('worst-case', 'ADJ'), 1), (('2.875', 'NUM'), 1), (('98.3', 'NUM'), 1), (('promissory', 'ADJ'), 1), (('complicate', 'VERB'), 1), (('tricky', 'ADJ'), 1), (('unproven', 'ADJ'), 1), (('gallium', 'NOUN'), 1), (('arsenide', 'NOUN'), 1), (('minute', 'ADJ'), 1), (('robotic', 'ADJ'), 1), (('twice', 'ADV'), 1), (('C-90', 'NOUN'), 1), (('Hitachi', 'NOUN'), 1), (('4.75', 'NUM'), 1), (('Cray-3', 'NUM'), 1), (('Pro-forma', 'ADJ'), 1), (('19.3', 'NUM'), 1), (('5.9', 'NUM'), 1), (('existed', 'VERB'), 1), (('20.5', 'NUM'), 1), (('Regarded', 'VERB'), 1), (('240,000', 'NUM'), 1), (('Davenport', 'NOUN'), 1), (('Blanchard', 'NOUN'), 1), (('Hammerton', 'NOUN'), 1), (('Wheeland', 'NOUN'), 1), (('241', 'NUM'), 1), (('Pardus', 'NOUN'), 1), (('electric-utility', 'NOUN'), 1), (('Carney', 'NOUN'), 1), (('vice', 'ADV'), 1), (('Tassinari', 'NOUN'), 1), (('diplomacy', 'NOUN'), 1), (('watching', 'VERB'), 1), (('copyrights', 'NOUN'), 1), (('India', 'NOUN'), 1), (('accelerated', 'ADJ'), 1), (('unfair-trade', 'ADJ'), 1), (('investigations', 'NOUN'), 1), (('genuine', 'ADJ'), 1), (('touchy', 'ADJ'), 1), (('denial', 'NOUN'), 1), (('harms', 'VERB'), 1), (('inventiveness', 'NOUN'), 1), (('offending', 'VERB'), 1), (('citizens', 'NOUN'), 1), (('protections', 'NOUN'), 1), (('discouraging', 'VERB'), 1), (('deterring', 'VERB'), 1), (('high-technology', 'NOUN'), 1), (('lauded', 'VERB'), 1), (('pirates', 'NOUN'), 1), (('search-and-seizure', 'ADJ'), 1), (('aid', 'VERB'), 1), (('initialing', 'VERB'), 1), (('amending', 'VERB'), 1), (('trademark', 'NOUN'), 1), (('unauthorized', 'ADJ'), 1), (('showings', 'NOUN'), 1), (('compel', 'VERB'), 1), (('video-viewing', 'ADJ'), 1), (('parlors', 'NOUN'), 1), (('enact', 'VERB'), 1), (('compatible', 'ADJ'), 1), (('literary', 'ADJ'), 1), (('lower-priority', 'ADJ'), 1), (('including', 'ADP'), 1), (('Greece', 'NOUN'), 1), (('less-serious', 'ADJ'), 1), (('Hoffman', 'NOUN'), 1), (('specializing', 'VERB'), 1), (('retaliation', 'NOUN'), 1), (('improvements', 'NOUN'), 1), (('craft', 'VERB'), 1), (('developments', 'NOUN'), 1), (('piracy', 'NOUN'), 1), (('disregard', 'NOUN'), 1), (('merit', 'VERB'), 1), (('301', 'NUM'), 1), (('halve', 'VERB'), 1), (('third-highest', 'ADJ'), 1), (('declaration', 'NOUN'), 1), (('Economy', 'NOUN'), 1), (('Nestor', 'NOUN'), 1), (('Latin', 'NOUN'), 1), (('aspires', 'VERB'), 1), (('external', 'ADJ'), 1), (('Miguel', 'NOUN'), 1), (('Alurralde', 'NOUN'), 1), (('Assistant', 'NOUN'), 1), (('Mulford', 'NOUN'), 1), (('negotiator', 'NOUN'), 1), (('Carballo', 'NOUN'), 1), (('Menem', 'NOUN'), 1), (('centennial', 'NOUN'), 1), (('milestones', 'NOUN'), 1), (('THREE', 'NUM'), 1), (('COMPUTERS', 'NOUN'), 1), (('THAT', 'DET'), 1), (('CHANGED', 'VERB'), 1), (('Commodore', 'NOUN'), 1), (('Pet', 'NOUN'), 1), (('Tandy', 'NOUN'), 1), (('TRS-80', 'NOUN'), 1), (('audiocassettes', 'NOUN'), 1), (('garage', 'NOUN'), 1), (('Wozniak', 'NOUN'), 1), (('Jobs', 'NOUN'), 1), (('hobbyists', 'NOUN'), 1), (('Homebrew', 'NOUN'), 1), (('Club', 'NOUN'), 1), (('affordable', 'ADJ'), 1), (('1,298', 'NUM'), 1), (('explosive', 'ADJ'), 1), (('desktop', 'NOUN'), 1), (('mainframe', 'NOUN'), 1), (('unlike', 'ADJ'), 1), (('built-from-kit', 'ADJ'), 1), (('Altair', 'NOUN'), 1), (('Sol', 'NOUN'), 1), (('IMSAI', 'NOUN'), 1), (('keyboards', 'NOUN'), 1), (('store', 'VERB'), 1), (('contributors', 'NOUN'), 1), (('language-housekeeper', 'ADJ'), 1), (('billionaire', 'NOUN'), 1), (('adapted', 'VERB'), 1), (('Shugart', 'NOUN'), 1), (('Seagate', 'NOUN'), 1), (('Hayes', 'NOUN'), 1), (('Dale', 'NOUN'), 1), (('Heatherington', 'NOUN'), 1), (('co-developers', 'NOUN'), 1), (('modems', 'NOUN'), 1), (('38.3', 'NUM'), 1), (('F.H.', 'NOUN'), 1), (('Jersey-based', 'ADJ'), 1), (('Purepac', 'NOUN'), 1), (('label', 'NOUN'), 1), (('Strait', 'NOUN'), 1), (('321,000', 'NUM'), 1), (('Broken', 'NOUN'), 1), (('Pty.', 'NOUN'), 1), (('Output', 'NOUN'), 1), (('gradually', 'ADV'), 1), (('reaches', 'VERB'), 1), (('Perch', 'NOUN'), 1), (('Dolphin', 'NOUN'), 1), (('Seahorse', 'NOUN'), 1), (('Tarwhine', 'NOUN'), 1), (('excise', 'ADJ'), 1), (('Sloan', 'NOUN'), 1), (('Following', 'VERB'), 1), (('buy-out', 'ADJ'), 1), (('gelatin', 'NOUN'), 1), (('capsules', 'NOUN'), 1), (('divest', 'VERB'), 1), (('non-encapsulating', 'ADJ'), 1), (('possessions', 'NOUN'), 1), (('Generalized', 'NOUN'), 1), (('Preferences', 'NOUN'), 1), (('classifications', 'NOUN'), 1), (('categories', 'NOUN'), 1), (('injury', 'NOUN'), 1), (('low-priced', 'ADJ'), 1), (('battery-operated', 'ADJ'), 1), (('preferences', 'NOUN'), 1), (('beneficiaries', 'NOUN'), 1), (('37.3', 'NUM'), 1), (('resigned', 'ADJ'), 1), (('automotive-parts', 'ADJ'), 1), (('overhead', 'NOUN'), 1), (('achieved', 'VERB'), 1), (('Akerfeldt', 'NOUN'), 1), (('load', 'NOUN'), 1), (('wallowing', 'VERB'), 1), (('52-week', 'ADJ'), 1), (('16.125', 'NUM'), 1), (('13.73', 'NUM'), 1), (('9.625', 'NUM'), 1), (('resume', 'VERB'), 1), (('personally', 'ADV'), 1), (('assisted', 'VERB'), 1), (('Manfred', 'NOUN'), 1), (('Gingl', 'NOUN'), 1), (('Chilver', 'NOUN'), 1), (('63-year-old', 'ADJ'), 1), (('Clays', 'NOUN'), 1), (('securities-based', 'ADJ'), 1), (('701', 'NUM'), 1), (('mortgage-based', 'ADJ'), 1), (('O.', 'NOUN'), 1), (('570', 'NUM'), 1), (('Blackstone', 'NOUN'), 1), (('seven-year', 'ADJ'), 1), (('redeploy', 'VERB'), 1), (('channel', 'VERB'), 1), (('addressing', 'VERB'), 1), (('tenth', 'NOUN'), 1), (('Pate', 'NOUN'), 1), (('54-year-old', 'ADJ'), 1), (('LTV', 'NOUN'), 1), (('giant', 'NOUN'), 1), (('S.p.A.', 'NOUN'), 1), (('indirect', 'ADJ'), 1), (('37-a-share', 'ADJ'), 1), (('incorporated', 'VERB'), 1), (('editions', 'NOUN'), 1), (('1.82', 'NUM'), 1), (('84.29', 'NUM'), 1), (('yen-support', 'ADJ'), 1), (('intervention', 'NOUN'), 1), (('150.00', 'NUM'), 1), (('sharper', 'ADJ'), 1), (('86.12', 'NUM'), 1), (('Pick', 'VERB'), 1), (('rash', 'NOUN'), 1), (('No', 'ADV'), 1), (('triple', 'ADV'), 1), (('Washington-based', 'ADJ'), 1), (('turf', 'NOUN'), 1), (('Austria', 'NOUN'), 1), (('Portugal', 'NOUN'), 1), (('Next', 'ADJ'), 1), (('Philippine', 'NOUN'), 1), (('capped', 'VERB'), 1), (('Philippine', 'ADJ'), 1), (('Corazon', 'NOUN'), 1), (('Aquino', 'NOUN'), 1), (('the', 'NOUN'), 1), (('province', 'NOUN'), 1), (('Anything', 'NOUN'), 1), (('quips', 'VERB'), 1), (('Northampton', 'NOUN'), 1), (('mirrors', 'VERB'), 1), (('mania', 'NOUN'), 1), (('1920s', 'NOUN'), 1), (('narrowly', 'ADV'), 1), (('wildly', 'ADV'), 1), (('oblivion', 'NOUN'), 1), (('open-end', 'ADJ'), 1), (('one-country', 'ADJ'), 1), (('issuing', 'VERB'), 1), (('stake', 'VERB'), 1), (('Behind', 'ADP'), 1), (('hoopla', 'NOUN'), 1), (('heavy-duty', 'ADJ'), 1), (('stretching', 'VERB'), 1), (('nets', 'NOUN'), 1), (('wide', 'ADV'), 1), (('urge', 'VERB'), 1), (('smattering', 'NOUN'), 1), (('emerging', 'VERB'), 1), (('outpaced', 'VERB'), 1), (('mature', 'ADJ'), 1), (('Country', 'NOUN'), 1), (('taste', 'NOUN'), 1), (('burned', 'VERB'), 1), (('Political', 'ADJ'), 1), (('whipsaw', 'VERB'), 1), (('clobbered', 'VERB'), 1), (('frenzy', 'NOUN'), 1), (('Share', 'NOUN'), 1), (('play', 'NOUN'), 1), (('alarmed', 'VERB'), 1), (('valuations', 'NOUN'), 1), (('fattened', 'VERB'), 1), (('foreign-stock', 'ADJ'), 1), (('resistant', 'ADJ'), 1), (('Nonetheless', 'ADV'), 1), (('plenty', 'ADJ'), 1), (('aghast', 'ADJ'), 1), (('lofty', 'ADJ'), 1), (('depositary', 'ADJ'), 1), (('jumping', 'VERB'), 1), (('advice', 'NOUN'), 1), (('ready', 'ADJ'), 1), (('repayment', 'NOUN'), 1), (('pre-Communist', 'ADJ'), 1), (('Russian', 'ADJ'), 1), (('Coincident', 'ADJ'), 1), (('short-lived', 'ADJ'), 1), (('Kerensky', 'NOUN'), 1), (('Communists', 'NOUN'), 1), (('seized', 'VERB'), 1), (('1917', 'NUM'), 1), (('1934', 'NUM'), 1), (('Debt', 'NOUN'), 1), (('Default', 'NOUN'), 1), (('amended', 'VERB'), 1), (('U.S.S.R.', 'NOUN'), 1), (('pre-1917', 'ADJ'), 1), (('pre-1933', 'ADJ'), 1), (('satisfying', 'VERB'), 1), (('lend-lease', 'ADJ'), 1), (('Factories', 'NOUN'), 1), (('booked', 'VERB'), 1), (('236.74', 'NUM'), 1), (('236.79', 'NUM'), 1), (('59.6', 'NUM'), 1), (('contractors', 'NOUN'), 1), (('415.6', 'NUM'), 1), (('415.8', 'NUM'), 1), (('Private', 'ADJ'), 1), (('seasonal', 'ADJ'), 1), (('Mayland', 'NOUN'), 1), (('taper', 'VERB'), 1), (('slack', 'NOUN'), 1), (('blank', 'NOUN'), 1), (('industrial-production', 'ADJ'), 1), (('slip', 'VERB'), 1), (('signals', 'NOUN'), 1), (('Inventories', 'NOUN'), 1), (('watched', 'VERB'), 1), (('buildup', 'NOUN'), 1), (('conforms', 'VERB'), 1), (('Elliott', 'NOUN'), 1), (('eases', 'VERB'), 1), (('nondurable', 'ADJ'), 1), (('109.73', 'NUM'), 1), (('after', 'ADV'), 1), (('Orders', 'NOUN'), 1), (('durable', 'ADJ'), 1), (('0.2', 'NUM'), 1), (('127.03', 'NUM'), 1), (('durable-goods', 'NOUN'), 1), (('234.4', 'NUM'), 1), (('Shipments', 'NOUN'), 1), (('level', 'ADJ'), 1), (('unfilled', 'ADJ'), 1), (('0.5', 'NUM'), 1), (('497.34', 'NUM'), 1), (('accounts', 'VERB'), 1), (('191.9', 'NUM'), 1), (('Berson', 'NOUN'), 1), (('single-family', 'ADJ'), 1), (('Spending', 'NOUN'), 1), (('nonresidential', 'ADJ'), 1), (('99.1', 'NUM'), 1), (('After', 'ADV'), 1), (('contrast', 'VERB'), 1), (('F.W.', 'NOUN'), 1), (('goverment', 'NOUN'), 1), (('signaling', 'VERB'), 1), (('Pitney', 'NOUN'), 1), (('Bowes', 'NOUN'), 1), (('purhasing', 'NOUN'), 1), (('vendors', 'NOUN'), 1), (('delivering', 'VERB'), 1), (('inflationary', 'ADJ'), 1), (('abating', 'VERB'), 1), (('lengthen', 'VERB'), 1), (('gauges', 'VERB'), 1), (('worsening', 'NOUN'), 1), (('import', 'VERB'), 1), (('acknowledging', 'VERB'), 1), (('Items', 'NOUN'), 1), (('numbered', 'VERB'), 1), (('newcomer', 'NOUN'), 1), (('powder', 'NOUN'), 1), (('nonfat', 'ADJ'), 1), (('dairy', 'NOUN'), 1), (('Sebastian', 'NOUN'), 1), (('Judging', 'VERB'), 1), (('Haruki', 'NOUN'), 1), (('320', 'NUM'), 1), (('18.95', 'NUM'), 1), (('baby', 'NOUN'), 1), (('boomers', 'NOUN'), 1), (('texture', 'NOUN'), 1), (('Characters', 'NOUN'), 1), (('Salty', 'NOUN'), 1), (('Dogs', 'NOUN'), 1), (('whistle', 'VERB'), 1), (('Johnny', 'NOUN'), 1), (('Goode', 'NOUN'), 1), (('Bugs', 'NOUN'), 1), (('Bunny', 'NOUN'), 1), (('Mickey', 'NOUN'), 1), (('Spillane', 'NOUN'), 1), (('Groucho', 'NOUN'), 1), (('Harpo', 'NOUN'), 1), (('desultory', 'ADJ'), 1), (('charm', 'NOUN'), 1), (('engaging', 'ADJ'), 1), (('recognizing', 'VERB'), 1), (('buttoned-down', 'ADJ'), 1), (('lore', 'NOUN'), 1), (('refreshing', 'VERB'), 1), (('self-aggrandizing', 'ADJ'), 1), (('we-Japanese', 'ADJ'), 1), (('perpetuate', 'VERB'), 1), (('unique', 'ADJ'), 1), (('unfathomable', 'ADJ'), 1), (('outsiders', 'NOUN'), 1), (('implicit', 'ADJ'), 1), (('nutty', 'ADJ'), 1), (('plot', 'NOUN'), 1), (('rooted', 'VERB'), 1), (('imaginative', 'ADJ'), 1), (('disaffected', 'ADJ'), 1), (('hard-drinking', 'ADJ'), 1), (('nearly-30', 'ADJ'), 1), (('snow', 'NOUN'), 1), (('search', 'NOUN'), 1), (('elusive', 'ADJ'), 1), (('sheep', 'NOUN'), 1), (('behest', 'NOUN'), 1), (('sinister', 'ADJ'), 1), (('erudite', 'ADJ'), 1), (('mobster', 'NOUN'), 1), (('tow', 'NOUN'), 1), (('prescient', 'ADJ'), 1), (('girlfriend', 'NOUN'), 1), (('sassy', 'ADJ'), 1), (('retorts', 'NOUN'), 1), (('mark', 'VERB'), 1), (('docile', 'ADJ'), 1), (('butterfly', 'NOUN'), 1), (('meets', 'VERB'), 1), (('solicitous', 'ADJ'), 1), (('Christian', 'ADJ'), 1), (('chauffeur', 'NOUN'), 1), (('God', 'NOUN'), 1), (('roughhewn', 'ADJ'), 1), (('wears', 'VERB'), 1), (('sheepskin', 'NOUN'), 1), (('40-year-old', 'ADJ'), 1), (('sensation', 'NOUN'), 1), (('Norwegian', 'NOUN'), 1), (('fluent', 'ADJ'), 1), (('lyrics', 'NOUN'), 1), (('published', 'VERB'), 1), (('youthful', 'ADJ'), 1), (('brat', 'NOUN'), 1), (('pack', 'NOUN'), 1), (('dominating', 'VERB'), 1), (('best-seller', 'NOUN'), 1), (('charts', 'NOUN'), 1), (('idiomatic', 'ADJ'), 1), (('dashes', 'NOUN'), 1), (('Wa', '.'), 1), (('339', 'NUM'), 1), (('mirror', 'NOUN'), 1), (('fabled', 'ADJ'), 1), (('virtues', 'NOUN'), 1), (('player', 'NOUN'), 1), (('batting', 'NOUN'), 1), (('Polls', 'NOUN'), 1), (('Tatsunori', 'NOUN'), 1), (('Hara', 'NOUN'), 1), (('humble', 'ADJ'), 1), (('uncomplaining', 'ADJ'), 1), (('obedient', 'ADJ'), 1), (('soul', 'NOUN'), 1), (('besuboru', 'X'), 1), (('ball', 'NOUN'), 1), (('bat', 'NOUN'), 1), (('Fans', 'NOUN'), 1), (('politely', 'ADV'), 1), (('balls', 'NOUN'), 1), (('ushers', 'NOUN'), 1), (('expands', 'VERB'), 1), (('depending', 'VERB'), 1), (('hitter', 'NOUN'), 1), (('honorably', 'ADV'), 1), (('defeat', 'NOUN'), 1), (('abide', 'VERB'), 1), (('conduct', 'NOUN'), 1), (('wear', 'VERB'), 1), (('chronicle', 'NOUN'), 1), (('rationed', 'VERB'), 1), (('Funny', 'NOUN'), 1), (('Soho', 'NOUN'), 1), (('but', 'ADV'), 1), (('petulant', 'ADJ'), 1), (('impudent', 'ADJ'), 1), (('hosted', 'VERB'), 1), (('Luce', 'NOUN'), 1), (('Fellowship', 'NOUN'), 1), (('supercilious', 'ADJ'), 1), (('vicious', 'ADJ'), 1), (('passages', 'NOUN'), 1), (('invades', 'VERB'), 1), (('mundane', 'ADJ'), 1), (('aspects', 'NOUN'), 1), (('regimented', 'ADJ'), 1), (('assigned', 'VERB'), 1), (('lunch', 'NOUN'), 1), (('austere', 'ADJ'), 1), (('dormitory', 'NOUN'), 1), (('prying', 'ADJ'), 1), (('caretaker', 'NOUN'), 1), (('observations', 'NOUN'), 1), (('salarymen', 'NOUN'), 1), (('unproductive', 'ADJ'), 1), (('overtime', 'NOUN'), 1), (('sake', 'NOUN'), 1), (('solidarity', 'NOUN'), 1), (('hierarchical', 'ADJ'), 1), (('chary', 'ADJ'), 1), (('enormously', 'ADV'), 1), (('frustrating', 'VERB'), 1), (('science', 'NOUN'), 1), (('raring', 'ADJ'), 1), (('invent', 'VERB'), 1), (('Walkman', 'NOUN'), 1), (('Kirkpatrick', 'NOUN'), 1), (('corners', 'NOUN'), 1), (('tobacco', 'NOUN'), 1), (('smoke', 'NOUN'), 1), (('Discos', 'NOUN'), 1), (('exempt', 'ADJ'), 1), (('bars', 'NOUN'), 1), (('bans', 'VERB'), 1), (('theaters', 'NOUN'), 1), (('hospitals', 'NOUN'), 1), (('Siti', 'NOUN'), 1), (('Zaharah', 'NOUN'), 1), (('Sulaiman', 'NOUN'), 1), (('No-Smoking', 'NOUN'), 1), (('Week', 'NOUN'), 1), (('Mara', 'NOUN'), 1), (('Kuala', 'NOUN'), 1), (('Lumpur', 'NOUN'), 1), (('on-campus', 'ADJ'), 1), (('26,000', 'NUM'), 1), (('stalls', 'NOUN'), 1), (('posters', 'NOUN'), 1), (('signboards', 'NOUN'), 1), (('restricts', 'VERB'), 1), (('designated', 'VERB'), 1), (('Backer', 'NOUN'), 1), (('Spielvogel', 'NOUN'), 1), (('Bates', 'NOUN'), 1), (('colony', 'NOUN'), 1), (('surveyed', 'VERB'), 1), (('espouse', 'VERB'), 1), (('one-third', 'ADJ'), 1), (('stress', 'NOUN'), 1), (('Thai', 'NOUN'), 1), (('cabinet', 'NOUN'), 1), (('Pramual', 'NOUN'), 1), (('Sabhavasu', 'NOUN'), 1), (('Bangkok', 'NOUN'), 1), (('Plaza', 'NOUN'), 1), (('undertaking', 'VERB'), 1), (('Yasser', 'NOUN'), 1), (('Arafat', 'NOUN'), 1), (('back', 'VERB'), 1), (('Palestinian', 'ADJ'), 1), (('Palestine', 'NOUN'), 1), (('Liberation', 'NOUN'), 1), (('WAFA', 'NOUN'), 1), (('Palestinian', 'NOUN'), 1), (('PLO', 'NOUN'), 1), (('Tourism', 'NOUN'), 1), (('food-shop', 'ADJ'), 1), (('mainland', 'NOUN'), 1), (('name', 'VERB'), 1), (('hospital', 'NOUN'), 1), (('chaotic', 'ADJ'), 1), (('PAP', 'NOUN'), 1), (('unrealistically', 'ADV'), 1), (('happier', 'ADJ'), 1), (('establishing', 'VERB'), 1), (('diplomatic', 'ADJ'), 1), (('strapped', 'VERB'), 1), (('Warsaw', 'NOUN'), 1), (('multibillion-dollar', 'ADJ'), 1), (('Danube', 'NOUN'), 1), (('Austrian', 'ADJ'), 1), (('twinned', 'VERB'), 1), (('complete', 'ADJ'), 1), (('upstream', 'ADV'), 1), (('authorized', 'VERB'), 1), (('Miklos', 'NOUN'), 1), (('twin', 'NOUN'), 1), (('dams', 'NOUN'), 1), (('twindam', 'NOUN'), 1), (('Czech', 'ADJ'), 1), (('solely', 'ADV'), 1), (('painting', 'NOUN'), 1), (('Strindberg', 'NOUN'), 1), (('Scandinavian', 'ADJ'), 1), (('2.44', 'NUM'), 1), (('Lighthouse', 'NOUN'), 1), (('painted', 'VERB'), 1), (('oils', 'NOUN'), 1), (('playwright', 'NOUN'), 1), (('1901', 'NUM'), 1), (('upturn', 'NOUN'), 1), (('couples', 'NOUN'), 1), (('exchanging', 'VERB'), 1), (('rings', 'NOUN'), 1), (('271,124', 'NUM'), 1), (('400,000', 'NUM'), 1), (('BRAMALEA', 'NOUN'), 1), (('85.1', 'NUM'), 1), (('10.5', 'NUM'), 1), (('accrued', 'VERB'), 1), (('swapped', 'VERB'), 1), (('Lead', 'ADJ'), 1), (('Scotia', 'NOUN'), 1), (('McLeod', 'NOUN'), 1), (('RBC', 'NOUN'), 1), (('Dominion', 'NOUN'), 1), (('Bramalea', 'NOUN'), 1), (('actor', 'NOUN'), 1), (('inheritor', 'NOUN'), 1), (('Charlie', 'NOUN'), 1), (('Steve', 'NOUN'), 1), (('laid', 'VERB'), 1), (('obsessed', 'VERB'), 1), (('refitting', 'VERB'), 1), (('Purchase', 'NOUN'), 1), (('campus', 'NOUN'), 1), (('shot', 'VERB'), 1), (('Place', 'NOUN'), 1), (('36-minute', 'ADJ'), 1), (('black-and-white', 'ADJ'), 1), (('full-length', 'ADJ'), 1), (('poignant', 'ADJ'), 1), (('modern-day', 'ADJ'), 1), (('tramp', 'NOUN'), 1), (('Composer', 'NOUN'), 1), (('Marc', 'NOUN'), 1), (('Marder', 'NOUN'), 1), (('living', 'NOUN'), 1), (('double', 'ADJ'), 1), (('bass', 'NOUN'), 1), (('classical', 'ADJ'), 1), (('ensembles', 'NOUN'), 1), (('exciting', 'ADJ'), 1), (('eclectic', 'ADJ'), 1), (('characters', 'NOUN'), 1), (('intertitles', 'NOUN'), 1), (('good-hearted', 'ADJ'), 1), (('Filmed', 'VERB'), 1), (('lovely', 'ADJ'), 1), (('black', 'NOUN'), 1), (('white', 'NOUN'), 1), (('Dill', 'NOUN'), 1), (('benign', 'ADJ'), 1), (('noticing', 'VERB'), 1), (('jostle', 'VERB'), 1), (('cabs', 'NOUN'), 1), (('hangs', 'VERB'), 1), (('Greenwich', 'NOUN'), 1), (('Village', 'NOUN'), 1), (('strip', 'NOUN'), 1), (('Sixth', 'NOUN'), 1), (('populated', 'VERB'), 1), (('jugglers', 'NOUN'), 1), (('magicians', 'NOUN'), 1), (('good-natured', 'ADJ'), 1), (('hustlers', 'NOUN'), 1), (('crack', 'NOUN'), 1), (('dead-eyed', 'ADJ'), 1), (('four-year-old', 'ADJ'), 1), (('Cosmopolitan', 'NOUN'), 1), (('curled', 'VERB'), 1), (('routine', 'NOUN'), 1), (('sketching', 'VERB'), 1), (('passers-by', 'NOUN'), 1), (('returns', 'VERB'), 1), (('skirmishes', 'NOUN'), 1), (('carefree', 'ADJ'), 1), (('cure', 'VERB'), 1), (('two-year-old', 'ADJ'), 1), (('waif', 'NOUN'), 1), (('Nicole', 'NOUN'), 1), (('Alysia', 'NOUN'), 1), (('thugs', 'NOUN'), 1), (('cute', 'ADJ'), 1), (('curse', 'NOUN'), 1), (('alerts', 'VERB'), 1), (('inadequacy', 'NOUN'), 1), (('vagrant', 'ADJ'), 1), (('beds', 'NOUN'), 1), (('Bowery', 'NOUN'), 1), (('Mission', 'NOUN'), 1), (('drearier', 'ADV'), 1), (('tuck', 'VERB'), 1), (('dreamed', 'VERB'), 1), (('improbable', 'ADJ'), 1), (('shop', 'NOUN'), 1), (('high-rise', 'ADJ'), 1), (('resonate', 'VERB'), 1), (('camera', 'NOUN'), 1), (('glamorize', 'VERB'), 1), (('vagabond', 'NOUN'), 1), (('existence', 'NOUN'), 1), (('ends', 'VERB'), 1), (('whimsical', 'ADJ'), 1), (('enviable', 'ADJ'), 1), (('beaten', 'ADJ'), 1), (('Claude', 'NOUN'), 1), (('weird', 'ADJ'), 1), (('Story', 'NOUN'), 1), (('Women', 'NOUN'), 1), (('captivating', 'ADJ'), 1), (('disagreeable', 'ADJ'), 1), (('Giraud', 'NOUN'), 1), (('significance', 'NOUN'), 1), (('hypocrisy', 'NOUN'), 1), (('collaborated', 'VERB'), 1), (('Resistance', 'NOUN'), 1), (('fighters', 'NOUN'), 1), (('Jews', 'NOUN'), 1), (('diversionary', 'ADJ'), 1), (('symbolic', 'ADJ'), 1), (('traitor', 'NOUN'), 1), (('small-time', 'ADJ'), 1), (('accidentally', 'ADV'), 1), (('enabled', 'VERB'), 1), (('jam', 'NOUN'), 1), (('cocoa', 'NOUN'), 1), (('war-rationed', 'ADJ'), 1), (('goodies', 'NOUN'), 1), (('untrained', 'ADJ'), 1), (('botched', 'ADJ'), 1), (('remorse', 'NOUN'), 1), (('shallow', 'ADJ'), 1), (('playful', 'ADJ'), 1), (('dreadful', 'ADJ'), 1), (('war-damaged', 'ADJ'), 1), (('lover', 'NOUN'), 1), (('thin-lipped', 'ADJ'), 1), (('Isabelle', 'NOUN'), 1), (('Huppert', 'NOUN'), 1), (('Marie', 'NOUN'), 1), (('chopped', 'VERB'), 1), (('Gringo', 'NOUN'), 1), (('confused', 'ADJ'), 1), (('rendering', 'NOUN'), 1), (('Fuentes', 'NOUN'), 1), (('Mexican', 'NOUN'), 1), (('Revolution', 'NOUN'), 1), (('endless', 'ADJ'), 1), (('eating', 'VERB'), 1), (('drinking', 'VERB'), 1), (('celebrate', 'VERB'), 1), (('movies', 'NOUN'), 1), (('Peck', 'NOUN'), 1), (('marvelously', 'ADV'), 1), (('loose', 'ADJ'), 1), (('portrayal', 'NOUN'), 1), (('Video', 'NOUN'), 1), (('Tip', 'NOUN'), 1), (('finest', 'ADJ'), 1), (('twin-jet', 'NOUN'), 1), (('Seattle', 'NOUN'), 1), (('Kawasaki', 'NOUN'), 1), (('Fuji', 'NOUN'), 1), (('accounting', 'VERB'), 1), (('combined', 'ADJ'), 1), (('contribution', 'NOUN'), 1), (('plane', 'NOUN'), 1), (('mid-1990s', 'NOUN'), 1), (('irony', 'NOUN'), 1), (('off-off', 'ADJ'), 1), (('scattered', 'VERB'), 1), (('But', 'ADP'), 1), (('hostility', 'NOUN'), 1), (('mudslinging', 'NOUN'), 1), (('empty', 'ADJ'), 1), (('ushering', 'VERB'), 1), (('content', 'NOUN'), 1), (('Napolitan', 'NOUN'), 1), (('attack', 'VERB'), 1), (('last', 'ADV'), 1), (('stirrings', 'NOUN'), 1), (('dawn', 'NOUN'), 1), (('sometimes-tawdry', 'ADJ'), 1), (('entertaining', 'ADJ'), 1), (('confrontational', 'ADJ'), 1), (('truthful', 'ADJ'), 1), (('fights', 'NOUN'), 1), (('commercials', 'NOUN'), 1), (('facial', 'ADJ'), 1), (('disembodied', 'ADJ'), 1), (('for', 'ADV'), 1), (('Republican', 'NOUN'), 1), (('contributions', 'NOUN'), 1), (('accurately', 'ADV'), 1), (('hid', 'VERB'), 1), (('kidnapper', 'NOUN'), 1), (('phony', 'ADJ'), 1), (('Nasty', 'ADJ'), 1), (('innuendoes', 'NOUN'), 1), (('Siegal', 'NOUN'), 1), (('prosecute', 'VERB'), 1), (('Shrum', 'NOUN'), 1), (('Doak', 'NOUN'), 1), (('unleashed', 'VERB'), 1), (('distorted', 'ADJ'), 1), (('photos', 'NOUN'), 1), (('Compare', 'VERB'), 1), (('Funny', 'ADJ'), 1), (('Everybody', 'NOUN'), 1), (('and', 'ADP'), 1), (('oversight', 'NOUN'), 1), (('secret', 'NOUN'), 1), (('Campaign', 'NOUN'), 1), (('95,142', 'NUM'), 1), (('matching', 'ADJ'), 1), (('errors', 'NOUN'), 1), (('get-out-the-vote', 'ADJ'), 1), (('kidnapping', 'NOUN'), 1), (('Powers', 'NOUN'), 1), (('deceptive', 'ADJ'), 1), (('argues', 'VERB'), 1), (('Lt.', 'NOUN'), 1), (('gubernatorial', 'ADJ'), 1), (('Greer', 'NOUN'), 1), (('persuasion', 'NOUN'), 1), (('tour', 'NOUN'), 1), (('de', 'X'), 1), (('Against', 'ADP'), 1), (('Monticello', 'NOUN'), 1), (('superimposed', 'VERB'), 1), (('liberty', 'NOUN'), 1), (('Virginians', 'NOUN'), 1), (('nurtured', 'VERB'), 1), (('generations', 'NOUN'), 1), (('statue', 'NOUN'), 1), (('Jefferson', 'NOUN'), 1), (('dissolves', 'VERB'), 1), (('incest', 'NOUN'), 1), (('transforming', 'VERB'), 1), (('Goodman', 'NOUN'), 1), (('shake', 'VERB'), 1), (('counterattack', 'NOUN'), 1), (('close-up', 'NOUN'), 1), (('shadows', 'NOUN'), 1), (('recalling', 'VERB'), 1), (('unpleasant', 'ADJ'), 1), (('ordeal', 'NOUN'), 1), ((\"C'mon\", 'VERB'), 1), (('boyfriends', 'NOUN'), 1), (('interjects', 'VERB'), 1), (('interrogated', 'VERB'), 1), (('rapists', 'NOUN'), 1), (('constituent', 'NOUN'), 1), (('technique', 'NOUN'), 1), (('unfounded', 'ADJ'), 1), (('interrogation', 'NOUN'), 1), (('tired', 'ADJ'), 1), (('stigma', 'NOUN'), 1), (('campaigner', 'NOUN'), 1), (('Rozell', 'NOUN'), 1), (('across', 'PRT'), 1), (('onus', 'NOUN'), 1), (('lasted', 'VERB'), 1), (('carrying', 'VERB'), 1), (('sensitivity', 'NOUN'), 1), (('aired', 'VERB'), 1), (('photograph', 'NOUN'), 1), (('Remember', 'VERB'), 1), (('Consider', 'VERB'), 1), (('Squier', 'NOUN'), 1), (('mean', 'ADJ'), 1), (('dirty', 'ADJ'), 1), (('rusted', 'VERB'), 1), (('drums', 'NOUN'), 1), (('swim', 'VERB'), 1), (('purrs', 'VERB'), 1), (('neighbors', 'NOUN'), 1), (('cry', 'VERB'), 1), (('cleaned', 'VERB'), 1), (('pollution', 'NOUN'), 1), (('Eagleton', 'NOUN'), 1), (('Barrels', 'NOUN'), 1), (('devastating', 'VERB'), 1), (('1966', 'NUM'), 1), (('route', 'NOUN'), 1), (('rout', 'NOUN'), 1), (('Seats', 'NOUN'), 1), (('331,000', 'NUM'), 1), (('550,000', 'NUM'), 1), (('propelling', 'VERB'), 1), (('Interviews', 'NOUN'), 1), (('fits', 'NOUN'), 1), (('starts', 'NOUN'), 1), (('sparking', 'VERB'), 1), (('posing', 'VERB'), 1), (('whereby', 'ADV'), 1), (('knitted', 'VERB'), 1), (('5.57', 'NUM'), 1), (('705.6', 'NUM'), 1), (('cash-rich', 'ADJ'), 1), (('forcing', 'VERB'), 1), (('sites', 'NOUN'), 1), (('labor-intensive', 'ADJ'), 1), (('tigers', 'NOUN'), 1), (('subordinate', 'ADJ'), 1), (('needed', 'ADJ'), 1), (('fearful', 'ADJ'), 1), (('hegemony', 'NOUN'), 1), (('encourages', 'VERB'), 1), (('burdens', 'NOUN'), 1), (('resists', 'VERB'), 1), (('U.S.-Japanese', 'ADJ'), 1), (('behemoth', 'NOUN'), 1), (('swelling', 'VERB'), 1), (('1990s', 'NOUN'), 1), (('multinationals', 'NOUN'), 1), (('offend', 'VERB'), 1), (('lender', 'NOUN'), 1), (('Drobnick', 'NOUN'), 1), (('cohesive', 'ADJ'), 1), (('parallel', 'VERB'), 1), (('European', 'NOUN'), 1), (('Common', 'NOUN'), 1), (('sectors', 'NOUN'), 1), (('Calder', 'NOUN'), 1), (('Woodrow', 'NOUN'), 1), (('Wilson', 'NOUN'), 1), (('Internatonal', 'NOUN'), 1), (('tubes', 'NOUN'), 1), (('assemble', 'VERB'), 1), (('integrated', 'ADJ'), 1), (('Countries', 'NOUN'), 1), (('framework', 'NOUN'), 1), (('ministers', 'NOUN'), 1), (('Participants', 'NOUN'), 1), (('Zealand', 'NOUN'), 1), (('Asian', 'NOUN'), 1), (('Brunei', 'NOUN'), 1), (('rim', 'NOUN'), 1), (('Australian', 'NOUN'), 1), (('Hawke', 'NOUN'), 1), (('reasserts', 'VERB'), 1), (('designing', 'VERB'), 1), (('dominance', 'NOUN'), 1), (('outstrips', 'VERB'), 1), (('outranks', 'VERB'), 1), (('voice', 'VERB'), 1), (('enlarged', 'ADJ'), 1), (('convey', 'VERB'), 1), (('undertone', 'NOUN'), 1), (('Farren', 'NOUN'), 1), (('benevolent', 'ADJ'), 1), (('altruistic', 'ADJ'), 1), (('apprehensive', 'ADJ'), 1), (('troop', 'NOUN'), 1), (('Asians', 'NOUN'), 1), (('counterweight', 'NOUN'), 1), (('marbles', 'NOUN'), 1), (('home', 'ADV'), 1), (('juggernaut', 'NOUN'), 1), (('monopolize', 'VERB'), 1), (('sew', 'VERB'), 1), (('Chong-sik', 'NOUN'), 1), (('Comprehensive', 'ADJ'), 1), (('ninth', 'ADJ'), 1), (('spotted', 'VERB'), 1), (('crib', 'ADJ'), 1), (('uncanny', 'ADJ'), 1), (('stockbroker', 'NOUN'), 1), (('profession', 'NOUN'), 1), (('Senate-House', 'ADJ'), 1), (('Virtually', 'ADV'), 1), (('OK', 'X'), 1), (('Confronted', 'VERB'), 1), (('answers', 'VERB'), 1), (('display', 'VERB'), 1), (('projector', 'NOUN'), 1), (('underline', 'VERB'), 1), (('prosecuted', 'VERB'), 1), (('downfall', 'NOUN'), 1), (('unstinting', 'ADJ'), 1), (('laurels', 'NOUN'), 1), (('bitterness', 'NOUN'), 1), (('anger', 'NOUN'), 1), (('betrayer', 'NOUN'), 1), (('*T*-82', 'X'), 1), (('*T*-83', 'X'), 1), (('school-district', 'NOUN'), 1), (('stunned', 'ADJ'), 1), (('bald-faced', 'ADJ'), 1), (('martyr', 'NOUN'), 1), (('dark', 'ADJ'), 1), (('high-stakes', 'ADJ'), 1), (('enhanced', 'VERB'), 1), (('cheat', 'VERB'), 1), (('school-improvement', 'ADJ'), 1), (('bolster', 'VERB'), 1), (('depended', 'VERB'), 1), (('student-test', 'ADJ'), 1), (('incredible', 'ADJ'), 1), (('Walt', 'NOUN'), 1), (('Haney', 'NOUN'), 1), (('*T*-84', 'X'), 1), (('50-state', 'ADJ'), 1), (('school-research', 'ADJ'), 1), (('inflated', 'VERB'), 1), (('Evidence', 'NOUN'), 1), (('suspects', 'VERB'), 1), (('erasures', 'NOUN'), 1), (('*T*-85', 'X'), 1), (('occurrences', 'NOUN'), 1), (('revising', 'VERB'), 1), (('telegraph', 'VERB'), 1), (('beforehand', 'ADV'), 1), (('precise', 'ADJ'), 1), (('Use', 'NOUN'), 1), (('Experts', 'NOUN'), 1), (('wrenching', 'ADJ'), 1), (('state-supervised', 'ADJ'), 1), (('interventions', 'NOUN'), 1), (('*T*-86', 'X'), 1), (('firings', 'NOUN'), 1), (('High', 'ADJ'), 1), (('a', 'ADP'), 1), (('lab', 'NOUN'), 1), (('grants', 'NOUN'), 1), (('superintendent', 'NOUN'), 1), (('Scholastic', 'NOUN'), 1), (('Aptitude', 'NOUN'), 1), (('posts', 'VERB'), 1), (('*T*-87', 'X'), 1), (('SAT', 'NOUN'), 1), (('entrance', 'NOUN'), 1), (('rates', 'VERB'), 1), (('prosecuting', 'VERB'), 1), (('administrators', 'NOUN'), 1), (('Sandifer', 'NOUN'), 1), (('purely', 'ADV'), 1), (('foundation', 'NOUN'), 1), (('inferences', 'NOUN'), 1), (('worries', 'NOUN'), 1), (('track', 'NOUN'), 1), (('achievement-test', 'NOUN'), 1), (('Standing', 'VERB'), 1), (('shaded', 'ADJ'), 1), (('hill', 'NOUN'), 1), (('educated', 'VERB'), 1), (('brightest', 'ADJ'), 1), (('Nobel', 'NOUN'), 1), (('Prize', 'NOUN'), 1), (('winning', 'ADJ'), 1), (('Townes', 'NOUN'), 1), (('actress', 'NOUN'), 1), (('Joanne', 'NOUN'), 1), (('Woodward', 'NOUN'), 1), (('1980s', 'NOUN'), 1), (('glory', 'NOUN'), 1), (('faded', 'VERB'), 1), (('yellow', 'ADJ'), 1), (('bricks', 'NOUN'), 1), (('facade', 'NOUN'), 1), (('gangs', 'NOUN'), 1), (('Crime', 'NOUN'), 1), (('awful', 'ADJ'), 1), (('enrollment', 'NOUN'), 1), (('honors', 'NOUN'), 1), (('seventh', 'ADJ'), 1), (('breakdown', 'NOUN'), 1), (('Prior', 'ADV'), 1), (('bled', 'VERB'), 1), (('halls', 'NOUN'), 1), (('stabbed', 'VERB'), 1), (('Academically', 'ADV'), 1), (('disparate', 'ADJ'), 1), (('split', 'ADJ'), 1), (('privileged', 'ADJ'), 1), (('elite', 'NOUN'), 1), (('monied', 'ADJ'), 1), (('inner', 'ADJ'), 1), (('resolved', 'VERB'), 1), (('clean', 'VERB'), 1), (('deadwood', 'NOUN'), 1), (('*T*-88', 'X'), 1), (('ushered', 'VERB'), 1), (('betterment', 'NOUN'), 1), (('*T*-89', 'X'), 1), (('Being', 'VERB'), 1), (('37-year-old', 'ADJ'), 1), (('dismissal', 'NOUN'), 1), (('dreamt', 'VERB'), 1), (('struggled', 'VERB'), 1), (('14-hour', 'ADJ'), 1), (('1986-87', 'NUM'), 1), (('1987-88', 'NUM'), 1), (('Encouraged', 'ADJ'), 1), (('grant', 'NOUN'), 1), (('cheerleaders', 'NOUN'), 1), (('pep', 'NOUN'), 1), (('Cultural', 'ADJ'), 1), (('Literacy', 'NOUN'), 1), (('PTA', 'NOUN'), 1), (('Teacher', 'NOUN'), 1), (('inspirational', 'ADJ'), 1), (('Laura', 'NOUN'), 1), (('Dobson', 'NOUN'), 1), (('freshman', 'NOUN'), 1), (('*T*-90', 'X'), 1), (('teacher-cadet', 'ADJ'), 1), (('11th', 'ADJ'), 1), (('grader', 'NOUN'), 1), (('Kelli', 'NOUN'), 1), (('Green', 'NOUN'), 1), (('distinguished', 'VERB'), 1), (('herself', 'PRON'), 1), (('approaches', 'NOUN'), 1), (('forcing', 'ADJ'), 1), (('pair', 'VERB'), 1), (('college-bowl', 'NOUN'), 1), (('competitions', 'NOUN'), 1), (('weekends', 'NOUN'), 1), (('prepare', 'VERB'), 1), (('polish', 'VERB'), 1), (('correcting', 'VERB'), 1), (('homework', 'NOUN'), 1), (('cocky', 'ADJ'), 1), (('yielding', 'ADJ'), 1), (('*T*-91', 'X'), 1), (('grandstander', 'NOUN'), 1), (('Pressures', 'NOUN'), 1), (('deteriorating', 'VERB'), 1), (('incentive-bonus', 'NOUN'), 1), (('Huge', 'ADJ'), 1), (('23,000', 'NUM'), 1), (('Winning', 'VERB'), 1), (('if', 'ADJ'), 1), (('pride', 'NOUN'), 1), (('Ariail', 'NOUN'), 1), (('demand', 'VERB'), 1), (('attending', 'VERB'), 1), (('adequately', 'ADV'), 1), (('copied', 'VERB'), 1), (('motives', 'NOUN'), 1), (('correct', 'ADJ'), 1), (('sociology', 'NOUN'), 1), (('rankings', 'NOUN'), 1), (('Mostly', 'ADV'), 1), (('self-esteem', 'NOUN'), 1), (('broke', 'VERB'), 1), (('by', 'ADV'), 1), (('desperately', 'ADV'), 1), (('*T*-93', 'X'), 1), (('cared', 'VERB'), 1), (('*T*-94', 'X'), 1), (('drag-down', 'ADJ'), 1), (('*T*-95', 'X'), 1), (('defeats', 'VERB'), 1), (('inkling', 'NOUN'), 1), (('underprivileged', 'ADJ'), 1), (('prosecutor', 'NOUN'), 1), (('*T*-96', 'X'), 1), (('alumni', 'NOUN'), 1), (('concedes', 'VERB'), 1), (('sympathy', 'NOUN'), 1), (('*T*-97', 'X'), 1), (('morale-damaging', 'ADJ'), 1), (('dumbfounded', 'ADJ'), 1), (('recalls', 'VERB'), 1), (('knife', 'NOUN'), 1), (('astonishment', 'NOUN'), 1), (('dismay', 'NOUN'), 1), (('superiors', 'NOUN'), 1), (('unpopularity', 'NOUN'), 1), (('Mrs', 'NOUN'), 1), (('school-board', 'NOUN'), 1), (('crowded', 'VERB'), 1), (('*T*-98', 'X'), 1), (('testify', 'VERB'), 1), (('Supportive', 'ADJ'), 1), (('decried', 'VERB'), 1), (('particulars', 'NOUN'), 1), (('offense', 'NOUN'), 1), (('talk-show', 'NOUN'), 1), (('Editorials', 'NOUN'), 1), (('overused', 'VERB'), 1), (('enraged', 'VERB'), 1), (('first-time', 'ADJ'), 1), (('*T*-99', 'X'), 1), (('expunged', 'VERB'), 1), (('conviction', 'NOUN'), 1), (('cranked', 'VERB'), 1), (('worthy', 'ADJ'), 1), (('witnesses', 'NOUN'), 1), (('cheerleading', 'NOUN'), 1), (('squad', 'NOUN'), 1), (('crushed', 'ADJ'), 1), (('17-year-old', 'ADJ'), 1), (('T-shirts', 'NOUN'), 1), (('corridors', 'NOUN'), 1), (('red-and-white', 'ADJ'), 1), (('GHS', 'NOUN'), 1), (('logo', 'NOUN'), 1), (('shirts', 'NOUN'), 1), (('*T*-100', 'X'), 1), (('*T*-101', 'X'), 1), (('aspersions', 'NOUN'), 1), (('incident', 'NOUN'), 1), (('evaluating', 'VERB'), 1), (('Gayle', 'NOUN'), 1), (('can', 'NOUN'), 1), (('worms', 'NOUN'), 1), (('relieved', 'ADJ'), 1), (('chalk', 'NOUN'), 1), (('touched', 'VERB'), 1), (('slate', 'NOUN'), 1), (('schoolchildren', 'NOUN'), 1), (('workbooks', 'NOUN'), 1), (('Roman', 'ADJ'), 1), (('numeral', 'NOUN'), 1), (('IX', 'NUM'), 1), (('two-sevenths', 'NOUN'), 1), (('three-sevenths', 'NOUN'), 1), (('Worksheets', 'NOUN'), 1), (('test-practice', 'ADJ'), 1), (('kit', 'NOUN'), 1), (('*T*-102', 'X'), 1), (('Communication', 'NOUN'), 1), (('Close', 'ADJ'), 1), (('Test-preparation', 'ADJ'), 1), (('subindustry', 'NOUN'), 1), (('school-sponsored', 'ADJ'), 1), (('justifying', 'VERB'), 1), (('Traverse', 'NOUN'), 1), (('*T*-103', 'X'), 1), (('aids', 'NOUN'), 1), (('defeat', 'VERB'), 1), (('*T*-104', 'X'), 1), (('learning', 'NOUN'), 1), (('everybody', 'NOUN'), 1), (('aces', 'VERB'), 1), (('psychiatrist', 'NOUN'), 1), (('*T*-105', 'X'), 1), (('Standardized', 'ADJ'), 1), (('kindergarten', 'NOUN'), 1), (('eighth', 'ADJ'), 1), (('Houghton', 'NOUN'), 1), (('Mifflin', 'NOUN'), 1), (('Harcourt', 'NOUN'), 1), (('Brace', 'NOUN'), 1), (('Jovanovich', 'NOUN'), 1), (('Metropolitan', 'NOUN'), 1), (('test-prep', 'ADJ'), 1), (('known', 'ADJ'), 1), (('Arizona', 'NOUN'), 1), (('Louisiana', 'NOUN'), 1), (('tools', 'NOUN'), 1), (('test-preparation', 'ADJ'), 1), (('binders', 'NOUN'), 1), (('best-selling', 'ADJ'), 1), (('CTB', 'NOUN'), 1), (('*T*-106', 'X'), 1), (('replicated', 'VERB'), 1), (('*T*-107', 'X'), 1), (('coincidental', 'ADJ'), 1), (('schoolteacher', 'NOUN'), 1), (('similarity', 'NOUN'), 1), (('devised', 'VERB'), 1), (('69-point', 'ADJ'), 1), (('awarding', 'VERB'), 1), (('subskill', 'NOUN'), 1), (('rate', 'VERB'), 1), (('closeness', 'NOUN'), 1), (('preparatives', 'NOUN'), 1), (('symmetry', 'NOUN'), 1), (('geometrical', 'ADJ'), 1), (('measurement', 'NOUN'), 1), (('pie', 'NOUN'), 1), (('graphs', 'NOUN'), 1), (('are', 'NOUN'), 1), (('kits', 'NOUN'), 1), (('replicate', 'VERB'), 1), (('familiarization', 'NOUN'), 1), (('66.5', 'NUM'), 1), (('64.5', 'NUM'), 1), (('two-letter', 'ADJ'), 1), (('consonant', 'ADJ'), 1), (('exclusion', 'NOUN'), 1), (('contains', 'VERB'), 1), (('examples', 'NOUN'), 1), (('matches', 'NOUN'), 1), (('scrupulously', 'ADV'), 1), (('replicating', 'VERB'), 1), (('publication', 'NOUN'), 1), (('outraged', 'ADJ'), 1), (('advisory', 'NOUN'), 1), (('parallel', 'ADJ'), 1), (('CTBS', 'NOUN'), 1), (('*T*-108', 'X'), 1), (('*T*-109', 'X'), 1), (('unaware', 'ADJ'), 1), (('discontinue', 'VERB'), 1), (('H.N.', 'NOUN'), 1), (('Frances', 'NOUN'), 1), (('Berger', 'NOUN'), 1), (('Sacramento-based', 'ADJ'), 1), (('*T*-110', 'X'), 1), (('north', 'ADJ'), 1), (('ancillary', 'ADJ'), 1), (('Medical', 'ADJ'), 1), (('transplantation', 'NOUN'), 1), (('humans', 'NOUN'), 1), (('juvenile', 'ADJ'), 1), (('diabetes', 'NOUN'), 1), (('degenerative', 'ADJ'), 1), (('Huntington', 'NOUN'), 1), (('therapies', 'NOUN'), 1), (('abortions', 'NOUN'), 1), (('tissue-transplant', 'ADJ'), 1), (('federally', 'ADV'), 1), (('*T*-111', 'X'), 1), (('*T*-112', 'X'), 1), (('acting', 'ADJ'), 1), (('implant', 'VERB'), 1), (('brain', 'NOUN'), 1), (('patient', 'NOUN'), 1), (('NIH-appointed', 'ADJ'), 1), (('recommended', 'VERB'), 1), (('carefully', 'ADV'), 1), (('controlled', 'ADJ'), 1), (('embroiled', 'VERB'), 1), (('anti-abortion', 'ADJ'), 1), (('recruit', 'VERB'), 1), (('doctors', 'NOUN'), 1), (('helm', 'NOUN'), 1), (('Centers', 'NOUN'), 1), (('Disease', 'NOUN'), 1), (('Control', 'NOUN'), 1), (('*T*-113', 'X'), 1), (('surgeon', 'NOUN'), 1), (('reportedly', 'ADV'), 1), (('opposes', 'VERB'), 1), (('Child', 'NOUN'), 1), (('imposing', 'VERB'), 1), (('defuse', 'VERB'), 1), (('head', 'VERB'), 1), (('CDC', 'NOUN'), 1), (('judged', 'VERB'), 1), (('excellence', 'NOUN'), 1), (('disturbs', 'VERB'), 1), (('moves', 'VERB'), 1), (('judgments', 'NOUN'), 1), (('Myron', 'NOUN'), 1), (('dean', 'NOUN'), 1), (('polarized', 'VERB'), 1), (('exists', 'VERB'), 1), (('middle', 'ADJ'), 1), (('funded', 'ADJ'), 1), (('warns', 'VERB'), 1), (('discourage', 'VERB'), 1), (('unavailability', 'NOUN'), 1), (('foundations', 'NOUN'), 1), (('fronts', 'NOUN'), 1), (('regenerate', 'VERB'), 1), (('damaged', 'ADJ'), 1), (('*T*-114', 'X'), 1), (('*T*-115', 'X'), 1), (('Down', 'NOUN'), 1), (('syndrome', 'NOUN'), 1), (('retardation', 'NOUN'), 1), (('Rekindled', 'VERB'), 1), (('lackluster', 'ADJ'), 1), (('1.01', 'NUM'), 1), (('456.64', 'NUM'), 1), (('118.6', 'NUM'), 1), (('inauspicious', 'ADJ'), 1), (('133.8', 'NUM'), 1), (('busiest', 'ADJ'), 1), (('averaged', 'VERB'), 1), (('nonfinancial', 'ADJ'), 1), (('1.39', 'NUM'), 1), (('446.62', 'NUM'), 1), (('1.28', 'NUM'), 1), (('449.04', 'NUM'), 1), (('*T*-116', 'X'), 1), (('3.23', 'NUM'), 1), (('436.01', 'NUM'), 1), (('unattractive', 'ADJ'), 1), (('anticipating', 'VERB'), 1), (('permitting', 'VERB'), 1), (('*T*-117', 'X'), 1), (('uptick', 'VERB'), 1), (('head', 'ADJ'), 1), (('beneficiary', 'NOUN'), 1), (('*T*-118', 'X'), 1), (('*T*-119', 'X'), 1), (('expires', 'VERB'), 1), (('Macheski', 'NOUN'), 1), (('Wilton', 'NOUN'), 1), (('*T*-120', 'X'), 1), (('favor', 'VERB'), 1), (('WFRR', 'NOUN'), 1), (('L.P.', 'NOUN'), 1), (('GHKM', 'NOUN'), 1), (('273.5', 'NUM'), 1), (('*T*-121', 'X'), 1), (('Centerbank', 'NOUN'), 1), (('NESB', 'NOUN'), 1), (('Pennview', 'NOUN'), 1), (('leapt', 'VERB'), 1), (('Univest', 'NOUN'), 1), (('25.50', 'NUM'), 1), (('Nelms', 'NOUN'), 1), (('near-record', 'ADJ'), 1), (('definitive', 'ADJ'), 1), (('78', 'NUM'), 1), (('*T*-122', 'X'), 1), (('restaurant', 'NOUN'), 1), (('858,000', 'NUM'), 1), (('Huntsville', 'NOUN'), 1), (('Ala.', 'NOUN'), 1), (('225.6', 'NUM'), 1), (('Internal', 'NOUN'), 1), (('*T*-123', 'X'), 1), (('*T*-124', 'X'), 1), (('outcry', 'NOUN'), 1), (('organized', 'ADJ'), 1), (('*T*-125', 'X'), 1), (('protected', 'VERB'), 1), (('*T*-126', 'X'), 1), (('receives', 'VERB'), 1), (('document', 'NOUN'), 1), (('Form', 'NOUN'), 1), (('8300', 'NUM'), 1), (('Social', 'NOUN'), 1), (('passport', 'NOUN'), 1), (('Failure', 'NOUN'), 1), (('*T*-127', 'X'), 1), (('identities', 'NOUN'), 1), (('rarely', 'ADV'), 1), (('acted', 'VERB'), 1), (('witness', 'NOUN'), 1), (('Criminal', 'NOUN'), 1), (('red-flag', 'VERB'), 1), (('*T*-128', 'X'), 1), (('*T*-129', 'X'), 1), (('computer-generated', 'ADJ'), 1), (('certified', 'ADJ'), 1), (('mail', 'NOUN'), 1), (('*T*-130', 'X'), 1), (('*T*-131', 'X'), 1), (('Filling', 'VERB'), 1), (('tip', 'VERB'), 1), (('Lefcourt', 'NOUN'), 1), (('Delegates', 'NOUN'), 1), (('condemning', 'VERB'), 1), (('*T*-132', 'X'), 1), (('grand', 'ADJ'), 1), (('prohibited', 'VERB'), 1), (('ethics', 'NOUN'), 1), (('disclosing', 'VERB'), 1), (('orders', 'VERB'), 1), (('committing', 'VERB'), 1), (('*T*-133', 'X'), 1), (('notice', 'NOUN'), 1), (('Lezovich', 'NOUN'), 1), (('summons', 'NOUN'), 1), (('initiated', 'VERB'), 1), (('dating', 'VERB'), 1), (('correspondence', 'NOUN'), 1), (('mailed', 'VERB'), 1), (('8300s', 'NOUN'), 1), (('Individuals', 'NOUN'), 1), (('Justice', 'ADJ'), 1), (('8300', 'ADJ'), 1), (('assertions', 'NOUN'), 1), (('relating', 'VERB'), 1), (('WAR', 'NOUN'), 1), (('OVER', 'ADP'), 1), (('FEDERAL', 'ADJ'), 1), (('JUDICIAL', 'ADJ'), 1), (('SALARIES', 'NOUN'), 1), (('Often', 'ADV'), 1), (('fanfare', 'NOUN'), 1), (('Raul', 'NOUN'), 1), (('quitting', 'VERB'), 1), (('raise', 'NOUN'), 1), (('clerks', 'NOUN'), 1), (('quipped', 'VERB'), 1), (('Federal', 'ADJ'), 1), (('89,500', 'NUM'), 1), (('Judges', 'NOUN'), 1), (('accountants', 'NOUN'), 1), (('blinks', 'VERB'), 1), (('sum', 'NOUN'), 1), (('Orrick', 'NOUN'), 1), (('Herrington', 'NOUN'), 1), (('Sutcliffe', 'NOUN'), 1), (('detail', 'NOUN'), 1), (('DOONESBURY', 'NOUN'), 1), ((\"CREATOR'S\", 'NOUN'), 1), (('UNION', 'NOUN'), 1), (('TROUBLES', 'NOUN'), 1), (('laughing', 'ADJ'), 1), (('Cartoonist', 'NOUN'), 1), (('Garry', 'NOUN'), 1), (('punish', 'VERB'), 1), (('screenwriters', 'NOUN'), 1), (('Productions', 'NOUN'), 1), (('*T*-134', 'X'), 1), (('collective-bargaining', 'ADJ'), 1), (('cartoonist', 'NOUN'), 1), (('reviewing', 'VERB'), 1), (('harassment', 'NOUN'), 1), (('consists', 'VERB'), 1), (('year-long', 'ADJ'), 1), (('*T*-135', 'X'), 1), (('punishment', 'NOUN'), 1), (('punishing', 'VERB'), 1), (('retaliating', 'VERB'), 1), (('ABORTION', 'NOUN'), 1), (('RULING', 'NOUN'), 1), (('UPHELD', 'VERB'), 1), (('bar', 'VERB'), 1), (('abortion-related', 'ADJ'), 1), (('*T*-136', 'X'), 1), (('obtaining', 'VERB'), 1), (('referrals', 'NOUN'), 1), (('*T*-137', 'X'), 1), (('advocate', 'VERB'), 1), (('Appeals', 'NOUN'), 1), (('providers', 'NOUN'), 1), (('pregnant', 'ADJ'), 1), (('INQUIRY', 'NOUN'), 1), (('CLEARS', 'VERB'), 1), (('TEXAS', 'NOUN'), 1), (('JUDGE', 'NOUN'), 1), (('calls', 'NOUN'), 1), (('remarks', 'NOUN'), 1), (('sentencing', 'VERB'), 1), (('18-year-old', 'ADJ'), 1), (('referring', 'VERB'), 1), (('queers', 'NOUN'), 1), (('cruising', 'VERB'), 1), (('picking', 'VERB'), 1), (('teenage', 'ADJ'), 1), (('appointed', 'VERB'), 1), (('commenting', 'VERB'), 1), (('Observing', 'VERB'), 1), (('exhibited', 'VERB'), 1), (('prejudice', 'NOUN'), 1), (('impartial', 'ADJ'), 1), (('homosexual', 'NOUN'), 1), (('prostitute', 'NOUN'), 1), (('discredit', 'VERB'), 1), (('judiciary', 'NOUN'), 1), (('Judicial', 'NOUN'), 1), (('Conduct', 'NOUN'), 1), (('*T*-138', 'X'), 1), (('empowered', 'VERB'), 1), (('TRIAL', 'NOUN'), 1), (('stock-manipulation', 'ADJ'), 1), (('Lowe', 'NOUN'), 1), (('eight-count', 'ADJ'), 1), (('indictment', 'NOUN'), 1), (('Vice', 'NOUN'), 1), (('Sherwin', 'NOUN'), 1), (('manipulate', 'VERB'), 1), (('Carbide', 'NOUN'), 1), (('planned', 'ADJ'), 1), (('trials', 'NOUN'), 1), (('mistrials', 'NOUN'), 1), (('SWITCHING', 'VERB'), 1), (('TO', 'PRT'), 1), (('DEFENSE', 'NOUN'), 1), (('Iran\\\\/Contra', 'NOUN'), 1), (('affair', 'NOUN'), 1), (('Mayer', 'NOUN'), 1), (('three-lawyer', 'ADJ'), 1), (('520-lawyer', 'ADJ'), 1), (('specialize', 'VERB'), 1), (('white-collar', 'ADJ'), 1), (('narcotics', 'NOUN'), 1), (('Tire', 'NOUN'), 1), (('&', 'X'), 1), (('Rubber', 'NOUN'), 1), (('Albany', 'NOUN'), 1), (('warehousing', 'NOUN'), 1), (('353', 'NUM'), 1), (('apologizing', 'VERB'), 1), (('indulging', 'VERB'), 1), (('rebuked', 'VERB'), 1), (('fretted', 'VERB'), 1), (('penny', 'NOUN'), 1), (('*T*-139', 'X'), 1), (('tie-breaking', 'ADJ'), 1), (('computer-system-design', 'ADJ'), 1), (('summoned', 'VERB'), 1), (('ministry', 'NOUN'), 1), (('antitrust-law', 'ADJ'), 1), (('apologize', 'VERB'), 1), (('packed', 'ADJ'), 1), (('contrary', 'ADJ'), 1), (('sorry', 'ADJ'), 1), (('embarrassing', 'ADJ'), 1), (('sacrificing', 'VERB'), 1), (('*T*-140', 'X'), 1), (('gifts', 'NOUN'), 1), (('businessmen', 'NOUN'), 1), (('extramarital', 'ADJ'), 1), (('are', 'ADP'), 1), (('growing', 'ADJ'), 1), (('behavior', 'NOUN'), 1), (('municipality', 'NOUN'), 1), (('low-ball', 'ADJ'), 1), (('Foreigners', 'NOUN'), 1), (('complain', 'VERB'), 1), (('procurement', 'NOUN'), 1), (('undercut', 'VERB'), 1), (('excessively', 'ADV'), 1), (('slashing', 'VERB'), 1), (('semiconductors', 'NOUN'), 1), (('U.S.-Japan', 'ADJ'), 1), (('minus', 'NOUN'), 1), (('one-yen', 'ADJ'), 1), (('map', 'VERB'), 1), (('waterworks', 'NOUN'), 1), (('77,000', 'NUM'), 1), (('free', 'ADV'), 1), (('Saitama', 'NOUN'), 1), (('prefectural', 'ADJ'), 1), (('Wakayama', 'NOUN'), 1), (('through', 'PRT'), 1), (('emerge', 'VERB'), 1), (('Michio', 'NOUN'), 1), (('Sasaki', 'NOUN'), 1), (('Keidanren', 'NOUN'), 1), (('Federation', 'NOUN'), 1), (('Organizations', 'NOUN'), 1), (('PAPERS', 'NOUN'), 1), (('*T*-141', 'X'), 1), (('papers', 'NOUN'), 1), (('Osborn', 'NOUN'), 1), (('Desai', 'NOUN'), 1), (('Michaels', 'NOUN'), 1), (('*T*-142', 'X'), 1), (('14.6', 'NUM'), 1), (('32.8', 'NUM'), 1), (('28.6', 'NUM'), 1), (('29.3', 'NUM'), 1), (('28.4', 'NUM'), 1), (('locally', 'ADV'), 1), (('hydraulically', 'ADV'), 1), (('wheel-loader', 'ADJ'), 1), (('Heidelberg', 'NOUN'), 1), (('280', 'NUM'), 1), (('Dynamics', 'NOUN'), 1), (('*T*-143', 'X'), 1), (('computer-aided', 'ADJ'), 1), (('automation', 'NOUN'), 1), (('*T*-144', 'X'), 1), (('productivity', 'NOUN'), 1), (('@', 'ADP'), 1), (('Deposits-a', 'NOUN'), 1), (('6.21', 'NUM'), 1), (('a', 'X'), 1), (('metropolitan', 'ADJ'), 1), (('Rate', 'NOUN'), 1), (('Monitor', 'NOUN'), 1), (('b', 'X'), 1), (('LSI', 'NOUN'), 1), (('Logic', 'NOUN'), 1), (('*T*-145', 'X'), 1), (('industry-wide', 'ADJ'), 1), (('semiconductor', 'NOUN'), 1), (('custom-chip', 'ADJ'), 1), (('lagging', 'VERB'), 1), (('billings', 'NOUN'), 1), (('extended', 'ADJ'), 1), (('switch', 'VERB'), 1), (('economical', 'ADJ'), 1), (('Wilfred', 'NOUN'), 1), (('Corrigan', 'NOUN'), 1), (('midyear', 'NOUN'), 1), (('phase', 'VERB'), 1), (('appropriate', 'ADJ'), 1), (('equals', 'VERB'), 1), (('86', 'NUM'), 1), (('counting', 'VERB'), 1), (('133.7', 'NUM'), 1), (('94', 'NUM'), 1), (('five-inch', 'ADJ'), 1), (('more-efficient', 'ADJ'), 1), (('silicon', 'NOUN'), 1), (('wafers', 'NOUN'), 1), (('fabricate', 'VERB'), 1), (('Related', 'VERB'), 1), (('converting', 'VERB'), 1), (('Clara', 'NOUN'), 1), (('speculate', 'VERB'), 1), (('*T*-146', 'X'), 1), (('Stark', 'NOUN'), 1), (('Robertson', 'NOUN'), 1), (('Stephens', 'NOUN'), 1), (('slack', 'ADJ'), 1), (('Part', 'NOUN'), 1), (('jitters', 'NOUN'), 1), (('INGERSOLL-RAND', 'NOUN'), 1), (('Woodcliff', 'NOUN'), 1), (('Kuhns', 'NOUN'), 1), (('buoyed', 'VERB'), 1), (('cautiously', 'ADV'), 1), (('bearish', 'ADJ'), 1), (('underpin', 'VERB'), 1), (('narrow', 'ADJ'), 1), (('Goldinger', 'NOUN'), 1), (('Insight', 'NOUN'), 1), (('reasons', 'VERB'), 1), (('77.70', 'NUM'), 1), (('77.56', 'NUM'), 1), (('lure', 'NOUN'), 1), (('Dollar-yen', 'ADJ'), 1), (('Trettien', 'NOUN'), 1), (('Banque', 'NOUN'), 1), (('Paribas', 'NOUN'), 1), (('convinced', 'VERB'), 1), (('erode', 'VERB'), 1), (('1.5755', 'NUM'), 1), (('1.5805', 'NUM'), 1), (('U.S.', 'ADJ'), 1), (('143.93', 'NUM'), 1), (('143.08', 'NUM'), 1), (('traced', 'VERB'), 1), (('wave', 'NOUN'), 1), (('vitriolic', 'ADJ'), 1), (('mollified', 'VERB'), 1), (('knight', 'NOUN'), 1), (('undisclosed', 'ADJ'), 1), (('forthcoming', 'ADJ'), 1), (('10-year', 'NUM'), 1), (('yen-denominated', 'ADJ'), 1), (('redeeming', 'VERB'), 1), (('unclear', 'ADJ'), 1), (('unabated', 'ADJ'), 1), (('recede', 'VERB'), 1), (('cues', 'NOUN'), 1), (('lower', 'ADV'), 1), (('*T*-147', 'X'), 1), (('45.3', 'NUM'), 1), (('*T*-148', 'X'), 1), (('minimal', 'ADJ'), 1), (('374.20', 'NUM'), 1), (('374.19', 'NUM'), 1), (('Show', 'NOUN'), 1), (('Huxtable', 'NOUN'), 1), (('viewers', 'NOUN'), 1), (('*T*-149', 'X'), 1), (('187', 'NUM'), 1), (('*T*-150', 'X'), 1), (('air', 'VERB'), 1), (('fuming', 'VERB'), 1), (('ultimatum', 'NOUN'), 1), (('Either', 'CONJ'), 1), (('Different', 'NOUN'), 1), (('spin-off', 'NOUN'), 1), (('*T*-151', 'X'), 1), (('tactics', 'NOUN'), 1), (('tell', 'VERB'), 1), (('flooded', 'VERB'), 1), (('comedies', 'NOUN'), 1), (('*T*-152', 'X'), 1), (('networks', 'NOUN'), 1), (('pre-emptive', 'ADJ'), 1), (('2-8', 'NUM'), 1), (('A.C.', 'NOUN'), 1), (('Nielsen', 'NOUN'), 1), (('R.I.', 'NOUN'), 1), (('Raleigh', 'NOUN'), 1), (('Ky.', 'NOUN'), 1), (('Dick', 'NOUN'), 1), (('Lobo', 'NOUN'), 1), (('WTVJ', 'NOUN'), 1), (('NBC-owned', 'ADJ'), 1), (('Kuvin', 'NOUN'), 1), (('WHAS', 'NOUN'), 1), (('disappointed', 'ADJ'), 1), (('uncomfortable', 'ADJ'), 1), (('frankly', 'ADV'), 1), (('Wu', 'NOUN'), 1), (('Atlanta-based', 'ADJ'), 1), (('life-insurance', 'NOUN'), 1), (('Nationale', 'NOUN'), 1), (('Nederlanden', 'NOUN'), 1), (('frantic', 'ADJ'), 1), (('revenue-desperate', 'ADJ'), 1), (('magazines', 'NOUN'), 1), (('cozy', 'ADJ'), 1), (('fawning', 'VERB'), 1), (('articles', 'NOUN'), 1), (('advertorial', 'ADJ'), 1), (('downright', 'ADV'), 1), (('thumbing', 'VERB'), 1), (('billed', 'VERB'), 1), (('Practical', 'NOUN'), 1), (('Environment', 'NOUN'), 1), (('entrepreneur', 'NOUN'), 1), (('Patricia', 'NOUN'), 1), (('scoop', 'NOUN'), 1), (('combines', 'VERB'), 1), (('how-to', 'ADJ'), 1), (('backyard', 'NOUN'), 1), (('composting', 'NOUN'), 1), (('explanatory', 'ADJ'), 1), (('essays', 'NOUN'), 1), (('happens', 'VERB'), 1), (('flush', 'VERB'), 1), (('toilet', 'NOUN'), 1), (('hard-hitting', 'ADJ'), 1), (('whirling', 'ADJ'), 1), (('rampage', 'NOUN'), 1), (('supermarket', 'NOUN'), 1), (('aisles', 'NOUN'), 1), (('guys', 'NOUN'), 1), (('feature', 'NOUN'), 1), (('deem', 'VERB'), 1), (('standpoint', 'NOUN'), 1), (('*T*-153', 'X'), 1), (('belt', 'NOUN'), 1), (('alienated', 'VERB'), 1), (('would-be', 'ADJ'), 1), (('ire', 'NOUN'), 1), (('furious', 'ADJ'), 1), (('microwave', 'NOUN'), 1), (('column', 'NOUN'), 1), (('diagram', 'NOUN'), 1), (('arrows', 'NOUN'), 1), (('polystyrene', 'NOUN'), 1), (('foam', 'NOUN'), 1), (('polyproplene', 'NOUN'), 1), (('polyester', 'NOUN'), 1), (('plastic', 'NOUN'), 1), (('non-biodegradable', 'ADJ'), 1), (('landfill', 'NOUN'), 1), (('monster', 'NOUN'), 1), (('practicing', 'VERB'), 1), (('journalistic', 'ADJ'), 1), (('garbage', 'NOUN'), 1), (('fumes', 'VERB'), 1), (('Modifications', 'NOUN'), 1), (('portrayed', 'VERB'), 1), (('recyclability', 'NOUN'), 1), (('Soups', 'NOUN'), 1), (('Mike', 'NOUN'), 1), (('DDB', 'NOUN'), 1), (('big-time', 'ADJ'), 1), (('handful', 'NOUN'), 1), (('Adolph', 'NOUN'), 1), (('Coors', 'NOUN'), 1), (('Bumkins', 'NOUN'), 1), (('*T*-154', 'X'), 1), (('relied', 'VERB'), 1), (('print', 'NOUN'), 1), (('subscription', 'NOUN'), 1), (('revenues', 'NOUN'), 1), (('Individual', 'ADJ'), 1), (('2.95', 'NUM'), 1), (('yearly', 'ADJ'), 1), (('recycled', 'VERB'), 1), (('Old-House', 'NOUN'), 1), (('126,000', 'NUM'), 1), (('newsstands', 'NOUN'), 1), (('93,000', 'NUM'), 1), (('scared', 'VERB'), 1), (('replies', 'VERB'), 1), (('Ad', 'NOUN'), 1), (('Notes', 'NOUN'), 1), (('INTERPUBLIC', 'NOUN'), 1), (('ON', 'NOUN'), 1), (('which', 'ADP'), 1), (('agreed', 'NOUN'), 1), (('supply', 'VERB'), 1), (('E.C.', 'NOUN'), 1), (('Fremantle', 'NOUN'), 1), (('supplier', 'NOUN'), 1), (('NEW', 'NOUN'), 1), (('ACCOUNT', 'NOUN'), 1), (('CoreStates', 'NOUN'), 1), (('Earle', 'NOUN'), 1), (('Palmer', 'NOUN'), 1), (('Spiro', 'NOUN'), 1), (('*-86', 'X'), 1), (('VanSant', 'NOUN'), 1), (('Dugdale', 'NOUN'), 1), (('FAX', 'NOUN'), 1), (('Fax', 'NOUN'), 1), (('Ogilvy', 'NOUN'), 1), (('Mather', 'NOUN'), 1), (('WPP', 'NOUN'), 1), (('Billings', 'NOUN'), 1), (('*T*-155', 'X'), 1), (('serviced', 'VERB'), 1), (('FIRST', 'NUM'), 1), (('CAMPAIGN', 'NOUN'), 1), (('Rent-A-Car', 'NOUN'), 1), (('replacement-car', 'NOUN'), 1), (('rentals', 'NOUN'), 1), (('accidents', 'NOUN'), 1), (('Developed', 'VERB'), 1), (('Avrett', 'NOUN'), 1), (('Ginsberg', 'NOUN'), 1), (('pitches', 'VERB'), 1), (('consumer-driven', 'ADJ'), 1), (('pick-up', 'ADJ'), 1), (('drop-off', 'ADJ'), 1), (('LANDOR', 'NOUN'), 1), (('ASSOCIATES', 'NOUN'), 1), (('Landor', 'NOUN'), 1), (('identity-management', 'NOUN'), 1), (('ACQUISITION', 'NOUN'), 1), (('Ketchum', 'NOUN'), 1), (('Braun', 'NOUN'), 1), (('investor-relations', 'NOUN'), 1), (('marketing-communications', 'NOUN'), 1), (('70-a-share', 'ADJ'), 1), (('buy-back', 'ADJ'), 1), (('*T*-156', 'X'), 1), (('tender', 'ADJ'), 1), (('Hamilton', 'NOUN'), 1), (('Bermuda-based', 'ADJ'), 1), (('hostile', 'ADJ'), 1), (('777', 'NUM'), 1), (('963', 'NUM'), 1), (('asset-sale', 'ADJ'), 1), (('620', 'NUM'), 1), (('490', 'NUM'), 1), (('flexibility', 'NOUN'), 1), (('leeway', 'NOUN'), 1), (('top', 'VERB'), 1), (('characterizing', 'VERB'), 1), (('entrench', 'VERB'), 1), (('confuse', 'VERB'), 1), (('materialize', 'VERB'), 1), (('36', 'NUM'), 1), (('converted', 'VERB'), 1), (('*-88', 'X'), 1), (('Bermuda', 'NOUN'), 1), (('62.625', 'NUM'), 1), (('equip', 'VERB'), 1), (('lap-shoulder', 'ADJ'), 1), (('rear', 'ADJ'), 1), (('*-89', 'X'), 1), (('Samuel', 'NOUN'), 1), (('Skinner', 'NOUN'), 1), (('milestone', 'NOUN'), 1), (('occupant', 'NOUN'), 1), (('equipped', 'VERB'), 1), (('*-90', 'X'), 1), (('front-seat', 'NOUN'), 1), (('headrests', 'NOUN'), 1), (('*-91', 'X'), 1), (('Three', 'NOUN'), 1), (('urging', 'VERB'), 1), (('car-safety', 'ADJ'), 1), (('*T*-157', 'X'), 1), (('classed', 'VERB'), 1), (('therefore', 'ADV'), 1), (('luck', 'NOUN'), 1), (('Chuck', 'NOUN'), 1), (('Hurley', 'NOUN'), 1), (('communications', 'NOUN'), 1), (('Mo', 'NOUN'), 1), (('rollover', 'NOUN'), 1), (('crashes', 'NOUN'), 1), (('bags', 'NOUN'), 1), (('side-crash', 'ADJ'), 1), (('weighing', 'VERB'), 1), (('unloaded', 'ADJ'), 1), (('weight', 'NOUN'), 1), (('roof', 'NOUN'), 1), (('depressed', 'VERB'), 1), (('*-92', 'X'), 1), (('inches', 'NOUN'), 1), (('lap', 'NOUN'), 1), (('engineer', 'NOUN'), 1), (('auto-safety', 'ADJ'), 1), (('installing', 'VERB'), 1), (('F-series', 'NOUN'), 1), (('Crew', 'NOUN'), 1), (('Cab', 'NOUN'), 1), (('pickups', 'NOUN'), 1), (('Explorer', 'NOUN'), 1), (('sport-utility', 'ADJ'), 1), (('Rail', 'NOUN'), 1), (('enclosed', 'VERB'), 1), (('transporting', 'VERB'), 1), (('autos', 'NOUN'), 1), (('multilevel', 'ADJ'), 1), (('Thrall', 'NOUN'), 1), (('Duchossois', 'NOUN'), 1), (('Elmhurst', 'NOUN'), 1), (('850', 'NUM'), 1), (('Walters', 'NOUN'), 1), (('58-year-old', 'ADJ'), 1), (('cement', 'NOUN'), 1), (('Milne', 'NOUN'), 1), (('*T*-158', 'X'), 1), (('retires', 'VERB'), 1), (('Blue', 'NOUN'), 1), (('Circle', 'NOUN'), 1), (('*-93', 'X'), 1), (('longstanding', 'ADJ'), 1), (('Later', 'ADJ'), 1), (('senate', 'NOUN'), 1), (('Professional', 'NOUN'), 1), (('Certainly', 'ADV'), 1), (('*T*-159', 'X'), 1), (('prospectively', 'ADV'), 1), (('*T*-160', 'X'), 1), (('*-94', 'X'), 1), (('merger-related', 'ADJ'), 1), (('*-95', 'X'), 1), (('real-estate', 'ADJ'), 1), (('121.6', 'NUM'), 1), (('lay', 'VERB'), 1), (('altogether', 'ADV'), 1), (('exclusively', 'ADV'), 1), (('leasing', 'NOUN'), 1), (('GOODY', 'NOUN'), 1), (('PRODUCTS', 'NOUN'), 1), (('11.5', 'NUM'), 1), (('payable', 'ADJ'), 1), (('Jan.', 'NOUN'), 1), (('Kearny', 'NOUN'), 1), (('N.J.-based', 'ADJ'), 1), (('hair', 'NOUN'), 1), (('cosmetic', 'NOUN'), 1), (('992,000', 'NUM'), 1), (('1.9', 'NUM'), 1), (('anti-takeover', 'ADJ'), 1), (('Henderson', 'NOUN'), 1), (('51-year-old', 'ADJ'), 1), (('Ian', 'NOUN'), 1), (('*T*-161', 'X'), 1), (('retiring', 'VERB'), 1), (('1\\\\/10th', 'NOUN'), 1), (('redemption', 'NOUN'), 1), (('*-96', 'X'), 1), (('proprietor', 'NOUN'), 1), (('Cellars', 'NOUN'), 1), (('Napa', 'NOUN'), 1), (('tag', 'NOUN'), 1), (('wine-making', 'NOUN'), 1), (('single', 'VERB'), 1), (('estimation', 'NOUN'), 1), (('700', 'NUM'), 1), (('Sauvignon', 'NOUN'), 1), (('sticker', 'NOUN'), 1), (('fastest', 'ADJ'), 1), (('exceptional', 'ADJ'), 1), (('exceedingly', 'ADV'), 1), (('Lafite-Rothschild', 'NOUN'), 1), (('Haut-Brion', 'NOUN'), 1), (('Grand', 'NOUN'), 1), (('Cru', 'NOUN'), 1), (('deluxe', 'ADJ'), 1), (('Champagnes', 'NOUN'), 1), (('Dom', 'NOUN'), 1), (('Perignon', 'NOUN'), 1), (('rarefied', 'VERB'), 1), (('Trockenbeerenauslesen', 'NOUN'), 1), (('Rieslings', 'NOUN'), 1), (('Riserva', 'NOUN'), 1), (('flashy', 'ADJ'), 1), (('zoomed', 'VERB'), 1), (('on', 'ADV'), 1), (('priciest', 'ADJ'), 1), (('boast', 'VERB'), 1), (('lion', 'NOUN'), 1), (('bottles', 'NOUN'), 1), (('smallest', 'ADJ'), 1), (('*T*-162', 'X'), 1), (('Sauternes', 'NOUN'), 1), (('lighter', 'ADJ'), 1), (('spectacularly', 'ADV'), 1), (('prestige', 'NOUN'), 1), (('cuvees', 'NOUN'), 1), (('inching', 'VERB'), 1), (('crack', 'VERB'), 1), ((\"'82\", 'NUM'), 1), (('Taittinger', 'NOUN'), 1), (('Comtes', 'NOUN'), 1), (('encroaching', 'VERB'), 1), (('reds', 'NOUN'), 1), (('Rhone', 'NOUN'), 1), (('Guigal', 'NOUN'), 1), (('Cote', 'NOUN'), 1), (('Rotie', 'NOUN'), 1), (('Landonne', 'NOUN'), 1), (('steal', 'VERB'), 1), (('Domaine', 'NOUN'), 1), (('la', 'DET'), 1), (('vineyard', 'NOUN'), 1), (('anywhere', 'ADV'), 1), (('commanded', 'VERB'), 1), (('three-digit', 'ADJ'), 1), (('tags', 'NOUN'), 1), (('Coche-Dury', 'NOUN'), 1), (('Corton-Charlemagne', 'NOUN'), 1), (('Angelo', 'NOUN'), 1), (('Gaja', 'NOUN'), 1), (('Barbaresco', 'NOUN'), 1), (('Piero', 'NOUN'), 1), (('Antinori', 'NOUN'), 1), (('Solaia', 'NOUN'), 1), (('Vega', 'NOUN'), 1), (('Secilia', 'NOUN'), 1), (('Unico', 'NOUN'), 1), (('10th', 'ADJ'), 1), (('Grange', 'NOUN'), 1), (('cult', 'NOUN'), 1), (('*T*-163', 'X'), 1), (('command', 'VERB'), 1), (('*T*-164', 'X'), 1), (('happening', 'VERB'), 1), (('scarce', 'ADJ'), 1), (('exhausted', 'VERB'), 1), ((\"'40s\", 'NUM'), 1), ((\"'50s\", 'NUM'), 1), (('*T*-165', 'X'), 1), (('newer', 'ADJ'), 1), (('bargain', 'NOUN'), 1), (('ripen', 'VERB'), 1), (('last', 'NOUN'), 1), (('acre', 'NOUN'), 1), (('*T*-166', 'X'), 1), (('yielded', 'VERB'), 1), (('Owner', 'NOUN'), 1), (('Al', 'NOUN'), 1), (('Brownstein', 'NOUN'), 1), (('retailer', 'NOUN'), 1), (('Is', 'VERB'), 1), (('wholesale', 'ADJ'), 1), (('re-thought', 'ADJ'), 1), (('Offering', 'VERB'), 1), (('wholesale', 'NOUN'), 1), (('yes', 'ADV'), 1), (('*-97', 'X'), 1), (('six-bottle', 'ADJ'), 1), (('retailers', 'NOUN'), 1), (('awfully', 'ADV'), 1), (('Schaefer', 'NOUN'), 1), (('Skokie', 'NOUN'), 1), (('suburban', 'ADJ'), 1), (('opinions', 'NOUN'), 1), (('hit', 'NOUN'), 1), (('*T*-167', 'X'), 1), (('wins', 'VERB'), 1), (('sticker-shock', 'NOUN'), 1), (('talked', 'VERB'), 1), (('excited', 'VERB'), 1), (('astronomical', 'ADJ'), 1), (('collection', 'NOUN'), 1), (('one-upsmanship', 'NOUN'), 1), (('Rock', 'NOUN'), 1), (('Terrace', 'NOUN'), 1), (('Dunn', 'NOUN'), 1), (('*T*-168', 'X'), 1), (('*T*-169', 'X'), 1), (('knowledgeable', 'ADJ'), 1), (('Cedric', 'NOUN'), 1), (('Cellar', 'NOUN'), 1), (('overpriced', 'VERB'), 1), (('*-99', 'X'), 1), (('Grgich', 'NOUN'), 1), (('Chardonnay', 'NOUN'), 1), (('Chardonnays', 'NOUN'), 1), (('Image', 'NOUN'), 1), (('*T*-170', 'X'), 1), (('*T*-171', 'X'), 1), (('*-100', 'X'), 1), (('le', 'DET'), 1), (('the', 'NUM'), 1), (('walking', 'VERB'), 1), ((\"'86\", 'NUM'), 1), (('Opus', 'NOUN'), 1), (('Dominus', 'NOUN'), 1), (('wine-buying', 'ADJ'), 1), (('holidays', 'NOUN'), 1), (('*T*-172', 'X'), 1), (('Ensrud', 'NOUN'), 1), (('free-lance', 'ADJ'), 1), (('Signs', 'NOUN'), 1), (('upward', 'ADJ'), 1), (('closer', 'ADV'), 1), (('achieving', 'VERB'), 1), (('downward', 'ADJ'), 1), (('8.75', 'NUM'), 1), (('shown', 'VERB'), 1), (('petroleum', 'NOUN'), 1), (('Retail', 'ADJ'), 1), (('slow', 'ADV'), 1), (('big-ticket', 'ADJ'), 1), (('*-101', 'X'), 1), (('resisting', 'VERB'), 1), (('excesses', 'NOUN'), 1), (('tilt', 'VERB'), 1), (('Integra-A', 'NOUN'), 1), (('Restaurant', 'NOUN'), 1), (('*-103', 'X'), 1), (('mailing', 'VERB'), 1), (('105', 'NUM'), 1), (('13.5', 'NUM'), 1), (('warrants', 'VERB'), 1), (('*T*-173', 'X'), 1), (('*-104', 'X'), 1), (('*T*-174', 'X'), 1), (('hotels', 'NOUN'), 1), (('*T*-175', 'X'), 1), (('445', 'NUM'), 1), (('Shelby', 'NOUN'), 1), (('Steelworkers', 'NOUN'), 1), (('Local', 'NOUN'), 1), (('3057', 'NUM'), 1), (('Tube', 'NOUN'), 1), (('expired', 'VERB'), 1), (('pact', 'NOUN'), 1), (('230-215', 'NUM'), 1), (('stoppage', 'NOUN'), 1), (('postponed', 'VERB'), 1), (('*-105', 'X'), 1), (('autions', 'NOUN'), 1), (('rescheduled', 'VERB'), 1), (('*-106', 'X'), 1), (('Unless', 'ADP'), 1), (('*T*-176', 'X'), 1), (('partisan', 'ADJ'), 1), (('bickering', 'NOUN'), 1), (('*T*-177', 'X'), 1), (('entangled', 'ADJ'), 1), (('capital-gains', 'NOUN'), 1), (('disruption', 'NOUN'), 1), (('schedule', 'NOUN'), 1), (('taxpayer', 'NOUN'), 1), (('Nicholas', 'NOUN'), 1), (('Brady', 'NOUN'), 1), (('imperative', 'ADJ'), 1), (('*-107', 'X'), 1), (('maturing', 'VERB'), 1), (('refunding', 'VERB'), 1), (('*-108', 'X'), 1), (('*-109', 'X'), 1), (('*-110', 'X'), 1), (('36-day', 'ADJ'), 1), (('when-issued', 'ADJ'), 1), (('approves', 'VERB'), 1), (('clearing', 'VERB'), 1), (('47.5', 'NUM'), 1), (('Auctions', 'NOUN'), 1), (('25.6', 'NUM'), 1), (('21.9', 'NUM'), 1), (('*-111', 'X'), 1), (('decides', 'VERB'), 1), (('aim', 'VERB'), 1), (('Colony', 'NOUN'), 1), (('noodles', 'NOUN'), 1), (('pre-cooked', 'ADJ'), 1), (('pasta', 'NOUN'), 1), (('Clive', 'NOUN'), 1), (('book', 'VERB'), 1), (('stocks', 'ADV'), 1), (('tidily', 'ADV'), 1), (('Long-term', 'ADJ'), 1), (('Continuing', 'VERB'), 1), (('*-112', 'X'), 1), (('evaporated', 'VERB'), 1), (('sight', 'NOUN'), 1), (('*T*-178', 'X'), 1), (('Economic', 'ADJ'), 1), (('contract', 'VERB'), 1), (('Beige', 'NOUN'), 1), (('Book', 'NOUN'), 1), (('154.2', 'NUM'), 1), (('Smelting', 'NOUN'), 1), (('5.276', 'NUM'), 1), (('36.9', 'NUM'), 1), (('Sept.', 'ADJ'), 1), (('3.253', 'NUM'), 1), (('4.898', 'NUM'), 1), (('1.457', 'NUM'), 1), (('restructure', 'NOUN'), 1), (('*T*-179', 'X'), 1), (('rebuffed', 'VERB'), 1), (('reviewed', 'VERB'), 1), (('combinations', 'NOUN'), 1), (('proof', 'ADJ'), 1), (('*-113', 'X'), 1), (('clamped', 'VERB'), 1), (('ankle', 'NOUN'), 1), (('1.75', 'NUM'), 1), (('51.25', 'NUM'), 1), (('22.75', 'NUM'), 1), (('Landis', 'NOUN'), 1), (('*T*-180', 'X'), 1), (('junk-bond', 'ADJ'), 1), (('lessening', 'VERB'), 1), (('likelihood', 'NOUN'), 1), (('agreeing', 'VERB'), 1), (('Satrum', 'NOUN'), 1), (('spurns', 'VERB'), 1), (('*T*-181', 'X'), 1), (('solicitation', 'NOUN'), 1), (('replacing', 'VERB'), 1), (('hostile', 'NOUN'), 1), (('interested', 'VERB'), 1), (('*-114', 'X'), 1), (('nominal', 'ADJ'), 1), (('*-115', 'X'), 1), (('46.1', 'NUM'), 1), (('251.2', 'NUM'), 1), (('278.7', 'NUM'), 1), (('licensing', 'NOUN'), 1), (('challenging', 'VERB'), 1), (('Westport', 'NOUN'), 1), (('punitive', 'ADJ'), 1), (('license', 'VERB'), 1), (('*T*-182', 'X'), 1), (('combat', 'VERB'), 1), (('patented', 'VERB'), 1), (('Brunswick', 'NOUN'), 1), (('Criticism', 'NOUN'), 1), (('skittishness', 'NOUN'), 1), (('color', 'VERB'), 1), (('unfettered', 'ADJ'), 1), (('removal', 'NOUN'), 1), (('perceives', 'VERB'), 1), (('*T*-183', 'X'), 1), (('heated', 'ADJ'), 1), (('stirred', 'VERB'), 1), (('*-116', 'X'), 1), (('Impediments', 'NOUN'), 1), (('Initiative', 'NOUN'), 1), (('*T*-184', 'X'), 1), (('informally', 'ADV'), 1), (('impending', 'VERB'), 1), (('direct-investment', 'ADJ'), 1), (('fret', 'NOUN'), 1), (('rancor', 'NOUN'), 1), (('nervousness', 'NOUN'), 1), (('devoted', 'VERB'), 1), (('briefing', 'NOUN'), 1), (('journalists', 'NOUN'), 1), (('vitally', 'ADV'), 1), (('emotions', 'NOUN'), 1), (('Taizo', 'NOUN'), 1), (('Watanabe', 'NOUN'), 1), (('Fears', 'NOUN'), 1), (('escalated', 'VERB'), 1), (('Coca-Cola', 'NOUN'), 1), (('midtown', 'NOUN'), 1), (('fires', 'NOUN'), 1), (('discontent', 'NOUN'), 1), (('stoked', 'VERB'), 1), (('Jr', 'NOUN'), 1), (('oilman', 'NOUN'), 1), (('26.2', 'NUM'), 1), (('automotive-lighting', 'ADJ'), 1), (('asserting', 'VERB'), 1), (('greenmailer', 'NOUN'), 1), (('Texan', 'NOUN'), 1), (('Lloyd', 'NOUN'), 1), (('Bentsen', 'NOUN'), 1), (('highlight', 'VERB'), 1), (('*T*-185', 'X'), 1), (('disproportionate', 'ADJ'), 1), (('table', 'NOUN'), 1), (('litany', 'NOUN'), 1), (('*T*-186', 'X'), 1), (('clarified', 'VERB'), 1), (('*T*-187', 'X'), 1), (('retort', 'NOUN'), 1), (('concessions', 'NOUN'), 1), (('exactly', 'ADV'), 1), (('*T*-188', 'X'), 1), (('sorting', 'VERB'), 1), (('specifics', 'NOUN'), 1), (('crossed', 'VERB'), 1), (('gauging', 'VERB'), 1), (('sheaf', 'NOUN'), 1), (('trust', 'VERB'), 1), (('Little', 'ADV'), 1), (('Elisabeth', 'NOUN'), 1), (('Rubinfien', 'NOUN'), 1), (('worry', 'NOUN'), 1), (('improves', 'VERB'), 1), (('Laser', 'NOUN'), 1), (('Wayland', 'NOUN'), 1), (('sights', 'NOUN'), 1), (('myriad', 'ADJ'), 1), (('penetrate', 'VERB'), 1), (('tiny', 'ADJ'), 1), (('joint-venture', 'ADJ'), 1), (('guided', 'VERB'), 1), (('bureaucratic', 'ADJ'), 1), (('maze', 'NOUN'), 1), (('laser', 'NOUN'), 1), (('*T*-189', 'X'), 1), (('kidney', 'NOUN'), 1), (('stones', 'NOUN'), 1), (('*T*-190', 'X'), 1), (('treats', 'VERB'), 1), (('lesions', 'NOUN'), 1), (('count', 'NOUN'), 1), (('Olsen', 'NOUN'), 1), (('milked', 'VERB'), 1), (('*-117', 'X'), 1), (('bankroll', 'VERB'), 1), (('promising', 'ADJ'), 1), (('*T*-191', 'X'), 1), (('214', 'NUM'), 1), (('Heightened', 'ADJ'), 1), (('parallels', 'VERB'), 1), (('*-118', 'X'), 1), (('*T*-192', 'X'), 1), (('penetration', 'NOUN'), 1), (('low-tech', 'ADJ'), 1), (('catch', 'VERB'), 1), (('fancy', 'NOUN'), 1), (('strategic', 'ADJ'), 1), (('Glass', 'NOUN'), 1), (('Warrenton', 'NOUN'), 1), (('fabricator', 'NOUN'), 1), (('architectural', 'ADJ'), 1), (('foundering', 'VERB'), 1), (('York-based', 'NOUN'), 1), (('chiefly', 'ADV'), 1), (('Ichiro', 'NOUN'), 1), (('inside', 'NOUN'), 1), (('outside', 'NOUN'), 1), (('Nissho-Iwai', 'NOUN'), 1), (('*T*-193', 'X'), 1), (('counterpart', 'NOUN'), 1), (('vertically', 'ADV'), 1), (('combines', 'NOUN'), 1), (('feudal', 'ADJ'), 1), (('globally', 'ADV'), 1), (('sogo-shosha', 'NOUN'), 1), (('Takeshi', 'NOUN'), 1), (('Kondo', 'NOUN'), 1), (('Silicon', 'NOUN'), 1), (('*-119', 'X'), 1), (('trading-company', 'NOUN'), 1), (('Strategic', 'ADJ'), 1), (('logjam', 'NOUN'), 1), (('small-company', 'NOUN'), 1), (('Davies', 'NOUN'), 1), (('Alliance', 'NOUN'), 1), (('queuing', 'VERB'), 1), (('unsympathetic', 'ADJ'), 1), (('*T*-194', 'X'), 1), (('relation', 'NOUN'), 1), (('generate', 'VERB'), 1), (('content', 'ADJ'), 1), (('double', 'VERB'), 1), (('ai', 'VERB'), 1), (('*-120', 'X'), 1), (('*T*-195', 'X'), 1), (('fueling', 'NOUN'), 1), (('airports', 'NOUN'), 1), (('fiscal', 'NOUN'), 1), (('*T*-196', 'X'), 1), (('*-121', 'X'), 1), (('Langner', 'NOUN'), 1), (('Genie', 'NOUN'), 1), (('high-balance', 'ADJ'), 1), (('pine', 'VERB'), 1), (('for', 'PRT'), 1), (('thought', 'NOUN'), 1), (('checking', 'VERB'), 1), (('safe', 'ADJ'), 1), (('plus', 'ADV'), 1), (('competed', 'VERB'), 1), (('bundling', 'VERB'), 1), (('segmenting', 'VERB'), 1), (('NCNB', 'NOUN'), 1), (('Connections', 'NOUN'), 1), (('adults', 'NOUN'), 1), (('pre-approved', 'ADJ'), 1), (('saving', 'VERB'), 1), (('Planters', 'NOUN'), 1), (('Memphis', 'NOUN'), 1), (('Tenn.', 'NOUN'), 1), (('Edge', 'NOUN'), 1), (('thirtysomething', 'NOUN'), 1), (('crowd', 'NOUN'), 1), (('*T*-197', 'X'), 1), (('borrowing', 'VERB'), 1), (('borrowed', 'VERB'), 1), (('aiming', 'VERB'), 1), (('elderly', 'ADJ'), 1), (('Judie', 'NOUN'), 1), (('Jacksonville', 'NOUN'), 1), (('sub-segments', 'NOUN'), 1), (('tailoring', 'VERB'), 1), (('styles', 'NOUN'), 1), (('Varying', 'ADJ'), 1), (('life-style', 'NOUN'), 1), (('sub-markets', 'NOUN'), 1), (('athletic', 'ADJ'), 1), (('to', 'ADJ'), 1), (('55-year-old', 'NOUN'), 1), (('Senior', 'NOUN'), 1), (('75-year-old', 'NUM'), 1), (('packaging', 'VERB'), 1), (('1973', 'NUM'), 1), (('Wells', 'NOUN'), 1), (('Fargo', 'NOUN'), 1), (('*T*-198', 'X'), 1), (('safe-deposit', 'ADJ'), 1), (('travelers', 'NOUN'), 1), (('begot', 'VERB'), 1), (('slew', 'NOUN'), 1), (('copycats', 'NOUN'), 1), (('computerize', 'VERB'), 1), (('niches', 'NOUN'), 1), (('*T*-199', 'X'), 1), (('*-122', 'X'), 1), (('mid-1970s', 'NUM'), 1), (('analyze', 'VERB'), 1), (('deregulation', 'NOUN'), 1), (('*T*-200', 'X'), 1), (('Deregulation', 'NOUN'), 1), (('*T*-201', 'X'), 1), (('high-rate', 'ADJ'), 1), (('CDs', 'NOUN'), 1), (('passbook', 'NOUN'), 1), (('certificates', 'NOUN'), 1), (('interest-bearing', 'ADJ'), 1), (('staggering', 'ADJ'), 1), (('Norwest', 'NOUN'), 1), (('battles', 'NOUN'), 1), (('worrying', 'VERB'), 1), (('money-center', 'ADJ'), 1), (('*T*-202', 'X'), 1), (('cultivated', 'VERB'), 1), (('savvier', 'ADJ'), 1), (('*T*-203', 'X'), 1), (('fragmentation', 'NOUN'), 1), (('attracting', 'VERB'), 1), (('rate-sensitive', 'ADJ'), 1), (('Packages', 'NOUN'), 1), (('rewarding', 'VERB'), 1), (('captive', 'NOUN'), 1), (('audience', 'NOUN'), 1), (('*T*-204', 'X'), 1), (('*-123', 'X'), 1), (('loyal', 'ADJ'), 1), (('*T*-205', 'X'), 1), (('borrowers', 'NOUN'), 1), (('savers\\\\/investors', 'NOUN'), 1), (('Packaging', 'NOUN'), 1), (('drawbacks', 'NOUN'), 1), (('personnel', 'NOUN'), 1), (('promotional', 'ADJ'), 1), (('ChemPlus', 'NOUN'), 1), (('comprehensive', 'ADJ'), 1), (('flourish', 'VERB'), 1), (('tailored', 'VERB'), 1), (('*-124', 'X'), 1), (('store', 'NOUN'), 1), (('boutique', 'NOUN'), 1), (('IRAs', 'NOUN'), 1), (('SHAREDATA', 'NOUN'), 1), (('amend', 'VERB'), 1), (('delete', 'VERB'), 1), (('resubmit', 'VERB'), 1), (('Currently', 'NOUN'), 1), (('develops', 'VERB'), 1), (('markets', 'VERB'), 1), (('low-cost', 'ADJ'), 1), (('Five', 'NUM'), 1), (('Hawaiian', 'ADJ'), 1), (('Send', 'VERB'), 1), (('4', 'X'), 1), (('diamond', 'NOUN'), 1), (('necklace', 'NOUN'), 1), (('5', 'X'), 1), (('Make', 'VERB'), 1), (('lasting', 'ADJ'), 1), (('Parents', 'NOUN'), 1), (('pocket', 'NOUN'), 1), (('teetering', 'VERB'), 1), (('insolvency', 'NOUN'), 1), (('needy', 'ADJ'), 1), (('solvent', 'ADJ'), 1), (('Performing', 'VERB'), 1), (('*T*-206', 'X'), 1), (('doors', 'NOUN'), 1), (('experience', 'VERB'), 1), (('joy', 'NOUN'), 1), (('*T*-207', 'X'), 1), (('troubled', 'VERB'), 1), (('builds', 'VERB'), 1), (('self', 'NOUN'), 1), (('sufficiency', 'NOUN'), 1), (('critical', 'ADJ'), 1), (('mid-size', 'ADJ'), 1), (('semesters', 'NOUN'), 1), (('*T*-208', 'X'), 1), (('rap', 'NOUN'), 1), (('bottom', 'ADJ'), 1), (('sagging', 'VERB'), 1), (('morale', 'NOUN'), 1), (('Baris', 'NOUN'), 1), (('institute', 'VERB'), 1), (('slides', 'NOUN'), 1), (('Separately', 'NOUN'), 1), (('emergencies', 'NOUN'), 1), (('reinstating', 'VERB'), 1), (('150-point', 'ADJ'), 1), (('20-point', 'ADJ'), 1), (('*-125', 'X'), 1), (('1:30', 'NUM'), 1), (('3:15', 'NUM'), 1), (('*-126', 'X'), 1), (('tumultuous', 'ADJ'), 1), (('skidded', 'VERB'), 1), (('*T*-210', 'X'), 1), (('30-minute', 'ADJ'), 1), (('*-127', 'X'), 1), (('Melamed', 'NOUN'), 1), (('lessen', 'VERB'), 1), (('reopened', 'VERB'), 1), (('subsequent', 'ADJ'), 1), (('flood', 'NOUN'), 1), (('*T*-211', 'X'), 1), (('knocked', 'VERB'), 1), (('intermediate', 'ADJ'), 1), (('synchronized', 'VERB'), 1), (('circuit-breaker', 'NOUN'), 1), (('aggravated', 'VERB'), 1), (('directing', 'VERB'), 1), (('*-129', 'X'), 1), (('*T*-212', 'X'), 1), (('respite', 'NOUN'), 1), (('sell-offs', 'NOUN'), 1), (('maximum', 'NOUN'), 1), (('modification', 'NOUN'), 1), (('*-130', 'X'), 1), (('lapses', 'VERB'), 1), (('*T*-213', 'X'), 1), (('post-hearing', 'ADJ'), 1), (('*T*-214', 'X'), 1), (('comfortable', 'ADJ'), 1), (('heating', 'VERB'), 1), (('legislators', 'NOUN'), 1), (('Breeden', 'NOUN'), 1), (('breakers', 'NOUN'), 1), (('*T*-215', 'X'), 1), (('vague', 'ADJ'), 1), (('mushy', 'ADJ'), 1), (('viewpoints', 'NOUN'), 1), (('angered', 'VERB'), 1), (('*-131', 'X'), 1), (('sensitive', 'ADJ'), 1), (('*-132', 'X'), 1), (('happy', 'ADJ'), 1), (('*-133', 'X'), 1), (('annoyed', 'VERB'), 1), (('congressman', 'NOUN'), 1), (('Fifteen', 'NUM'), 1), (('attended', 'VERB'), 1), (('*T*-216', 'X'), 1), (('jurisdictional', 'ADJ'), 1), (('*T*-217', 'X'), 1), (('*-134', 'X'), 1), (('*T*-218', 'X'), 1), (('committees', 'NOUN'), 1), (('change-ringing', 'NOUN'), 1), (('peculiar', 'ADJ'), 1), (('peculiarities', 'NOUN'), 1), (('unintelligible', 'ADJ'), 1), (('Nine', 'NUM'), 1), (('Tailors', 'NOUN'), 1), (('ASLACTON', 'NOUN'), 1), (('*T*-219', 'X'), 1), (('evoke', 'VERB'), 1), (('loveliest', 'ADJ'), 1), (('cascading', 'VERB'), 1), (('calling', 'VERB'), 1), (('faithful', 'NOUN'), 1), (('evensong', 'NOUN'), 1), (('parishioners', 'NOUN'), 1), (('Angels', 'NOUN'), 1), (('chat', 'VERB'), 1), (('rhythmically', 'ADV'), 1), (('*T*-220', 'X'), 1), (('1614', 'NUM'), 1), (('discordant', 'ADJ'), 1), (('*-135', 'X'), 1), (('church-goers', 'NOUN'), 1), (('enjoying', 'VERB'), 1), (('cool', 'ADJ'), 1), (('*T*-221', 'X'), 1), (('herald', 'VERB'), 1), (('Derek', 'NOUN'), 1), (('octogenarians', 'NOUN'), 1), (('*T*-222', 'X'), 1), (('sometimes-exhausting', 'ADJ'), 1), (('sounding', 'VERB'), 1), (('belfries', 'NOUN'), 1), (('Anglia', 'NOUN'), 1), (('scrape', 'VERB'), 1), (('water-authority', 'NOUN'), 1), (('discos', 'NOUN'), 1), (('dances', 'NOUN'), 1), (('drift', 'VERB'), 1), (('flightiness', 'NOUN'), 1), (('diminish', 'VERB'), 1), (('Anglian', 'ADJ'), 1), (('*T*-223', 'X'), 1), (('pealing', 'VERB'), 1), (('History', 'NOUN'), 1), (('nationwide', 'ADJ'), 1), (('Sundays', 'NOUN'), 1), (('tunes', 'NOUN'), 1), (('carillons', 'NOUN'), 1), (('continental', 'ADJ'), 1), (('*-136', 'X'), 1), (('childish', 'ADJ'), 1), (('fit', 'ADJ'), 1), (('foreigners', 'NOUN'), 1), (('Change-ringing', 'NOUN'), 1), (('mind-boggling', 'ADJ'), 1), (('380', 'NUM'), 1), (('dexterity', 'NOUN'), 1), (('concentration', 'NOUN'), 1), (('Proper', 'ADJ'), 1), (('rounds', 'NOUN'), 1), (('highest-pitched', 'ADJ'), 1), (('descending', 'VERB'), 1), (('altering', 'VERB'), 1), (('variation', 'NOUN'), 1), (('state', 'VERB'), 1), (('memorize', 'VERB'), 1), (('*T*-224', 'X'), 1), (('odd-sounding', 'ADJ'), 1), (('Treble', 'NOUN'), 1), (('Grandsire', 'NOUN'), 1), (('Caters', 'NOUN'), 1), (('Kensington', 'NOUN'), 1), (('Ten', 'NUM'), 1), (('shirt-sleeved', 'ADJ'), 1), (('circle', 'NOUN'), 1), (('foot', 'NOUN'), 1), (('prize-fighter', 'NOUN'), 1), (('pulling', 'VERB'), 1), (('rope', 'NOUN'), 1), (('*T*-225', 'X'), 1), (('disappears', 'VERB'), 1), (('hole', 'NOUN'), 1), (('chamber', 'NOUN'), 1), (('snaking', 'VERB'), 1), (('muffled', 'VERB'), 1), (('Totally', 'ADV'), 1), (('stare', 'VERB'), 1), (('vision', 'NOUN'), 1), (('rope-sight', 'NOUN'), 1), (('time', 'VERB'), 1), (('pulls', 'NOUN'), 1), (('Far', 'ADV'), 1), (('bronze', 'NOUN'), 1), (('wheels', 'NOUN'), 1), (('madly', 'ADV'), 1), (('360', 'NUM'), 1), (('inverted', 'ADJ'), 1), (('mouth-up', 'ADJ'), 1), (('Skilled', 'ADJ'), 1), (('wrists', 'NOUN'), 1), (('advance', 'VERB'), 1), (('retard', 'VERB'), 1), (('following', 'ADJ'), 1), (('detective-story', 'NOUN'), 1), (('novelist', 'NOUN'), 1), (('finds', 'VERB'), 1), (('satisfaction', 'NOUN'), 1), (('mathematical', 'ADJ'), 1), (('completeness', 'NOUN'), 1), (('perfection', 'NOUN'), 1), (('filled', 'VERB'), 1), (('solemn', 'ADJ'), 1), (('intoxication', 'NOUN'), 1), (('*T*-226', 'X'), 1), (('intricate', 'ADJ'), 1), (('ritual', 'NOUN'), 1), (('faultlessly', 'ADV'), 1), (('obsession', 'NOUN'), 1), (('Pattenden', 'NOUN'), 1), (('female', 'NOUN'), 1), (('*T*-227', 'X'), 1), (('stays', 'VERB'), 1), (('stuck', 'VERB'), 1), (('*-137', 'X'), 1), (('sweat', 'NOUN'), 1), (('skip', 'VERB'), 1), (('pub', 'NOUN'), 1), (('below', 'ADV'), 1), (('sit', 'VERB'), 1), (('clerics', 'NOUN'), 1), (('steadily', 'ADV'), 1), (('dwindling', 'VERB'), 1), (('pressing', 'VERB'), 1), (('non-religious', 'ADJ'), 1), (('Rev.', 'NOUN'), 1), (('Jeremy', 'NOUN'), 1), (('*T*-228', 'X'), 1), (('sacked', 'VERB'), 1), (('self-perpetuating', 'ADJ'), 1), (('*T*-229', 'X'), 1), (('premises', 'NOUN'), 1), (('rings', 'VERB'), 1), (('Ilminster', 'NOUN'), 1), (('Somerset', 'NOUN'), 1), (('dust-up', 'NOUN'), 1), (('attendance', 'NOUN'), 1), (('W.D.', 'NOUN'), 1), (('refuses', 'VERB'), 1), (('wound', 'NOUN'), 1), (('C.J.B.', 'NOUN'), 1), (('nearby', 'ADJ'), 1), (('stairs', 'NOUN'), 1), (('*-138', 'X'), 1), (('altar', 'NOUN'), 1), (('obvious', 'ADJ'), 1), (('exit', 'NOUN'), 1), (('prayer', 'NOUN'), 1), (('feelings', 'NOUN'), 1), (('bell-ringer', 'NOUN'), 1), (('*-139', 'X'), 1), (('fuller', 'ADJ'), 1), (('aims', 'VERB'), 1), (('speak', 'VERB'), 1), (('theological', 'ADJ'), 1), (('colleges', 'NOUN'), 1), (('joys', 'NOUN'), 1), (('booklet', 'NOUN'), 1), (('entitled', 'VERB'), 1), (('Bells', 'NOUN'), 1), (('attacking', 'VERB'), 1), (('bellringers', 'NOUN'), 1), (('40,000', 'NUM'), 1), (('*-140', 'X'), 1), (('parishes', 'NOUN'), 1), (('inner-city', 'NOUN'), 1), (('lucky', 'ADJ'), 1), (('male-dominated', 'ADJ'), 1), (('bell-ringing', 'ADJ'), 1), (('Ancient', 'NOUN'), 1), (('Youths', 'NOUN'), 1), (('1637', 'NUM'), 1), (('male-only', 'ADJ'), 1), (('*T*-230', 'X'), 1), (('galling', 'ADJ'), 1), (('sole', 'ADJ'), 1), (('Cathedral', 'NOUN'), 1), (('Westminster', 'NOUN'), 1), (('Abbey', 'NOUN'), 1), (('equal-opportunity', 'NOUN'), 1), (('Red-blooded', 'ADJ'), 1), (('balanced', 'ADJ'), 1), (('frequency', 'NOUN'), 1), (('fainting', 'VERB'), 1), (('tea', 'NOUN'), 1), (('torrent', 'NOUN'), 1), (('replies', 'NOUN'), 1), (('Solihull', 'NOUN'), 1), (('*-141', 'X'), 1), (('dressed', 'VERB'), 1), (('decorated', 'VERB'), 1), (('beer-belly', 'NOUN'), 1), (('unwashed', 'ADJ'), 1), (('unbearably', 'ADV'), 1), (('flatulent', 'ADJ'), 1), (('Sheffield', 'NOUN'), 1), (('faint', 'VERB'), 1), (('bless', 'VERB'), 1), (('unsettled', 'VERB'), 1), (('comfort', 'NOUN'), 1), (('predictable', 'ADJ'), 1), (('arrival', 'NOUN'), 1), (('breathe', 'VERB'), 1), (('warn', 'VERB'), 1), (('over', 'ADJ'), 1), (('trap', 'NOUN'), 1), (('unwary', 'ADJ'), 1), (('quantitative', 'ADJ'), 1), (('Strong', 'ADJ'), 1), (('widow', 'NOUN'), 1), (('spiders', 'NOUN'), 1), (('*T*-231', 'X'), 1), (('males', 'NOUN'), 1), (('mating', 'VERB'), 1), (('Income', 'NOUN'), 1), (('robustly', 'ADV'), 1), (('Invariably', 'ADV'), 1), (('hospitable', 'ADJ'), 1), (('cyclical', 'ADJ'), 1), (('sliding', 'VERB'), 1), (('Payouts', 'NOUN'), 1), (('smartly', 'ADV'), 1), (('*T*-232', 'X'), 1), (('unenticing', 'ADJ'), 1), (('exits', 'NOUN'), 1), (('pushes', 'VERB'), 1), (('tanked', 'VERB'), 1), (('Always', 'ADV'), 1), (('Stockholders', 'NOUN'), 1), (('*T*-233', 'X'), 1), (('hint', 'NOUN'), 1), (('escaped', 'VERB'), 1), (('debacle', 'NOUN'), 1), (('in', 'NOUN'), 1), (('1933', 'NUM'), 1), (('1961', 'NUM'), 1), (('1968', 'NUM'), 1), (('troublesome', 'ADJ'), 1), (('behaving', 'VERB'), 1), (('Philadelphia-based', 'ADJ'), 1), (('co-chairman', 'NOUN'), 1), (('factors', 'VERB'), 1), (('tad', 'NOUN'), 1), (('*T*-234', 'X'), 1), (('single-digit', 'ADJ'), 1), (('weakening', 'NOUN'), 1), (('forecasting', 'VERB'), 1), (('slowdowns', 'NOUN'), 1), (('Doerflinger', 'NOUN'), 1), (('wherewithal', 'ADJ'), 1), (('declare', 'VERB'), 1), (('Dividend', 'NOUN'), 1), (('*-142', 'X'), 1), (('bulls', 'NOUN'), 1), (('expenditures', 'NOUN'), 1), (('139', 'NUM'), 1), (('138', 'NUM'), 1), (('measure', 'VERB'), 1), (('slippage', 'NOUN'), 1), (('harbinger', 'NOUN'), 1), (('vs.', 'ADP'), 1), (('%', 'ADJ'), 1), (('*T*-235', 'X'), 1), (('Having', 'VERB'), 1), (('supportive', 'ADJ'), 1), (('element', 'NOUN'), 1), (('upside', 'ADV'), 1), (('page-one', 'ADJ'), 1), (('Alexander', 'NOUN'), 1), (('Graham', 'NOUN'), 1), (('invention', 'NOUN'), 1), (('communication', 'NOUN'), 1), (('telegraph', 'NOUN'), 1), (('father-in-law', 'NOUN'), 1), (('Gardner', 'NOUN'), 1), (('Hubbard', 'NOUN'), 1), (('wealthy', 'ADJ'), 1), (('well-connected', 'ADJ'), 1), (('Emile', 'NOUN'), 1), (('*-144', 'X'), 1), (('princely', 'ADJ'), 1), (('infringed', 'VERB'), 1), (('established', 'VERB'), 1), (('caveat', 'NOUN'), 1), (('*-145', 'X'), 1), (('enter', 'VERB'), 1), (('Troubled', 'NOUN'), 1), (('discontinuing', 'VERB'), 1), (('*T*-236', 'X'), 1), (('Altogether', 'ADV'), 1), (('266', 'NUM'), 1), (('176', 'NUM'), 1), (('flat', 'ADV'), 1), (('structurally', 'ADV'), 1), (('radically', 'ADV'), 1), (('servicing', 'VERB'), 1), (('word-processing', 'NOUN'), 1), (('Legend', 'NOUN'), 1), (('*T*-237', 'X'), 1), (('lacked', 'VERB'), 1), (('93', 'NUM'), 1), (('*T*-238', 'X'), 1), (('rapprochement', 'NOUN'), 1), (('spoke', 'VERB'), 1), (('length', 'NOUN'), 1), (('near', 'ADJ'), 1), (('*T*-239', 'X'), 1), (('afflicted', 'VERB'), 1), (('Sino-U.S.', 'NOUN'), 1), (('bloody', 'ADJ'), 1), (('suppression', 'NOUN'), 1), (('harped', 'VERB'), 1), (('outrage', 'NOUN'), 1), (('massacre', 'NOUN'), 1), (('aim', 'NOUN'), 1), (('Legal', 'NOUN'), 1), (('*T*-240', 'X'), 1), (('proponent', 'NOUN'), 1), (('peaceful', 'ADJ'), 1), (('catch', 'NOUN'), 1), (('seduce', 'VERB'), 1), (('socialist', 'ADJ'), 1), (('capitalist', 'ADJ'), 1), (('tension', 'NOUN'), 1), (('evident', 'ADJ'), 1), (('banquet', 'NOUN'), 1), (('reciting', 'VERB'), 1), (('platitudes', 'NOUN'), 1), (('eternal', 'ADJ'), 1), (('friendship', 'NOUN'), 1), (('reminded', 'VERB'), 1), (('Shangkun', 'NOUN'), 1), (('3-4', 'NUM'), 1), (('*T*-241', 'X'), 1), (('*T*-242', 'X'), 1), (('ordering', 'VERB'), 1), (('undiplomatic', 'ADJ'), 1), (('fashion', 'NOUN'), 1), (('killings', 'NOUN'), 1), (('prominently', 'ADV'), 1), (('demonstrations', 'NOUN'), 1), (('supreme', 'NOUN'), 1), (('Deng', 'NOUN'), 1), (('Xiaoping', 'NOUN'), 1), (('Frankly', 'ADV'), 1), (('speaking', 'VERB'), 1), (('*-146', 'X'), 1), (('deeply', 'ADV'), 1), (('counterrevolutionary', 'ADJ'), 1), (('rebellion', 'NOUN'), 1), (('*T*-243', 'X'), 1), (('reprove', 'VERB'), 1), (('mend', 'VERB'), 1), (('*T*-244', 'X'), 1), (('deteriorated', 'VERB'), 1), (('Chinese-American', 'NOUN'), 1), (('dissident', 'NOUN'), 1), (('Lizhi', 'NOUN'), 1), (('Shuxian', 'NOUN'), 1), (('refuge', 'NOUN'), 1), (('Shortly', 'ADV'), 1), (('afterwards', 'ADV'), 1), (('anti-China', 'ADJ'), 1), (('high-level', 'ADJ'), 1), (('codified', 'VERB'), 1), (('*-147', 'X'), 1), (('clear', 'ADV'), 1), (('unofficial', 'ADJ'), 1), (('envoy', 'NOUN'), 1), (('Brent', 'NOUN'), 1), (('Scowcroft', 'NOUN'), 1), (('Saturday', 'NOUN'), 1), (('brief', 'VERB'), 1), (('top-level', 'ADJ'), 1), (('participation', 'NOUN'), 1), (('Fulbright', 'NOUN'), 1), (('government-funded', 'ADJ'), 1), (('pulled', 'VERB'), 1), (('acknowledge', 'VERB'), 1), (('infusion', 'NOUN'), 1), (('Ideas', 'NOUN'), 1), (('borders', 'NOUN'), 1), (('SDI', 'NOUN'), 1), (('weapon', 'NOUN'), 1), (('*T*-245', 'X'), 1), (('shoot', 'VERB'), 1), (('yielding', 'NOUN'), 1), (('minor', 'ADJ'), 1), (('Premier', 'NOUN'), 1), (('Peng', 'NOUN'), 1), (('hoped', 'VERB'), 1), (('encounter', 'VERB'), 1), (('guns', 'NOUN'), 1), (('Sure', 'ADV'), 1), (('arrived', 'VERB'), 1), (('embassy', 'NOUN'), 1), (('machine-gun-toting', 'ADJ'), 1), (('blocks', 'NOUN'), 1), (('ambassador', 'NOUN'), 1), (('residence', 'NOUN'), 1), (('encircling', 'VERB'), 1), (('discarded', 'VERB'), 1), (('Uzi-model', 'ADJ'), 1), (('pistols', 'NOUN'), 1), (('plainclothes', 'NOUN'), 1), (('nearby', 'ADV'), 1), (('unmarked', 'ADJ'), 1), (('soldiers', 'NOUN'), 1), (('*T*-246', 'X'), 1), (('diplomats', 'NOUN'), 1), (('clicked', 'VERB'), 1), (('Firms', 'NOUN'), 1), (('Lure', 'VERB'), 1), (('Science', 'NOUN'), 1), (('Graduates', 'NOUN'), 1), (('Industrial', 'ADJ'), 1), (('accusing', 'VERB'), 1), (('jeopardizing', 'VERB'), 1), (('barking', 'VERB'), 1), (('buck', 'NOUN'), 1), (('*T*-247', 'X'), 1), (('volunteer', 'NOUN'), 1), (('unethical', 'ADJ'), 1), (('higher-salaried', 'ADJ'), 1), (('Unfortunately', 'ADV'), 1), (('impression', 'NOUN'), 1), (('harder', 'ADV'), 1), (('visited', 'VERB'), 1), (('*-149', 'X'), 1), (('images', 'NOUN'), 1), (('perceptions', 'NOUN'), 1), (('salaries', 'NOUN'), 1), (('Hiroshi', 'NOUN'), 1), (('Asada', 'NOUN'), 1), (('page-one', 'NOUN'), 1), (('Barbara', 'NOUN'), 1), (('Earns', 'VERB'), 1), (('Ratings', 'NOUN'), 1), (('Than', 'ADP'), 1), (('regrettable', 'ADJ'), 1), (('negatives', 'NOUN'), 1), (('liberals', 'NOUN'), 1), (('progressive', 'ADJ'), 1), (('Prof', 'NOUN'), 1), (('Ethel', 'NOUN'), 1), (('Klein', 'NOUN'), 1), (('76', 'NUM'), 1), (('*T*-248', 'X'), 1), (('disapprove', 'VERB'), 1), (('spouse', 'NOUN'), 1), (('imply', 'VERB'), 1), (('three-quarters', 'NOUN'), 1), (('distasteful', 'ADJ'), 1), (('newsworthy', 'ADJ'), 1), (('perpetuates', 'VERB'), 1), (('insidious', 'ADJ'), 1), (('stereotyped', 'ADJ'), 1), (('perspective', 'NOUN'), 1), (('defined', 'VERB'), 1), (('denominator', 'NOUN'), 1), (('Preston', 'NOUN'), 1), (('Birmingham', 'NOUN'), 1), (('Ala', 'NOUN'), 1), (('self-regulatory', 'ADJ'), 1), (('disciplined', 'VERB'), 1), (('*-150', 'X'), 1), (('*-151', 'X'), 1), (('Marina', 'NOUN'), 1), (('del', 'DET'), 1), (('Rey', 'NOUN'), 1), (('*-152', 'X'), 1), (('*-153', 'X'), 1), (('telephone-information', 'NOUN'), 1), (('I.', 'NOUN'), 1), (('improper', 'ADJ'), 1), (('*-154', 'X'), 1), (('*T*-249', 'X'), 1), (('*-155', 'X'), 1), (('Lauderhill', 'NOUN'), 1), (('Plantation', 'NOUN'), 1), (('*T*-250', 'X'), 1), (('*-156', 'X'), 1), (('Delwin', 'NOUN'), 1), (('*-157', 'X'), 1), (('Mount', 'NOUN'), 1), (('Clemens', 'NOUN'), 1), (('record-keeping', 'ADJ'), 1), (('inaccurately', 'ADV'), 1), (('Weatherly', 'NOUN'), 1), (('Keehn', 'NOUN'), 1), (('Northy', 'NOUN'), 1), (('Prater', 'NOUN'), 1), (('Mercer', 'NOUN'), 1), (('Wash.', 'NOUN'), 1), (('Reached', 'VERB'), 1), (('implication', 'NOUN'), 1), (('timing', 'NOUN'), 1), (('rectified', 'VERB'), 1), (('W.N.', 'NOUN'), 1), (('N.', 'NOUN'), 1), (('differ', 'VERB'), 1), (('meaning', 'NOUN'), 1), (('markup', 'NOUN'), 1), (('*T*-251', 'X'), 1), (('timely', 'ADJ'), 1), (('requests', 'NOUN'), 1), (('Except', 'ADP'), 1), (('Derel', 'NOUN'), 1), (('Adams', 'NOUN'), 1), (('Killeen', 'NOUN'), 1), (('Angier', 'NOUN'), 1), (('Reddington', 'NOUN'), 1), (('Shores', 'NOUN'), 1), (('Stirlen', 'NOUN'), 1), (('Bonnell', 'NOUN'), 1), (('Boorse', 'NOUN'), 1), (('Horsham', 'NOUN'), 1), (('Chiodo', 'NOUN'), 1), (('Camille', 'NOUN'), 1), (('Chafic', 'NOUN'), 1), (('Cotran', 'NOUN'), 1), (('Colonsville', 'NOUN'), 1), (('Dompierre', 'NOUN'), 1), (('Valrico', 'NOUN'), 1), (('16,072', 'NUM'), 1), (('Marion', 'NOUN'), 1), (('Stewart', 'NOUN'), 1), (('Spitler', 'NOUN'), 1), (('18,444', 'NUM'), 1), (('*T*-252', 'X'), 1), (('complaining', 'VERB'), 1), (('anybody', 'NOUN'), 1), (('Fishman', 'NOUN'), 1), (('Longwood', 'NOUN'), 1), (('Floyd', 'NOUN'), 1), (('Amin', 'NOUN'), 1), (('Jalaalwalikraam', 'NOUN'), 1), (('Glenham', 'NOUN'), 1), (('Knapp', 'NOUN'), 1), (('Deborah', 'NOUN'), 1), (('Renee', 'NOUN'), 1), (('Muscolina', 'NOUN'), 1), (('Palisades', 'NOUN'), 1), (('Najarian', 'NOUN'), 1), (('Minn.', 'NOUN'), 1), (('Norwick', 'NOUN'), 1), (('Nesconset', 'NOUN'), 1), (('Phipps', 'NOUN'), 1), (('Sr.', 'NOUN'), 1), (('Rankin', 'NOUN'), 1), (('Mo.', 'NOUN'), 1), (('Leigh', 'NOUN'), 1), (('Sanderoff', 'NOUN'), 1), (('Gaithersburg', 'NOUN'), 1), (('Md.', 'NOUN'), 1), (('12,252', 'NUM'), 1), (('Sandra', 'NOUN'), 1), (('Ridgefield', 'NOUN'), 1), (('Spence', 'NOUN'), 1), (('Aloha', 'NOUN'), 1), (('Mona', 'NOUN'), 1), (('Estates', 'NOUN'), 1), (('Swearingen', 'NOUN'), 1), (('Bew', 'NOUN'), 1), (('Wong', 'NOUN'), 1), (('Rabia', 'NOUN'), 1), (('Zayed', 'NOUN'), 1), (('Veselich', 'NOUN'), 1), (('Enright', 'NOUN'), 1), (('Rolling', 'NOUN'), 1), (('11,762', 'NUM'), 1), (('Stuart', 'NOUN'), 1), (('Russel', 'NOUN'), 1), (('Glendale', 'NOUN'), 1), (('14,821', 'NUM'), 1), (('Nilson', 'NOUN'), 1), (('Fountain', 'NOUN'), 1), (('82,389', 'NUM'), 1), (('screwed', 'VERB'), 1), (('breaking', 'VERB'), 1), (('*-158', 'X'), 1), (('reps', 'NOUN'), 1), (('security-type', 'ADJ'), 1), (('mistakes', 'NOUN'), 1), (('Cole', 'NOUN'), 1), (('Jackson', 'NOUN'), 1), (('Rita', 'NOUN'), 1), (('Rae', 'NOUN'), 1), (('Cross', 'NOUN'), 1), (('Denver', 'NOUN'), 1), (('Meinders', 'NOUN'), 1), (('five-day', 'ADJ'), 1), (('eight-month', 'ADJ'), 1), (('La.', 'NOUN'), 1), (('Karl', 'NOUN'), 1), (('Grant', 'NOUN'), 1), (('Hale', 'NOUN'), 1), (('Midvale', 'NOUN'), 1), (('Utah', 'NOUN'), 1), (('Clinton', 'NOUN'), 1), (('Hayne', 'NOUN'), 1), (('one-week', 'ADJ'), 1), (('Coconut', 'NOUN'), 1), (('250,000', 'NUM'), 1), (('Merrick', 'NOUN'), 1), (('Pace', 'NOUN'), 1), (('90-day', 'ADJ'), 1), (('Brian', 'NOUN'), 1), (('Pitcher', 'NOUN'), 1), (('Russo', 'NOUN'), 1), (('Bridgeville', 'NOUN'), 1), (('15-day', 'ADJ'), 1), (('Orville', 'NOUN'), 1), (('Leroy', 'NOUN'), 1), (('Sandberg', 'NOUN'), 1), (('Marchese', 'NOUN'), 1), (('Eric', 'NOUN'), 1), (('Monchecourt', 'NOUN'), 1), (('Gerhard', 'NOUN'), 1), (('Carson', 'NOUN'), 1), (('license', 'NOUN'), 1), (('fond', 'ADJ'), 1), (('blocked', 'VERB'), 1), (('*-159', 'X'), 1), (('emigrate', 'VERB'), 1), (('hurdles', 'NOUN'), 1), (('loom', 'VERB'), 1), (('onslaught', 'NOUN'), 1), (('shrug', 'VERB'), 1), (('overlap', 'VERB'), 1), (('American-style', 'ADJ'), 1), (('*T*-253', 'X'), 1), (('exploit', 'VERB'), 1), (('11.6', 'NUM'), 1), (('imagine', 'VERB'), 1), (('racing', 'VERB'), 1), (('Chicago-style', 'ADJ'), 1), (('*-160', 'X'), 1), (('Makato', 'NOUN'), 1), (('Utsumi', 'NOUN'), 1), (('home-market', 'ADJ'), 1), (('Osaka', 'NOUN'), 1), (('forgotten', 'VERB'), 1), (('leap', 'NOUN'), 1), (('bout', 'NOUN'), 1), (('foreign-led', 'ADJ'), 1), (('skyward', 'ADV'), 1), (('*T*-254', 'X'), 1), (('mechanisms', 'NOUN'), 1), (('tightened', 'VERB'), 1), (('index-related', 'ADJ'), 1), (('catch-up', 'NOUN'), 1), (('reaped', 'VERB'), 1), (('*T*-255', 'X'), 1), (('Deryck', 'NOUN'), 1), (('*T*-256', 'X'), 1), (('Wadsworth', 'NOUN'), 1), (('*T*-257', 'X'), 1), (('ascribe', 'VERB'), 1), (('futures-related', 'ADJ'), 1), (('disruptive', 'ADJ'), 1), (('liquid', 'NOUN'), 1), (('Index-arbitrage', 'NOUN'), 1), (('serves', 'VERB'), 1), (('conduit', 'NOUN'), 1), (('counter', 'NOUN'), 1), (('tapes', 'NOUN'), 1), (('unwind', 'VERB'), 1), (('*-161', 'X'), 1), (('Barfield', 'NOUN'), 1), (('Assurance', 'NOUN'), 1), (('*T*-258', 'X'), 1), (('manages', 'VERB'), 1), (('23.72', 'NUM'), 1), (('*-162', 'X'), 1), (('Traded', 'NOUN'), 1), (('tenfold', 'ADV'), 1), (('9,118', 'NUM'), 1), (('4,645', 'NUM'), 1), (('917', 'NUM'), 1), (('index-options', 'NOUN'), 1), (('derivatives', 'NOUN'), 1), (('382-37', 'NUM'), 1), (('replete', 'ADJ'), 1), (('Advocates', 'NOUN'), 1), (('90-cent-an-hour', 'ADJ'), 1), (('Republicans', 'NOUN'), 1), (('bend', 'VERB'), 1), (('*T*-259', 'X'), 1), (('lifting', 'NOUN'), 1), (('four-year', 'ADJ'), 1), (('2.65', 'NUM'), 1), (('3.80', 'NUM'), 1), (('smiles', 'NOUN'), 1), (('Mont', 'NOUN'), 1), (('*-164', 'X'), 1), (('Marge', 'NOUN'), 1), (('administrations', 'NOUN'), 1), (('Adopting', 'VERB'), 1), (('training-wage', 'ADJ'), 1), (('diming', 'NOUN'), 1), (('Policy', 'NOUN'), 1), (('lately', 'ADV'), 1), (('touted', 'VERB'), 1), (('impart', 'VERB'), 1), (('skills', 'NOUN'), 1), (('entrants', 'NOUN'), 1), (('fought', 'VERB'), 1), (('acceded', 'VERB'), 1), (('insistence', 'NOUN'), 1), (('3.61', 'NUM'), 1), (('Employers', 'NOUN'), 1), (('*NOT*', 'X'), 1), (('government-certified', 'ADJ'), 1), (('*T*-260', 'X'), 1), (('unrestricted', 'ADJ'), 1), (('*-165', 'X'), 1), (('mininum-wage', 'NOUN'), 1), (('employers', 'NOUN'), 1), (('elimination', 'NOUN'), 1), (('534', 'NUM'), 1), (('microcomputers', 'NOUN'), 1), (('84-month', 'ADJ'), 1), (('130.7', 'NUM'), 1), (('AC-130U', 'NOUN'), 1), (('Marietta', 'NOUN'), 1), (('*-166', 'X'), 1), (('29.9', 'NUM'), 1), (('low-altitude', 'NOUN'), 1), (('navigation', 'NOUN'), 1), (('29.4', 'NUM'), 1), (('mode', 'NOUN'), 1), (('gentle', 'ADJ'), 1), (('Can', 'VERB'), 1), (('hard-charging', 'ADJ'), 1), (('Teddy', 'NOUN'), 1), (('Roosevelt', 'NOUN'), 1), (('62-year-old', 'ADJ'), 1), (('forest-product', 'NOUN'), 1), (('unsolicited', 'ADJ'), 1), (('3.19', 'NUM'), 1), (('cold', 'ADJ'), 1), (('entice', 'VERB'), 1), (('negotiating', 'VERB'), 1), (('surrender', 'NOUN'), 1), (('opens', 'VERB'), 1), (('dilemma', 'NOUN'), 1), (('Given', 'VERB'), 1), (('overpaying', 'VERB'), 1), (('courage', 'NOUN'), 1), (('A.D.', 'NOUN'), 1), (('long-time', 'ADJ'), 1), (('Griffin', 'NOUN'), 1), (('WTD', 'NOUN'), 1), (('picked', 'VERB'), 1), (('Polytechnic', 'NOUN'), 1), (('universities', 'NOUN'), 1), (('Strother', 'NOUN'), 1), (('researching', 'VERB'), 1), (('willingness', 'NOUN'), 1), (('arrest', 'VERB'), 1), (('occupying', 'VERB'), 1), (('impressed', 'VERB'), 1), (('fundraising', 'VERB'), 1), (('institute', 'NOUN'), 1), (('enticed', 'VERB'), 1), (('befuddled', 'VERB'), 1), (('demonstrating', 'VERB'), 1), (('raw', 'ADJ'), 1), (('possessed', 'VERB'), 1), (('skipped', 'VERB'), 1), (('classmates', 'NOUN'), 1), (('Moving', 'VERB'), 1), (('graduated', 'VERB'), 1), (('Phi', 'NOUN'), 1), (('Beta', 'NOUN'), 1), (('Kappa', 'NOUN'), 1), (('Kentucky', 'NOUN'), 1), (('doctorate', 'NOUN'), 1), (('retentive', 'ADJ'), 1), (('understatement', 'NOUN'), 1), (('photographic', 'ADJ'), 1), (('engineered', 'VERB'), 1), (('inherited', 'VERB'), 1), (('recession-inspired', 'ADJ'), 1), (('building-products', 'NOUN'), 1), (('non-core', 'ADJ'), 1), (('vinyl', 'NOUN'), 1), (('checkbook', 'NOUN'), 1), (('refocusing', 'NOUN'), 1), (('remodeling', 'NOUN'), 1), (('buffet', 'VERB'), 1), (('cycles', 'NOUN'), 1), (('formula', 'NOUN'), 1), (('reins', 'NOUN'), 1), (('467', 'NUM'), 1), (('attributes', 'VERB'), 1), (('philosophy', 'NOUN'), 1), (('concentrating', 'VERB'), 1), (('diversified', 'VERB'), 1), (('impressive', 'ADJ'), 1), (('diversification', 'NOUN'), 1), (('match', 'NOUN'), 1), (('high-quality', 'ADJ'), 1), (('Kathryn', 'NOUN'), 1), (('McAuley', 'NOUN'), 1), (('Overseas', 'NOUN'), 1), (('Private', 'NOUN'), 1), (('contrasts', 'VERB'), 1), (('provoked', 'VERB'), 1), (('shaping', 'VERB'), 1), (('authorizing', 'VERB'), 1), (('decisive', 'ADJ'), 1), (('reallocate', 'VERB'), 1), (('Pentagon', 'NOUN'), 1), (('separately', 'ADV'), 1), (('220', 'NUM'), 1), (('Population', 'NOUN'), 1), (('warming', 'NOUN'), 1), (('elephant', 'NOUN'), 1), (('draws', 'VERB'), 1), (('airplane', 'NOUN'), 1), (('intriguing', 'ADJ'), 1), (('stripped', 'VERB'), 1), (('Noriega', 'NOUN'), 1), (('regime', 'NOUN'), 1), (('30,537', 'NUM'), 1), (('21-month', 'ADJ'), 1), (('reallocated', 'VERB'), 1), (('23,403', 'NUM'), 1), (('growers', 'NOUN'), 1), (('9.3', 'NUM'), 1), (('Majority', 'NOUN'), 1), (('Whip', 'NOUN'), 1), (('Pa', 'NOUN'), 1), (('English-speaking', 'ADJ'), 1), (('Barbados', 'NOUN'), 1), (('Californian', 'NOUN'), 1), (('Bolivia', 'NOUN'), 1), (('broadened', 'VERB'), 1), (('initiate', 'NOUN'), 1), (('upsetting', 'VERB'), 1), (('allies', 'NOUN'), 1), (('instructed', 'VERB'), 1), (('lobbyist', 'NOUN'), 1), (('drafted', 'VERB'), 1), (('insert', 'VERB'), 1), (('waived', 'VERB'), 1), (('supplemental', 'ADJ'), 1), (('anti-drug', 'ADJ'), 1), (('27.1', 'NUM'), 1), (('bounce', 'VERB'), 1), (('departments', 'NOUN'), 1), (('Beauty', 'NOUN'), 1), (('Takes', 'VERB'), 1), (('Backseat', 'NOUN'), 1), (('Bridges', 'NOUN'), 1), (('EVERYONE', 'NOUN'), 1), (('AGREES', 'VERB'), 1), (('repaired', 'VERB'), 1), (('ornamental', 'ADJ'), 1), (('crashing', 'VERB'), 1), (('scenic', 'ADJ'), 1), (('planner', 'NOUN'), 1), (('prefer', 'VERB'), 1), (('four-foot-high', 'ADJ'), 1), (('slab', 'NOUN'), 1), (('Ind.', 'NOUN'), 1), (('arched', 'ADJ'), 1), (('G', 'NOUN'), 1), (('Garret', 'NOUN'), 1), (('teaches', 'VERB'), 1), (('Earlham', 'NOUN'), 1), (('ugly', 'ADJ'), 1), (('blocks', 'VERB'), 1), (('Charter', 'NOUN'), 1), (('Oak', 'NOUN'), 1), (('cast-iron', 'ADJ'), 1), (('medallions', 'NOUN'), 1), (('Compromises', 'NOUN'), 1), (('Citizens', 'NOUN'), 1), (('Peninsula', 'NOUN'), 1), (('floral', 'ADJ'), 1), (('highway', 'NOUN'), 1), (('crash', 'ADJ'), 1), (('sidewalk', 'NOUN'), 1), (('Tray', 'NOUN'), 1), (('Bon', 'NOUN'), 1), (('Drink', 'NOUN'), 1), (('Carrier', 'NOUN'), 1), (('Competes', 'VERB'), 1), (('Cartons', 'NOUN'), 1), (('PORTING', 'VERB'), 1), (('POTABLES', 'NOUN'), 1), (('Scypher', 'NOUN'), 1), (('Cup-Tote', 'NOUN'), 1), (('beverage', 'NOUN'), 1), (('resembles', 'VERB'), 1), (('beer', 'NOUN'), 1), (('web', 'NOUN'), 1), (('tote', 'VERB'), 1), (('cups', 'NOUN'), 1), (('Inventor', 'NOUN'), 1), (('Claire', 'NOUN'), 1), (('spilling', 'NOUN'), 1), (('Lids', 'NOUN'), 1), (('carriers', 'NOUN'), 1), (('try', 'NOUN'), 1), (('acknowledges', 'VERB'), 1), (('driver', 'NOUN'), 1), (('sunlight', 'NOUN'), 1), (('recyclable', 'ADJ'), 1), (('Spirit', 'NOUN'), 1), (('Perestroika', 'X'), 1), (('Touches', 'VERB'), 1), (('Design', 'NOUN'), 1), (('AN', 'DET'), 1), (('EXCHANGE', 'NOUN'), 1), (('travel', 'VERB'), 1), (('gamut', 'NOUN'), 1), (('blender', 'NOUN'), 1), (('chairs', 'NOUN'), 1), (('Leningrad', 'NOUN'), 1), (('Mutchin', 'NOUN'), 1), (('learn', 'VERB'), 1), (('corkscrews', 'NOUN'), 1), (('maybe', 'ADV'), 1), (('Seed', 'NOUN'), 1), (('Jail', 'NOUN'), 1), (('Solution', 'NOUN'), 1), (('Fails', 'VERB'), 1), (('Root', 'NOUN'), 1), (('IT', 'PRON'), 1), ((\"'S\", 'VERB'), 1), (('TWO', 'NUM'), 1), (('BIRDS', 'NOUN'), 1), (('architects', 'NOUN'), 1), (('propose', 'VERB'), 1), (('prisoners', 'NOUN'), 1), (('overcrowding', 'NOUN'), 1), (('solutions', 'NOUN'), 1), (('no', 'X'), 1), (('Grain', 'NOUN'), 1), (('1920s', 'NUM'), 1), ((\"'30s\", 'NUM'), 1), (('walls', 'NOUN'), 1), (('semicircular', 'ADJ'), 1), (('cells', 'NOUN'), 1), (('muster', 'NOUN'), 1), (('visits', 'NOUN'), 1), (('aesthetic', 'ADJ'), 1), (('famed', 'ADJ'), 1), (('altered', 'VERB'), 1), (('inmates', 'NOUN'), 1), (('upstate', 'ADJ'), 1), (('workplace', 'NOUN'), 1), (('mill', 'NOUN'), 1), (('crane-safety', 'NOUN'), 1), (('record-keeping', 'NOUN'), 1), (('citation', 'NOUN'), 1), (('coke', 'NOUN'), 1), (('electrical-safety', 'ADJ'), 1), (('indifference', 'NOUN'), 1), (('counteract', 'VERB'), 1), (('Particularly', 'ADV'), 1), (('flagrant', 'ADJ'), 1), (('properly', 'ADV'), 1), (('spite', 'NOUN'), 1), (('corporate-wide', 'ADJ'), 1), (('correct', 'VERB'), 1), (('Once', 'ADP'), 1), (('evaluation', 'NOUN'), 1), (('cooperating', 'VERB'), 1), (('corrected', 'VERB'), 1), (('promised', 'VERB'), 1), (('stiffer', 'ADJ'), 1), (('unwilling', 'ADJ'), 1), (('manpower', 'NOUN'), 1), (('removing', 'VERB'), 1), (('safeguarding', 'VERB'), 1), (('Anku', 'NOUN'), 1), (('contest', 'VERB'), 1), (('Review', 'NOUN'), 1), (('Morrell', 'NOUN'), 1), (('meatpacking', 'NOUN'), 1), (('Brands', 'NOUN'), 1), (('contesting', 'VERB'), 1), (('editing', 'NOUN'), 1), (('error', 'NOUN'), 1), (('Hallett', 'NOUN'), 1), (('mistakenly', 'ADV'), 1), (('NRDC', 'NOUN'), 1), (('Natural', 'NOUN'), 1), (('Homeless', 'NOUN'), 1), (('implied', 'VERB'), 1), (('substance-abusing', 'ADJ'), 1), (('alcoholics', 'NOUN'), 1), (('quoting', 'VERB'), 1), (('emphasized', 'VERB'), 1), (('prevalance', 'NOUN'), 1), (('alcoholism', 'NOUN'), 1), (('multitude', 'NOUN'), 1), (('malnutrition', 'NOUN'), 1), (('chest', 'NOUN'), 1), (('cardiovascular', 'ADJ'), 1), (('infectious', 'ADJ'), 1), (('aftereffects', 'NOUN'), 1), (('assaults', 'NOUN'), 1), (('Homeless', 'ADJ'), 1), (('elementary', 'ADJ'), 1), (('necessities', 'NOUN'), 1), (('nutrition', 'NOUN'), 1), (('cleanliness', 'NOUN'), 1), (('predispose', 'VERB'), 1), (('consequence', 'NOUN'), 1), (('composed', 'VERB'), 1), (('adequate', 'ADJ'), 1), (('interactions', 'NOUN'), 1), (('defying', 'VERB'), 1), (('generalizations', 'NOUN'), 1), (('possess', 'VERB'), 1), (('Breakey', 'NOUN'), 1), (('Fischer', 'NOUN'), 1), (('Psychiatry', 'NOUN'), 1), (('Johns', 'NOUN'), 1), (('Hopkins', 'NOUN'), 1), (('Tulane', 'NOUN'), 1), (('array', 'NOUN'), 1), (('thread', 'NOUN'), 1), (('exhibits', 'VERB'), 1), (('simultaneously', 'ADV'), 1), (('housing', 'NOUN'), 1), (('disaffiliation', 'NOUN'), 1), (('welfare', 'NOUN'), 1), (('decay', 'NOUN'), 1), (('intimately', 'ADV'), 1), (('living', 'VERB'), 1), (('Leighton', 'NOUN'), 1), (('Cluff', 'NOUN'), 1), (('quote', 'VERB'), 1), (('drop-in', 'ADJ'), 1), (('robbed', 'VERB'), 1), (('sleep', 'NOUN'), 1), (('deprivation', 'NOUN'), 1), (('scarcely', 'ADV'), 1), (('touch', 'NOUN'), 1), (('fend', 'VERB'), 1), (('pre-existing', 'ADJ'), 1), (('addiction', 'NOUN'), 1), (('cracks', 'NOUN'), 1), (('grim', 'ADJ'), 1), (('brutal', 'ADJ'), 1), (('escape', 'NOUN'), 1), (('drink', 'NOUN'), 1), (('insanity', 'NOUN'), 1), (('R.D.', 'NOUN'), 1), (('Vos', 'NOUN'), 1), (('N.Y', 'NOUN'), 1), (('dismiss', 'VERB'), 1), (('sentimental', 'ADJ'), 1), (('housing-assistance', 'ADJ'), 1), (('sleeping', 'VERB'), 1), (('Reagan-Bush', 'ADJ'), 1), (('bothered', 'VERB'), 1), (('inverse', 'NOUN'), 1), (('Jenkins', 'NOUN'), 1), (('sponsors', 'NOUN'), 1), (('chose', 'VERB'), 1), (('Builders', 'NOUN'), 1), (('Bricklayers', 'NOUN'), 1), (('Craftsmen', 'NOUN'), 1), (('insinuating', 'VERB'), 1), (('self-serving', 'ADJ'), 1), (('crusade', 'NOUN'), 1), (('desire', 'NOUN'), 1), (('YMCA', 'NOUN'), 1), (('YWCA', 'NOUN'), 1), (('Catholic', 'NOUN'), 1), (('USA', 'NOUN'), 1), (('participated', 'VERB'), 1), (('examinations', 'NOUN'), 1), (('Choose', 'VERB'), 1), (('deprived', 'VERB'), 1), (('families', 'NOUN'), 1), (('substitute', 'NOUN'), 1), (('Chivas', 'NOUN'), 1), (('Regal', 'NOUN'), 1), (('phobias', 'NOUN'), 1), (('depressions', 'NOUN'), 1), (('Ruth', 'NOUN'), 1), (('Cullowhee', 'NOUN'), 1), (('ROGERS', 'NOUN'), 1), (('COMMUNICATIONS', 'NOUN'), 1), (('148.9', 'NUM'), 1), (('153.3', 'NUM'), 1), (('perpetual', 'ADJ'), 1), (('Perpetual', 'ADJ'), 1), (('retractable', 'ADJ'), 1), (('Rogers', 'NOUN'), 1), (('B', 'NOUN'), 1), (('cable', 'NOUN'), 1), (('views', 'VERB'), 1), (('undesirable', 'ADJ'), 1), (('intrusion', 'NOUN'), 1), (('300-113', 'NUM'), 1), (('override', 'VERB'), 1), (('brakes', 'NOUN'), 1), (('impede', 'VERB'), 1), (('Ark', 'NOUN'), 1), (('Works', 'NOUN'), 1), (('impaired', 'VERB'), 1), (('airline-related', 'ADJ'), 1), (('overriding', 'VERB'), 1), (('DeFazio', 'NOUN'), 1), (('criteria', 'NOUN'), 1), (('Traficant', 'NOUN'), 1), (('271-147', 'NUM'), 1), (('dubbed', 'VERB'), 1), (('labor-backed', 'ADJ'), 1), (('two-time-losers', 'ADJ'), 1), (('Lorenzo', 'NOUN'), 1), (('Follow-up', 'ADJ'), 1), (('broadcasting', 'VERB'), 1), (('scholar', 'NOUN'), 1), (('broadcasts', 'NOUN'), 1), (('ordinary', 'ADJ'), 1), (('cousins', 'NOUN'), 1), (('hither', 'ADV'), 1), (('yon', 'ADV'), 1), (('outrageous', 'ADJ'), 1), (('propagandize', 'VERB'), 1), (('sounds', 'VERB'), 1), (('neat', 'ADJ'), 1), (('propagandizes', 'VERB'), 1), (('speeches', 'NOUN'), 1), (('briefings', 'NOUN'), 1), (('sorts', 'NOUN'), 1), (('Propaganda', 'NOUN'), 1), (('mind', 'NOUN'), 1), (('viewing', 'VERB'), 1), (('absurd', 'ADJ'), 1), (('inform', 'VERB'), 1), (('columns', 'NOUN'), 1), (('clipped', 'VERB'), 1), (('refrigerator', 'NOUN'), 1), (('broadcasts', 'VERB'), 1), (('languages', 'NOUN'), 1), (('listeners', 'NOUN'), 1), (('first-rate', 'ADJ'), 1), (('184', 'NUM'), 1), (('*-30', 'X'), 1), (('copying', 'VERB'), 1), (('photocopying', 'VERB'), 1), (('short-wave', 'ADJ'), 1), (('transcribe', 'VERB'), 1), (('Nor', 'CONJ'), 1), (('reprint', 'VERB'), 1), (('happened', 'VERB'), 1), (('absolute', 'ADJ'), 1), (('disseminate', 'VERB'), 1), (('scholarly', 'ADJ'), 1), (('memo', 'NOUN'), 1), (('preclude', 'VERB'), 1), (('disseminating', 'VERB'), 1), (('domestically', 'ADV'), 1), (('mentioned', 'VERB'), 1), (('notwithstanding', 'ADP'), 1), (('statutory', 'ADJ'), 1), (('designations', 'NOUN'), 1), (('credentials', 'NOUN'), 1), (('appearing', 'VERB'), 1), (('requesting', 'VERB'), 1), (('examine', 'VERB'), 1), (('verbatim', 'ADJ'), 1), (('disagreed', 'VERB'), 1), (('proscribes', 'VERB'), 1), (('abridging', 'VERB'), 1), (('prescribe', 'VERB'), 1), (('assure', 'VERB'), 1), (('mind', 'VERB'), 1), (('laboriously', 'ADV'), 1), (('surreptitiously', 'ADV'), 1), (('public-relations', 'NOUN'), 1), (('sends', 'VERB'), 1), (('stuff', 'NOUN'), 1), (('501', 'NUM'), 1), (('Educational', 'NOUN'), 1), (('thanks', 'NOUN'), 1), (('photocopy', 'VERB'), 1), (('trivial', 'ADJ'), 1), (('Z.', 'NOUN'), 1), (('Wick', 'NOUN'), 1), (('Gartner', 'NOUN'), 1), (('Tribune', 'NOUN'), 1), (('Ames', 'NOUN'), 1), (('wield', 'VERB'), 1), (('Herbert', 'NOUN'), 1), (('53-year-old', 'ADJ'), 1), (('Edwin', 'NOUN'), 1), (('dividing', 'VERB'), 1), (('searching', 'VERB'), 1), (('food-industry', 'NOUN'), 1), (('reacted', 'VERB'), 1), (('favorably', 'ADV'), 1), (('distant', 'ADJ'), 1), (('foods', 'NOUN'), 1), (('Freshbake', 'NOUN'), 1), (('wound', 'VERB'), 1), (('biscuit', 'NOUN'), 1), (('Lazzaroni', 'NOUN'), 1), (('overproduction', 'NOUN'), 1), (('skill', 'NOUN'), 1), (('seasoned', 'ADJ'), 1), (('rapport', 'NOUN'), 1), (('mediocre', 'ADJ'), 1), (('heirs', 'NOUN'), 1), (('343', 'NUM'), 1), (('3,600', 'NUM'), 1), (('impatient', 'NOUN'), 1), (('CEO', 'NOUN'), 1), (('succession', 'NOUN'), 1), (('repeatedly', 'ADV'), 1), (('877,663', 'NUM'), 1), (('244,000', 'NUM'), 1), (('fringe', 'NOUN'), 1), (('nine-year', 'ADJ'), 1), (('5.7', 'NUM'), 1), (('274', 'NUM'), 1), (('advocated', 'VERB'), 1), (('convince', 'VERB'), 1), (('worthiness', 'NOUN'), 1), (('tremendous', 'ADJ'), 1), (('duo', 'NOUN'), 1), (('bottom-line', 'ADJ'), 1), (('applaud', 'VERB'), 1), (('exuded', 'VERB'), 1), (('champions', 'NOUN'), 1), (('sitting', 'VERB'), 1), (('guide', 'NOUN'), 1), (('FUNDS', 'NOUN'), 1), (('overnight', 'ADJ'), 1), (('Fulton', 'NOUN'), 1), (('Prebon', 'NOUN'), 1), (('U.S.A', 'NOUN'), 1), (('DISCOUNT', 'NOUN'), 1), (('depository', 'NOUN'), 1), (('CALL', 'NOUN'), 1), (('MONEY', 'NOUN'), 1), (('collateral', 'NOUN'), 1), (('119', 'NUM'), 1), (('149', 'NUM'), 1), (('7.80', 'NUM'), 1), (('7.55', 'NUM'), 1), (('High-grade', 'ADJ'), 1), (('multiples', 'NOUN'), 1), (('8.65', 'NUM'), 1), (('8.575', 'NUM'), 1), (('CERTIFICATES', 'NOUN'), 1), (('DEPOSIT', 'NOUN'), 1), (('8.06', 'NUM'), 1), (('negotiable', 'ADJ'), 1), (('C.D.s', 'NOUN'), 1), (('Typical', 'ADJ'), 1), (('8.60', 'NUM'), 1), (('8.35', 'NUM'), 1), (('BANKERS', 'NOUN'), 1), (('ACCEPTANCES', 'NOUN'), 1), (('8.48', 'NUM'), 1), (('8.30', 'NUM'), 1), (('8.15', 'NUM'), 1), (('Negotiable', 'ADJ'), 1), (('bank-backed', 'ADJ'), 1), (('LATE', 'ADV'), 1), (('EURODOLLARS', 'NOUN'), 1), (('13\\\\/16', 'NUM'), 1), (('11\\\\/16', 'NUM'), 1), (('INTERBANK', 'NOUN'), 1), (('OFFERED', 'VERB'), 1), (('LIBOR', 'NOUN'), 1), (('quotations', 'NOUN'), 1), (('FOREIGN', 'NOUN'), 1), (('13.50', 'NUM'), 1), (('4.875', 'NUM'), 1), (('indications', 'NOUN'), 1), (('TREASURY', 'NOUN'), 1), (('BILLS', 'NOUN'), 1), (('Results', 'NOUN'), 1), (('7.78', 'NUM'), 1), (('7.62', 'NUM'), 1), (('HOME', 'NOUN'), 1), (('LOAN', 'NOUN'), 1), (('CORP', 'NOUN'), 1), (('Freddie', 'NOUN'), 1), (('Mac', 'NOUN'), 1), (('9.82', 'NUM'), 1), (('NATIONAL', 'NOUN'), 1), (('ASSOCIATION', 'NOUN'), 1), (('9.75', 'NUM'), 1), (('8.70', 'NUM'), 1), (('6\\\\/2', 'NUM'), 1), (('MERRILL', 'NOUN'), 1), (('LYNCH', 'NOUN'), 1), (('READY', 'NOUN'), 1), (('ASSETS', 'NOUN'), 1), (('TRUST', 'NOUN'), 1), (('8.64', 'NUM'), 1), (('Annualized', 'VERB'), 1), (('clashed', 'VERB'), 1), (('S.I.', 'NOUN'), 1), (('Advance', 'NOUN'), 1), (('Abrupt', 'ADJ'), 1), (('departures', 'NOUN'), 1), (('unheard', 'ADJ'), 1), (('evolved', 'VERB'), 1), (('Si', 'NOUN'), 1), (('gut', 'NOUN'), 1), (('brilliantly', 'ADV'), 1), (('enjoyed', 'VERB'), 1), (('spectacular', 'ADJ'), 1), (('smoothly', 'ADV'), 1), (('Bennett', 'NOUN'), 1), (('Cerf', 'NOUN'), 1), (('1925', 'NUM'), 1), (('centers', 'VERB'), 1), (('heads', 'NOUN'), 1), (('Possible', 'ADJ'), 1), (('Ballantine\\\\/Del', 'NOUN'), 1), (('Rey\\\\/Fawcett', 'NOUN'), 1), (('paperback', 'NOUN'), 1), (('Cheetham', 'NOUN'), 1), (('Century', 'NOUN'), 1), (('Hutchinson', 'NOUN'), 1), (('powerhouse', 'NOUN'), 1), (('Gottlieb', 'NOUN'), 1), (('Yorker', 'NOUN'), 1), (('most-likely-successor', 'ADJ'), 1), (('Joni', 'NOUN'), 1), (('recruited', 'VERB'), 1), (('Sonny', 'NOUN'), 1), (('less-than-brilliant', 'ADJ'), 1), (('tall', 'ADJ'), 1), (('intimidate', 'VERB'), 1), (('uttering', 'VERB'), 1), (('Provided', 'VERB'), 1), (('guarding', 'VERB'), 1), (('species', 'NOUN'), 1), (('predicated', 'VERB'), 1), (('erroneous', 'ADJ'), 1), (('Consequence', 'NOUN'), 1), (('omnipresent', 'ADJ'), 1), (('conceivable', 'ADJ'), 1), (('Iran-Contra', 'NOUN'), 1), (('broadly', 'ADV'), 1), (('construed', 'VERB'), 1), (('emasculate', 'VERB'), 1), (('swallow', 'VERB'), 1), (('Constitutional', 'NOUN'), 1), (('Convention', 'NOUN'), 1), (('1787', 'NUM'), 1), (('ensure', 'VERB'), 1), (('accountability', 'NOUN'), 1), (('unitary', 'ADJ'), 1), (('Articles', 'NOUN'), 1), (('technically', 'ADV'), 1), (('limitation', 'NOUN'), 1), (('leash', 'NOUN'), 1), (('deliberating', 'VERB'), 1), (('breathtaking', 'ADJ'), 1), (('containing', 'VERB'), 1), (('alternatively', 'ADV'), 1), (('intrusions', 'NOUN'), 1), (('void', 'ADJ'), 1), (('strip', 'VERB'), 1), (('places', 'VERB'), 1), (('Advice', 'NOUN'), 1), (('Consent', 'NOUN'), 1), (('appoint', 'VERB'), 1), (('ambassadors', 'NOUN'), 1), (('empowers', 'VERB'), 1), (('Power', 'NOUN'), 1), (('Vacancies', 'NOUN'), 1), (('Recess', 'NOUN'), 1), (('granting', 'VERB'), 1), (('Commissions', 'NOUN'), 1), (('End', 'NOUN'), 1), (('Session', 'NOUN'), 1), (('appropriation', 'NOUN'), 1), (('filling', 'NOUN'), 1), (('repeals', 'VERB'), 1), (('imposes', 'VERB'), 1), (('choosing', 'NOUN'), 1), (('nominee', 'NOUN'), 1), (('Anti-Deficiency', 'NOUN'), 1), (('voluntary', 'ADJ'), 1), (('muzzling', 'ADJ'), 1), (('recommendation', 'NOUN'), 1), (('Muzzling', 'ADJ'), 1), (('blindfold', 'NOUN'), 1), (('recommending', 'VERB'), 1), (('discretion', 'NOUN'), 1), (('select', 'VERB'), 1), (('inquiring', 'VERB'), 1), (('market-oriented', 'ADJ'), 1), (('Probably', 'ADV'), 1), (('egregious', 'ADJ'), 1), (('proviso', 'NOUN'), 1), (('Office', 'NOUN'), 1), (('Budget', 'NOUN'), 1), (('subjecting', 'VERB'), 1), (('cost-benefit', 'ADJ'), 1), (('inherently', 'ADV'), 1), (('suspect', 'ADJ'), 1), (('prohibiting', 'VERB'), 1), (('wasted', 'VERB'), 1), (('illustrates', 'VERB'), 1), (('usurp', 'VERB'), 1), (('609', 'NUM'), 1), (('executive-office', 'NOUN'), 1), (('administer', 'VERB'), 1), (('disapproved', 'VERB'), 1), (('*-58', 'X'), 1), (('disapproval', 'NOUN'), 1), (('accordance', 'NOUN'), 1), (('applicable', 'ADJ'), 1), (('amounts', 'VERB'), 1), (('one-house', 'ADJ'), 1), (('bicameral', 'ADJ'), 1), (('presentation', 'NOUN'), 1), (('signature', 'NOUN'), 1), (('INS', 'NOUN'), 1), (('Chadha', 'NOUN'), 1), (('vetoes', 'NOUN'), 1), (('acts', 'NOUN'), 1), (('invite', 'VERB'), 1), (('suit', 'VERB'), 1), (('purposes', 'NOUN'), 1), (('custom', 'NOUN'), 1), (('undo', 'VERB'), 1), (('then-Speaker', 'ADJ'), 1), (('Mikhail', 'NOUN'), 1), (('ratified', 'VERB'), 1), (('SALT', 'NOUN'), 1), (('unworkable', 'ADJ'), 1), (('unfunded', 'ADJ'), 1), (('assert', 'VERB'), 1), (('restricting', 'VERB'), 1), (('expressly', 'ADV'), 1), (('means', 'NOUN'), 1), (('Excision', 'NOUN'), 1), (('riders', 'NOUN'), 1), (('trespass', 'VERB'), 1), (('prerogative', 'NOUN'), 1), (('context', 'NOUN'), 1), (('characterized', 'VERB'), 1), (('excise', 'VERB'), 1), (('objectionable', 'ADJ'), 1), (('conflict', 'VERB'), 1), (('applicability', 'NOUN'), 1), (('item', 'NOUN'), 1), (('exerting', 'VERB'), 1), (('downside', 'NOUN'), 1), (('asserts', 'VERB'), 1), (('sue', 'VERB'), 1), (('loses', 'VERB'), 1), (('Morrison', 'NOUN'), 1), (('Olson', 'NOUN'), 1), (('electorate', 'NOUN'), 1), (('valuable', 'ADJ'), 1), (('civics', 'NOUN'), 1), (('presumes', 'VERB'), 1), (('Federalist', 'NOUN'), 1), (('legislature', 'NOUN'), 1), (('drawing', 'VERB'), 1), (('impetuous', 'ADJ'), 1), (('vortex', 'NOUN'), 1), (('Sidak', 'NOUN'), 1), (('devastating', 'ADJ'), 1), (('57.7', 'NUM'), 1), (('deducting', 'VERB'), 1), (('gross', 'ADJ'), 1), (('Midwestern', 'NOUN'), 1), (('saved', 'VERB'), 1), (('reclaim', 'VERB'), 1), (('mortgaged', 'VERB'), 1), (('price-support', 'ADJ'), 1), (('soaring', 'VERB'), 1), (('reclaimed', 'VERB'), 1), (('240-page', 'ADJ'), 1), (('parched', 'VERB'), 1), (('profited', 'VERB'), 1), (('hardest-hit', 'ADJ'), 1), (('Dakotas', 'NOUN'), 1), (('disaster-assistance', 'ADJ'), 1), (('confirms', 'VERB'), 1), (('depression', 'NOUN'), 1), (('helps', 'VERB'), 1), (('reluctance', 'NOUN'), 1), (('lobbies', 'NOUN'), 1), (('curtailed', 'VERB'), 1), (('land-idling', 'ADJ'), 1), (('price-depressing', 'ADJ'), 1), (('surpluses', 'NOUN'), 1), (('strengthened', 'VERB'), 1), (('Keith', 'NOUN'), 1), (('livestock', 'NOUN'), 1), (('cattle', 'NOUN'), 1), (('inventory', 'NOUN'), 1), (('low', 'NOUN'), 1), (('agriculture', 'NOUN'), 1), (('3.4', 'NUM'), 1), (('log', 'VERB'), 1), (('disaster', 'NOUN'), 1), (('farms', 'NOUN'), 1), (('cultivation', 'NOUN'), 1), (('soybeans', 'NOUN'), 1), (('cushioned', 'VERB'), 1), (('14.5', 'NUM'), 1), (('Payments', 'NOUN'), 1), (('238,000-circulation', 'ADJ'), 1), (('700,000', 'NUM'), 1), (('one-newspaper', 'ADJ'), 1), (('senses', 'NOUN'), 1), (('dominates', 'VERB'), 1), (('300,000', 'NUM'), 1), (('170,000', 'NUM'), 1), (('Nearby', 'ADJ'), 1), (('Pasadena', 'NOUN'), 1), (('Long', 'NOUN'), 1), (('McCabe', 'NOUN'), 1), (('materialized', 'VERB'), 1), (('stream', 'NOUN'), 1), (('tire-kickers', 'NOUN'), 1), (('lookee-loos', 'NOUN'), 1), (('newsstand', 'NOUN'), 1), (('freeway', 'NOUN'), 1), (('inevitable', 'ADJ'), 1), (('sprawling', 'ADJ'), 1), (('balkanized', 'ADJ'), 1), (('mammoth', 'ADJ'), 1), (('limbo', 'NOUN'), 1), (('torn', 'VERB'), 1), (('old-time', 'ADJ'), 1), (('readership', 'NOUN'), 1), (('blue-collar', 'ADJ'), 1), (('sports-oriented', 'ADJ'), 1), (('sprightly', 'ADJ'), 1), (('upscale', 'ADJ'), 1), (('staid', 'VERB'), 1), (('flirted', 'VERB'), 1), (('News-American', 'NOUN'), 1), (('folded', 'VERB'), 1), (('Herald-American', 'NOUN'), 1), (('cornerstones', 'NOUN'), 1), (('fanciful', 'ADJ'), 1), (('Julia', 'NOUN'), 1), (('castle', 'NOUN'), 1), (('Simeon', 'NOUN'), 1), (('Spanish', 'NOUN'), 1), (('Renaissance-style', 'ADJ'), 1), (('survivor', 'NOUN'), 1), (('bygone', 'ADJ'), 1), (('Kendrick', 'NOUN'), 1), (('Noble', 'NOUN'), 1), (('Actually', 'ADV'), 1), (('looks', 'VERB'), 1), (('1903', 'NUM'), 1), (('decade-long', 'ADJ'), 1), (('1967', 'NUM'), 1), (('Financially', 'ADV'), 1), (('moments', 'NOUN'), 1), (('Bellows', 'NOUN'), 1), (('brightened', 'VERB'), 1), (('Dolan', 'NOUN'), 1), (('restored', 'VERB'), 1), (('limping', 'VERB'), 1), (('accomplishments', 'NOUN'), 1), (('notable', 'ADJ'), 1), (('much-larger', 'ADJ'), 1), (('disclosures', 'NOUN'), 1), (('coverage', 'NOUN'), 1), (('arts', 'NOUN'), 1), (('criticism', 'NOUN'), 1), (('Danzig', 'NOUN'), 1), (('Newspapers', 'NOUN'), 1), (('730', 'NUM'), 1), (('long-tenured', 'ADJ'), 1), (('Hours', 'NOUN'), 1), (('representatives', 'NOUN'), 1), (('recruiting', 'VERB'), 1), (('emotional', 'ADJ'), 1), (('crying', 'VERB'), 1), (('Long', 'ADJ'), 1), (('L.A.', 'NOUN'), 1), (('headline', 'NOUN'), 1), (('beers', 'NOUN'), 1), (('drunk', 'ADJ'), 1), (('Andy', 'NOUN'), 1), (('Furillo', 'NOUN'), 1), (('Outside', 'ADJ'), 1), (('pressman', 'NOUN'), 1), (('filling', 'VERB'), 1), (('headlined', 'VERB'), 1), (('Closes', 'VERB'), 1), (('Forget', 'VERB'), 1), (('handed', 'VERB'), 1), (('Olympia', 'NOUN'), 1), (('Broadcasting', 'NOUN'), 1), (('23.4', 'NUM'), 1), (('radio-station', 'NOUN'), 1), (('programmer', 'NOUN'), 1), (('lenders', 'NOUN'), 1), (('slogan', 'NOUN'), 1), (('beleaguered', 'VERB'), 1), (('boosting', 'VERB'), 1), (('four-day', 'ADJ'), 1), (('explaining', 'VERB'), 1), (('disclose', 'VERB'), 1), (('approached', 'VERB'), 1), (('project', 'VERB'), 1), (('doctor', 'NOUN'), 1), (('broaden', 'VERB'), 1), (('Traditionally', 'ADV'), 1), (('*-66', 'X'), 1), (('entertainment', 'NOUN'), 1), (('Phillip', 'NOUN'), 1), (('car-care', 'ADJ'), 1), (('down', 'NOUN'), 1), (('truth-in-lending', 'NOUN'), 1), (('billing', 'NOUN'), 1), (('marketers', 'NOUN'), 1), (('capability', 'NOUN'), 1), (('mailing', 'NOUN'), 1), (('top', 'NOUN'), 1), (('screened', 'VERB'), 1), (('card-member', 'NOUN'), 1), (('incomes', 'NOUN'), 1), (('missed', 'VERB'), 1), (('preapproved', 'VERB'), 1), (('Visa', 'NOUN'), 1), (('cards', 'NOUN'), 1), (('tie-in', 'NOUN'), 1), (('Express-Buick', 'NOUN'), 1), (('link', 'NOUN'), 1), (('accommodations', 'NOUN'), 1), (('meals', 'NOUN'), 1), (('Destinations', 'NOUN'), 1), (('Honolulu', 'NOUN'), 1), (('Orlando', 'NOUN'), 1), (('destination', 'NOUN'), 1), (('companion', 'NOUN'), 1), (('lieu', 'NOUN'), 1), (('clock', 'NOUN'), 1), (('stereo', 'NOUN'), 1), (('recorder', 'NOUN'), 1), (('Card', 'NOUN'), 1), (('sweepstakes', 'NOUN'), 1), (('test-drive', 'VERB'), 1), (('calculator', 'NOUN'), 1), (('travel-related', 'ADJ'), 1), (('round-trip', 'ADJ'), 1), (('Trans', 'NOUN'), 1), (('borough', 'NOUN'), 1), (('Borough', 'NOUN'), 1), (('As', 'ADV'), 1), (('gilt', 'ADJ'), 1), (('recovering', 'VERB'), 1), (('Gilts', 'NOUN'), 1), (('retraced', 'VERB'), 1), (('soured', 'ADJ'), 1), (('accounted', 'VERB'), 1), (('sterling', 'NOUN'), 1), (('betting', 'VERB'), 1), (('Hazell', 'NOUN'), 1), (('auditor', 'NOUN'), 1), (('vested', 'VERB'), 1), (('audit', 'NOUN'), 1), (('engaging', 'VERB'), 1), (('persuasive', 'ADJ'), 1), (('solicitor', 'NOUN'), 1), (('Already', 'ADV'), 1), (('Barclays', 'NOUN'), 1), (('Midland', 'NOUN'), 1), (('Citibank', 'NOUN'), 1), (('exhaust', 'VERB'), 1), (('avenues', 'NOUN'), 1), (('illegality', 'NOUN'), 1), (('arrangements', 'NOUN'), 1), (('gut-wrenching', 'ADJ'), 1), (('190-point', 'ADJ'), 1), (('1,400', 'NUM'), 1), (('letter-writing', 'ADJ'), 1), (('quashing', 'VERB'), 1), (('wrath', 'NOUN'), 1), (('minicrash', 'NOUN'), 1), (('shaken', 'VERB'), 1), (('resentment', 'NOUN'), 1), (('lightning-fast', 'ADJ'), 1), (('reeling', 'VERB'), 1), (('heated', 'VERB'), 1), (('control', 'VERB'), 1), (('reap', 'VERB'), 1), (('academics', 'NOUN'), 1), (('evil', 'NOUN'), 1), (('exacerbated', 'VERB'), 1), (('ascendency', 'NOUN'), 1), (('consisting', 'VERB'), 1), (('wizards', 'NOUN'), 1), (('immense', 'NOUN'), 1), (('pools', 'NOUN'), 1), (('Defending', 'VERB'), 1), (('ramparts', 'NOUN'), 1), (('stock-picking', 'ADJ'), 1), (('tens', 'NOUN'), 1), (('clannish', 'ADJ'), 1), (('successfully', 'ADV'), 1), (('mobilizing', 'VERB'), 1), (('bludgeon', 'VERB'), 1), (('tormentors', 'NOUN'), 1), (('layer', 'NOUN'), 1), (('gigantic', 'ADJ'), 1), (('crapshoot', 'NOUN'), 1), (('broad-based', 'ADJ'), 1), (('livelihood', 'NOUN'), 1), (('palace', 'NOUN'), 1), (('revolt', 'NOUN'), 1), (('telephone', 'VERB'), 1), (('Wohlstetter', 'NOUN'), 1), (('rallying', 'VERB'), 1), (('anti-program', 'ADJ'), 1), (('countless', 'ADJ'), 1), (('universally', 'ADV'), 1), (('Kill', 'VERB'), 1), (('consistent', 'ADJ'), 1), (('wedded', 'VERB'), 1), (('waited', 'VERB'), 1), (('sneaked', 'VERB'), 1), (('conceding', 'VERB'), 1), (('headed', 'VERB'), 1), (('curbed', 'VERB'), 1), (('civil', 'ADJ'), 1), (('contradictions', 'NOUN'), 1), (('pitting', 'VERB'), 1), (('battle', 'VERB'), 1), (('floors', 'NOUN'), 1), (('premier', 'ADJ'), 1), (('entrenched', 'VERB'), 1), (('tooth', 'NOUN'), 1), (('nail', 'NOUN'), 1), (('facilitate', 'VERB'), 1), (('Again', 'ADV'), 1), (('theme', 'NOUN'), 1), (('greedy', 'ADJ'), 1), (('manipulators', 'NOUN'), 1), (('shambles', 'NOUN'), 1), (('free-enterprise', 'NOUN'), 1), (('gambling', 'NOUN'), 1), (('den', 'NOUN'), 1), (('odds', 'NOUN'), 1), (('stacked', 'VERB'), 1), (('Off-Track', 'NOUN'), 1), (('Betting', 'NOUN'), 1), (('portray', 'VERB'), 1), (('old-fashioned', 'ADJ'), 1), (('Neanderthals', 'NOUN'), 1), (('witches', 'NOUN'), 1), (('boogieman', 'NOUN'), 1), (('unknown', 'NOUN'), 1), (('beg', 'VERB'), 1), (('momentary', 'ADJ'), 1), (('divergence', 'NOUN'), 1), (('constitute', 'VERB'), 1), (('whichever', 'DET'), 1), (('seconds', 'NOUN'), 1), (('razor-thin', 'ADJ'), 1), (('profess', 'VERB'), 1), (('despise', 'VERB'), 1), (('frightened', 'VERB'), 1), (('lotter', 'NOUN'), 1), (('Zicklin', 'NOUN'), 1), (('iota', 'NOUN'), 1), (('Hans', 'NOUN'), 1), (('unraveling', 'NOUN'), 1), (('Unable', 'ADJ'), 1), (('unload', 'VERB'), 1), (('takeover-stock', 'ADJ'), 1), (('arbitragers', 'NOUN'), 1), (('Del', 'NOUN'), 1), (('Signore', 'NOUN'), 1), (('speculator', 'NOUN'), 1), (('arbs', 'NOUN'), 1), (('overleveraged', 'ADJ'), 1), (('apart', 'ADV'), 1), (('traditionalists', 'NOUN'), 1), (('bundles', 'NOUN'), 1), (('derisively', 'ADV'), 1), (('jockeys', 'NOUN'), 1), (('Traditional', 'ADJ'), 1), (('manage', 'VERB'), 1), (('benchmarks', 'NOUN'), 1), (('old-style', 'ADJ'), 1), (('juggle', 'VERB'), 1), (('mirror', 'VERB'), 1), (('pennies', 'NOUN'), 1), (('pension-fund', 'ADJ'), 1), (('automated', 'VERB'), 1), (('threatens', 'VERB'), 1), (('dinosaurs', 'NOUN'), 1), (('stock-specialist', 'ADJ'), 1), (('monopoly', 'NOUN'), 1), (('knell', 'NOUN'), 1), (('nonetheless', 'ADV'), 1), (('striving', 'VERB'), 1), (('dislike', 'VERB'), 1), (('printers', 'NOUN'), 1), (('spooked', 'VERB'), 1), (('dismayed', 'ADJ'), 1), (('stacking', 'VERB'), 1), (('deck', 'NOUN'), 1), (('scaring', 'VERB'), 1), (('Raymond', 'NOUN'), 1), (('Stockbrokers', 'NOUN'), 1), (('71,309', 'NUM'), 1), (('resent', 'VERB'), 1), (('*-75', 'X'), 1), (('nameless', 'ADJ'), 1), (('sweatshirts', 'NOUN'), 1), (('sparkplugs', 'NOUN'), 1), (('Oh', 'X'), 1), (('bloods', 'NOUN'), 1), (('publicity', 'NOUN'), 1), (('orchestrated', 'VERB'), 1), (('hunker', 'VERB'), 1), (('lynch-mob', 'ADJ'), 1), (('cow', 'NOUN'), 1), (('gored', 'VERB'), 1), (('proven', 'VERB'), 1), (('fastest-growing', 'ADJ'), 1), (('minted', 'VERB'), 1), (('millionaires', 'NOUN'), 1), (('20s', 'NUM'), 1), (('30s', 'NUM'), 1), (('thunder', 'NOUN'), 1), (('Sit', 'VERB'), 1), (('panic', 'VERB'), 1), (('jeopardy', 'NOUN'), 1), (('unlikely', 'ADJ'), 1), (('genie', 'NOUN'), 1), (('*-77', 'X'), 1), (('Short', 'ADJ'), 1), (('middle-ground', 'ADJ'), 1), (('enjoy', 'VERB'), 1), (('good-faith', 'NOUN'), 1), (('potentially', 'ADV'), 1), (('chase', 'VERB'), 1), (('Crash', 'NOUN'), 1), (('protects', 'VERB'), 1), (('relentlessly', 'ADV'), 1), (('downward', 'ADV'), 1), (('destroy', 'VERB'), 1), (('efficiency', 'NOUN'), 1), (('Fundamentalists', 'NOUN'), 1), (('stock-price', 'NOUN'), 1), (('band-wagon', 'ADJ'), 1), (('picks', 'VERB'), 1), (('impetus', 'NOUN'), 1), (('practiced', 'VERB'), 1), (('locations', 'NOUN'), 1), (('index-fund', 'ADJ'), 1), (('leveraging', 'VERB'), 1), (('owning', 'VERB'), 1), (('cheapest', 'ADJ'), 1), (('vast', 'ADJ'), 1), (('hysteria', 'NOUN'), 1), (('arise', 'VERB'), 1), (('cumbersome', 'ADJ'), 1), (('desires', 'NOUN'), 1), (('fast', 'ADJ'), 1), (('evolve', 'VERB'), 1), (('creature', 'NOUN'), 1), (('evoking', 'VERB'), 1), (('curses', 'NOUN'), 1), (('implemented', 'VERB'), 1), (('unneeded', 'ADJ'), 1), (('harmful', 'ADJ'), 1), (('Reducing', 'VERB'), 1), (('sufficient', 'ADJ'), 1), (('responds', 'VERB'), 1), (('causes', 'VERB'), 1), (('initiating', 'VERB'), 1), (('transfers', 'VERB'), 1), (('functioning', 'VERB'), 1), (('fundamentally', 'ADV'), 1), (('decrease', 'VERB'), 1), (('hypothetical', 'ADJ'), 1), (('sacrifice', 'VERB'), 1), (('subtraction', 'NOUN'), 1), (('finite', 'ADJ'), 1), (('Eliminate', 'VERB'), 1), (('loathsome', 'ADJ'), 1), (('tablets', 'NOUN'), 1), (('Encouraging', 'VERB'), 1), (('investing', 'NOUN'), 1), (('labeling', 'VERB'), 1), (('Policies', 'NOUN'), 1), (('akin', 'ADJ'), 1), (('Buyers', 'NOUN'), 1), (('please', 'VERB'), 1), (('concern', 'VERB'), 1), (('sufficiently', 'ADV'), 1), (('annualized', 'ADJ'), 1), (('deviation', 'NOUN'), 1), (('Periods', 'NOUN'), 1), (('advent', 'NOUN'), 1), (('undergoing', 'VERB'), 1), (('1973-75', 'NUM'), 1), (('1937-40', 'NUM'), 1), (('1928-33', 'NUM'), 1), (('scream', 'VERB'), 1), (('hailing', 'VERB'), 1), (('abounding', 'VERB'), 1), (('Could', 'VERB'), 1), (('deeds', 'NOUN'), 1), (('goblins', 'NOUN'), 1), (('fixes', 'NOUN'), 1), (('whipping', 'ADJ'), 1), (('boy', 'NOUN'), 1), (('wooing', 'VERB'), 1), (('stock-selection', 'ADJ'), 1), (('bringing', 'VERB'), 1), (('damaging', 'ADJ'), 1), (('Getting', 'VERB'), 1), (('abolishing', 'VERB'), 1), (('merits', 'NOUN'), 1), (('championing', 'VERB'), 1), (('loudest', 'ADJ'), 1), (('cater', 'VERB'), 1), (('advise', 'VERB'), 1), (('index-fund', 'NOUN'), 1), (('amass', 'VERB'), 1), (('somehow', 'ADV'), 1), (('noble', 'ADJ'), 1), (('studiously', 'ADV'), 1), (('devouring', 'VERB'), 1), (('clippings', 'NOUN'), 1), (('Almost', 'ADV'), 1), (('guy', 'NOUN'), 1), (('invariably', 'ADV'), 1), (('spreads', 'NOUN'), 1), (('mutual-fund', 'NOUN'), 1), (('sad', 'ADJ'), 1), (('performers', 'NOUN'), 1), (('grapple', 'VERB'), 1), (('Cost-effective', 'ADJ'), 1), (('sexy', 'ADJ'), 1), (('roadblock', 'NOUN'), 1), (('*-82', 'X'), 1), (('high-volume', 'ADJ'), 1), (('Legislating', 'VERB'), 1), (('Left', 'VERB'), 1), (('Spreads', 'NOUN'), 1), (('tight', 'ADV'), 1), (('matter', 'VERB'), 1), (('temporary', 'ADJ'), 1), (('watchdogs', 'NOUN'), 1), (('friction', 'NOUN'), 1), (('two-tiered', 'ADJ'), 1), (('taxation', 'NOUN'), 1), (('etc.', 'X'), 1), (('loser', 'NOUN'), 1), (('inviting', 'VERB'), 1), (('transfer', 'VERB'), 1), (('executes', 'VERB'), 1), (('Brooks', 'NOUN'), 1), (('fear', 'VERB'), 1), (('augment', 'VERB'), 1), (('Rill', 'NOUN'), 1), (('Antitrust', 'NOUN'), 1), (('Division', 'NOUN'), 1), (('appropriated', 'VERB'), 1), (('Hart-Scott-Rodino', 'NOUN'), 1), (('notify', 'VERB'), 1), (('completing', 'VERB'), 1), (('Proponents', 'NOUN'), 1), (('Don', 'NOUN'), 1), (('stifle', 'VERB'), 1), (('staffs', 'NOUN'), 1), (('drastically', 'ADV'), 1), (('sanctions', 'VERB'), 1), (('dismal', 'ADJ'), 1), (('inhibit', 'VERB'), 1), (('Though', 'ADP'), 1), (('acquirers', 'NOUN'), 1), (('noticed', 'VERB'), 1), (('FALL', 'NOUN'), 1), (('BALLOT', 'NOUN'), 1), (('ISSUES', 'NOUN'), 1), (('off-year', 'ADJ'), 1), (('Odd-year', 'ADJ'), 1), (('ratcheting', 'VERB'), 1), (('referenda', 'NOUN'), 1), (('initiatives', 'VERB'), 1), (('Democracy', 'NOUN'), 1), (('citizen-sparked', 'ADJ'), 1), (('ballots', 'NOUN'), 1), (('odd-year', 'ADJ'), 1), (('Maine', 'NOUN'), 1), (('initiative', 'NOUN'), 1), (('missiles', 'NOUN'), 1), (('Dakota', 'NOUN'), 1), (('Schmidt', 'NOUN'), 1), (('Citizen', 'NOUN'), 1), (('Hot', 'ADJ'), 1), (('cue', 'NOUN'), 1), (('backing', 'VERB'), 1), (('Magleby', 'NOUN'), 1), (('Brigham', 'NOUN'), 1), (('PHOTOGRAPH', 'NOUN'), 1), (('COLLECTING', 'NOUN'), 1), (('gains', 'VERB'), 1), (('Christie', 'NOUN'), 1), (('folio', 'NOUN'), 1), (('Equivalents', 'NOUN'), 1), (('396,000', 'NUM'), 1), (('single-lot', 'ADJ'), 1), (('variables', 'NOUN'), 1), (('documented', 'VERB'), 1), (('anecdotal', 'ADJ'), 1), (('Gates-Warren', 'NOUN'), 1), (('Sotheby', 'NOUN'), 1), (('museums', 'NOUN'), 1), (('Persky', 'NOUN'), 1), (('Photograph', 'NOUN'), 1), (('Collector', 'NOUN'), 1), (('masters', 'NOUN'), 1), (('fetching', 'VERB'), 1), (('Miles', 'NOUN'), 1), (('Barth', 'NOUN'), 1), (('Photography', 'NOUN'), 1), (('DIALING', 'VERB'), 1), (('million-a-year', 'ADJ'), 1), (('Joel', 'NOUN'), 1), (('Gross', 'NOUN'), 1), (('caller', 'NOUN'), 1), (('celebrity', 'NOUN'), 1), (('chatter', 'NOUN'), 1), (('horoscopes', 'NOUN'), 1), (('Andrea', 'NOUN'), 1), (('tutorials', 'NOUN'), 1), (('Colleges', 'NOUN'), 1), (('eyeing', 'VERB'), 1), (('raising', 'NOUN'), 1), (('merchandising', 'NOUN'), 1), (('Much', 'ADJ'), 1), (('migrate', 'VERB'), 1), (('predicts', 'VERB'), 1), (('Lawless', 'NOUN'), 1), (('US', 'NOUN'), 1), (('Sprint', 'NOUN'), 1), (('FAMILY', 'NOUN'), 1), (('PETS', 'NOUN'), 1), (('recovery', 'NOUN'), 1), (('Milwaukee', 'NOUN'), 1), (('Patients', 'NOUN'), 1), (('canine', 'ADJ'), 1), (('feline', 'ADJ'), 1), (('appetite', 'NOUN'), 1), (('receptive', 'ADJ'), 1), (('therapy', 'NOUN'), 1), ((\"O'Loughlin\", 'NOUN'), 1), (('coordinator', 'NOUN'), 1), (('TIRED', 'ADJ'), 1), (('TRIMMING', 'VERB'), 1), (('Hammacher', 'NOUN'), 1), (('Schlemmer', 'NOUN'), 1), (('fiber-optic', 'ADJ'), 1), (('Christmas', 'NOUN'), 1), (('string', 'VERB'), 1), (('6,500', 'NUM'), 1), (('continuously', 'ADV'), 1), (('colored', 'VERB'), 1), (('fiber-end', 'ADJ'), 1), (('bunches', 'NOUN'), 1), (('MEDICINE', 'NOUN'), 1), (('TRANSPLANT', 'NOUN'), 1), (('prompts', 'VERB'), 1), (('bilingual', 'ADJ'), 1), (('Funded', 'VERB'), 1), (('Tokio', 'NOUN'), 1), (('protocols', 'NOUN'), 1), (('preventative', 'ADJ'), 1), (('DIAPER', 'NOUN'), 1), (('SERVICES', 'NOUN'), 1), (('comeback', 'NOUN'), 1), (('Concerned', 'VERB'), 1), (('shrinking', 'VERB'), 1), (('landfills', 'NOUN'), 1), (('super-absorbent', 'ADJ'), 1), (('disposables', 'NOUN'), 1), (('Tiny', 'NOUN'), 1), (('Tots', 'NOUN'), 1), (('1,200', 'NUM'), 1), (('Mogavero', 'NOUN'), 1), (('Piscataway', 'NOUN'), 1), (('Syracuse', 'NOUN'), 1), (('DyDee', 'NOUN'), 1), (('push', 'NOUN'), 1), (('stresses', 'VERB'), 1), (('awareness', 'NOUN'), 1), (('day-care', 'ADJ'), 1), (('spurned', 'VERB'), 1), (('672', 'NUM'), 1), (('inquiries', 'NOUN'), 1), (('Elisa', 'NOUN'), 1), (('Hollis', 'NOUN'), 1), (('shortages', 'NOUN'), 1), (('Stork', 'NOUN'), 1), (('Springfield', 'NOUN'), 1), (('spurring', 'VERB'), 1), (('Velcro', 'NOUN'), 1), (('pins', 'NOUN'), 1), (('BRIEFS', 'NOUN'), 1), (('57.6', 'NUM'), 1), (('Yorkers', 'NOUN'), 1), (('viewership', 'NOUN'), 1), (('Impact', 'NOUN'), 1), (('Columbus', 'NOUN'), 1), (('FreudToy', 'NOUN'), 1), (('pillow', 'NOUN'), 1), (('likeness', 'NOUN'), 1), (('Sigmund', 'NOUN'), 1), (('Freud', 'NOUN'), 1), (('24.95', 'NUM'), 1), (('tool', 'NOUN'), 1), (('do-it-yourself', 'ADJ'), 1), (('sure', 'ADV'), 1), (('doubts', 'VERB'), 1), (('dislike', 'NOUN'), 1), (('echoed', 'VERB'), 1), (('heading', 'VERB'), 1), (('blames', 'VERB'), 1), (('overvalued', 'VERB'), 1), (('interior', 'ADJ'), 1), (('decorator', 'NOUN'), 1), (('spook', 'VERB'), 1), (('deviant', 'ADJ'), 1), (('sound', 'ADJ'), 1), (('curbing', 'VERB'), 1), (('darned', 'ADV'), 1), (('Schwab', 'NOUN'), 1), (('Buckhead', 'NOUN'), 1), (('skepticism', 'NOUN'), 1), (('Citing', 'VERB'), 1), (('Anderson', 'NOUN'), 1), (('59-year-old', 'ADJ'), 1), (('fluctuations', 'NOUN'), 1), (('heebie-jeebies', 'NOUN'), 1), (('outlawing', 'VERB'), 1), (('Wamre', 'NOUN'), 1), (('31-year-old', 'ADJ'), 1), (('disappear', 'VERB'), 1), (('dealing', 'VERB'), 1), (('decries', 'VERB'), 1), (('strictly', 'ADV'), 1), (('capitalism', 'NOUN'), 1), (('adapting', 'VERB'), 1), (('Britta', 'NOUN'), 1), (('25-year-old', 'ADJ'), 1), (('factoring', 'VERB'), 1), (('back', 'ADJ'), 1), (('rigors', 'NOUN'), 1), (('Silverman', 'NOUN'), 1), (('insurance-company', 'NOUN'), 1), (('comments', 'VERB'), 1), (('culprit', 'NOUN'), 1), (('Arbitraging', 'VERB'), 1), (('leery', 'ADJ'), 1), (('Enzor', 'NOUN'), 1), (('defends', 'VERB'), 1), (('accountant', 'NOUN'), 1), (('recouped', 'VERB'), 1), (('flim-flammery', 'NOUN'), 1), (('weather', 'VERB'), 1), (('storm', 'NOUN'), 1), (('Lucille', 'NOUN'), 1), (('84-year-old', 'ADJ'), 1), (('housewife', 'NOUN'), 1), (('amazingly', 'ADV'), 1), (('jolts', 'NOUN'), 1), (('hunted', 'VERB'), 1), (('bargains', 'NOUN'), 1), (('sky', 'NOUN'), 1), (('upset', 'ADJ'), 1), (('wholesaler', 'NOUN'), 1), (('spirits', 'NOUN'), 1), (('controls', 'VERB'), 1), (('Underwoods', 'NOUN'), 1), (('Researchers', 'NOUN'), 1), (('crystal-lattice', 'ADJ'), 1), (('amps', 'NOUN'), 1), (('centimeter', 'NOUN'), 1), (('yttrium-containing', 'ADJ'), 1), (('liquid-nitrogen', 'NOUN'), 1), (('temperature', 'NOUN'), 1), (('minus', 'CONJ'), 1), (('321', 'NUM'), 1), (('Fahrenheit', 'NOUN'), 1), (('journal', 'NOUN'), 1), (('Nature', 'NOUN'), 1), (('wires', 'NOUN'), 1), (('motors', 'NOUN'), 1), (('magnets', 'NOUN'), 1), (('generators', 'NOUN'), 1), (('Scientists', 'NOUN'), 1), (('Superconductors', 'NOUN'), 1), (('ceramic', 'ADJ'), 1), (('promise', 'VERB'), 1), (('technologies', 'NOUN'), 1), (('generation', 'NOUN'), 1), (('aspect', 'NOUN'), 1), (('low', 'ADV'), 1), (('practical', 'ADJ'), 1), (('bombarding', 'VERB'), 1), (('neutrons', 'NOUN'), 1), (('radioactivity', 'NOUN'), 1), (('large-scale', 'ADJ'), 1), (('breathed', 'VERB'), 1), (('collective', 'ADJ'), 1), (('sigh', 'NOUN'), 1), (('demonstrates', 'VERB'), 1), (('flux', 'NOUN'), 1), (('pinning', 'NOUN'), 1), (('undercutting', 'VERB'), 1), (('changes', 'VERB'), 1), (('pins', 'VERB'), 1), (('Determining', 'VERB'), 1), (('enable', 'VERB'), 1), (('crystal-lattice', 'NOUN'), 1), (('combine', 'VERB'), 1), (('melt-textured', 'ADJ'), 1), (('Walbrecher', 'NOUN'), 1), (('Francisco-based', 'ADJ'), 1), (('1st', 'NUM'), 1), (('Nationwide', 'NOUN'), 1), (('Fidelity', 'NOUN'), 1), (('versus', 'CONJ'), 1), (('5.3', 'NUM'), 1), (('1.61', 'NUM'), 1), (('write-downs', 'NOUN'), 1), (('4.9', 'NUM'), 1), (('45.75', 'NUM'), 1), (('offerings', 'NOUN'), 1), (('pricings', 'NOUN'), 1), (('non-U.S.', 'NOUN'), 1), (('syndicate', 'NOUN'), 1), (('8.467', 'NUM'), 1), (('spread', 'NOUN'), 1), (('bellwether', 'NOUN'), 1), (('Rated', 'VERB'), 1), (('1991-2000', 'NUM'), 1), (('81.8', 'NUM'), 1), (('7.20', 'NUM'), 1), (('insured', 'VERB'), 1), (('triple-A-rated', 'ADJ'), 1), (('A-D', 'NOUN'), 1), (('1991-1999', 'NUM'), 1), (('7.422', 'NUM'), 1), (('7.15', 'NUM'), 1), (('single-A', 'ADJ'), 1), (('Housing', 'NOUN'), 1), (('80.8', 'NUM'), 1), (('single-family', 'NOUN'), 1), (('30.9', 'NUM'), 1), (('1992-1999', 'NUM'), 1), (('Fourth', 'ADJ'), 1), (('serial', 'NOUN'), 1), (('7.45', 'NUM'), 1), (('7.50', 'NUM'), 1), (('49.9', 'NUM'), 1), (('7.65', 'NUM'), 1), (('double-A', 'ADJ'), 1), (('Heiwado', 'NOUN'), 1), (('equity-purchase', 'ADJ'), 1), (('Intecknings', 'NOUN'), 1), (('Garanti', 'NOUN'), 1), (('Aktiebolaget', 'NOUN'), 1), (('Sweden', 'NOUN'), 1), (('6.03', 'NUM'), 1), (('Handelsbanken', 'NOUN'), 1), (('Takashima', 'NOUN'), 1), (('Yamaichi', 'NOUN'), 1), (('3.43', 'NUM'), 1), (('Pencil', 'NOUN'), 1), (('106', 'NUM'), 1), (('3.42', 'NUM'), 1), (('Koizumi', 'NOUN'), 1), (('Sangyo', 'NOUN'), 1), (('1996', 'NUM'), 1), (('Schweiz', 'NOUN'), 1), (('Guarantee', 'NOUN'), 1), (('Lurie', 'NOUN'), 1), (('avid', 'ADJ'), 1), (('fan', 'NOUN'), 1), (('digs', 'VERB'), 1), (('Pretty', 'NOUN'), 1), (('afford', 'VERB'), 1), (('major-league', 'ADJ'), 1), (('Something', 'NOUN'), 1), (('ranging', 'VERB'), 1), (('Petersburg', 'NOUN'), 1), (('complexes', 'NOUN'), 1), (('moneymakers', 'NOUN'), 1), (('Pepperdine', 'NOUN'), 1), (('Dean', 'NOUN'), 1), (('Baim', 'NOUN'), 1), (('scoffs', 'VERB'), 1), (('looked', 'VERB'), 1), (('Dodger', 'NOUN'), 1), (('Stadiums', 'NOUN'), 1), (('redistribute', 'VERB'), 1), (('Voters', 'NOUN'), 1), (('mega-stadium', 'NOUN'), 1), (('Phoenix', 'NOUN'), 1), (('thumbs', 'NOUN'), 1), (('fielded', 'VERB'), 1), (('concede', 'VERB'), 1), (('polls', 'NOUN'), 1), (('endorse', 'VERB'), 1), (('Dolphins', 'NOUN'), 1), (('disagrees', 'VERB'), 1), (('city-owned', 'ADJ'), 1), (('Bowl', 'NOUN'), 1), (('coliseum', 'NOUN'), 1), (('Moon', 'NOUN'), 1), (('Landrieu', 'NOUN'), 1), (('cavernous', 'ADJ'), 1), (('money-losing', 'ADJ'), 1), (('relevance', 'NOUN'), 1), (('faith', 'NOUN'), 1), (('Egyptian', 'ADJ'), 1), (('Pharaoh', 'NOUN'), 1), (('justified', 'VERB'), 1), (('civilization', 'NOUN'), 1), (('schemes', 'NOUN'), 1), (('pharaohs', 'NOUN'), 1), (('erect', 'VERB'), 1), (('playgrounds', 'NOUN'), 1), (('passions', 'NOUN'), 1), (('89.7', 'NUM'), 1), (('141.9', 'NUM'), 1), (('94.8', 'NUM'), 1), (('149.9', 'NUM'), 1), (('130.6', 'NUM'), 1), (('Pretax', 'NOUN'), 1), (('128', 'NUM'), 1), (('133', 'NUM'), 1), (('135', 'NUM'), 1), (('388', 'NUM'), 1), (('722', 'NUM'), 1), (('Risks', 'NOUN'), 1), (('erodes', 'VERB'), 1), (('downgrading', 'NOUN'), 1), (('shivers', 'NOUN'), 1), (('shudders', 'NOUN'), 1), (('issuers', 'NOUN'), 1), (('IOUs', 'NOUN'), 1), (('borrowings', 'NOUN'), 1), (('1990s', 'NUM'), 1), (('difficulty', 'NOUN'), 1), (('shoring', 'VERB'), 1), (('credit-rating', 'NOUN'), 1), (('Whereas', 'ADP'), 1), (('structured', 'VERB'), 1), (('penchant', 'NOUN'), 1), (('stretch', 'VERB'), 1), (('disarray', 'NOUN'), 1), (('downgraded', 'VERB'), 1), (('Catch-22', 'NOUN'), 1), (('Merchant', 'NOUN'), 1), (('riskier', 'ADJ'), 1), (('acquires', 'VERB'), 1), (('expectation', 'NOUN'), 1), (('generated', 'VERB'), 1), (('overcapacity', 'NOUN'), 1), (('managements', 'NOUN'), 1), (('reliance', 'NOUN'), 1), (('arranged', 'VERB'), 1), (('high-risk', 'ADJ'), 1), (('Mattress', 'NOUN'), 1), (('bedding', 'NOUN'), 1), (('backing', 'NOUN'), 1), (('Suisse', 'NOUN'), 1), (('participant', 'NOUN'), 1), (('rebounding', 'VERB'), 1), (('overstated', 'VERB'), 1), (('disadvantage', 'NOUN'), 1), (('rivals', 'NOUN'), 1), (('toll', 'NOUN'), 1), (('settlements', 'NOUN'), 1), (('plea', 'NOUN'), 1), (('felonies', 'NOUN'), 1), (('insider-trading', 'ADJ'), 1), (('workforce', 'NOUN'), 1), (('Recently', 'ADV'), 1), (('circulated', 'VERB'), 1), (('moreover', 'ADV'), 1), (('confident', 'ADJ'), 1), (('creditworthiness', 'NOUN'), 1), (('leading', 'ADJ'), 1), (('vicissitudes', 'NOUN'), 1), (('plus', 'NOUN'), 1), (('Sable', 'NOUN'), 1), (('experiencing', 'VERB'), 1), (('creator', 'NOUN'), 1), (('car-development', 'NOUN'), 1), (('midsized', 'VERB'), 1), (('eclipse', 'VERB'), 1), (('top-selling', 'ADJ'), 1), (('Team', 'NOUN'), 1), (('involvement', 'NOUN'), 1), (('assembly-line', 'NOUN'), 1), (('cycle', 'NOUN'), 1), (('responsive', 'ADJ'), 1), (('demands', 'NOUN'), 1), (('new-car', 'NOUN'), 1), (('Cougar', 'NOUN'), 1), (('American-made', 'ADJ'), 1), (('parts-engineering', 'ADJ'), 1), (('absurdity', 'NOUN'), 1), (('stretched', 'VERB'), 1), (('notch', 'NOUN'), 1), (('compassion', 'NOUN'), 1), (('Solomonic', 'ADJ'), 1), (('stark', 'ADJ'), 1), (('policy-making', 'ADJ'), 1), (('debate', 'VERB'), 1), (('innovation', 'NOUN'), 1), (('compelling', 'ADJ'), 1), (('1940s', 'NUM'), 1), (('hormone', 'NOUN'), 1), (('diethylstilbestrol', 'NOUN'), 1), (('miscarriages', 'NOUN'), 1), (('sickness', 'NOUN'), 1), (('generic', 'ADJ'), 1), (('labels', 'NOUN'), 1), (('mothers', 'NOUN'), 1), (('thousand', 'NUM'), 1), (('recall', 'VERB'), 1), (('brand', 'NOUN'), 1), (('Beginning', 'VERB'), 1), (('1980', 'NUM'), 1), (('common-law', 'NOUN'), 1), (('Courts', 'NOUN'), 1), (('pills', 'NOUN'), 1), (('assessed', 'VERB'), 1), (('proportion', 'NOUN'), 1), (('duck', 'VERB'), 1), (('identical', 'ADJ'), 1), (('slippery', 'ADJ'), 1), (('slope', 'NOUN'), 1), (('alike', 'ADV'), 1), (('differently', 'ADV'), 1), (('warranties', 'NOUN'), 1), (('Lilly', 'NOUN'), 1), (('Mindy', 'NOUN'), 1), (('Alstyne', 'NOUN'), 1), (('apple', 'NOUN'), 1), (('apples', 'NOUN'), 1), (('uncompensated', 'ADJ'), 1), (('takings', 'NOUN'), 1), (('guarantee', 'NOUN'), 1), (('twisting', 'VERB'), 1), (('doctrine', 'NOUN'), 1), (('reversed', 'VERB'), 1), (('chilled', 'VERB'), 1), (('prescription', 'NOUN'), 1), (('hidden', 'VERB'), 1), (('Public', 'ADJ'), 1), (('favors', 'VERB'), 1), (('accompany', 'VERB'), 1), (('pain', 'NOUN'), 1), (('unanimous', 'ADJ'), 1), (('anti-morning-sickness', 'ADJ'), 1), (('Bendectin', 'NOUN'), 1), (('Huber', 'NOUN'), 1), (('introduces', 'VERB'), 1), (('anti-miscarriage', 'ADJ'), 1), (('tort', 'NOUN'), 1), (('lousy', 'ADJ'), 1), (('anyway', 'ADV'), 1), (('contingency-fee', 'ADJ'), 1), (('vaccines', 'NOUN'), 1), (('predictably', 'ADV'), 1), (('even', 'VERB'), 1), (('Everyone', 'NOUN'), 1), (('understands', 'VERB'), 1), (('utterly', 'ADV'), 1), (('incapable', 'ADJ'), 1), (('deserving', 'ADJ'), 1), (('billion-dollar', 'ADJ'), 1), (('morass', 'NOUN'), 1), (('trash', 'VERB'), 1), (('Odyssey', 'NOUN'), 1), (('Norwalk', 'NOUN'), 1), (('N.V', 'NOUN'), 1), (('235', 'NUM'), 1), (('113.2', 'NUM'), 1), (('6.70', 'NUM'), 1), (('144', 'NUM'), 1), (('4.10', 'NUM'), 1), (('outlay', 'NOUN'), 1), (('2.46', 'NUM'), 1), (('2.42', 'NUM'), 1), (('PhacoFlex', 'NOUN'), 1), (('intraocular', 'ADJ'), 1), (('foldable', 'ADJ'), 1), (('silicone', 'NOUN'), 1), (('len', 'NOUN'), 1), (('foldability', 'NOUN'), 1), (('inserted', 'VERB'), 1), (('incisions', 'NOUN'), 1), (('Cataracts', 'NOUN'), 1), (('refer', 'VERB'), 1), (('clouding', 'NOUN'), 1), (('EC', 'NOUN'), 1), (('harmed', 'VERB'), 1), (('Salvador', 'NOUN'), 1), (('intentioned', 'ADJ'), 1), (('transfers', 'NOUN'), 1), (('wrecking', 'VERB'), 1), (('incentives', 'NOUN'), 1), (('smothering', 'VERB'), 1), (('kindness', 'NOUN'), 1), (('above', 'ADJ'), 1), (('7.8', 'NUM'), 1), (('13.625', 'NUM'), 1), (('Wis.', 'NOUN'), 1), (('4.5', 'NUM'), 1), (('truck', 'NOUN'), 1), (('1.92', 'NUM'), 1), (('352.9', 'NUM'), 1), (('start-up', 'ADJ'), 1), (('softer', 'ADJ'), 1), (('motor-home', 'NOUN'), 1), (('Deere', 'NOUN'), 1), (('midsized', 'ADJ'), 1), (('start-up', 'NOUN'), 1), (('132', 'NUM'), 1), (('14.99', 'NUM'), 1), (('35564.43', 'NUM'), 1), (('63.79', 'NUM'), 1), (('35500.64', 'NUM'), 1), (('909', 'NUM'), 1), (('Declining', 'VERB'), 1), (('outnumbered', 'VERB'), 1), (('454', 'NUM'), 1), (('451', 'NUM'), 1), (('incentive-backed', 'ADJ'), 1), (('untrue', 'ADJ'), 1), (('directionless', 'ADJ'), 1), (('Institutions', 'NOUN'), 1), (('Topix', 'NOUN'), 1), (('16.05', 'NUM'), 1), (('1.46', 'NUM'), 1), (('0.05', 'NUM'), 1), (('2691.19', 'NUM'), 1), (('6.84', 'NUM'), 1), (('5.92', 'NUM'), 1), (('0.16', 'NUM'), 1), (('3648.82', 'NUM'), 1), (('Nomura', 'NOUN'), 1), (('clearer', 'ADJ'), 1), (('comfortably', 'ADV'), 1), (('Tokyu', 'NOUN'), 1), (('dominant', 'ADJ'), 1), (('Yasuda', 'NOUN'), 1), (('surge', 'VERB'), 1), (('56', 'NUM'), 1), (('1,880', 'NUM'), 1), (('13.15', 'NUM'), 1), (('continuingly', 'ADV'), 1), (('directed', 'VERB'), 1), (('mining', 'NOUN'), 1), (('Teikoku', 'NOUN'), 1), (('stimulated', 'VERB'), 1), (('1,460', 'NUM'), 1), (('Showa', 'NOUN'), 1), (('Shell', 'NOUN'), 1), (('1,570', 'NUM'), 1), (('Sumitomo', 'NOUN'), 1), (('Metal', 'NOUN'), 1), (('692', 'NUM'), 1), (('960', 'NUM'), 1), (('winners', 'NOUN'), 1), (('Shokubai', 'NOUN'), 1), (('2,410', 'NUM'), 1), (('Marubeni', 'NOUN'), 1), (('890', 'NUM'), 1), (('affecting', 'VERB'), 1), (('17.5', 'NUM'), 1), (('2160.1', 'NUM'), 1), (('intraday', 'NOUN'), 1), (('2141.7', 'NUM'), 1), (('2163.2', 'NUM'), 1), (('half-hour', 'NOUN'), 1), (('opening', 'NOUN'), 1), (('tempted', 'VERB'), 1), (('overdone', 'VERB'), 1), (('reversal', 'NOUN'), 1), (('FT', 'NOUN'), 1), (('30-share', 'ADJ'), 1), (('1738.1', 'NUM'), 1), (('372.9', 'NUM'), 1), (('334.5', 'NUM'), 1), (('hugging', 'VERB'), 1), (('879', 'NUM'), 1), (('13.90', 'NUM'), 1), (('shed', 'VERB'), 1), (('tender', 'VERB'), 1), (('waive', 'VERB'), 1), (('protective', 'ADJ'), 1), (('golden', 'ADJ'), 1), (('waiver', 'NOUN'), 1), (('Goldsmith', 'NOUN'), 1), (('Investments', 'NOUN'), 1), (('753', 'NUM'), 1), (('sweeten', 'VERB'), 1), (('397', 'NUM'), 1), (('shopping', 'VERB'), 1), (('Carlton', 'NOUN'), 1), (('778', 'NUM'), 1), (('notched', 'VERB'), 1), (('searched', 'VERB'), 1), (('qualities', 'NOUN'), 1), (('Wellcome', 'NOUN'), 1), (('666', 'NUM'), 1), (('Glaxo', 'NOUN'), 1), (('14.13', 'NUM'), 1), (('Amsterdam', 'NOUN'), 1), (('Zurich', 'NOUN'), 1), (('Paris', 'NOUN'), 1), (('Brussels', 'NOUN'), 1), (('Milan', 'NOUN'), 1), (('South', 'ADJ'), 1), (('Wellington', 'NOUN'), 1), (('Sydney', 'NOUN'), 1), (('Manila', 'NOUN'), 1), (('calculated', 'VERB'), 1), (('Perspective', 'NOUN'), 1), (('Geneva', 'NOUN'), 1), (('1969', 'NUM'), 1), (('equaling', 'VERB'), 1), (('Intermec', 'NOUN'), 1), (('1,050,000', 'NUM'), 1), (('Piper', 'NOUN'), 1), (('Jaffray', 'NOUN'), 1), (('Hopwood', 'NOUN'), 1), (('Middlesex', 'NOUN'), 1), (('Water', 'NOUN'), 1), (('150,000', 'NUM'), 1), (('Walker', 'NOUN'), 1), (('Howard', 'NOUN'), 1), (('Weil', 'NOUN'), 1), (('Labouisse', 'NOUN'), 1), (('Friedrichs', 'NOUN'), 1), (('Midwesco', 'NOUN'), 1), (('Filter', 'NOUN'), 1), (('830,000', 'NUM'), 1), (('Nylev', 'NOUN'), 1), (('Occidental', 'NOUN'), 1), (('shelf', 'NOUN'), 1), (('Inns', 'NOUN'), 1), (('zero', 'NUM'), 1), (('Montgomery', 'NOUN'), 1), (('Fracturing', 'NOUN'), 1), (('Lovett', 'NOUN'), 1), (('Mitchell', 'NOUN'), 1), (('Webb', 'NOUN'), 1), (('Garrison', 'NOUN'), 1), (('Blunt', 'NOUN'), 1), (('Ellis', 'NOUN'), 1), (('Loewi', 'NOUN'), 1), (('3,250,000', 'NUM'), 1), (('3,040,000', 'NUM'), 1), (('210,000', 'NUM'), 1), (('Funding', 'NOUN'), 1), (('Hanifen', 'NOUN'), 1), (('Imhoff', 'NOUN'), 1), (('Hold', 'VERB'), 1), (('Putty', 'NOUN'), 1), (('lipsticks', 'NOUN'), 1), (('liners', 'NOUN'), 1), (('lotions', 'NOUN'), 1), (('creams', 'NOUN'), 1), (('tackle', 'VERB'), 1), (('That', 'ADP'), 1), (('paint', 'VERB'), 1), (('spackle', 'VERB'), 1), ((\"D'Amico\", 'NOUN'), 1), (('Criminal', 'ADJ'), 1), (('Diceon', 'NOUN'), 1), (('Chatsworth', 'NOUN'), 1), (('counts', 'NOUN'), 1), (('charging', 'VERB'), 1), (('Calif.-based', 'ADJ'), 1), (('circuit-board', 'NOUN'), 1), (('disposed', 'VERB'), 1), (('caustic', 'ADJ'), 1), (('sewer', 'NOUN'), 1), (('leaky', 'ADJ'), 1), (('unlabeled', 'ADJ'), 1), (('open-top', 'ADJ'), 1), (('containers', 'NOUN'), 1), (('Named', 'VERB'), 1), (('Roland', 'NOUN'), 1), (('Matthews', 'NOUN'), 1), (('Jonas', 'NOUN'), 1), (('routine', 'ADJ'), 1), (('inspection', 'NOUN'), 1), (('Arraignments', 'NOUN'), 1), (('stayed', 'VERB'), 1), (('unsettling', 'ADJ'), 1), (('Fabian', 'NOUN'), 1), (('Survey', 'NOUN'), 1), (('industry-supported', 'ADJ'), 1), (('Confidence', 'NOUN'), 1), (('116.4', 'NUM'), 1), (('barely', 'ADV'), 1), (('revised', 'VERB'), 1), (('116.3', 'NUM'), 1), (('116.9', 'NUM'), 1), (('112.9', 'NUM'), 1), (('120.7', 'NUM'), 1), (('present', 'ADJ'), 1), (('18.3', 'NUM'), 1), (('worsen', 'VERB'), 1), (('Fewer', 'ADJ'), 1), (('21.1', 'NUM'), 1), (('16.9', 'NUM'), 1), (('17.4', 'NUM'), 1), (('18.6', 'NUM'), 1), (('28.5', 'NUM'), 1), (('day-to-day', 'ADJ'), 1), (('Unemployment', 'NOUN'), 1), (('paycheck', 'NOUN'), 1), (('reasonably', 'ADV'), 1), (('conducted', 'VERB'), 1), (('Opinion', 'NOUN'), 1), (('6.7', 'NUM'), 1), (('monthly', 'ADV'), 1), (('30.6', 'NUM'), 1), (('27.4', 'NUM'), 1), (('26.5', 'NUM'), 1), (('deluge', 'NOUN'), 1), (('abuzz', 'ADJ'), 1), (('Kathleen', 'NOUN'), 1), (('Camilli', 'NOUN'), 1), (('fixed-income', 'ADJ'), 1), (('rare', 'ADJ'), 1), (('Ednie', 'NOUN'), 1), (('ranked', 'VERB'), 1), (('infrequent', 'ADJ'), 1), (('Syndicate', 'NOUN'), 1), (('scant', 'ADJ'), 1), (('Whether', 'ADP'), 1), (('Hanover', 'NOUN'), 1), (('blurred', 'VERB'), 1), (('Open', 'NOUN'), 1), (('14.', 'NUM'), 1), (('varied', 'VERB'), 1), (('industries', 'NOUN'), 1), (('diverse', 'ADJ'), 1), (('enhances', 'VERB'), 1), (('importance', 'NOUN'), 1), (('non-farm', 'ADJ'), 1), (('152,000', 'NUM'), 1), (('quarterly', 'ADV'), 1), (('29year', 'ADJ'), 1), (('nine-month', 'ADJ'), 1), (('12\\\\/32', 'NUM'), 1), (('16\\\\/32', 'NUM'), 1), (('7.79', 'NUM'), 1), (('7.52', 'NUM'), 1), (('7.60', 'NUM'), 1), (('compilation', 'NOUN'), 1), (('compare', 'VERB'), 1), (('topped', 'VERB'), 1), (('16.5', 'NUM'), 1), (('Junk', 'NOUN'), 1), (('risk-free', 'ADJ'), 1), (('outdistanced', 'VERB'), 1), (('Lonski', 'NOUN'), 1), (('Little', 'ADJ'), 1), (('wanting', 'VERB'), 1), (('Mortgage-Backed', 'NOUN'), 1), (('9.32', 'NUM'), 1), (('12-year', 'ADJ'), 1), (('Activity', 'NOUN'), 1), (('derivative', 'ADJ'), 1), (('Municipal', 'ADJ'), 1), (('114', 'NUM'), 1), (('Facilities', 'NOUN'), 1), (('Financing', 'NOUN'), 1), (('Authority', 'NOUN'), 1), (('delay', 'NOUN'), 1), (('relaunched', 'VERB'), 1), (('107.03', 'NUM'), 1), (('repriced', 'VERB'), 1), (('Bucking', 'VERB'), 1), (('drew', 'VERB'), 1), (('unenthusiastic', 'ADJ'), 1), (('Rumors', 'NOUN'), 1), (('contrary', 'NOUN'), 1), (('Bund', 'NOUN'), 1), (('1998', 'NUM'), 1), (('95.09', 'NUM'), 1), (('5.435', 'NUM'), 1), (('2003\\\\/2007', 'NUM'), 1), (('14\\\\/32', 'NUM'), 1), (('10.19', 'NUM'), 1), (('1995', 'NUM'), 1), (('9\\\\/32', 'NUM'), 1), (('103', 'NUM'), 1), (('11.10', 'NUM'), 1), (('double-C', 'NOUN'), 1), (('triple-C', 'NOUN'), 1), (('clothing', 'NOUN'), 1), (('expense', 'NOUN'), 1), (('exceeds', 'VERB'), 1), (('94.2', 'NUM'), 1), (('83', 'NUM'), 1), (('pre-tax', 'ADJ'), 1), (('306', 'NUM'), 1), (('415', 'NUM'), 1), (('underperforming', 'VERB'), 1), (('Monopolies', 'NOUN'), 1), (('Mergers', 'NOUN'), 1), (('tires', 'NOUN'), 1), (('221.4', 'NUM'), 1), (('S.A', 'NOUN'), 1), (('referral', 'NOUN'), 1), (('420', 'NUM'), 1), (('centerpiece', 'NOUN'), 1), (('chaos', 'NOUN'), 1), (('single-handed', 'ADJ'), 1), (('guarantee', 'VERB'), 1), (('seven-million-ton', 'ADJ'), 1), (('cap', 'NOUN'), 1), (('hailed', 'VERB'), 1), (('despised', 'VERB'), 1), (('junk', 'VERB'), 1), (('innovative', 'ADJ'), 1), (('market-based', 'ADJ'), 1), (('polluters', 'NOUN'), 1), (('cost-sharing', 'ADJ'), 1), (('subsidize', 'VERB'), 1), (('clean-up', 'ADJ'), 1), (('coal-fired', 'ADJ'), 1), (('sparing', 'VERB'), 1), (('exorbitant', 'ADJ'), 1), (('jumps', 'NOUN'), 1), (('sticking', 'VERB'), 1), (('vow', 'NOUN'), 1), (('avoiding', 'VERB'), 1), (('staunchly', 'ADV'), 1), (('present', 'VERB'), 1), (('appease', 'VERB'), 1), (('high-polluting', 'ADJ'), 1), (('cleanup', 'NOUN'), 1), (('burn', 'VERB'), 1), (('cleaner-burning', 'ADJ'), 1), (('fuels', 'NOUN'), 1), (('quietly', 'ADV'), 1), (('tinker', 'VERB'), 1), (('Journals', 'NOUN'), 1), (('resign', 'VERB'), 1), (('relocate', 'NOUN'), 1), (('co-founded', 'VERB'), 1), (('Mo.-based', 'ADJ'), 1), (('Earlier', 'ADV'), 1), (('E.W.', 'NOUN'), 1), (('Scripps', 'NOUN'), 1), (('nickname', 'NOUN'), 1), (('coordinate', 'VERB'), 1), (('deliberately', 'ADV'), 1), (('disconnect', 'VERB'), 1), (('heightened', 'VERB'), 1), (('routes', 'VERB'), 1), (('file', 'NOUN'), 1), (('scans', 'VERB'), 1), (('resumes', 'VERB'), 1), (('halt', 'VERB'), 1), (('slides', 'VERB'), 1), (('DOT', 'NOUN'), 1), (('Designated', 'NOUN'), 1), (('Order', 'NOUN'), 1), (('Turnaround', 'NOUN'), 1), (('high-speed', 'ADJ'), 1), (('Used', 'VERB'), 1), (('zip', 'VERB'), 1), (('handles', 'VERB'), 1), (('Obligations', 'NOUN'), 1), (('instrument', 'NOUN'), 1), (('agreed-upon', 'ADJ'), 1), (('nullified', 'VERB'), 1), (('opposite', 'ADJ'), 1), (('Indexing', 'NOUN'), 1), (('barometer', 'NOUN'), 1), (('swapping', 'VERB'), 1), (('simultaneous', 'ADJ'), 1), (('Quant', 'NOUN'), 1), (('Generally', 'ADV'), 1), (('quantitive', 'ADJ'), 1), (('newest', 'ADJ'), 1), (('breed', 'NOUN'), 1), (('rocket', 'NOUN'), 1), (('backgrounds', 'NOUN'), 1), (('complex', 'NOUN'), 1), (('hedging', 'NOUN'), 1), (('popularly', 'ADV'), 1), (('fleeting', 'ADJ'), 1), (('arbitrager', 'NOUN'), 1), (('multiplying', 'VERB'), 1), (('20-stock', 'ADJ'), 1), (('mimics', 'VERB'), 1), (('chicago', 'NOUN'), 1), (('put', 'NOUN'), 1), (('certin', 'NOUN'), 1), (('indexes', 'NOUN'), 1), (('Uptick', 'NOUN'), 1), (('expression', 'NOUN'), 1), (('signifying', 'VERB'), 1), (('Saul', 'NOUN'), 1), (('labor-management', 'ADJ'), 1), (('puzzled', 'VERB'), 1), (('definitely', 'ADV'), 1), (('position', 'VERB'), 1), (('Airways', 'NOUN'), 1), (('110', 'NUM'), 1), (('282', 'NUM'), 1), (('twist', 'NOUN'), 1), (('challenge', 'VERB'), 1), (('rebound', 'VERB'), 1), (('1.50', 'NUM'), 1), (('notified', 'VERB'), 1), (('tapping', 'VERB'), 1), (('Tiger', 'NOUN'), 1), (('land', 'VERB'), 1), (('acquirer', 'NOUN'), 1), (('pilots', 'NOUN'), 1), (('machinists', 'NOUN'), 1), (('cleared', 'VERB'), 1), (('472', 'NUM'), 1), (('delisted', 'VERB'), 1), (('23.25', 'NUM'), 1), (('28.25', 'NUM'), 1), (('Duluth', 'NOUN'), 1), (('liabilities', 'NOUN'), 1), (('Trace', 'NOUN'), 1), (('unaffiliated', 'ADJ'), 1), (('3.625', 'NUM'), 1), (('Asher', 'NOUN'), 1), (('16.2', 'NUM'), 1), (('computer-services', 'NOUN'), 1), (('oust', 'VERB'), 1), (('Datapoint', 'NOUN'), 1), (('explore', 'VERB'), 1), (('2.75', 'NUM'), 1), (('roll', 'NOUN'), 1), (('above-market', 'ADJ'), 1), (('scared', 'ADJ'), 1), (('18-a-share', 'ADJ'), 1), (('p.m.', 'NOUN'), 1), (('EST', 'NOUN'), 1), (('576', 'NUM'), 1), (('95', 'NUM'), 1), (('24,000', 'NUM'), 1), (('19.50', 'NUM'), 1), (('Barron', 'NOUN'), 1), (('printing-press', 'NOUN'), 1), (('trail', 'VERB'), 1), (('heavy-truck', 'NOUN'), 1), (('passenger-car', 'NOUN'), 1), (('630.9', 'NUM'), 1), (('126.1', 'NUM'), 1), (('132.9', 'NUM'), 1), (('prior-year', 'ADJ'), 1), (('adjustment', 'NOUN'), 1), (('B-1B', 'ADJ'), 1), (('bomber', 'NOUN'), 1), (('sewing-machine', 'NOUN'), 1), (('185.9', 'NUM'), 1), (('3.28', 'NUM'), 1), (('3.16', 'NUM'), 1), (('Overall', 'ADJ'), 1), (('107.9', 'NUM'), 1), (('96.4', 'NUM'), 1), (('emerged', 'VERB'), 1), (('muscling', 'VERB'), 1), (('singled', 'VERB'), 1), (('79', 'NUM'), 1), (('42.1', 'NUM'), 1), (('Colorliner', 'NOUN'), 1), (('newspaper-printing', 'NOUN'), 1), (('Aerospace', 'NOUN'), 1), (('sagged', 'VERB'), 1), (('B-1B', 'NOUN'), 1), (('bombers', 'NOUN'), 1), (('resumption', 'NOUN'), 1), (('shuttle', 'NOUN'), 1), (('expendable', 'ADJ'), 1), (('launch-vehicle', 'NOUN'), 1), (('engines', 'NOUN'), 1), (('hits', 'NOUN'), 1), (('weapons-modernization', 'ADJ'), 1), (('C-130', 'NOUN'), 1), (('734.9', 'NUM'), 1), (('811.9', 'NUM'), 1), (('3.04', 'NUM'), 1), (('2.47', 'NUM'), 1), (('7.4', 'NUM'), 1), (('2.30', 'NUM'), 1), (('12.52', 'NUM'), 1), (('11.95', 'NUM'), 1), (('Austin', 'NOUN'), 1), (('Texas-based', 'ADJ'), 1), (('210', 'NUM'), 1), (('512', 'NUM'), 1), (('kilobytes', 'NOUN'), 1), (('40-megabyte', 'ADJ'), 1), (('color', 'NOUN'), 1), (('monitor', 'NOUN'), 1), (('2,099', 'NUM'), 1), (('more-advanced', 'ADJ'), 1), (('microprocessor', 'NOUN'), 1), (('megabytes', 'NOUN'), 1), (('100-megabyte', 'ADJ'), 1), (('5,699', 'NUM'), 1), (('6,799', 'NUM'), 1), (('Personal', 'ADJ'), 1), (('286', 'NUM'), 1), (('microprocessors', 'NOUN'), 1), (('grower', 'NOUN'), 1), (('life-of-contract', 'ADJ'), 1), (('14.54', 'NUM'), 1), (('14.28', 'NUM'), 1), (('14.53', 'NUM'), 1), (('0.56', 'NUM'), 1), (('restraints', 'NOUN'), 1), (('0.54', 'NUM'), 1), (('14.26', 'NUM'), 1), (('permissible', 'ADJ'), 1), (('0.50', 'NUM'), 1), (('14.00', 'NUM'), 1), (('near-limit', 'ADJ'), 1), (('1990-91', 'NUM'), 1), (('automobile', 'NOUN'), 1), (('regardless', 'ADV'), 1), (('third-largest', 'ADJ'), 1), (('fifth-largest', 'ADJ'), 1), (('drastic', 'ADJ'), 1), (('1988-89', 'NUM'), 1), (('Judith', 'NOUN'), 1), (('granted', 'VERB'), 1), (('licenses', 'NOUN'), 1), (('planting', 'NOUN'), 1), (('orange', 'ADJ'), 1), (('trees', 'NOUN'), 1), (('cane', 'NOUN'), 1), (('Hackensack', 'NOUN'), 1), (('am', 'VERB'), 1), (('Above', 'ADP'), 1), (('confused', 'VERB'), 1), (('Professional', 'ADJ'), 1), (('atmosphere', 'NOUN'), 1), (('complicated', 'VERB'), 1), (('ethanol', 'NOUN'), 1), (('fuel', 'VERB'), 1), (('fleet', 'NOUN'), 1), (('importer', 'NOUN'), 1), (('60.36', 'NUM'), 1), (('20.07', 'NUM'), 1), (('colder', 'ADJ'), 1), (('GRAINS', 'NOUN'), 1), (('AND', 'NOUN'), 1), (('SOYBEANS', 'NOUN'), 1), (('muted', 'VERB'), 1), (('observance', 'NOUN'), 1), (('All', 'NOUN'), 1), (('Saints', 'NOUN'), 1), (('Day', 'NOUN'), 1), (('Continued', 'VERB'), 1), (('buys', 'VERB'), 1), (('grains', 'NOUN'), 1), (('verge', 'NOUN'), 1), (('favored', 'ADJ'), 1), (('designation', 'NOUN'), 1), (('generous', 'ADJ'), 1), (('1.1650', 'NUM'), 1), (('ignored', 'VERB'), 1), (('mine', 'ADJ'), 1), (('Disputado', 'NOUN'), 1), (('Reuter', 'NOUN'), 1), (('emergency', 'NOUN'), 1), (('copper-rich', 'ADJ'), 1), (('mine', 'NOUN'), 1), (('inoperative', 'ADJ'), 1), (('native', 'ADJ'), 1), (('landowners', 'NOUN'), 1), (('secede', 'VERB'), 1), (('Cos.', 'NOUN'), 1), (('36-store', 'ADJ'), 1), (('free', 'VERB'), 1), (('fair', 'ADJ'), 1), (('rang', 'VERB'), 1), (('313', 'NUM'), 1), (('Hubbell', 'NOUN'), 1), (('all-cash', 'ADJ'), 1), (('liquidation', 'NOUN'), 1), (('Paso', 'NOUN'), 1), (('boots', 'NOUN'), 1), (('leather', 'NOUN'), 1), (('accrue', 'VERB'), 1), (('unspecified', 'ADJ'), 1), (('termed', 'VERB'), 1), (('amicable', 'ADJ'), 1), (('27-year', 'ADJ'), 1), (('information-services', 'NOUN'), 1), (('several-year', 'ADJ'), 1), (('stemmed', 'VERB'), 1), (('directorship', 'NOUN'), 1), (('eight-person', 'ADJ'), 1), (('Shepperd', 'NOUN'), 1), (('UBS', 'NOUN'), 1), (('Drew', 'NOUN'), 1), (('irrelevant', 'ADJ'), 1), (('913', 'NUM'), 1), (('14.43', 'NUM'), 1), (('43.875', 'NUM'), 1), (('Nigel', 'NOUN'), 1), (('Judah', 'NOUN'), 1), (('Holland', 'NOUN'), 1), (('deputy', 'ADJ'), 1), (('Mannix', 'NOUN'), 1), (('Kingsbridge', 'NOUN'), 1), (('45-a-share', 'ADJ'), 1), (('Donuts', 'NOUN'), 1), (('50.1', 'NUM'), 1), (('Delaware', 'NOUN'), 1), (('Dunkin', 'NOUN'), 1), (('deter', 'VERB'), 1), (('38.5', 'NUM'), 1), (('receipt', 'NOUN'), 1), (('35.2', 'NUM'), 1), (('Conn.based', 'ADJ'), 1), (('magnified', 'VERB'), 1), (('nonrecurring', 'VERB'), 1), (('8.2', 'NUM'), 1), (('asset-valuation', 'NOUN'), 1), (('adjustments', 'NOUN'), 1), (('85.7', 'NUM'), 1), (('93.3', 'NUM'), 1), (('softening', 'NOUN'), 1), (('natural-gas', 'NOUN'), 1), (('reserve', 'NOUN'), 1), (('reimbursed', 'VERB'), 1), (('amortization', 'NOUN'), 1), (('169.9', 'NUM'), 1), (('blue-chips', 'NOUN'), 1), (('brunt', 'NOUN'), 1), (('41.60', 'NUM'), 1), (('500-Stock', 'NOUN'), 1), (('0.84', 'NUM'), 1), (('341.20', 'NUM'), 1), (('equivalent', 'ADJ'), 1), (('Equity', 'NOUN'), 1), (('0.99', 'NUM'), 1), (('319.75', 'NUM'), 1), (('Composite', 'NOUN'), 1), (('0.60', 'NUM'), 1), (('188.84', 'NUM'), 1), (('Advancing', 'VERB'), 1), (('decliners', 'NOUN'), 1), (('176.1', 'NUM'), 1), (('arrive', 'VERB'), 1), (('firmed', 'VERB'), 1), (('faltered', 'VERB'), 1), (('pains', 'NOUN'), 1), (('Uncertainty', 'NOUN'), 1), (('Arbitrage-related', 'ADJ'), 1), (('awaits', 'VERB'), 1), (('sense', 'VERB'), 1), (('reluctant', 'ADJ'), 1), (('stick', 'VERB'), 1), (('necks', 'NOUN'), 1), (('Woolworth', 'NOUN'), 1), (('Products', 'NOUN'), 1), (('Paramount', 'NOUN'), 1), (('Ferro', 'NOUN'), 1), (('early-retirement', 'ADJ'), 1), (('AMR', 'NOUN'), 1), (('developer', 'NOUN'), 1), (('mount', 'VERB'), 1), (('withdrew', 'VERB'), 1), (('120-a-share', 'ADJ'), 1), (('Derchin', 'NOUN'), 1), (('composite', 'NOUN'), 1), (('5.1', 'NUM'), 1), (('Mead', 'NOUN'), 1), (('Louisiana-Pacific', 'NOUN'), 1), (('5.6', 'NUM'), 1), (('ex-dividend', 'ADJ'), 1), (('Value', 'NOUN'), 1), (('1.56', 'NUM'), 1), (('372.14', 'NUM'), 1), (('11,390,000', 'NUM'), 1), (('Spaghetti', 'NOUN'), 1), (('Warehouse', 'NOUN'), 1), (('convert', 'VERB'), 1), (('adverse', 'ADJ'), 1), (('otherwise', 'ADV'), 1), (('Orleans-based', 'ADJ'), 1), (('yet-to-be-formed', 'ADJ'), 1), (('distributed', 'VERB'), 1), (('unitholders', 'NOUN'), 1), (('Unitholders', 'NOUN'), 1), (('cents-a-unit', 'ADJ'), 1), (('108', 'NUM'), 1), (('88.32', 'NUM'), 1), (('618.1', 'NUM'), 1), (('77.6', 'NUM'), 1), (('backdrop', 'NOUN'), 1), (('continuous', 'ADJ'), 1), (('40.21', 'NUM'), 1), (('16.09', 'NUM'), 1), (('28.36', 'NUM'), 1), (('11.72', 'NUM'), 1), (('1.916', 'NUM'), 1), (('1.637', 'NUM'), 1), (('seven-yen', 'ADJ'), 1), (('Atsushi', 'NOUN'), 1), (('Muramatsu', 'NOUN'), 1), (('experienced', 'VERB'), 1), (('remarkable', 'ADJ'), 1), (('difficulties', 'NOUN'), 1), (('firmly', 'ADV'), 1), (('Depending', 'VERB'), 1), (('2.35', 'NUM'), 1), (('14.75', 'NUM'), 1), (('customized', 'VERB'), 1), (('simulates', 'VERB'), 1), (('live', 'ADJ'), 1), (('unexpected', 'ADJ'), 1), (('Fairlawn', 'NOUN'), 1), (('full-year', 'ADJ'), 1), (('148', 'NUM'), 1), (('2.19', 'NUM'), 1), (('Harry', 'NOUN'), 1), (('Millis', 'NOUN'), 1), (('McDonald', 'NOUN'), 1), (('unanticipated', 'ADJ'), 1), (('government-owned', 'ADJ'), 1), (('subcontractor', 'NOUN'), 1), (('cluster', 'NOUN'), 1), (('bombs', 'NOUN'), 1), (('Aerojet', 'NOUN'), 1), (('Ordnance', 'NOUN'), 1), (('93.9', 'NUM'), 1), (('1.19', 'NUM'), 1), (('92.9', 'NUM'), 1), (('1.18', 'NUM'), 1), (('6.4', 'NUM'), 1), (('Hasbrouk', 'NOUN'), 1), (('waivers', 'NOUN'), 1), (('softening', 'VERB'), 1), (('distributes', 'VERB'), 1), (('produces', 'VERB'), 1), (('literature', 'NOUN'), 1), (('displays', 'NOUN'), 1), (('158,666', 'NUM'), 1), (('26,956', 'NUM'), 1), (('608,413', 'NUM'), 1), (('967,809', 'NUM'), 1), (('1.35', 'NUM'), 1), (('multinational', 'ADJ'), 1), (('Haden', 'NOUN'), 1), (('MacLellan', 'NOUN'), 1), (('Surrey', 'NOUN'), 1), (('Feniger', 'NOUN'), 1), (('acquisition-minded', 'ADJ'), 1), (('Seattle-based', 'ADJ'), 1), (('62.1', 'NUM'), 1), (('outbid', 'VERB'), 1), (('Ratner', 'NOUN'), 1), (('mid-afternoon', 'ADJ'), 1), (('260', 'NUM'), 1), (('acceptances', 'NOUN'), 1), (('87-store', 'ADJ'), 1), (('derived', 'VERB'), 1), (('averted', 'VERB'), 1), (('Fantasy', 'NOUN'), 1), (('2,050-passenger', 'ADJ'), 1), (('slated', 'VERB'), 1), (('12.09', 'NUM'), 1), (('Nuys', 'NOUN'), 1), (('132,000', 'NUM'), 1), (('write-off', 'NOUN'), 1), (('servicing', 'NOUN'), 1), (('realestate', 'VERB'), 1), (('will', 'NOUN'), 1), (('361.8', 'NUM'), 1), (('Peoria', 'NOUN'), 1), (('adopt', 'VERB'), 1), (('Kalamazoo', 'NOUN'), 1), (('Mich.-based', 'ADJ'), 1), (('severance', 'NOUN'), 1), (('staying', 'VERB'), 1), (('high-flying', 'ADJ'), 1), (('toy', 'NOUN'), 1), (('peaked', 'ADJ'), 1), (('430', 'NUM'), 1), (('92', 'NUM'), 1), (('reorganized', 'VERB'), 1), (('Ranger', 'NOUN'), 1), (('225,000', 'NUM'), 1), (('Adam', 'NOUN'), 1), (('plagued', 'VERB'), 1), (('glitches', 'NOUN'), 1), (('fortunes', 'NOUN'), 1), (('bounced', 'VERB'), 1), (('Cabbage', 'NOUN'), 1), (('Patch', 'NOUN'), 1), (('dolls', 'NOUN'), 1), (('winner', 'NOUN'), 1), (('bankruptcy-law', 'ADJ'), 1), (('ORTEGA', 'NOUN'), 1), (('ENDED', 'VERB'), 1), (('Nicaraguan', 'ADJ'), 1), (('U.S.-backed', 'ADJ'), 1), (('19-month-old', 'ADJ'), 1), (('cease-fire', 'NOUN'), 1), (('reaffirmed', 'VERB'), 1), (('Ortega', 'NOUN'), 1), (('thwart', 'VERB'), 1), (('demobilize', 'VERB'), 1), (('deplorable', 'ADJ'), 1), (('brushed', 'VERB'), 1), (('renewing', 'VERB'), 1), (('insurgents', 'NOUN'), 1), (('Contra', 'NOUN'), 1), (('command', 'NOUN'), 1), (('Honduras', 'NOUN'), 1), (('Sandinista', 'NOUN'), 1), (('offensive', 'NOUN'), 1), (('rebel', 'NOUN'), 1), (('German', 'NOUN'), 1), (('Krenz', 'NOUN'), 1), (('freedoms', 'NOUN'), 1), (('socialism', 'NOUN'), 1), (('Party', 'NOUN'), 1), (('Thousands', 'NOUN'), 1), (('fled', 'VERB'), 1), (('cross-border', 'ADJ'), 1), (('emigres', 'NOUN'), 1), (('fetal-tissue', 'NOUN'), 1), (('conferees', 'NOUN'), 1), (('Africa', 'NOUN'), 1), (('armed', 'VERB'), 1), (('Namibian', 'ADJ'), 1), (('nationalist', 'ADJ'), 1), (('guerrillas', 'NOUN'), 1), (('neighboring', 'VERB'), 1), (('Angola', 'NOUN'), 1), (('violating', 'VERB'), 1), (('U.N.-supervised', 'ADJ'), 1), (('peace', 'NOUN'), 1), (('territory', 'NOUN'), 1), (('African', 'NOUN'), 1), (('alert', 'NOUN'), 1), (('Guerrilla', 'NOUN'), 1), (('sabotage', 'VERB'), 1), (('Namibia', 'NOUN'), 1), (('Gunmen', 'NOUN'), 1), (('Lebanon', 'NOUN'), 1), (('assassinated', 'VERB'), 1), (('Arabian', 'NOUN'), 1), (('pro-Iranian', 'ADJ'), 1), (('Islamic', 'NOUN'), 1), (('slaying', 'NOUN'), 1), (('avenge', 'VERB'), 1), (('beheading', 'NOUN'), 1), (('terrorists', 'NOUN'), 1), (('Riyadh', 'NOUN'), 1), (('Beirut', 'NOUN'), 1), (('Moslem', 'NOUN'), 1), (('implements', 'VERB'), 1), (('suspects', 'NOUN'), 1), (('Sino-U.S.', 'ADJ'), 1), (('rulers', 'NOUN'), 1), (('address', 'NOUN'), 1), (('pledged', 'VERB'), 1), (('modernization', 'NOUN'), 1), (('impeding', 'VERB'), 1), (('Pakistan', 'NOUN'), 1), (('Bhutto', 'NOUN'), 1), (('defeated', 'VERB'), 1), (('no-confidence', 'NOUN'), 1), (('42-year', 'ADJ'), 1), (('11-month-old', 'ADJ'), 1), (('Islamabad', 'NOUN'), 1), (('237-seat', 'ADJ'), 1), (('rigged', 'VERB'), 1), (('shipboard', 'NOUN'), 1), (('Malta', 'NOUN'), 1), (('2-3', 'NUM'), 1), (('tete-a-tete', 'NOUN'), 1), (('trafficking', 'NOUN'), 1), (('Andean', 'ADJ'), 1), (('coffee', 'NOUN'), 1), (('Pan', 'NOUN'), 1), (('Am', 'VERB'), 1), (('subpoenaed', 'VERB'), 1), (('CIA', 'NOUN'), 1), (('FBI', 'NOUN'), 1), (('bomb', 'NOUN'), 1), (('planted', 'VERB'), 1), (('aboard', 'ADP'), 1), (('exploded', 'VERB'), 1), (('Scotland', 'NOUN'), 1), (('impending', 'ADJ'), 1), (('Died', 'VERB'), 1), (('Attwood', 'NOUN'), 1), (('Mutual', 'NOUN'), 1), (('acute', 'ADJ'), 1), (('anemic', 'ADJ'), 1), (('tendering', 'VERB'), 1), (('99.3', 'NUM'), 1), (('3.55', 'NUM'), 1), (('1.4', 'NUM'), 1), (('unresolved', 'ADJ'), 1), (('Jon', 'NOUN'), 1), (('Peters', 'NOUN'), 1), (('Guber', 'NOUN'), 1), (('laying', 'VERB'), 1), (('centralized', 'VERB'), 1), (('492', 'NUM'), 1), (('4.55', 'NUM'), 1), (('12.97', 'NUM'), 1), (('financial-services', 'ADJ'), 1), (('Property\\\\/casualty', 'NOUN'), 1), (('disasters', 'NOUN'), 1), (('unconsolidated', 'ADJ'), 1), (('Sept.30', 'NUM'), 1), (('16.68', 'NUM'), 1), (('116.7', 'NUM'), 1), (('12.68', 'NUM'), 1), (('292.32', 'NUM'), 1), (('263.07', 'NUM'), 1), (('7.63', 'NUM'), 1), (('5.82', 'NUM'), 1), (('Per-share', 'ADJ'), 1), (('7.84', 'NUM'), 1), (('6.53', 'NUM'), 1), (('Brisk', 'ADJ'), 1), (('Domestic', 'ADJ'), 1), (('bulldozers', 'NOUN'), 1), (('142.84', 'NUM'), 1), (('126.15', 'NUM'), 1), (('Demand', 'NOUN'), 1), (('due', 'ADV'), 1), (('climb', 'VERB'), 1), (('566.54', 'NUM'), 1), (('28.53', 'NUM'), 1), (('12.82', 'NUM'), 1), (('ECONOMIC', 'ADJ'), 1), (('GROWTH', 'NOUN'), 1), (('APPEARS', 'VERB'), 1), (('outlays', 'NOUN'), 1), (('apparent', 'ADJ'), 1), (('drops', 'NOUN'), 1), (('crises', 'NOUN'), 1), (('55-a-share', 'ADJ'), 1), (('steps', 'VERB'), 1), (('minimum-wage', 'NOUN'), 1), (('resigning', 'VERB'), 1), (('depends', 'VERB'), 1), (('Light', 'NOUN'), 1), (('1206.26', 'NUM'), 1), (('220.45', 'NUM'), 1), (('3436.58', 'NUM'), 1), (('Commodities', 'NOUN'), 1), (('129.91', 'NUM'), 1), (('0.28', 'NUM'), 1), (('131.01', 'NUM'), 1), (('1.17', 'NUM'), 1), (('0.95', 'NUM'), 1), (('0.0085', 'NUM'), 1), (('Junk-bond', 'NOUN'), 1), (('fizzled', 'VERB'), 1), (('pall', 'NOUN'), 1), (('high-rolling', 'ADJ'), 1), (('43-year-old', 'ADJ'), 1), (('12.7', 'NUM'), 1), (('Bears', 'NOUN'), 1), (('shaky', 'ADJ'), 1), (('fault', 'VERB'), 1), (('flies', 'VERB'), 1), (('planes', 'NOUN'), 1), (('might', 'NOUN'), 1), (('restructure', 'VERB'), 1), (('salable', 'ADJ'), 1), (('458', 'NUM'), 1), (('cushion', 'NOUN'), 1), (('Lindner', 'NOUN'), 1), (('Irwin', 'NOUN'), 1), (('Jacobs', 'NOUN'), 1), (('latter', 'NOUN'), 1), (('mulling', 'VERB'), 1), (('mitigate', 'VERB'), 1), (('merchant', 'ADJ'), 1), (('distinct', 'ADJ'), 1), (('reserved', 'VERB'), 1), (('227', 'NUM'), 1), (('till', 'ADP'), 1), (('issuer', 'NOUN'), 1), (('bust', 'NOUN'), 1), (('restructures', 'VERB'), 1), (('longtime', 'NOUN'), 1), (('battered', 'VERB'), 1), (('Gillett', 'NOUN'), 1), (('Possibly', 'ADV'), 1), (('unrealized', 'ADJ'), 1), (('restructurings', 'NOUN'), 1), (('balloon', 'NOUN'), 1), (('floated', 'VERB'), 1), (('Mellon', 'NOUN'), 1), (('shopped', 'VERB'), 1), (('spun', 'VERB'), 1), (('workable', 'ADJ'), 1), (('capitalize', 'VERB'), 1), (('bread-and-butter', 'ADJ'), 1), (('Sanford', 'NOUN'), 1), (('Pauline', 'NOUN'), 1), (('Yoshihashi', 'NOUN'), 1), (('NYSE', 'NOUN'), 1), (('Symbol', 'NOUN'), 1), (('CSV', 'NOUN'), 1), (('1.49', 'NUM'), 1), (('Third', 'ADJ'), 1), (('11.57', 'NUM'), 1), (('vs.', 'CONJ'), 1), (('83,206', 'NUM'), 1), (('Note', 'VERB'), 1), (('per-share', 'ADJ'), 1), (('protein', 'NOUN'), 1), (('recombinant', 'ADJ'), 1), (('DNA', 'NOUN'), 1), (('Sandoz', 'NOUN'), 1), (('preclinical', 'ADJ'), 1), (('marrow', 'NOUN'), 1), (('blood-cell', 'NOUN'), 1), (('protein-1', 'NOUN'), 1), (('induce', 'VERB'), 1), (('formation', 'NOUN'), 1), (('compositions', 'NOUN'), 1), (('defects', 'NOUN'), 1), (('fracture', 'NOUN'), 1), (('healing', 'NOUN'), 1), (('periodontal', 'ADJ'), 1), (('cancers', 'NOUN'), 1), (('Clarence', 'NOUN'), 1), (('qualified', 'ADJ'), 1), (('Judiciary', 'NOUN'), 1), (('liberal', 'ADJ'), 1), (('Equal', 'NOUN'), 1), (('Employment', 'NOUN'), 1), (('Opportunity', 'NOUN'), 1), (('Groups', 'NOUN'), 1), (('advocating', 'VERB'), 1), (('discrimination', 'NOUN'), 1), (('Fourteen', 'NUM'), 1), (('jurisdiction', 'NOUN'), 1), (('EEOC', 'NOUN'), 1), (('judgment', 'NOUN'), 1), (('Runkel', 'NOUN'), 1), (('rating', 'VERB'), 1), (('nominees', 'NOUN'), 1), (('satisfactorily', 'ADV'), 1), (('bench', 'NOUN'), 1), (('vacancy', 'NOUN'), 1), (('Ferdinand', 'NOUN'), 1), (('Germany-based', 'ADJ'), 1), (('boilers', 'NOUN'), 1), (('pipes', 'NOUN'), 1), (('Lurgi', 'NOUN'), 1), (('G.m.b', 'NOUN'), 1), (('engineering', 'VERB'), 1), (('shedding', 'VERB'), 1), (('434.4', 'NUM'), 1), (('injuring', 'VERB'), 1), (('investigate', 'VERB'), 1), (('sweater', 'NOUN'), 1), (('defines', 'VERB'), 1), (('assess', 'VERB'), 1), (('apparel', 'NOUN'), 1), (('agreements', 'NOUN'), 1), (('manmade-fiber', 'ADJ'), 1), (('405', 'NUM'), 1), (('Wilmington', 'NOUN'), 1), (('neoprene', 'NOUN'), 1), (('rubber', 'NOUN'), 1), (('estimate', 'VERB'), 1), (('implementation', 'NOUN'), 1), (('Theodore', 'NOUN'), 1), (('headcount-control', 'NOUN'), 1), (('questioned', 'VERB'), 1), (('cosmetic', 'ADJ'), 1), (('Gelles', 'NOUN'), 1), (('Wertheim', 'NOUN'), 1), (('Schroder', 'NOUN'), 1), (('trim', 'VERB'), 1), (('275', 'NUM'), 1), (('350', 'NUM'), 1), (('21,000', 'NUM'), 1), (('87.5', 'NUM'), 1), (('38.875', 'NUM'), 1), (('bidder', 'NOUN'), 1), (('shareholder-rights', 'ADJ'), 1), (('unwanted', 'ADJ'), 1), (('suitors', 'NOUN'), 1), (('cost-control', 'ADJ'), 1), (('staff-reduction', 'NOUN'), 1), (('trimmed', 'VERB'), 1), (('INTER-TEL', 'NOUN'), 1), (('Chapman', 'NOUN'), 1), (('WayMar', 'NOUN'), 1), (('Holt', 'NOUN'), 1), (('326', 'NUM'), 1), (('19.95', 'NUM'), 1), (('detailed', 'VERB'), 1), (('reassuring', 'ADJ'), 1), (('preface', 'NOUN'), 1), (('integrity', 'NOUN'), 1), (('trip', 'NOUN'), 1), (('mindful', 'ADJ'), 1), (('plaintive', 'ADJ'), 1), (('high-minded', 'ADJ'), 1), (('assurance', 'NOUN'), 1), (('reading', 'VERB'), 1), (('sticky', 'ADJ'), 1), (('fingers', 'NOUN'), 1), (('sweaty', 'ADJ'), 1), (('Bribe', 'NOUN'), 1), (('bribe', 'NOUN'), 1), (('Matthew', 'NOUN'), 1), (('Harrison', 'NOUN'), 1), (('path', 'NOUN'), 1), (('traveled', 'VERB'), 1), (('inception', 'NOUN'), 1), (('full-fledged', 'ADJ'), 1), (('vital', 'ADJ'), 1), (('revolves', 'VERB'), 1), (('rolling', 'VERB'), 1), (('Johnson-era', 'NOUN'), 1), (('mandates', 'VERB'), 1), (('noncompetitively', 'ADV'), 1), (('ancestry', 'NOUN'), 1), (('born', 'VERB'), 1), (('Puerto', 'NOUN'), 1), (('Rico', 'NOUN'), 1), (('falsify', 'VERB'), 1), (('50\\\\/50', 'NUM'), 1), (('races', 'NOUN'), 1), (('minority-owned', 'ADJ'), 1), (('blighted', 'ADJ'), 1), (('famous', 'ADJ'), 1), (('Jimmy', 'NOUN'), 1), (('plugged', 'VERB'), 1), (('rebuilding', 'VERB'), 1), ((\"'80s\", 'NUM'), 1), (('Starting', 'VERB'), 1), (('Congressman', 'NOUN'), 1), (('Mario', 'NOUN'), 1), (('Biaggi', 'NOUN'), 1), (('sentence', 'NOUN'), 1), (('bribing', 'VERB'), 1), (('Wallach', 'NOUN'), 1), (('Attorney', 'NOUN'), 1), (('Meese', 'NOUN'), 1), (('fashioned', 'VERB'), 1), (('bribery', 'NOUN'), 1), (('peddling', 'NOUN'), 1), (('politically', 'ADV'), 1), (('respectable', 'ADJ'), 1), (('confidant', 'NOUN'), 1), (('Lyn', 'NOUN'), 1), (('Nofzinger', 'NOUN'), 1), (('merit', 'NOUN'), 1), (('corrupt', 'ADJ'), 1), (('scheme', 'NOUN'), 1), (('bag', 'NOUN'), 1), (('crook', 'NOUN'), 1), (('cold', 'NOUN'), 1), (('befell', 'VERB'), 1), (('semiliterate', 'ADJ'), 1), (('sensational', 'ADJ'), 1), (('revelations', 'NOUN'), 1), (('breezy', 'ADJ'), 1), (('easy-to-read', 'ADJ'), 1), (('writing', 'NOUN'), 1), (('gripping', 'ADJ'), 1), (('scams', 'NOUN'), 1), (('ingenuity', 'NOUN'), 1), (('Auditors', 'NOUN'), 1), (('crookery', 'NOUN'), 1), (('garden-variety', 'NOUN'), 1), (('lifes', 'NOUN'), 1), (('Mercedes', 'NOUN'), 1), (('clothes', 'NOUN'), 1), (('wrestling', 'VERB'), 1), (('intelligent', 'ADJ'), 1), (('insane', 'ADJ'), 1), (('Irving', 'NOUN'), 1), (('Lobsenz', 'NOUN'), 1), (('pediatrician', 'NOUN'), 1), (('Rusty', 'NOUN'), 1), (('gambler', 'NOUN'), 1), (('blackjack', 'NOUN'), 1), (('arrested', 'VERB'), 1), (('Absorbed', 'VERB'), 1), (('doling', 'VERB'), 1), (('tidbits', 'NOUN'), 1), (('gloss', 'VERB'), 1), (('root', 'NOUN'), 1), (('auspices', 'NOUN'), 1), (('rigid', 'ADJ'), 1), (('affirmative', 'ADJ'), 1), (('Programs', 'NOUN'), 1), (('expressing', 'VERB'), 1), (('thieves', 'NOUN'), 1), (('by', 'PRT'), 1), (('scoop', 'VERB'), 1), (('Numerous', 'ADJ'), 1), (('scandals', 'NOUN'), 1), (('HUD', 'NOUN'), 1), (('characteristics', 'NOUN'), 1), (('tailor-made', 'ADJ'), 1), (('insider', 'NOUN'), 1), (('whenever', 'ADV'), 1), (('redistributing', 'VERB'), 1), (('influencing', 'VERB'), 1), (('brokering', 'VERB'), 1), (('bloc', 'NOUN'), 1), (('Nomenklatura', 'NOUN'), 1), (('line', 'VERB'), 1), (('Stern', 'NOUN'), 1), (('Urban', 'NOUN'), 1), (('1983-85', 'NUM'), 1), (('bankrupt', 'ADJ'), 1), (('form', 'VERB'), 1), (('Everything', 'NOUN'), 1), (('Christian', 'NOUN'), 1), (('Andersson', 'NOUN'), 1), (('finalized', 'VERB'), 1), (('state-appointed', 'ADJ'), 1), (('receivers', 'NOUN'), 1), (('lease', 'VERB'), 1), (('Subcontractors', 'NOUN'), 1), (('swift', 'NOUN'), 1), (('avert', 'VERB'), 1), (('skilled', 'ADJ'), 1), (('shipyards', 'NOUN'), 1), (('injecting', 'VERB'), 1), (('Customers', 'NOUN'), 1), (('undelivered', 'ADJ'), 1), (('170', 'NUM'), 1), (('Helsinki', 'NOUN'), 1), (('dashed', 'VERB'), 1), (('repay', 'VERB'), 1), (('Concurrent', 'ADJ'), 1), (('Norfolk', 'NOUN'), 1), (('sputtered', 'VERB'), 1), (('Purina', 'NOUN'), 1), (('45.2', 'NUM'), 1), (('84.9', 'NUM'), 1), (('1.24', 'NUM'), 1), (('422.5', 'NUM'), 1), (('6.44', 'NUM'), 1), (('387.8', 'NUM'), 1), (('5.63', 'NUM'), 1), (('70.2', 'NUM'), 1), (('seafood', 'NOUN'), 1), (('5.8', 'NUM'), 1), (('phase-out', 'NOUN'), 1), (('Hostess', 'NOUN'), 1), (('bakery', 'NOUN'), 1), (('rechargeable', 'ADJ'), 1), (('cadmium', 'NOUN'), 1), (('carbon', 'NOUN'), 1), (('zinc', 'NOUN'), 1), (('ingredients', 'NOUN'), 1), (('cereal', 'NOUN'), 1), (('Continental', 'NOUN'), 1), (('Baking', 'NOUN'), 1), (('bread', 'NOUN'), 1), (('Eveready', 'NOUN'), 1), (('80.50', 'NUM'), 1), (('Companies', 'NOUN'), 1), (('five-cent', 'ADJ'), 1), (('percent', 'NOUN'), 1), (('Otherwise', 'ADV'), 1), (('300-day', 'ADJ'), 1), (('55.1', 'NUM'), 1), (('cash-and-stock', 'ADJ'), 1), (('Ravenswood', 'NOUN'), 1), (('corn-buying', 'ADJ'), 1), (('binge', 'NOUN'), 1), (('bottlenecks', 'NOUN'), 1), (('pipeline', 'NOUN'), 1), (('trains', 'NOUN'), 1), (('harvested', 'VERB'), 1), (('loading', 'VERB'), 1), (('reaping', 'VERB'), 1), (('windfall', 'NOUN'), 1), (('gyrate', 'VERB'), 1), (('scrounge', 'VERB'), 1), (('strain', 'NOUN'), 1), (('Dunton', 'NOUN'), 1), (('real', 'ADV'), 1), (('upper', 'ADJ'), 1), (('trimming', 'VERB'), 1), (('tows', 'NOUN'), 1), (('south', 'ADV'), 1), (('feeds', 'VERB'), 1), (('reservoirs', 'NOUN'), 1), (('Barge', 'NOUN'), 1), (('sank', 'VERB'), 1), (('alleviate', 'VERB'), 1), (('slowed', 'VERB'), 1), (('Similar', 'ADJ'), 1), (('hamstrung', 'VERB'), 1), (('budding', 'VERB'), 1), (('logistical', 'ADJ'), 1), (('2.375', 'NUM'), 1), (('rebuild', 'VERB'), 1), (('depleted', 'VERB'), 1), (('winding', 'VERB'), 1), (('speculating', 'VERB'), 1), (('gather', 'VERB'), 1), (('permits', 'VERB'), 1), (('2.15', 'NUM'), 1), (('Lyle', 'NOUN'), 1), (('Waterloo', 'NOUN'), 1), (('projects', 'VERB'), 1), (('one-fifth', 'NOUN'), 1), (('Biedermann', 'NOUN'), 1), (('Allendale', 'NOUN'), 1), (('train', 'NOUN'), 1), (('port', 'NOUN'), 1), (('Ports', 'NOUN'), 1), (('Lakes', 'NOUN'), 1), (('Coast', 'NOUN'), 1), (('relieve', 'VERB'), 1), (('hauling', 'VERB'), 1), (('compressed', 'VERB'), 1), (('delayed', 'VERB'), 1), (('refinery', 'NOUN'), 1), (('tightening', 'VERB'), 1), (('Heating', 'NOUN'), 1), (('58.64', 'NUM'), 1), (('19.94', 'NUM'), 1), (('sell-off', 'NOUN'), 1), (('PRECIOUS', 'NOUN'), 1), (('METALS', 'NOUN'), 1), (('3.20', 'NUM'), 1), (('377.60', 'NUM'), 1), (('silver', 'NOUN'), 1), (('6.50', 'NUM'), 1), (('5.2180', 'NUM'), 1), (('5.70', 'NUM'), 1), (('494.50', 'NUM'), 1), (('Precious', 'ADJ'), 1), (('influenced', 'VERB'), 1), ((\"O'Neill\", 'NOUN'), 1), (('Elders', 'NOUN'), 1), (('equities', 'NOUN'), 1), (('warehouses', 'NOUN'), 1), (('170,262', 'NUM'), 1), (('226,570,380', 'NUM'), 1), (('miners', 'NOUN'), 1), (('1.20', 'NUM'), 1), (('1.14', 'NUM'), 1), (('Bronces', 'NOUN'), 1), (('Soldado', 'NOUN'), 1), (('Exxon-owned', 'ADJ'), 1), (('Minera', 'NOUN'), 1), (('Disputada', 'NOUN'), 1), (('Reasons', 'NOUN'), 1), (('walkout', 'NOUN'), 1), (('procedural', 'ADJ'), 1), (('upbeat', 'ADJ'), 1), (('mood', 'NOUN'), 1), (('precedes', 'VERB'), 1), (('51.6', 'NUM'), 1), (('readings', 'NOUN'), 1), (('47.1', 'NUM'), 1), (('points', 'VERB'), 1), (('NCR', 'NOUN'), 1), (('midrange', 'ADJ'), 1), (('networking', 'NOUN'), 1), (('hub', 'NOUN'), 1), (('Novell', 'NOUN'), 1), (('NetWare', 'NOUN'), 1), (('like', 'ADJ'), 1), (('riding', 'VERB'), 1), (('industrywide', 'ADJ'), 1), (('chunks', 'NOUN'), 1), (('Marcus', 'NOUN'), 1), (('appliance', 'NOUN'), 1), (('Lorain', 'NOUN'), 1), (('50-50', 'NUM'), 1), (('joint', 'NOUN'), 1), (('Kobe', 'NOUN'), 1), (('earning', 'VERB'), 1), (('Bethlehem', 'NOUN'), 1), (('54', 'NUM'), 1), (('Inland', 'NOUN'), 1), (('plummeted', 'VERB'), 1), (('34.625', 'NUM'), 1), (('exceeded', 'VERB'), 1), (('projections', 'NOUN'), 1), (('Bradford', 'NOUN'), 1), (('richer', 'ADJ'), 1), (('pipe', 'NOUN'), 1), (('galvanized', 'ADJ'), 1), (('coated', 'VERB'), 1), (('lower-priced', 'ADJ'), 1), (('structural', 'ADJ'), 1), (('Marathon', 'NOUN'), 1), (('198', 'NUM'), 1), (('red', 'NOUN'), 1), (('soliciting', 'VERB'), 1), (('TXO', 'NOUN'), 1), (('Proceeds', 'NOUN'), 1), (('15.5', 'NUM'), 1), (('257', 'NUM'), 1), (('13.1', 'NUM'), 1), (('721', 'NUM'), 1), (('2.62', 'NUM'), 1), (('598', 'NUM'), 1), (('2.07', 'NUM'), 1), (('Barrett', 'NOUN'), 1), (('Leon', 'NOUN'), 1), (('Level', 'NOUN'), 1), (('McFarlan', 'NOUN'), 1), (('DiLoreto', 'NOUN'), 1), (('container', 'NOUN'), 1), (('Delmont', 'NOUN'), 1), (('constitutional-law', 'NOUN'), 1), (('Professors', 'NOUN'), 1), (('Laurence', 'NOUN'), 1), (('scuttle', 'VERB'), 1), (('implicitly', 'ADV'), 1), (('ends', 'NOUN'), 1), (('spectrum', 'NOUN'), 1), (('liberal', 'NOUN'), 1), (('authorizes', 'VERB'), 1), (('partial', 'ADJ'), 1), (('Civil', 'NOUN'), 1), (('shared', 'VERB'), 1), (('lawmaking', 'ADJ'), 1), (('supports', 'VERB'), 1), (('reckless', 'ADJ'), 1), (('railcar', 'NOUN'), 1), (('platforms', 'NOUN'), 1), (('Trailer', 'NOUN'), 1), (('Train', 'NOUN'), 1)]\n",
            "['is', 'said', 'was', 'are', 'be', 'has', 'have', 'will', 'says', 'would', 'were', 'had', 'been', 'could', \"'s\", 'can', 'do', 'say', 'make', 'may', 'did', 'rose', 'made', 'does', 'expected', 'buy', 'take', 'get', 'might', 'sell', 'added', 'sold', 'help', 'including', 'should', 'reported', 'according', 'pay', 'compared', 'being', 'fell', 'began', 'based', 'used', 'closed', \"'re\", 'want', 'see', 'took', 'yield', 'offered', 'set', 'priced', 'approved', 'come', 'noted', 'cut', 'ended', 'found', 'increased', 'become', 'think', 'named', 'go', 'trying', 'proposed', 'received', 'growing', 'declined', 'held', 'give', 'came', 'use', 'put', 'making', 'continue', 'raise', 'estimated', 'called', 'paid', 'designed', 'going', 'expects', 'seeking', 'must', 'plans', 'wo', 'increasing', 'saying', 'got', 'owns', 'trading', 'acquired', 'gained', 'fined', 'reached', 'holding', 'announced', 'filed', 'became']\n"
          ]
        }
      ]
    },
    {
      "cell_type": "markdown",
      "metadata": {
        "id": "50p_ssKqVlLZ"
      },
      "source": [
        "単語とタグはペアになっているため、単語を条件として、タグをイベントとして処理し、条件とイベントのペアのリストを使用して条件付き頻度分布を初期化できます。これにより、単語が指定されたタグの頻度順リストが表示されます。"
      ]
    },
    {
      "cell_type": "code",
      "metadata": {
        "colab": {
          "base_uri": "https://localhost:8080/"
        },
        "id": "NkygEq1zVlLZ",
        "outputId": "824d495a-54a0-4425-b9fe-6f0f60ee613e"
      },
      "source": [
        "cfd1 = nltk.ConditionalFreqDist(wsj)\n",
        "print(cfd1['yield'].most_common())\n",
        "print(cfd1['cut'].most_common())"
      ],
      "execution_count": null,
      "outputs": [
        {
          "output_type": "stream",
          "name": "stdout",
          "text": [
            "[('VERB', 28), ('NOUN', 20)]\n",
            "[('VERB', 25), ('NOUN', 3)]\n"
          ]
        }
      ]
    },
    {
      "cell_type": "markdown",
      "metadata": {
        "id": "LsPe5jJvVlLZ"
      },
      "source": [
        "タグが条件として、単語がイベントとするように、ペアの順序を逆にすることができます。これで、指定されたタグに当てはまる単語を確認できます。"
      ]
    },
    {
      "cell_type": "code",
      "metadata": {
        "colab": {
          "base_uri": "https://localhost:8080/"
        },
        "id": "Z6Wcylj_VlLa",
        "outputId": "11db7845-0cef-43ef-b4c9-5bea98ccb238"
      },
      "source": [
        "wsj = nltk.corpus.treebank.tagged_words()\n",
        "cfd1 = nltk.ConditionalFreqDist(wsj)\n",
        "cfd2 = nltk.ConditionalFreqDist((tag, word) for (word, tag) in wsj)\n",
        "print(list(cfd2['VBN'])[:100])"
      ],
      "execution_count": null,
      "outputs": [
        {
          "output_type": "stream",
          "name": "stdout",
          "text": [
            "['named', 'used', 'caused', 'exposed', 'reported', 'replaced', 'sold', 'died', 'expected', 'diagnosed', 'studied', 'industrialized', 'owned', 'found', 'classified', 'rejected', 'outlawed', 'imported', 'tracked', 'thought', 'considered', 'elected', 'based', 'lifted', 'ensnarled', 'voted', 'been', 'held', 'banned', 'renovated', 'prolonged', 'recorded', 'accumulated', 'offered', 'become', 'guaranteed', 'proposed', 'related', 'improved', 'worried', 'cluttered', 'expedited', 'retired', 'ordered', 'collected', 'required', 'received', 'moved', 'determined', 'made', 'changed', 'completed', 'disputed', 'refunded', 'estimated', 'compared', 'located', 'filed', 'scrapped', 'anticipated', 'priced', 'set', 'applied', 'existed', 'incurred', 'reached', 'Regarded', 'paid', 'trained', 'instituted', 'vowed', 'deemed', 'combined', 'removed', 'concerned', 'complained', 'accelerated', 'believed', 'called', 'solved', 'forgiven', 'launched', 'built', 'preferred', 'raised', 'scheduled', 'brought', 'increased', 'developed', 'led', 'approved', 'produced', 'denied', 'requested', 'covered', 'assembled', 'achieved', 'maintained', 'left', 'assisted']\n"
          ]
        }
      ]
    },
    {
      "cell_type": "markdown",
      "metadata": {
        "id": "aSmKVHHeVlLb"
      },
      "source": [
        "VBD（過去時制）とVBN （過去分詞）の違いを明確にするために、VBDと VBNの両方になり得る単語を見つけて、周囲のテキストを見てみましょう。"
      ]
    },
    {
      "cell_type": "code",
      "metadata": {
        "colab": {
          "base_uri": "https://localhost:8080/"
        },
        "id": "cfxXiGoLVlLc",
        "outputId": "e4c581ae-b0c4-459d-b268-3939e9fdc919"
      },
      "source": [
        "print([w for w in cfd1.conditions() if 'VBD' in cfd1[w] and 'VBN' in cfd1[w]])\n",
        "idx1 = wsj.index(('kicked', 'VBD'))\n",
        "print('kicked-VBD; ', wsj[idx1-4:idx1+1])\n",
        "idx2 = wsj.index(('kicked', 'VBN'))\n",
        "print('kicked-VBS; ', wsj[idx2-4:idx2+1])"
      ],
      "execution_count": null,
      "outputs": [
        {
          "output_type": "stream",
          "text": [
            "['named', 'used', 'caused', 'reported', 'said', 'stopped', 'heard', 'studied', 'led', 'replaced', 'sold', 'worked', 'died', 'found', 'rejected', 'imposed', 'made', 'dumped', 'imported', 'mixed', 'described', 'continued', 'ended', 'thought', 'reached', 'had', 'approved', 'completed', 'suspended', 'lifted', 'dropped', 'voted', 'settled', 'decided', 'followed', 'welcomed', 'held', 'banned', 'pointed', 'squeezed', 'fed', 'registered', 'released', 'increased', 'forecast', 'recorded', 'announced', 'offered', 'lowered', 'spent', 'proposed', 'got', 'added', 'noted', 'turned', 'closed', 'retired', 'ordered', 'required', 'received', 'moved', 'determined', 'changed', 'upheld', 'set', 'estimated', 'compared', 'opened', 'tied', 'filed', 'disclosed', 'anticipated', 'attached', 'called', 'applied', 'favored', 'posted', 'paid', 'removed', 'accelerated', 'placed', 'vowed', 'deemed', 'prompted', 'complained', 'believed', 'met', 'solved', 'launched', 'built', 'triggered', 'developed', 'entered', 'acquired', 'preferred', 'raised', 'scheduled', 'brought', 'started', 'produced', 'denied', 'covered', 'maintained', 'left', 'cut', 'bought', 'snapped', 'put', 'boosted', 'issued', 'agreed', 'surged', 'ranged', 'kicked', 'scrambled', 'plunged', 'climbed', 'invested', 'jumped', 'owed', 'lent', 'stressed', 'failed', 'indicated', 'asked', 'intended', 'helped', 'awarded', 'purchased', 'provided', 'polled', 'included', 'blamed', 'contributed', 'read', 'fired', 'committed', 'learned', 'carried', 'identified', 'endorsed', 'renewed', 'confirmed', 'terminated', 'planned', 'contained', 'condemned', 'managed', 'viewed', 'needed', 'killed', 'presented', 'speculated', 'hit', 'opposed', 'refused', 'wanted', 'created', 'introduced', 'accused', 'tried', 'involved', 'responded', 'quoted', 'tripled', 'passed', 'matched', 'won', 'treated', 'alleged', 'concluded', 'surfaced', 'restructured', 'advised', 'told', 'feared', 'meant', 'returned', 'advanced', 'discovered', 'dismissed', 'allowed', 'aimed', 'referred', 'represented', 'threatened', 'controlled', 'hampered', 'nominated', 'assured', 'damaged', 'gained', 'merged', 'signed', 'lost', 'argued', 'sent', 'formed', 'obtained', 'mounted', 'adopted', 'sparked', 'served', 'understood', 'accepted', 'fueled', 'limited', 'Asked', 'extended', 'kept', 'rolled', 'chastised', 'printed', 'expanded', 'sweetened', 'barred', 'reduced', 'declared', 'soared', 'remarked', 'forced', 'stated', 'finished', 'eliminated', 'cited', 'collapsed', 'earned', 'licensed', 'secured', 'omitted', 'assumed', 'stepped', 'switched', 'felt', 'expressed', 'discussed', 'invented', 'observed', 'hired', 'expelled', 'consented', 'backed', 'reflected', 'sought', 'negotiated', 'resulted', 'proved', 'examined', 'dominated', 'pushed', 'supported', 'attributed', 'attempted', 'obligated', 'halted', 'transformed', 'marketed', 'rated', 'warned', 'edged', 'bribed']\n",
            "kicked-VBD;  [('While', 'IN'), ('program', 'NN'), ('trades', 'NNS'), ('swiftly', 'RB'), ('kicked', 'VBD')]\n",
            "kicked-VBS;  [('head', 'NN'), ('of', 'IN'), ('state', 'NN'), ('has', 'VBZ'), ('kicked', 'VBN')]\n"
          ],
          "name": "stdout"
        }
      ]
    },
    {
      "cell_type": "markdown",
      "metadata": {
        "id": "WfuRV4T7VlLc"
      },
      "source": [
        "この場合、kickの過去分詞の前に、助動詞haveの形式があります。これは一般的に本当だろうか？"
      ]
    },
    {
      "cell_type": "markdown",
      "metadata": {
        "id": "mAvc32B5VlLd"
      },
      "source": [
        "### 5.2.6. Adjectives and Adverbs\n",
        "形容詞は名詞を説明し、または述語となる機能を持ちます。英語の形容詞は、内部構造を持ちます。副詞は動詞で記述されているイベントの時間、方法、場所や方向を指定するために動詞を変更する機能を持ちます。\n",
        "\n",
        "### 5.2.7. Unsimplified Tags\n",
        "各名詞の品詞タイプの中で最も頻繁に使用される名詞を見つけましょう。以下のプログラムは、NNで始まるすべてのタグを検出し、各タグにいくつかのサンプル単語を提供します。NNには多くのバリアントがあることがわかります。最も重要なものには 、所有名詞の場合は$、複数名詞の場合はS（複数名詞は通常sで終わるため）、および固有名詞の場合はPが含まれます。また、タグのほとんどは、接尾辞の修飾子があります。"
      ]
    },
    {
      "cell_type": "code",
      "metadata": {
        "colab": {
          "base_uri": "https://localhost:8080/"
        },
        "id": "3w7fvbHQVlLd",
        "outputId": "5c971e8c-9ad1-431b-fc58-3e78d855cd7d"
      },
      "source": [
        "def findtags(tag_prefix, tagged_text):\n",
        "    cfd = nltk.ConditionalFreqDist((tag, word) for (word, tag) in tagged_text\n",
        "                                  if tag.startswith(tag_prefix))\n",
        "    return dict((tag, cfd[tag].most_common(5)) for tag in cfd.conditions())\n",
        "\n",
        "tagdict = findtags('NN', nltk.corpus.brown.tagged_words(categories='news'))\n",
        "for tag in sorted(tagdict):\n",
        "    print(tag, tagdict[tag])"
      ],
      "execution_count": null,
      "outputs": [
        {
          "output_type": "stream",
          "text": [
            "NN [('year', 137), ('time', 97), ('state', 88), ('week', 85), ('man', 72)]\n",
            "NN$ [(\"year's\", 13), (\"world's\", 8), (\"state's\", 7), (\"nation's\", 6), (\"city's\", 6)]\n",
            "NN$-HL [(\"Golf's\", 1), (\"Navy's\", 1)]\n",
            "NN$-TL [(\"President's\", 11), (\"Administration's\", 3), (\"Army's\", 3), (\"League's\", 3), (\"University's\", 3)]\n",
            "NN-HL [('sp.', 2), ('problem', 2), ('Question', 2), ('cut', 2), ('party', 2)]\n",
            "NN-NC [('ova', 1), ('eva', 1), ('aya', 1)]\n",
            "NN-TL [('President', 88), ('House', 68), ('State', 59), ('University', 42), ('City', 41)]\n",
            "NN-TL-HL [('Fort', 2), ('Mayor', 1), ('Commissioner', 1), ('City', 1), ('Oak', 1)]\n",
            "NNS [('years', 101), ('members', 69), ('people', 52), ('sales', 51), ('men', 46)]\n",
            "NNS$ [(\"children's\", 7), (\"women's\", 5), (\"men's\", 3), (\"janitors'\", 3), (\"taxpayers'\", 2)]\n",
            "NNS$-HL [(\"Dealers'\", 1), (\"Idols'\", 1)]\n",
            "NNS$-TL [(\"Women's\", 4), (\"States'\", 3), (\"Giants'\", 2), (\"Princes'\", 1), (\"Bombers'\", 1)]\n",
            "NNS-HL [('Wards', 1), ('deputies', 1), ('bonds', 1), ('aspects', 1), ('Decisions', 1)]\n",
            "NNS-TL [('States', 38), ('Nations', 11), ('Masters', 10), ('Communists', 9), ('Rules', 9)]\n",
            "NNS-TL-HL [('Nations', 1)]\n"
          ],
          "name": "stdout"
        }
      ]
    },
    {
      "cell_type": "markdown",
      "metadata": {
        "id": "R0AMZe6MVlLe"
      },
      "source": [
        "### 5.2.8. Exploring Tagged Corpora\n",
        "(★ Assignment Remark) 前の章で見たコーパスの種類の探索に簡単に戻りましょう。今回はPOSタグを活用します。  \n",
        "'Learned'の単語の頻度を見て、テキストでどのように使用されているかを確認したいとします。これは、頻繁に続く言葉を抽出するようにします。\n"
      ]
    },
    {
      "cell_type": "code",
      "metadata": {
        "colab": {
          "base_uri": "https://localhost:8080/"
        },
        "id": "-73p-6uEVlLe",
        "outputId": "16e9f93e-5e6b-4a88-d158-4746953cd1a9"
      },
      "source": [
        "brown_learned_text = brown.words(categories='learned')\n",
        "print(sorted(set(b for (a, b) in nltk.bigrams(brown_learned_text) if a == 'often')))"
      ],
      "execution_count": null,
      "outputs": [
        {
          "output_type": "stream",
          "name": "stdout",
          "text": [
            "[',', '.', 'accomplished', 'analytically', 'appear', 'apt', 'associated', 'assuming', 'became', 'become', 'been', 'began', 'call', 'called', 'carefully', 'chose', 'classified', 'colorful', 'composed', 'contain', 'differed', 'difficult', 'encountered', 'enough', 'equate', 'extremely', 'found', 'happens', 'have', 'ignored', 'in', 'involved', 'more', 'needed', 'nightly', 'observed', 'of', 'on', 'out', 'quite', 'represent', 'responsible', 'revamped', 'seclude', 'set', 'shortened', 'sing', 'sounded', 'stated', 'still', 'sung', 'supported', 'than', 'to', 'when', 'work']\n"
          ]
        }
      ]
    },
    {
      "cell_type": "code",
      "metadata": {
        "colab": {
          "base_uri": "https://localhost:8080/"
        },
        "id": "gtAWAxwaVlLf",
        "outputId": "fd6d3169-960d-40bb-f27c-65ce28c6e580"
      },
      "source": [
        "brown_lrnd_tagged = brown.tagged_words(categories='learned', tagset='universal')\n",
        "tags = [b[1] for (a, b) in nltk.bigrams(brown_lrnd_tagged) if a[0] == 'often']\n",
        "fd = nltk.FreqDist(tags)\n",
        "fd.tabulate()"
      ],
      "execution_count": null,
      "outputs": [
        {
          "output_type": "stream",
          "name": "stdout",
          "text": [
            "VERB  ADV  ADP  ADJ    .  PRT \n",
            "  37    8    7    6    4    2 \n"
          ]
        }
      ]
    },
    {
      "cell_type": "markdown",
      "metadata": {
        "id": "tbcGulyHVlLg"
      },
      "source": [
        "より大きなコンテキストを見て、タグと単語の特定のシーケンスを含む単語（この場合は\"<Verb> to <Verb>\"）を見つけましょう。"
      ]
    },
    {
      "cell_type": "code",
      "metadata": {
        "colab": {
          "base_uri": "https://localhost:8080/"
        },
        "id": "OK5K8dh3VlLg",
        "outputId": "57a8266c-bd32-4bb8-f1ce-b20455ee36be"
      },
      "source": [
        "from nltk.corpus import brown\n",
        "\n",
        "list1 = [] # for counting <verb> to <verb> expression\n",
        "def process(sentence):\n",
        "    for (w1,t1), (w2,t2), (w3,t3) in nltk.trigrams(sentence):\n",
        "        if (t1.startswith('V') and t2 == 'TO' and t3.startswith('V')):\n",
        "            print(w1, w2, w3)\n",
        "            list1.append((w1,w2,w3))\n",
        "for tagged_sent in brown.tagged_sents()[:100]: # [:100]で出力結果を100件まで絞っている。全て抽出したい場合はここを消去。\n",
        "    if len(tagged_sent) > 1:\n",
        "        process(tagged_sent)\n",
        "print(len(list1))"
      ],
      "execution_count": null,
      "outputs": [
        {
          "output_type": "stream",
          "name": "stdout",
          "text": [
            "combined to achieve\n",
            "continue to place\n",
            "serve to protect\n",
            "wanted to wait\n",
            "allowed to place\n",
            "expected to become\n",
            "expected to approve\n",
            "expected to make\n",
            "intends to make\n",
            "seek to set\n",
            "like to see\n",
            "11\n"
          ]
        }
      ]
    },
    {
      "cell_type": "markdown",
      "metadata": {
        "id": "DV3r5QT5VlLh"
      },
      "source": [
        "# Exercise Attendance\n",
        "\n",
        "Please print all found words involving particular sequences of tags and words (in this case \"<Verb> to <Verb>\") such as upper code.   \n",
        "    (same as the delete [:100] part)   \n",
        "Also count the line number."
      ]
    },
    {
      "cell_type": "markdown",
      "metadata": {
        "id": "EI2F58-SVlLh"
      },
      "source": [
        "品詞タグの部分に関して非常に曖昧な単語を探すコード。そのような単語が各コンテキストにあるときにタグ付けされる理由を理解することは、タグ間の区別を明確にするのに役立つ。"
      ]
    },
    {
      "cell_type": "code",
      "metadata": {
        "colab": {
          "base_uri": "https://localhost:8080/"
        },
        "id": "O2V11vUGVlLh",
        "outputId": "6b1d4efd-7b70-44e1-e5e7-8ad1f7d5d704"
      },
      "source": [
        "brown_news_tagged = brown.tagged_words(categories='news', tagset='universal')\n",
        "data = nltk.ConditionalFreqDist((word.lower(), tag)\n",
        "                                for (word, tag) in brown_news_tagged)\n",
        "for word in sorted(data.conditions()):\n",
        "    if len(data[word]) > 3:\n",
        "        tags = [tag for (tag, _) in data[word].most_common()]\n",
        "        print(word, ' '.join(tags))"
      ],
      "execution_count": null,
      "outputs": [
        {
          "output_type": "stream",
          "name": "stdout",
          "text": [
            "best ADJ ADV VERB NOUN\n",
            "close ADV ADJ VERB NOUN\n",
            "open ADJ VERB NOUN ADV\n",
            "present ADJ ADV NOUN VERB\n",
            "that ADP DET PRON ADV\n"
          ]
        }
      ]
    },
    {
      "cell_type": "markdown",
      "metadata": {
        "id": "ofwnHJA0VlLi"
      },
      "source": [
        "## 5.3. Mapping Words to Properties Using Python Dictionaries\n",
        "Exercise 1で、既にDictionaryについては触れていますが、ここではDictionaryを使って効果的にNLTKを利用し、言語リソースにアクセスすることを学びます。\n",
        "\n",
        "### 5.3.1. Indexing Lists and Dictionaries\n",
        "テキストはPythonでは単語のリストとして扱われます。リストの重要な特性は、text1[100]などのインデックスを指定することで特定のアイテムを「ルックアップ」できることです。数値を指定し、単語を取得する方法に注目してください。\n",
        "![image.png](attachment:image.png)\n"
      ]
    },
    {
      "cell_type": "markdown",
      "metadata": {
        "id": "oug4PG0UVlLi"
      },
      "source": [
        "連想配列を用いると、このIndexをKeywordで置き換えることができ、非常に簡単に探索できます。例えば、頻度分布等を考えるとき、WordをIndexとして用い、Word Countを値として取得することが出来ます。\n",
        "![image.png](attachment:image.png)"
      ]
    },
    {
      "cell_type": "markdown",
      "metadata": {
        "id": "HtFWJ3E_VlLi"
      },
      "source": [
        "連想配列において、Indexに当たる部分をKey, 値をValueとして、Key-Valueの関係のデータベースを構築することができます。以下の表は、言語リソースに対して連想配列を用いる場合のKey-Valueの候補を示します。\n",
        "![image.png](attachment:image.png)"
      ]
    },
    {
      "cell_type": "markdown",
      "metadata": {
        "id": "KMZww08AVlLi"
      },
      "source": [
        "### 5.3.2. Dictionaries in Python\n",
        "以下のコードは、PythonのDictionaryの利用方法です。詳細は特に示しませんが、以下のような使い方ができます。"
      ]
    },
    {
      "cell_type": "code",
      "metadata": {
        "colab": {
          "base_uri": "https://localhost:8080/"
        },
        "id": "CWUVZaySVlLj",
        "outputId": "ab257e1e-cf17-4e05-f0ce-6fc9256972a6"
      },
      "source": [
        "pos = {}\n",
        "print(pos)"
      ],
      "execution_count": null,
      "outputs": [
        {
          "output_type": "stream",
          "text": [
            "{}\n"
          ],
          "name": "stdout"
        }
      ]
    },
    {
      "cell_type": "code",
      "metadata": {
        "colab": {
          "base_uri": "https://localhost:8080/"
        },
        "id": "rXwX1MUgVlLj",
        "outputId": "1e2e771d-e695-4c02-f147-d7a530061594"
      },
      "source": [
        "pos['colorless'] = 'ADJ'\n",
        "print(pos)"
      ],
      "execution_count": null,
      "outputs": [
        {
          "output_type": "stream",
          "text": [
            "{'colorless': 'ADJ'}\n"
          ],
          "name": "stdout"
        }
      ]
    },
    {
      "cell_type": "code",
      "metadata": {
        "colab": {
          "base_uri": "https://localhost:8080/"
        },
        "id": "KsJ3FhbJVlLj",
        "outputId": "22e0b7ec-3d47-4900-cdcd-badeb4df0cdb"
      },
      "source": [
        "pos['ideas'] = 'N'\n",
        "pos['sleep'] = 'V'\n",
        "pos['furiously'] = 'ADV'\n",
        "print(pos)"
      ],
      "execution_count": null,
      "outputs": [
        {
          "output_type": "stream",
          "text": [
            "{'colorless': 'ADJ', 'ideas': 'N', 'sleep': 'V', 'furiously': 'ADV'}\n"
          ],
          "name": "stdout"
        }
      ]
    },
    {
      "cell_type": "code",
      "metadata": {
        "colab": {
          "base_uri": "https://localhost:8080/"
        },
        "id": "CvHI2sS9VlLk",
        "outputId": "ca6bc280-5413-4f42-ed9a-959a85c6afcf"
      },
      "source": [
        "print(pos['ideas'])"
      ],
      "execution_count": null,
      "outputs": [
        {
          "output_type": "stream",
          "text": [
            "N\n"
          ],
          "name": "stdout"
        }
      ]
    },
    {
      "cell_type": "code",
      "metadata": {
        "colab": {
          "base_uri": "https://localhost:8080/"
        },
        "id": "-ACm_Yn9VlLk",
        "outputId": "527d0524-4f74-47bb-f2b3-7898119bc0ab"
      },
      "source": [
        "print(pos['colorless'])"
      ],
      "execution_count": null,
      "outputs": [
        {
          "output_type": "stream",
          "text": [
            "ADJ\n"
          ],
          "name": "stdout"
        }
      ]
    },
    {
      "cell_type": "markdown",
      "metadata": {
        "id": "Wa5Zaa0SVlLk"
      },
      "source": [
        "以下のように、要素のないKeyを探索しようとするとErrorになります。つまり、必ずDictionaryに含まれているKeyを把握しなければいけないので、Keyの検査が必要になります。"
      ]
    },
    {
      "cell_type": "code",
      "metadata": {
        "colab": {
          "base_uri": "https://localhost:8080/"
        },
        "id": "4r6VqZ2DVlLl",
        "outputId": "eaee2f70-0c53-4191-f1bc-1ac6c3aeb8bf"
      },
      "source": [
        "print('green' in pos) # Keyの検査の一例: in を使うと分かるので、これをIF文で用いる\n",
        "if('green' in pos):\n",
        "    print(pos['green']) # これをしようとするとErrorになる（確認してみてください）"
      ],
      "execution_count": null,
      "outputs": [
        {
          "output_type": "stream",
          "text": [
            "False\n"
          ],
          "name": "stdout"
        }
      ]
    },
    {
      "cell_type": "markdown",
      "metadata": {
        "id": "GimHUcLuVlLm"
      },
      "source": [
        "Dictionaryからlistに変更可能 (そのまま扱うとKeyのリストが出てくる。Valueのリストを取り出したい場合は指定する必要がある）\n",
        "itemをtupleにするにはitems()を使う。"
      ]
    },
    {
      "cell_type": "code",
      "metadata": {
        "colab": {
          "base_uri": "https://localhost:8080/"
        },
        "id": "NyXI9UajVlLm",
        "outputId": "4849ea38-cc69-476e-e547-a80d2c907634"
      },
      "source": [
        "print(list( pos))\n",
        "print(list(pos.keys()))\n",
        "print(list(pos.values()))\n",
        "print(list(pos.items()))"
      ],
      "execution_count": null,
      "outputs": [
        {
          "output_type": "stream",
          "text": [
            "['colorless', 'ideas', 'sleep', 'furiously']\n",
            "['colorless', 'ideas', 'sleep', 'furiously']\n",
            "['ADJ', 'N', 'V', 'ADV']\n",
            "[('colorless', 'ADJ'), ('ideas', 'N'), ('sleep', 'V'), ('furiously', 'ADV')]\n"
          ],
          "name": "stdout"
        }
      ]
    },
    {
      "cell_type": "markdown",
      "metadata": {
        "id": "-3FWyZfoVlLn"
      },
      "source": [
        "(★ Assignment Remark) sorted()メソッドを使うと昇順にソート可能。（降順もある）"
      ]
    },
    {
      "cell_type": "code",
      "metadata": {
        "colab": {
          "base_uri": "https://localhost:8080/"
        },
        "id": "tpY8in5uVlLn",
        "outputId": "9adfc30e-c140-4f3b-e0f2-3307ff69a1af"
      },
      "source": [
        "print(sorted(pos))\n",
        "print(sorted(pos,reverse=True))"
      ],
      "execution_count": null,
      "outputs": [
        {
          "output_type": "stream",
          "text": [
            "['colorless', 'furiously', 'ideas', 'sleep']\n",
            "['sleep', 'ideas', 'furiously', 'colorless']\n"
          ],
          "name": "stdout"
        }
      ]
    },
    {
      "cell_type": "markdown",
      "metadata": {
        "id": "qKDVk6z_VlLn"
      },
      "source": [
        "Inline形式でendswidth()メソッドを出す"
      ]
    },
    {
      "cell_type": "code",
      "metadata": {
        "colab": {
          "base_uri": "https://localhost:8080/"
        },
        "id": "tPiP0fCaVlLo",
        "outputId": "01732b72-ae70-4473-c651-d321e2adb92f"
      },
      "source": [
        "print([w for w in pos if w.endswith('s')])"
      ],
      "execution_count": null,
      "outputs": [
        {
          "output_type": "stream",
          "text": [
            "['colorless', 'ideas']\n"
          ],
          "name": "stdout"
        }
      ]
    },
    {
      "cell_type": "markdown",
      "metadata": {
        "id": "WPI88j9KVlLo"
      },
      "source": [
        "以下の2つは同じ出力になる。tupleを用いると分かりやすい。"
      ]
    },
    {
      "cell_type": "code",
      "metadata": {
        "colab": {
          "base_uri": "https://localhost:8080/"
        },
        "id": "6ZruXwCJVlLo",
        "outputId": "e122dd92-72ef-42ff-c497-3f49c5ced1a1"
      },
      "source": [
        "for word in sorted(pos):\n",
        "    print(word + \":\", pos[word])\n",
        "print(\"\")\n",
        "for key, val in sorted(pos.items()):\n",
        "    print(key + \":\", val)"
      ],
      "execution_count": null,
      "outputs": [
        {
          "output_type": "stream",
          "text": [
            "colorless: ADJ\n",
            "furiously: ADV\n",
            "ideas: N\n",
            "sleep: V\n",
            "\n",
            "colorless: ADJ\n",
            "furiously: ADV\n",
            "ideas: N\n",
            "sleep: V\n"
          ],
          "name": "stdout"
        }
      ]
    },
    {
      "cell_type": "markdown",
      "metadata": {
        "id": "2svXlsmvVlLo"
      },
      "source": [
        "### 5.3.3. Defining Dictionaries\n",
        "Dctionaryを定義するやり方はいくつか存在する。そのままDictionaryを記述する方法と、dictメソッドを呼び出す方法がある。"
      ]
    },
    {
      "cell_type": "code",
      "metadata": {
        "colab": {
          "base_uri": "https://localhost:8080/"
        },
        "id": "KqJFMdbJVlLo",
        "outputId": "5bd78f20-1bbd-47b1-9949-904afb1f5e30"
      },
      "source": [
        "pos = {'colorless': 'ADJ', 'ideas': 'N', 'sleep': 'V', 'furiously': 'ADV'}\n",
        "print(pos)\n",
        "pos = dict(colorless='ADJ', ideas='N', sleep='V', furiously='ADV')\n",
        "print(pos)"
      ],
      "execution_count": null,
      "outputs": [
        {
          "output_type": "stream",
          "text": [
            "{'colorless': 'ADJ', 'ideas': 'N', 'sleep': 'V', 'furiously': 'ADV'}\n",
            "{'colorless': 'ADJ', 'ideas': 'N', 'sleep': 'V', 'furiously': 'ADV'}\n"
          ],
          "name": "stdout"
        }
      ]
    },
    {
      "cell_type": "markdown",
      "metadata": {
        "id": "Eh-eHPxxVlLp"
      },
      "source": [
        "リストはKeyになれない。しかし、TupleはKeyになれる\n",
        "\n",
        "    >>> pos = {['ideas', 'blogs', 'adventures']: 'N'}\n",
        "\n",
        "    ---------------------------------------------------------------------------\n",
        "    TypeError                                 Traceback (most recent call last)\n",
        "    <ipython-input-56-2280db643563> in <module>\n",
        "    ----> 1 print(pos = {['ideas', 'blogs', 'adventures']: 'N'})\n",
        "    \n",
        "    TypeError: unhashable type: 'list'"
      ]
    },
    {
      "cell_type": "code",
      "metadata": {
        "colab": {
          "base_uri": "https://localhost:8080/"
        },
        "id": "UgMcMEV5VlLp",
        "outputId": "d821cfc1-bd6e-4b28-9045-0594c5a38513"
      },
      "source": [
        "pos = {('ideas', 'blogs', 'adventures'): 'N'}\n",
        "print(pos)"
      ],
      "execution_count": null,
      "outputs": [
        {
          "output_type": "stream",
          "text": [
            "{('ideas', 'blogs', 'adventures'): 'N'}\n"
          ],
          "name": "stdout"
        }
      ]
    },
    {
      "cell_type": "markdown",
      "metadata": {
        "id": "nDnBX_g1VlLq"
      },
      "source": [
        "### 5.3.4. Default Dictionaries\n",
        "辞書にないキーにアクセスしようとすると、エラーが発生します。ただし、辞書がこの新しいキーのエントリを自動的に作成し、ゼロや空のリストなどのデフォルト値を与えることができる場合に役立ちます。このため、defaultdictと呼ばれる特別な種類の辞書が利用可能です。これを使用するには、デフォルト値を作成するために使用できるパラメーター、たとえばint、float、str、list、dict、 tupleを指定する必要があります。"
      ]
    },
    {
      "cell_type": "code",
      "metadata": {
        "colab": {
          "base_uri": "https://localhost:8080/"
        },
        "id": "21908SmkVlLq",
        "outputId": "5aab292d-14f9-42bb-cbba-44f05db2414f"
      },
      "source": [
        "from collections import defaultdict\n",
        "frequency = defaultdict(int)\n",
        "frequency['colorless'] = 4\n",
        "print(frequency['ideas'])"
      ],
      "execution_count": null,
      "outputs": [
        {
          "output_type": "stream",
          "text": [
            "0\n"
          ],
          "name": "stdout"
        }
      ]
    },
    {
      "cell_type": "code",
      "metadata": {
        "colab": {
          "base_uri": "https://localhost:8080/"
        },
        "id": "sPrKBejYVlLq",
        "outputId": "777ed760-d5e5-4b5c-f06f-f830bcd1a1ef"
      },
      "source": [
        "pos = defaultdict(list)\n",
        "pos['sleep'] = ['NOUN', 'VERB']\n",
        "print(pos['ideas'])"
      ],
      "execution_count": null,
      "outputs": [
        {
          "output_type": "stream",
          "text": [
            "[]\n"
          ],
          "name": "stdout"
        }
      ]
    },
    {
      "cell_type": "code",
      "metadata": {
        "colab": {
          "base_uri": "https://localhost:8080/"
        },
        "id": "Ugbe54DjVlLr",
        "outputId": "75ae9cff-82b2-4475-d54b-e6923344ae4c"
      },
      "source": [
        "pos = defaultdict(lambda: 'NOUN')\n",
        "pos['colorless'] = 'ADJ'\n",
        "print(pos['blog'])"
      ],
      "execution_count": null,
      "outputs": [
        {
          "output_type": "stream",
          "text": [
            "NOUN\n"
          ],
          "name": "stdout"
        }
      ]
    },
    {
      "cell_type": "code",
      "metadata": {
        "colab": {
          "base_uri": "https://localhost:8080/"
        },
        "id": "jECYGOOIVlLr",
        "outputId": "e139949e-7d4e-4029-e1ce-702b91f9ace0"
      },
      "source": [
        "print(list(pos.items()))"
      ],
      "execution_count": null,
      "outputs": [
        {
          "output_type": "stream",
          "text": [
            "[('colorless', 'ADJ'), ('blog', 'NOUN')]\n"
          ],
          "name": "stdout"
        }
      ]
    },
    {
      "cell_type": "code",
      "metadata": {
        "colab": {
          "base_uri": "https://localhost:8080/"
        },
        "id": "mNnoUwVBVlLs",
        "outputId": "52cbcfc3-2d4d-4f54-ac7f-93c651801084"
      },
      "source": [
        "alice = nltk.corpus.gutenberg.words('carroll-alice.txt')\n",
        "vocab = nltk.FreqDist(alice)\n",
        "v1000 = [word for (word, _) in vocab.most_common(1000)]\n",
        "mapping = defaultdict(lambda: 'UNK')\n",
        "for v in v1000:\n",
        "    mapping[v] = v\n",
        "\n",
        "alice2 = [mapping[v] for v in alice]\n",
        "print(alice2[:100])"
      ],
      "execution_count": null,
      "outputs": [
        {
          "output_type": "stream",
          "text": [
            "['[', 'Alice', \"'\", 's', 'Adventures', 'in', 'Wonderland', 'by', 'UNK', 'UNK', 'UNK', 'UNK', 'CHAPTER', 'I', '.', 'Down', 'the', 'Rabbit', '-', 'UNK', 'Alice', 'was', 'beginning', 'to', 'get', 'very', 'tired', 'of', 'sitting', 'by', 'her', 'sister', 'on', 'the', 'bank', ',', 'and', 'of', 'having', 'nothing', 'to', 'do', ':', 'once', 'or', 'twice', 'she', 'had', 'peeped', 'into', 'the', 'book', 'her', 'sister', 'was', 'reading', ',', 'but', 'it', 'had', 'no', 'pictures', 'or', 'UNK', 'in', 'it', ',', \"'\", 'and', 'what', 'is', 'the', 'use', 'of', 'a', 'book', \",'\", 'thought', 'Alice', \"'\", 'without', 'pictures', 'or', 'conversation', \"?'\", 'So', 'she', 'was', 'considering', 'in', 'her', 'own', 'mind', '(', 'as', 'well', 'as', 'she', 'could', ',']\n"
          ],
          "name": "stdout"
        }
      ]
    },
    {
      "cell_type": "code",
      "metadata": {
        "colab": {
          "base_uri": "https://localhost:8080/"
        },
        "id": "te0MzT1rVlLs",
        "outputId": "d3d087cb-ddb5-4d60-e39a-3e8dbe7723f3"
      },
      "source": [
        "print(len(set(alice2)))"
      ],
      "execution_count": null,
      "outputs": [
        {
          "output_type": "stream",
          "text": [
            "1001\n"
          ],
          "name": "stdout"
        }
      ]
    },
    {
      "cell_type": "markdown",
      "metadata": {
        "id": "gsKMfNbCVlLs"
      },
      "source": [
        "### 5.3.5. Incrementally Updating a Dictionary\n",
        "辞書を使用して出現回数をカウントし、fig-tallyに示す単語を集計する方法をエミュレートできます。空のdefaultdictを初期化することから始め、テキスト内の各品詞タグを処理します。タグが以前に見られなかった場合、デフォルトでカウントはゼロになります。タグに遭遇するたびに、+= 演算子を使用してそのカウントをインクリメントします。"
      ]
    },
    {
      "cell_type": "code",
      "metadata": {
        "colab": {
          "base_uri": "https://localhost:8080/"
        },
        "id": "ysV62t-GVlLs",
        "outputId": "8a677304-3eda-407c-b242-3ee079421fab"
      },
      "source": [
        "from collections import defaultdict\n",
        "counts = defaultdict(int)\n",
        "from nltk.corpus import brown\n",
        "for (word, tag) in brown.tagged_words(categories='news', tagset='universal'):\n",
        "    counts[tag] += 1\n",
        "print(counts['NOUN'])"
      ],
      "execution_count": null,
      "outputs": [
        {
          "output_type": "stream",
          "text": [
            "30654\n"
          ],
          "name": "stdout"
        }
      ]
    },
    {
      "cell_type": "code",
      "metadata": {
        "colab": {
          "base_uri": "https://localhost:8080/"
        },
        "id": "9X4geC3dVlLt",
        "outputId": "0ba8b808-8e98-4920-98a3-32f8d608e241"
      },
      "source": [
        "print(sorted(counts))"
      ],
      "execution_count": null,
      "outputs": [
        {
          "output_type": "stream",
          "text": [
            "['.', 'ADJ', 'ADP', 'ADV', 'CONJ', 'DET', 'NOUN', 'NUM', 'PRON', 'PRT', 'VERB', 'X']\n"
          ],
          "name": "stdout"
        }
      ]
    },
    {
      "cell_type": "code",
      "metadata": {
        "colab": {
          "base_uri": "https://localhost:8080/"
        },
        "id": "Iwe5txQVVlLt",
        "outputId": "d46f7c30-4893-4f38-ab31-baf4088da057"
      },
      "source": [
        "from operator import itemgetter\n",
        "print(sorted(counts.items(), key=itemgetter(1), reverse=True))"
      ],
      "execution_count": null,
      "outputs": [
        {
          "output_type": "stream",
          "text": [
            "[('NOUN', 30654), ('VERB', 14399), ('ADP', 12355), ('.', 11928), ('DET', 11389), ('ADJ', 6706), ('ADV', 3349), ('CONJ', 2717), ('PRON', 2535), ('PRT', 2264), ('NUM', 2166), ('X', 92)]\n"
          ],
          "name": "stdout"
        }
      ]
    },
    {
      "cell_type": "code",
      "metadata": {
        "colab": {
          "base_uri": "https://localhost:8080/"
        },
        "id": "RT3XKFdnVlLt",
        "outputId": "1f8481bc-39f0-477b-f67f-31ff598a9239"
      },
      "source": [
        "print([t for t, c in sorted(counts.items(), key=itemgetter(1), reverse=True)])"
      ],
      "execution_count": null,
      "outputs": [
        {
          "output_type": "stream",
          "text": [
            "['NOUN', 'VERB', 'ADP', '.', 'DET', 'ADJ', 'ADV', 'CONJ', 'PRON', 'PRT', 'NUM', 'X']\n"
          ],
          "name": "stdout"
        }
      ]
    },
    {
      "cell_type": "code",
      "metadata": {
        "colab": {
          "base_uri": "https://localhost:8080/"
        },
        "id": "8o6PVOpYVlLt",
        "outputId": "b59154cf-757b-4f24-90e6-363ab778f82b"
      },
      "source": [
        "pair = ('NP', 8336)\n",
        "print(pair[1])"
      ],
      "execution_count": null,
      "outputs": [
        {
          "output_type": "stream",
          "text": [
            "8336\n"
          ],
          "name": "stdout"
        }
      ]
    },
    {
      "cell_type": "code",
      "metadata": {
        "colab": {
          "base_uri": "https://localhost:8080/"
        },
        "id": "iEhLD8uGVlLu",
        "outputId": "cc3a5fa6-7d03-4633-aa43-d5a4e6773d4c"
      },
      "source": [
        "print(itemgetter(1)(pair))"
      ],
      "execution_count": null,
      "outputs": [
        {
          "output_type": "stream",
          "text": [
            "8336\n"
          ],
          "name": "stdout"
        }
      ]
    },
    {
      "cell_type": "markdown",
      "metadata": {
        "id": "_2kuM6i7VlLu"
      },
      "source": [
        "最後の2文字に従って単語にインデックスを付けます。"
      ]
    },
    {
      "cell_type": "code",
      "metadata": {
        "colab": {
          "base_uri": "https://localhost:8080/"
        },
        "id": "DvLichafVlLu",
        "outputId": "cf83a7ca-f126-48c2-ef66-a93e6be88736"
      },
      "source": [
        "last_letters = defaultdict(list)\n",
        "words = nltk.corpus.words.words('en')\n",
        "for word in words:\n",
        "    key = word[-2:]\n",
        "    last_letters[key].append(word)\n",
        "print(last_letters['ly'][:100])\n",
        "print(last_letters['zy'])"
      ],
      "execution_count": null,
      "outputs": [
        {
          "output_type": "stream",
          "text": [
            "['abactinally', 'abandonedly', 'abasedly', 'abashedly', 'abashlessly', 'abbreviately', 'abdominally', 'abhorrently', 'abidingly', 'abiogenetically', 'abiologically', 'abjectly', 'ableptically', 'ably', 'abnormally', 'abominably', 'aborally', 'aboriginally', 'abortively', 'aboundingly', 'abridgedly', 'abruptedly', 'abruptly', 'abscondedly', 'absently', 'absentmindedly', 'absolutely', 'absolutistically', 'absorbedly', 'absorbingly', 'absorptively', 'abstemiously', 'abstinently', 'abstractedly', 'abstractively', 'abstractly', 'abstrusely', 'absurdly', 'abundantly', 'abusedly', 'abusefully', 'abusively', 'abysmally', 'academically', 'acceleratedly', 'accentually', 'acceptably', 'acceptedly', 'accessarily', 'accessibly', 'accessively', 'accessorily', 'accidentally', 'accidently', 'accommodately', 'accommodatingly', 'accordantly', 'accordingly', 'accountably', 'accumulatively', 'accurately', 'accursedly', 'accusably', 'accusatively', 'accusatorially', 'accusingly', 'accustomedly', 'acervately', 'acetometrically', 'achingly', 'achromatically', 'acicularly', 'acidimetrically', 'acidly', 'acknowledgedly', 'acoustically', 'acquiescently', 'acquiescingly', 'acquisitively', 'acridly', 'acrimoniously', 'acrobatically', 'acrocephaly', 'acrogenously', 'acrologically', 'acromegaly', 'acronically', 'acropetally', 'acrostically', 'actinally', 'actinically', 'actinoelectrically', 'actionably', 'actively', 'actually', 'actuarially', 'acutely', 'Adamically', 'adaptationally', 'adaptively']\n",
            "['blazy', 'bleezy', 'blowzy', 'boozy', 'breezy', 'bronzy', 'buzzy', 'Chazy', 'cozy', 'crazy', 'dazy', 'dizzy', 'dozy', 'enfrenzy', 'fezzy', 'fizzy', 'floozy', 'fozy', 'franzy', 'frenzy', 'friezy', 'frizzy', 'frowzy', 'furzy', 'fuzzy', 'gauzy', 'gazy', 'glazy', 'groszy', 'hazy', 'heezy', 'Izzy', 'jazzy', 'Jozy', 'lawzy', 'lazy', 'mazy', 'mizzy', 'muzzy', 'nizy', 'oozy', 'quartzy', 'quizzy', 'refrenzy', 'ritzy', 'Shortzy', 'sizy', 'sleazy', 'sneezy', 'snoozy', 'squeezy', 'Suzy', 'tanzy', 'tizzy', 'topazy', 'trotcozy', 'twazzy', 'unbreezy', 'unfrizzy', 'wheezy', 'woozy', 'wuzzy', 'yezzy']\n"
          ],
          "name": "stdout"
        }
      ]
    },
    {
      "cell_type": "markdown",
      "metadata": {
        "id": "zSsuZa84VlLu"
      },
      "source": [
        "同じパターンを使用してアナグラム辞書を作成します。"
      ]
    },
    {
      "cell_type": "code",
      "metadata": {
        "colab": {
          "base_uri": "https://localhost:8080/"
        },
        "id": "MmBLW_QtVlLu",
        "outputId": "8806f8e3-89be-4d96-8f80-09b79dd25784"
      },
      "source": [
        "anagrams = defaultdict(list)\n",
        "for word in words:\n",
        "    key = ''.join(sorted(word))\n",
        "    anagrams[key].append(word)\n",
        "print(anagrams['aeilnrt'])"
      ],
      "execution_count": null,
      "outputs": [
        {
          "output_type": "stream",
          "text": [
            "['entrail', 'latrine', 'ratline', 'reliant', 'retinal', 'trenail']\n"
          ],
          "name": "stdout"
        }
      ]
    },
    {
      "cell_type": "markdown",
      "metadata": {
        "id": "j20kK1YaVlLv"
      },
      "source": [
        "このような単語の蓄積は非常に一般的なタスクであるため、NLTKはnltk.Index（）の形式でdefaultdict（list）を作成するより便利な方法を提供します。"
      ]
    },
    {
      "cell_type": "code",
      "metadata": {
        "colab": {
          "base_uri": "https://localhost:8080/"
        },
        "id": "PGi_jxxgVlLv",
        "outputId": "09af807d-aaed-4bb5-e768-9dee751b03f6"
      },
      "source": [
        "anagrams = nltk.Index((''.join(sorted(w)), w) for w in words)\n",
        "print(anagrams['aeilnrt'])"
      ],
      "execution_count": null,
      "outputs": [
        {
          "output_type": "stream",
          "text": [
            "['entrail', 'latrine', 'ratline', 'reliant', 'retinal', 'trenail']\n"
          ],
          "name": "stdout"
        }
      ]
    },
    {
      "cell_type": "markdown",
      "metadata": {
        "id": "WTKEICnbVlLv"
      },
      "source": [
        "### 5.3.6. Complex Keys and Values\n",
        "複雑なキーと値を持つデフォルトの辞書を使用できます。単語自体、および前の単語のタグが与えられた場合、その単語の可能なタグの範囲を調べてみましょう。POSタガーがこの情報をどのように使用できるかを確認します。"
      ]
    },
    {
      "cell_type": "code",
      "metadata": {
        "colab": {
          "base_uri": "https://localhost:8080/"
        },
        "id": "koohEd_QVlLv",
        "outputId": "b0f037e0-351e-423d-ef77-60d3e0e191d3"
      },
      "source": [
        "pos = defaultdict(lambda: defaultdict(int))\n",
        "brown_news_tagged = brown.tagged_words(categories='news', tagset='universal')\n",
        "for ((w1, t1), (w2, t2)) in nltk.bigrams(brown_news_tagged):\n",
        "    pos[(t1, w2)][t2] += 1\n",
        "print(pos[('DET', 'right')] )"
      ],
      "execution_count": null,
      "outputs": [
        {
          "output_type": "stream",
          "text": [
            "defaultdict(<class 'int'>, {'NOUN': 5, 'ADJ': 11})\n"
          ],
          "name": "stdout"
        }
      ]
    },
    {
      "cell_type": "markdown",
      "metadata": {
        "id": "fHVIxpvsVlLw"
      },
      "source": [
        "この例では、int() のdefaultdict()を使用しています。タグ付きコーパスのバイグラムをどのように反復し、各反復ごとに単語とタグのペアのペアを処理することに注意してください。ループを通過するたびに、（t1、w2）、タグ、およびそれに続く wordのpos辞書のエントリを更新しました。posで項目を検索するとき、複合キーを指定する必要があり、辞書オブジェクトを取得します。POSタガーは、そのような情報を使用して、決定子が先行する場合、単語rightをADJとしてタグ付けすることを決定できます。\n",
        "\n",
        "### 5.3.7. Inverting a Dictionary\n",
        "Dictionaryの逆引きを行う例を示す。通常、Keyを指定してValueを高速に取得できるようにするのがDictionaryだが、逆引き（Valueを指定してKeyを取得）は遅い。"
      ]
    },
    {
      "cell_type": "code",
      "metadata": {
        "colab": {
          "base_uri": "https://localhost:8080/"
        },
        "id": "MipIUfxEVlLw",
        "outputId": "e0a9c644-9a39-464e-c917-57c29fad3a2f"
      },
      "source": [
        "counts = defaultdict(int)\n",
        "for word in nltk.corpus.gutenberg.words('milton-paradise.txt'):\n",
        "    counts[word] += 1\n",
        "print([key for (key, value) in counts.items() if value == 32])"
      ],
      "execution_count": null,
      "outputs": [
        {
          "output_type": "stream",
          "text": [
            "['mortal', 'Against', 'Him', 'There', 'brought', 'King', 'virtue', 'every', 'been', 'thine']\n"
          ],
          "name": "stdout"
        }
      ]
    },
    {
      "cell_type": "markdown",
      "metadata": {
        "id": "PpedByJmVlLw"
      },
      "source": [
        "以下はKeyとValueを逆転したDictionaryを形成し、逆引きを行う。"
      ]
    },
    {
      "cell_type": "code",
      "metadata": {
        "colab": {
          "base_uri": "https://localhost:8080/"
        },
        "id": "ktLbhbXvVlLx",
        "outputId": "1648caa2-4856-4709-9b23-3ea96dc2a4f1"
      },
      "source": [
        "pos = {'colorless': 'ADJ', 'ideas': 'N', 'sleep': 'V', 'furiously': 'ADV'}\n",
        "pos2 = dict((value, key) for (key, value) in pos.items())\n",
        "print(pos2['N'])"
      ],
      "execution_count": null,
      "outputs": [
        {
          "output_type": "stream",
          "text": [
            "ideas\n"
          ],
          "name": "stdout"
        }
      ]
    },
    {
      "cell_type": "markdown",
      "metadata": {
        "id": "u45NOWjNVlLx"
      },
      "source": [
        "Defaultdictを用いた例"
      ]
    },
    {
      "cell_type": "code",
      "metadata": {
        "colab": {
          "base_uri": "https://localhost:8080/"
        },
        "id": "8w2Jih-AVlLx",
        "outputId": "ce84b204-4a41-4df3-e891-2111a2589e7d"
      },
      "source": [
        "pos.update({'cats': 'N', 'scratch': 'V', 'peacefully': 'ADV', 'old': 'ADJ'})\n",
        "pos2 = defaultdict(list)\n",
        "for key, value in pos.items():\n",
        "    pos2[value].append(key)\n",
        "print(pos2['ADV'])"
      ],
      "execution_count": null,
      "outputs": [
        {
          "output_type": "stream",
          "text": [
            "['furiously', 'peacefully']\n"
          ],
          "name": "stdout"
        }
      ]
    },
    {
      "cell_type": "markdown",
      "metadata": {
        "id": "yeHBZ8syVlLy"
      },
      "source": [
        "Python's Dictionary Methods: A summary of commonly-used methods and idioms involving dictionaries.![image.png](attachment:image.png)"
      ]
    },
    {
      "cell_type": "markdown",
      "metadata": {
        "id": "K0WTsPX0VlLy"
      },
      "source": [
        "## 5.4. Automatic Tagging\n",
        "さて、今回の本題のAutomatid Taggingについて見ていきます。品詞タグをテキストに自動的に追加するために、幾つかの典型的なタガーを見ていくことにします。なお、単語のタグは、単語と文内のコンテキストに依存することがわかります。このため、単語ではなくタグ付き文のレベルでデータを処理します。まず、使用するデータをロードします。"
      ]
    },
    {
      "cell_type": "code",
      "metadata": {
        "id": "0vFwwECGVlLz"
      },
      "source": [
        "from nltk.corpus import brown\n",
        "brown_tagged_sents = brown.tagged_sents(categories='news')\n",
        "brown_sents = brown.sents(categories='news')"
      ],
      "execution_count": null,
      "outputs": []
    },
    {
      "cell_type": "markdown",
      "metadata": {
        "id": "JuHIQ-dPVlLz"
      },
      "source": [
        "### 5.4.1. The Default Tagger\n",
        "最も単純なタガーは、各トークンに同じタグを割り当てます。これはかなり平凡なステップのように思えるかもしれませんが、タガーのパフォーマンスの重要なベースラインを確立します。最良の結果を得るために、各単語に最も可能性の高いタグを付けます。どのタグが最も可能性が高いかを調べてみましょう（単純化されていないタグセットを使用しています）。"
      ]
    },
    {
      "cell_type": "code",
      "metadata": {
        "colab": {
          "base_uri": "https://localhost:8080/"
        },
        "id": "c8dEu9vNVlLz",
        "outputId": "50a0cf1b-0da6-4e05-cdb4-e63f4194889a"
      },
      "source": [
        "tags = [tag for (word, tag) in brown.tagged_words(categories='news')]\n",
        "print(nltk.FreqDist(tags).max())"
      ],
      "execution_count": null,
      "outputs": [
        {
          "output_type": "stream",
          "name": "stdout",
          "text": [
            "NN\n"
          ]
        }
      ]
    },
    {
      "cell_type": "markdown",
      "metadata": {
        "id": "Bpmp_VeEVlLz"
      },
      "source": [
        "これを用いると、全ての単語にNNとしてタグをつけるタガーを製作できます。"
      ]
    },
    {
      "cell_type": "code",
      "metadata": {
        "colab": {
          "base_uri": "https://localhost:8080/"
        },
        "id": "pNfe3dwkVlL0",
        "outputId": "c1e7083f-7fe9-4b27-f889-764bab6ecb33"
      },
      "source": [
        "raw = 'I do not like green eggs and ham, I do not like them Sam I am!'\n",
        "tokens = nltk.word_tokenize(raw)\n",
        "default_tagger = nltk.DefaultTagger('NN')\n",
        "print(default_tagger.tag(tokens))"
      ],
      "execution_count": null,
      "outputs": [
        {
          "output_type": "stream",
          "name": "stdout",
          "text": [
            "[('I', 'NN'), ('do', 'NN'), ('not', 'NN'), ('like', 'NN'), ('green', 'NN'), ('eggs', 'NN'), ('and', 'NN'), ('ham', 'NN'), (',', 'NN'), ('I', 'NN'), ('do', 'NN'), ('not', 'NN'), ('like', 'NN'), ('them', 'NN'), ('Sam', 'NN'), ('I', 'NN'), ('am', 'NN'), ('!', 'NN')]\n"
          ]
        }
      ]
    },
    {
      "cell_type": "markdown",
      "metadata": {
        "id": "71NnuoJsVlL0"
      },
      "source": [
        "(★ Assignment Remark) 当然ながら、この方法のパフォーマンスは酷く劣ります。評価を行うと、トークンの約1/8だけが正しくタグ付けされます（つまり、名詞（NN）を保持する単語トークンは1/8ある、と言うことです。）"
      ]
    },
    {
      "cell_type": "code",
      "metadata": {
        "colab": {
          "base_uri": "https://localhost:8080/"
        },
        "id": "MQWknjpWVlL0",
        "outputId": "04868afa-f277-4f8a-8a0d-4b8dc1cf5526"
      },
      "source": [
        "print(default_tagger.evaluate(brown_tagged_sents))"
      ],
      "execution_count": null,
      "outputs": [
        {
          "output_type": "stream",
          "name": "stdout",
          "text": [
            "0.13089484257215028\n"
          ]
        }
      ]
    },
    {
      "cell_type": "markdown",
      "metadata": {
        "id": "kA0gdkgNVlL0"
      },
      "source": [
        "### 5.4.2. The Regular Expression Tagger\n",
        "続いて、正規表現を用いたタガーを作成してみましょう。正規表現タガーは、一致するパターンに基づいてタグをトークンに割り当てます。たとえば、edで終わる単語は動詞の過去分詞であり、sで終わる単語は所有名詞であると 推測できます。これらを正規表現のリストとして表現できます。"
      ]
    },
    {
      "cell_type": "code",
      "metadata": {
        "id": "twLohWewVlL0"
      },
      "source": [
        "patterns = [\n",
        "     (r'.*ing$', 'VBG'),               # gerunds\n",
        "     (r'.*ed$', 'VBD'),                # simple past\n",
        "     (r'.*es$', 'VBZ'),                # 3rd singular present\n",
        "     (r'.*ould$', 'MD'),               # modals\n",
        "     (r'.*\\'s$', 'NN$'),               # possessive nouns\n",
        "     (r'.*s$', 'NNS'),                 # plural nouns\n",
        "     (r'^-?[0-9]+(.[0-9]+)?$', 'CD'),  # cardinal numbers\n",
        "     (r'.*', 'NN')                     # nouns (default)\n",
        " ]"
      ],
      "execution_count": null,
      "outputs": []
    },
    {
      "cell_type": "markdown",
      "metadata": {
        "id": "mFQIl9hdVlL1"
      },
      "source": [
        "(★ Assignment Remark) これらは順番に処理され、最初に一致したものが適用されることに注意してください。これで、タガーを設定し、それを使用して文にタグを付けることができます。"
      ]
    },
    {
      "cell_type": "code",
      "metadata": {
        "colab": {
          "base_uri": "https://localhost:8080/"
        },
        "id": "uajnNxQ2VlL1",
        "outputId": "565d5d8d-47cb-47ae-97fa-3a61c609a2c6"
      },
      "source": [
        "regexp_tagger = nltk.RegexpTagger(patterns)\n",
        "print(regexp_tagger.tag(brown_sents[3]))\n",
        "print(regexp_tagger.evaluate(brown_tagged_sents))"
      ],
      "execution_count": null,
      "outputs": [
        {
          "output_type": "stream",
          "name": "stdout",
          "text": [
            "[('``', 'NN'), ('Only', 'NN'), ('a', 'NN'), ('relative', 'NN'), ('handful', 'NN'), ('of', 'NN'), ('such', 'NN'), ('reports', 'NNS'), ('was', 'NNS'), ('received', 'VBD'), (\"''\", 'NN'), (',', 'NN'), ('the', 'NN'), ('jury', 'NN'), ('said', 'NN'), (',', 'NN'), ('``', 'NN'), ('considering', 'VBG'), ('the', 'NN'), ('widespread', 'NN'), ('interest', 'NN'), ('in', 'NN'), ('the', 'NN'), ('election', 'NN'), (',', 'NN'), ('the', 'NN'), ('number', 'NN'), ('of', 'NN'), ('voters', 'NNS'), ('and', 'NN'), ('the', 'NN'), ('size', 'NN'), ('of', 'NN'), ('this', 'NNS'), ('city', 'NN'), (\"''\", 'NN'), ('.', 'NN')]\n",
            "0.20326391789486245\n"
          ]
        }
      ]
    },
    {
      "cell_type": "markdown",
      "metadata": {
        "id": "BkbD0dl2VlL1"
      },
      "source": [
        "最終的な正規表現« 。* »は、すべてを名詞としてタグ付けするキャッチオールです。これは、デフォルトのタガーと同等です（効率が大幅に低下します）。これを正規表現タガーの一部として再指定する代わりに、このタガーをデフォルトのタガーと組み合わせる方法はありますか？これを行う方法については、後ほど説明します。"
      ]
    },
    {
      "cell_type": "markdown",
      "metadata": {
        "id": "hyRcIz8KVlL2"
      },
      "source": [
        "### 5.4.3. The Lookup Tagger\n",
        "多くの高頻度単語にはNNタグがありません。最も頻繁に使用される100個の単語を見つけて、最も可能性の高いタグを保存しましょう。次に、この情報を「ルックアップタガー」（NLTK UnigramTagger）のモデルとして使用できます。"
      ]
    },
    {
      "cell_type": "code",
      "metadata": {
        "colab": {
          "base_uri": "https://localhost:8080/",
          "height": 240
        },
        "id": "aLadf4WLVlL2",
        "outputId": "57c94ec6-b7af-4dee-f4b4-259aa75a8840"
      },
      "source": [
        "fd = nltk.FreqDist(brown.words(categories='news'))\n",
        "cfd = nltk.ConditionalFreqDist(brown.tagged_words(categories='news'))\n",
        "most_freq_words = fd.most_common(100)\n",
        "likely_tags = dict((word, cfd[word].max()) for (word, _) in most_freq_words)\n",
        "baseline_tagger = nltk.UnigramTagger(model=likely_tags)\n",
        "print(baseline_tagger.evaluate(brown_tagged_sents))"
      ],
      "execution_count": null,
      "outputs": [
        {
          "output_type": "error",
          "ename": "NameError",
          "evalue": "ignored",
          "traceback": [
            "\u001b[0;31m---------------------------------------------------------------------------\u001b[0m",
            "\u001b[0;31mNameError\u001b[0m                                 Traceback (most recent call last)",
            "\u001b[0;32m<ipython-input-1-8ed6d782444c>\u001b[0m in \u001b[0;36m<module>\u001b[0;34m()\u001b[0m\n\u001b[0;32m----> 1\u001b[0;31m \u001b[0mfd\u001b[0m \u001b[0;34m=\u001b[0m \u001b[0mnltk\u001b[0m\u001b[0;34m.\u001b[0m\u001b[0mFreqDist\u001b[0m\u001b[0;34m(\u001b[0m\u001b[0mbrown\u001b[0m\u001b[0;34m.\u001b[0m\u001b[0mwords\u001b[0m\u001b[0;34m(\u001b[0m\u001b[0mcategories\u001b[0m\u001b[0;34m=\u001b[0m\u001b[0;34m'news'\u001b[0m\u001b[0;34m)\u001b[0m\u001b[0;34m)\u001b[0m\u001b[0;34m\u001b[0m\u001b[0;34m\u001b[0m\u001b[0m\n\u001b[0m\u001b[1;32m      2\u001b[0m \u001b[0mcfd\u001b[0m \u001b[0;34m=\u001b[0m \u001b[0mnltk\u001b[0m\u001b[0;34m.\u001b[0m\u001b[0mConditionalFreqDist\u001b[0m\u001b[0;34m(\u001b[0m\u001b[0mbrown\u001b[0m\u001b[0;34m.\u001b[0m\u001b[0mtagged_words\u001b[0m\u001b[0;34m(\u001b[0m\u001b[0mcategories\u001b[0m\u001b[0;34m=\u001b[0m\u001b[0;34m'news'\u001b[0m\u001b[0;34m)\u001b[0m\u001b[0;34m)\u001b[0m\u001b[0;34m\u001b[0m\u001b[0;34m\u001b[0m\u001b[0m\n\u001b[1;32m      3\u001b[0m \u001b[0mmost_freq_words\u001b[0m \u001b[0;34m=\u001b[0m \u001b[0mfd\u001b[0m\u001b[0;34m.\u001b[0m\u001b[0mmost_common\u001b[0m\u001b[0;34m(\u001b[0m\u001b[0;36m100\u001b[0m\u001b[0;34m)\u001b[0m\u001b[0;34m\u001b[0m\u001b[0;34m\u001b[0m\u001b[0m\n\u001b[1;32m      4\u001b[0m \u001b[0mlikely_tags\u001b[0m \u001b[0;34m=\u001b[0m \u001b[0mdict\u001b[0m\u001b[0;34m(\u001b[0m\u001b[0;34m(\u001b[0m\u001b[0mword\u001b[0m\u001b[0;34m,\u001b[0m \u001b[0mcfd\u001b[0m\u001b[0;34m[\u001b[0m\u001b[0mword\u001b[0m\u001b[0;34m]\u001b[0m\u001b[0;34m.\u001b[0m\u001b[0mmax\u001b[0m\u001b[0;34m(\u001b[0m\u001b[0;34m)\u001b[0m\u001b[0;34m)\u001b[0m \u001b[0;32mfor\u001b[0m \u001b[0;34m(\u001b[0m\u001b[0mword\u001b[0m\u001b[0;34m,\u001b[0m \u001b[0m_\u001b[0m\u001b[0;34m)\u001b[0m \u001b[0;32min\u001b[0m \u001b[0mmost_freq_words\u001b[0m\u001b[0;34m)\u001b[0m\u001b[0;34m\u001b[0m\u001b[0;34m\u001b[0m\u001b[0m\n\u001b[1;32m      5\u001b[0m \u001b[0mbaseline_tagger\u001b[0m \u001b[0;34m=\u001b[0m \u001b[0mnltk\u001b[0m\u001b[0;34m.\u001b[0m\u001b[0mUnigramTagger\u001b[0m\u001b[0;34m(\u001b[0m\u001b[0mmodel\u001b[0m\u001b[0;34m=\u001b[0m\u001b[0mlikely_tags\u001b[0m\u001b[0;34m)\u001b[0m\u001b[0;34m\u001b[0m\u001b[0;34m\u001b[0m\u001b[0m\n",
            "\u001b[0;31mNameError\u001b[0m: name 'nltk' is not defined"
          ]
        }
      ]
    },
    {
      "cell_type": "markdown",
      "metadata": {
        "id": "UamNHiBBVlL2"
      },
      "source": [
        "100個の最も頻繁に使用される単語のタグを知るだけで、トークンの大部分（実際にはほぼ半分）を正しくタグ付けできるようになったことは驚くことではありません(ある意味一番ナイーブな機械学習と言えます)。タグのない入力テキストで何が行われるのか見てみましょう："
      ]
    },
    {
      "cell_type": "code",
      "metadata": {
        "colab": {
          "base_uri": "https://localhost:8080/"
        },
        "id": "xBWwSv12VlL2",
        "outputId": "3d9cc78b-abfa-4e85-a315-c4861458ec6b"
      },
      "source": [
        "sent = brown.sents(categories='news')[3]\n",
        "print(baseline_tagger.tag(sent))"
      ],
      "execution_count": null,
      "outputs": [
        {
          "output_type": "stream",
          "name": "stdout",
          "text": [
            "[('``', '``'), ('Only', None), ('a', 'AT'), ('relative', None), ('handful', None), ('of', 'IN'), ('such', None), ('reports', None), ('was', 'BEDZ'), ('received', None), (\"''\", \"''\"), (',', ','), ('the', 'AT'), ('jury', None), ('said', 'VBD'), (',', ','), ('``', '``'), ('considering', None), ('the', 'AT'), ('widespread', None), ('interest', None), ('in', 'IN'), ('the', 'AT'), ('election', None), (',', ','), ('the', 'AT'), ('number', None), ('of', 'IN'), ('voters', None), ('and', 'CC'), ('the', 'AT'), ('size', None), ('of', 'IN'), ('this', 'DT'), ('city', None), (\"''\", \"''\"), ('.', '.')]\n"
          ]
        }
      ]
    },
    {
      "cell_type": "markdown",
      "metadata": {
        "id": "3AofPuosVlL2"
      },
      "source": [
        "多くの単語には、最も頻繁に使用される100個の単語に含まれていないため、Noneというタグが割り当てられています。これらの場合、デフォルトのタグNNを割り当てたいと思います。つまり、最初にルックアップテーブルを使用し、タグを割り当てることができない場合は、デフォルトのタガーを使用します。これは、backoff（5）と呼ばれるプロセスです。これを行うには、以下に示すように、一方のタガーを他方のパラメーターとして指定します。これで、ルックアップタガーは名詞以外の単語の単語とタグのペアのみを保存し、単語にタグを割り当てることができない場合は常にデフォルトのタガーを呼び出します。"
      ]
    },
    {
      "cell_type": "code",
      "metadata": {
        "scrolled": true,
        "colab": {
          "base_uri": "https://localhost:8080/"
        },
        "id": "uxGOte5CVlL2",
        "outputId": "02278dd2-3b4f-4a17-8ffe-5053c1695d19"
      },
      "source": [
        "baseline_tagger = nltk.UnigramTagger(model=likely_tags,backoff=nltk.DefaultTagger('NN'))\n",
        "print(baseline_tagger.tag(sent))"
      ],
      "execution_count": null,
      "outputs": [
        {
          "output_type": "stream",
          "text": [
            "[('``', '``'), ('Only', 'NN'), ('a', 'AT'), ('relative', 'NN'), ('handful', 'NN'), ('of', 'IN'), ('such', 'NN'), ('reports', 'NN'), ('was', 'BEDZ'), ('received', 'NN'), (\"''\", \"''\"), (',', ','), ('the', 'AT'), ('jury', 'NN'), ('said', 'VBD'), (',', ','), ('``', '``'), ('considering', 'NN'), ('the', 'AT'), ('widespread', 'NN'), ('interest', 'NN'), ('in', 'IN'), ('the', 'AT'), ('election', 'NN'), (',', ','), ('the', 'AT'), ('number', 'NN'), ('of', 'IN'), ('voters', 'NN'), ('and', 'CC'), ('the', 'AT'), ('size', 'NN'), ('of', 'IN'), ('this', 'DT'), ('city', 'NN'), (\"''\", \"''\"), ('.', '.')]\n"
          ],
          "name": "stdout"
        }
      ]
    },
    {
      "cell_type": "markdown",
      "metadata": {
        "id": "rn_pesucVlL3"
      },
      "source": [
        "これらすべてをまとめて、以下のようなサイズの範囲を持つルックアップタガーを作成および評価するプログラムを作成しましょう。"
      ]
    },
    {
      "cell_type": "code",
      "metadata": {
        "colab": {
          "base_uri": "https://localhost:8080/"
        },
        "id": "y7_Koog_VlL3",
        "outputId": "41563c7d-ef0c-4ba0-9a6e-bf02f2972fa5"
      },
      "source": [
        "def performance(cfd, wordlist):\n",
        "    lt = dict((word, cfd[word].max()) for word in wordlist)\n",
        "    baseline_tagger = nltk.UnigramTagger(model=lt, backoff=nltk.DefaultTagger('NN'))\n",
        "    return baseline_tagger.evaluate(brown.tagged_sents(categories='news'))\n",
        "\n",
        "def display():\n",
        "    import pylab\n",
        "    word_freqs = nltk.FreqDist(brown.words(categories='news')).most_common()\n",
        "    words_by_freq = [w for (w, _) in word_freqs]\n",
        "    cfd = nltk.ConditionalFreqDist(brown.tagged_words(categories='news'))\n",
        "    sizes = 2 ** pylab.arange(15)\n",
        "    perfs = [performance(cfd, words_by_freq[:size]) for size in sizes]\n",
        "    pylab.plot(sizes, perfs, '-bo')\n",
        "    pylab.title('Lookup Tagger Performance with Varying Model Size')\n",
        "    pylab.xlabel('Model Size')\n",
        "    pylab.ylabel('Performance')\n",
        "    pylab.show()\n",
        "\n",
        "display()"
      ],
      "execution_count": null,
      "outputs": [
        {
          "output_type": "display_data",
          "data": {
            "image/png": "[encoded data removed]",
            "text/plain": [
              "<Figure size 432x288 with 1 Axes>"
            ]
          },
          "metadata": {
            "tags": [],
            "needs_background": "light"
          }
        }
      ]
    },
    {
      "cell_type": "markdown",
      "metadata": {
        "id": "an3TJYo_VlL4"
      },
      "source": [
        "### 5.4.4. Evaluation"
      ]
    },
    {
      "cell_type": "markdown",
      "metadata": {
        "id": "Sk_yVzo7VlL4"
      },
      "source": [
        "上記の例では、精度スコアに重点が置かれている。特に、以下のパイプラインの図のように考えてみると、1つのモジュールの術力エラーはDown Stream Moduleで大幅に増加します。\n",
        "![image.png](attachment:image.png)\n",
        "\n",
        " - 人間の専門家が割り当てるタグと比較して、Taggerのパフォーマンスを評価する\n",
        " - 我々CSの人間はLanguage Studyの専門家ではなく、そうした人的資源にアクセスしにくい。\n",
        " - 代わりに Gold Standardとされている一般化されたテストデータで対応する。これは、手動で注釈が付けられ、自動システムの推測が評価される基準として受け入れられているコーパス。特定の単語に対して推測するタグがゴールドスタンダードタグと同じである場合、タガーは正しいと見なされる。\n",
        "\n",
        "もちろん、オリジナルのゴールドスタンダードアノテーションを設計および実行した人間は人間だけでした。さらに分析すると、ゴールドスタンダードの誤りが示される場合があり、最終的にはタグセットの改訂やガイドラインの詳細化につながる可能性があります。それにもかかわらず、Automated Taggerの評価に関する限り、ゴールドスタンダードは定義上「正しい」ものです。"
      ]
    }
  ]
}