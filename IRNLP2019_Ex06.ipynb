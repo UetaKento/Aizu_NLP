{
  "nbformat": 4,
  "nbformat_minor": 0,
  "metadata": {
    "kernelspec": {
      "display_name": "Python 3",
      "language": "python",
      "name": "python3"
    },
    "language_info": {
      "codemirror_mode": {
        "name": "ipython",
        "version": 3
      },
      "file_extension": ".py",
      "mimetype": "text/x-python",
      "name": "python",
      "nbconvert_exporter": "python",
      "pygments_lexer": "ipython3",
      "version": "3.7.3"
    },
    "colab": {
      "name": "IRNLP2019_Ex06.ipynb",
      "provenance": [],
      "collapsed_sections": [
        "qnnMbRKDVm0w",
        "-EX_TXwFVm0y",
        "S9vIbhLLVm0z",
        "EiBKJpS2Vm0z",
        "STS32bSnVm00",
        "Xva1-ucXVm01",
        "WnSHhK3hVm02",
        "QnLdURafVm02"
      ],
      "include_colab_link": true
    }
  },
  "cells": [
    {
      "cell_type": "markdown",
      "metadata": {
        "id": "view-in-github",
        "colab_type": "text"
      },
      "source": [
        "<a href=\"https://colab.research.google.com/github/UetaKento/Aizu_NLP/blob/main/IRNLP2019_Ex06.ipynb\" target=\"_parent\"><img src=\"https://colab.research.google.com/assets/colab-badge.svg\" alt=\"Open In Colab\"/></a>"
      ]
    },
    {
      "cell_type": "markdown",
      "metadata": {
        "id": "B7TAigQEVm0d"
      },
      "source": [
        "# Exercise 6. Lexical Acquisition and Language Model (Ch.5.5, 5.6, LSA)\n",
        "\n",
        "For International Students: goto http://www.nltk.org/book/ch05.html\n",
        "Almost corresponded about:\n",
        "\n",
        "- Lesson 1: 5.5\n",
        "- Lesson 2: 5.6 (Exercise Attendance: adding some code from original code)\n",
        "- Lesson 3: LSA (Original Material)\n",
        "\n",
        "(★ Assignment Remark): Please read carefully about 5.2.8, 5.3.2, 5.4.1 and 5.4.2\n",
        "\n",
        "Today's Topic:\n",
        "\n",
        " - How to use and manage N-Gram Tagging\n",
        " - How to use Brill Tagging\n",
        " - How to make analysis using LSA for document.\n",
        "\n",
        "本日のトピック:\n",
        "\n",
        " - N-Gramタグ\n",
        " - Brillタグ\n",
        " - 潜在意味分析の行い方\n",
        " \n",
        "本章では、特に Language Modelの構築のための、Python技術について、復習します。"
      ]
    },
    {
      "cell_type": "code",
      "metadata": {
        "id": "SrvtrOmOVm0g"
      },
      "source": [
        "from __future__ import division  # Python 2 users only\n",
        "import nltk, re, pprint\n",
        "from nltk import word_tokenize\n",
        "nltk.download('all')"
      ],
      "execution_count": null,
      "outputs": []
    },
    {
      "cell_type": "markdown",
      "metadata": {
        "id": "uW6bFv-IVm0h"
      },
      "source": [
        "## Lesson 1. N-Gram Tagging\n",
        "### 1.1. Unigram Tagging\n",
        "Unigram Taggerは、単純な統計アルゴリズムに基づいています。各トークンに対して、その特定のトークンに最も可能性の高いタグを割り当てます。\n",
        "次のコードサンプルでは、Unigram Taggerをトレーニングし、それを使用して文にタグを付けてから評価します。"
      ]
    },
    {
      "cell_type": "code",
      "metadata": {
        "id": "WrQhbPP1Vm0i"
      },
      "source": [
        "from nltk.corpus import brown\n",
        "brown_tagged_sents = brown.tagged_sents(categories='news') # タグ付きデータ\n",
        "brown_sents = brown.sents(categories='news') # タグ無データ（同一文）"
      ],
      "execution_count": null,
      "outputs": []
    },
    {
      "cell_type": "code",
      "metadata": {
        "colab": {
          "base_uri": "https://localhost:8080/"
        },
        "id": "SK55OKaRVm0j",
        "outputId": "6992964e-ce89-4f13-b7de-9b9ffba84f70"
      },
      "source": [
        "unigram_tagger = nltk.UnigramTagger(brown_tagged_sents) # タグ付きデータを入れる\n",
        "print(unigram_tagger.tag(brown_sents[2007])) # 1文を全部タグ付けする\n",
        "print(unigram_tagger.evaluate(brown_tagged_sents)) # 評価を行う"
      ],
      "execution_count": null,
      "outputs": [
        {
          "output_type": "stream",
          "text": [
            "[('Various', 'JJ'), ('of', 'IN'), ('the', 'AT'), ('apartments', 'NNS'), ('are', 'BER'), ('of', 'IN'), ('the', 'AT'), ('terrace', 'NN'), ('type', 'NN'), (',', ','), ('being', 'BEG'), ('on', 'IN'), ('the', 'AT'), ('ground', 'NN'), ('floor', 'NN'), ('so', 'QL'), ('that', 'CS'), ('entrance', 'NN'), ('is', 'BEZ'), ('direct', 'JJ'), ('.', '.')]\n",
            "0.9349006503968017\n"
          ],
          "name": "stdout"
        }
      ]
    },
    {
      "cell_type": "markdown",
      "metadata": {
        "id": "JnOKbRyQVm0k"
      },
      "source": [
        "### 1.2. トレーニングデータとテストデータの分離\n",
        "上の例では同じデータで評価を行いましたが、これは通常意味のない事です。トレーニングデータと同じデータでタガーをテストしないようにした例が以下のようになります。"
      ]
    },
    {
      "cell_type": "code",
      "metadata": {
        "colab": {
          "base_uri": "https://localhost:8080/"
        },
        "id": "SSDZOCxyVm0k",
        "outputId": "db272d34-7127-41b5-d944-3efafabbb55b"
      },
      "source": [
        "size = int(len(brown_tagged_sents) * 0.9)\n",
        "print(size)"
      ],
      "execution_count": null,
      "outputs": [
        {
          "output_type": "stream",
          "text": [
            "4160\n"
          ],
          "name": "stdout"
        }
      ]
    },
    {
      "cell_type": "code",
      "metadata": {
        "colab": {
          "base_uri": "https://localhost:8080/"
        },
        "id": "VxplZYrdVm0l",
        "outputId": "381234c3-5b05-402b-81ce-c4a3cf0f47ee"
      },
      "source": [
        "train_sents = brown_tagged_sents[:size]\n",
        "test_sents = brown_tagged_sents[size:]\n",
        "unigram_tagger = nltk.UnigramTagger(train_sents)\n",
        "print(unigram_tagger.evaluate(test_sents))"
      ],
      "execution_count": null,
      "outputs": [
        {
          "output_type": "stream",
          "text": [
            "0.8121200039868434\n"
          ],
          "name": "stdout"
        }
      ]
    },
    {
      "cell_type": "markdown",
      "metadata": {
        "id": "mE77WolyVm0l"
      },
      "source": [
        "### 1.3.  General N-Gram Tagging\n",
        "Unigramに基づいて言語処理タスクを実行する場合、コンテキストに関わる１つのアイテムしか使用しません。一般的なタグ付けの場合、より大きなコンテキストを用いて行いたいです。\n",
        "![image.png](attachment:image.png)\n",
        "N-Gram Taggerは、現在の品詞を判別するのに、N-1語前までに出現したタグの連続性を用いて判別を行う、Unigram Taggerの一般化です。  \n",
        "NgramTaggerのクラスでは、最も可能性の高い各コンテキストのある品詞タグを決定するためにタグ付けされたトレーニングコーパスを使用しています。ここでは、N-gram Taggerの特殊なケース、つまりBigram (2) Taggerを示します。最初にトレーニングし、それを使用してタグなしの文にタグを付けます。"
      ]
    },
    {
      "cell_type": "code",
      "metadata": {
        "colab": {
          "base_uri": "https://localhost:8080/"
        },
        "id": "NnHnr2hTVm0l",
        "outputId": "2bf831ae-2c8e-434d-c273-c9eb4b8bc472"
      },
      "source": [
        "bigram_tagger = nltk.BigramTagger(train_sents)\n",
        "print(bigram_tagger.tag(brown_sents[2007]))"
      ],
      "execution_count": null,
      "outputs": [
        {
          "output_type": "stream",
          "text": [
            "[('Various', 'JJ'), ('of', 'IN'), ('the', 'AT'), ('apartments', 'NNS'), ('are', 'BER'), ('of', 'IN'), ('the', 'AT'), ('terrace', 'NN'), ('type', 'NN'), (',', ','), ('being', 'BEG'), ('on', 'IN'), ('the', 'AT'), ('ground', 'NN'), ('floor', 'NN'), ('so', 'CS'), ('that', 'CS'), ('entrance', 'NN'), ('is', 'BEZ'), ('direct', 'JJ'), ('.', '.')]\n"
          ],
          "name": "stdout"
        }
      ]
    },
    {
      "cell_type": "code",
      "metadata": {
        "colab": {
          "base_uri": "https://localhost:8080/"
        },
        "id": "__JkgzWeVm0m",
        "outputId": "4b817198-82c6-480b-87cd-cca3b62a60f2"
      },
      "source": [
        "unseen_sent = brown_sents[4203]\n",
        "print(bigram_tagger.tag(unseen_sent))"
      ],
      "execution_count": null,
      "outputs": [
        {
          "output_type": "stream",
          "text": [
            "[('The', 'AT'), ('population', 'NN'), ('of', 'IN'), ('the', 'AT'), ('Congo', 'NP'), ('is', 'BEZ'), ('13.5', None), ('million', None), (',', None), ('divided', None), ('into', None), ('at', None), ('least', None), ('seven', None), ('major', None), ('``', None), ('culture', None), ('clusters', None), (\"''\", None), ('and', None), ('innumerable', None), ('tribes', None), ('speaking', None), ('400', None), ('separate', None), ('dialects', None), ('.', None)]\n"
          ],
          "name": "stdout"
        }
      ]
    },
    {
      "cell_type": "markdown",
      "metadata": {
        "id": "y5ZzVf4iVm0m"
      },
      "source": [
        "Bigram taggerは、トレーニング中に見た文のすべての単語にタグを付けることができますが、トレーニング中に見た文の単語以外にはタグが付けられないことに注意してください。新しい単語（つまり13.5）に遭遇するとすぐに、タグを割り当てることができません。トレーニング中に見られたとしても、次の単語（つまり、million）にタグを付けることはできません。単に、トレーニング中に前の単語にNoneタグが付いていないためです。その結果、タガーは文の残りのタグ付けに失敗します。全体的な精度スコアは非常に低いです。"
      ]
    },
    {
      "cell_type": "code",
      "metadata": {
        "colab": {
          "base_uri": "https://localhost:8080/"
        },
        "id": "4DcH8WmuVm0n",
        "outputId": "52014b6f-2d67-4205-9f92-d8dcc33d03ac"
      },
      "source": [
        "print(bigram_tagger.evaluate(test_sents))"
      ],
      "execution_count": null,
      "outputs": [
        {
          "output_type": "stream",
          "text": [
            "0.10206319146815508\n"
          ],
          "name": "stdout"
        }
      ]
    },
    {
      "cell_type": "markdown",
      "metadata": {
        "id": "IXUW59vdVm0n"
      },
      "source": [
        "### 1.4. Combining Taggers\n",
        "精度とカバレッジのトレードオフに対処する1つの方法は、可能な場合はより正確なアルゴリズムを使用することですが、必要に応じてより広いカバレッジのアルゴリズムにFallbackすることです。たとえば、次のように、Bigram Tagger、Unigram Tagger、およびDefault Taggerの結果を組み合わせることができます。"
      ]
    },
    {
      "cell_type": "code",
      "metadata": {
        "colab": {
          "base_uri": "https://localhost:8080/"
        },
        "id": "biz_IQXAVm0o",
        "outputId": "e8fc9190-8a5d-43db-cd03-19a8c347cfcf"
      },
      "source": [
        "t0 = nltk.DefaultTagger('NN')\n",
        "t1 = nltk.UnigramTagger(train_sents, backoff=t0)\n",
        "t2 = nltk.BigramTagger(train_sents, backoff=t1)\n",
        "print(t2.evaluate(test_sents))"
      ],
      "execution_count": null,
      "outputs": [
        {
          "output_type": "stream",
          "text": [
            "0.8452108043456593\n"
          ],
          "name": "stdout"
        }
      ]
    },
    {
      "cell_type": "markdown",
      "metadata": {
        "id": "tkOQ8TYyVm0p"
      },
      "source": [
        "# Exercise Assignment\n",
        "We compared tag accuracy in the same news category. What would happen if we performed on data in other categories?  \n",
        "同じニュースカテゴリでのタグ精度の比較を行いましたが、他のカテゴリのデータに対して行うとどのようになるでしょうか？\n",
        "\n",
        "- brown.tagged_sents(categories='news')\n",
        "- brown.tagged_sents(categories='humor')\n",
        "- brown.tagged_sents(categories='romance')\n",
        "\n",
        "Create a Combining Tagger using these three corpora and evaluate it with data from other categories.  \n",
        "これら3つのコーパスを用いてCombining Taggerを作り、他のカテゴリのデータに掛けてください。"
      ]
    },
    {
      "cell_type": "code",
      "metadata": {
        "id": "93M38Y7qVm0q"
      },
      "source": [
        "# Sample Code\n",
        "tagged_sents = []\n",
        "tagged_sents.append(brown.tagged_sents(categories='news'))\n",
        "tagged_sents.append(brown.tagged_sents(categories='humor'))# タグ付きデータ\n",
        "tagged_sents.append(brown.tagged_sents(categories='romance'))# タグ付きデータ\n",
        "\n",
        "for i in tagged_sents:\n",
        "    # Please write code to create combining tagger\n",
        "    pass\n",
        "    for j in tagged_sents:\n",
        "        # Please write code to evaluate tagger\n",
        "        pass"
      ],
      "execution_count": null,
      "outputs": []
    },
    {
      "cell_type": "markdown",
      "metadata": {
        "id": "p-eYPqZQVm0r"
      },
      "source": [
        "0.9731487558923564  \n",
        "0.8401474994238304  \n",
        "0.8481620062266145  \n",
        "0.7146209996618732  \n",
        "0.9781055542751786  \n",
        "0.8165433720830596  \n",
        "0.7429341448375997  \n",
        "0.8311592532841668  \n",
        "0.9690668646996659  "
      ]
    },
    {
      "cell_type": "markdown",
      "metadata": {
        "id": "rCNaG2aaVm0s"
      },
      "source": [
        "### 1.5. Tagging Unknown Words\n",
        "未知の単語にタグを付けるアプローチでは、正規表現タガーまたはデフォルトタガーへのバックオフを引き続き使用します。これらはコンテキストを利用できません。したがって、タガーがトレーニング中に見られないblogという単語に出会った場合、この単語がコンテキストのblogにあるかblogにあるかに関係なく、同じタグが割り当てられます。\n",
        "### 5.5.6. Storing Taggers\n",
        "大きなコーパスでタガーをトレーニングするには、かなりの時間がかかる場合があります。必要なたびにタガーをトレーニングする代わりに、トレーニングしたタガーをファイルに保存して後で再利用できるようにするのが便利です。タガーt2をファイルt2.pklに保存しましょう。"
      ]
    },
    {
      "cell_type": "code",
      "metadata": {
        "id": "rxDq9pt5Vm0s"
      },
      "source": [
        "from pickle import dump\n",
        "output = open('t2.pkl', 'wb')\n",
        "dump(t2, output, -1)\n",
        "output.close()"
      ],
      "execution_count": null,
      "outputs": []
    },
    {
      "cell_type": "markdown",
      "metadata": {
        "id": "Wueu6h_oVm0s"
      },
      "source": [
        "これで、別のPythonプロセスで、保存したタガーをロードできます。"
      ]
    },
    {
      "cell_type": "code",
      "metadata": {
        "id": "nlZes4X1Vm0s"
      },
      "source": [
        "from pickle import load\n",
        "input = open('t2.pkl', 'rb')\n",
        "tagger = load(input)\n",
        "input.close()"
      ],
      "execution_count": null,
      "outputs": []
    },
    {
      "cell_type": "markdown",
      "metadata": {
        "id": "oknDGM2nVm0t"
      },
      "source": [
        "次に、タグ付けに使用できることを確認しましょう。"
      ]
    },
    {
      "cell_type": "code",
      "metadata": {
        "colab": {
          "base_uri": "https://localhost:8080/"
        },
        "id": "_sGMZfvhVm0t",
        "outputId": "ce8cd4f0-770a-4385-fc8e-a60866de0542"
      },
      "source": [
        "text = \"\"\"The board's action shows what free enterprise\n",
        "    is up against in our complex maze of regulatory laws .\"\"\"\n",
        "tokens = text.split()\n",
        "print(tagger.tag(tokens))"
      ],
      "execution_count": null,
      "outputs": [
        {
          "output_type": "stream",
          "text": [
            "[('The', 'AT'), (\"board's\", 'NN$'), ('action', 'NN'), ('shows', 'NNS'), ('what', 'WDT'), ('free', 'JJ'), ('enterprise', 'NN'), ('is', 'BEZ'), ('up', 'RP'), ('against', 'IN'), ('in', 'IN'), ('our', 'PP$'), ('complex', 'JJ'), ('maze', 'NN'), ('of', 'IN'), ('regulatory', 'NN'), ('laws', 'NNS'), ('.', '.')]\n"
          ],
          "name": "stdout"
        }
      ]
    },
    {
      "cell_type": "markdown",
      "metadata": {
        "id": "nLaIoin7Vm0t"
      },
      "source": [
        "### 1.7. Performance Limitation\n",
        "N-gramタガーのパフォーマンスの上限は何ですか？トリグラムタガーの場合を考えてみましょう。品詞のあいまいさのケースはいくつありますか？この質問に対する答えは経験的に決定できます。"
      ]
    },
    {
      "cell_type": "code",
      "metadata": {
        "colab": {
          "base_uri": "https://localhost:8080/"
        },
        "id": "IPDuBvjPVm0u",
        "outputId": "35767e13-2534-40ac-cb80-a3e7bcf3a341"
      },
      "source": [
        "cfd = nltk.ConditionalFreqDist(\n",
        "    ((x[1],y[1],z[0]),z[1])\n",
        "    for sent in brown_tagged_sents\n",
        "    if len(sent) > 1 # brown_tagged_sentsの中に1単語文書が入っているため追加\n",
        "    for x,y,z in nltk.trigrams(sent))\n",
        "ambiguous_contexts = [c for c in cfd.conditions() if len(cfd[c]) > 1]\n",
        "sum(cfd[c].N() for c in ambiguous_contexts) / cfd.N()"
      ],
      "execution_count": null,
      "outputs": [
        {
          "output_type": "execute_result",
          "data": {
            "text/plain": [
              "0.049297702068029296"
            ]
          },
          "metadata": {
            "tags": []
          },
          "execution_count": 14
        }
      ]
    },
    {
      "cell_type": "markdown",
      "metadata": {
        "id": "W0ZB4pADVm0u"
      },
      "source": [
        "したがって、20個のトライグラムのうち1つは曖昧です。現在の単語と前の2つのタグが与えられた場合、5％のケースで、トレーニングデータに従って現在の単語に合法的に割り当てられるタグが複数あります。  \n",
        "このようなあいまいなコンテキストで最も可能性の高いタグを常に選択すると仮定すると、トライグラムタガーのパフォーマンスの下限を導き出すことができます。\n",
        "\n",
        "タガーのパフォーマンスを調査する別の方法は、その誤りを調査することです。一部のタグは他のタグよりも割り当てが難しい場合があり、データの前処理または後処理によって特別に処理できる場合があります。タグ付けエラーを調べる便利な方法は、 Confusion Matrixです。タガーによって生成された実際のタグに対して予想されるタグ（ゴールドスタンダード）をグラフ化します。"
      ]
    },
    {
      "cell_type": "code",
      "metadata": {
        "colab": {
          "base_uri": "https://localhost:8080/"
        },
        "id": "FQx6V7bxVm0u",
        "outputId": "04bafe5a-d862-475f-b26c-52851e008b13"
      },
      "source": [
        "test_tags = [tag for sent in brown.sents(categories='editorial')\n",
        "                 for (word, tag) in t2.tag(sent)]\n",
        "gold_tags = [tag for (word, tag) in brown.tagged_words(categories='editorial')]\n",
        "print(nltk.ConfusionMatrix(gold_tags[:20], test_tags[:20]))  "
      ],
      "execution_count": null,
      "outputs": [
        {
          "output_type": "stream",
          "text": [
            "       |                           V       |\n",
            "       |     A         J   N N     B       |\n",
            "       |     P         J   N N     D       |\n",
            "       |     -   H     -   - -   V - V V W |\n",
            "       |   A H A V I J T N H T N B H B B D |\n",
            "       | , P L T Z N J L N L L R D L N Z T |\n",
            "-------+-----------------------------------+\n",
            "     , |<2>. . . . . . . . . . . . . . . . |\n",
            "    AP | .<.>. . . . . . . . . . . . . . . |\n",
            " AP-HL | . 1<.>. . . . . . . . . . . . . . |\n",
            "    AT | . . .<2>. . . . . . . . . . . . . |\n",
            "   HVZ | . . . .<1>. . . . . . . . . . . . |\n",
            "    IN | . . . . .<2>. . . . . . . . . . . |\n",
            "    JJ | . . . . . .<.>. . . . . . . . . . |\n",
            " JJ-TL | . . . . . . .<1>. . . . . . . . . |\n",
            "    NN | . . . . . . . .<2>. . . . . . . . |\n",
            " NN-HL | . . . . . . 1 . 1<.>1 . . . . . . |\n",
            " NN-TL | . . . . . . . . . .<1>. . . . . . |\n",
            "    NR | . . . . . . . . . . .<1>. . . . . |\n",
            "   VBD | . . . . . . . . . . . .<.>. . . . |\n",
            "VBD-HL | . . . . . . . . . . . . 1<.>. . . |\n",
            "   VBN | . . . . . . . . . . . . 1 .<.>. . |\n",
            "   VBZ | . . . . . . . . 1 . . . . . .<.>. |\n",
            "   WDT | . . . . . . . . . . . . . . . .<1>|\n",
            "-------+-----------------------------------+\n",
            "(row = reference; col = test)\n",
            "\n"
          ],
          "name": "stdout"
        }
      ]
    },
    {
      "cell_type": "markdown",
      "metadata": {
        "id": "4rlJTUorVm0v"
      },
      "source": [
        "## Lesson 2. Translation based tagger\n",
        "Brill Taggerの利用方法は若干複雑です。以下では、Brill Taggerを利用するデモを見ることができます。"
      ]
    },
    {
      "cell_type": "code",
      "metadata": {
        "colab": {
          "base_uri": "https://localhost:8080/"
        },
        "id": "BITsOCcfVm0v",
        "outputId": "386d098e-98a3-4263-e31e-6b0389a60ac8"
      },
      "source": [
        "from nltk.tbl import demo as issue1828\n",
        "nltk.download('treebank')\n",
        "issue1828.demo()"
      ],
      "execution_count": null,
      "outputs": [
        {
          "output_type": "stream",
          "text": [
            "[nltk_data] Downloading package treebank to /root/nltk_data...\n",
            "[nltk_data]   Unzipping corpora/treebank.zip.\n",
            "Loading tagged data from treebank... \n",
            "Read testing data (200 sents/5251 wds)\n",
            "Read training data (800 sents/19933 wds)\n",
            "Read baseline data (800 sents/19933 wds) [reused the training set]\n",
            "Trained baseline tagger\n",
            "    Accuracy on test set: 0.8366\n",
            "Training tbl tagger...\n",
            "TBL train (fast) (seqs: 800; tokens: 19933; tpls: 24; min score: 3; min acc: None)\n",
            "Finding initial useful rules...\n",
            "    Found 12799 useful rules.\n",
            "\n",
            "           B      |\n",
            "   S   F   r   O  |        Score = Fixed - Broken\n",
            "   c   i   o   t  |  R     Fixed = num tags changed incorrect -> correct\n",
            "   o   x   k   h  |  u     Broken = num tags changed correct -> incorrect\n",
            "   r   e   e   e  |  l     Other = num tags changed incorrect -> incorrect\n",
            "   e   d   n   r  |  e\n",
            "------------------+-------------------------------------------------------\n",
            "  23  23   0   0  | POS->VBZ if Pos:PRP@[-2,-1]\n",
            "  18  19   1   0  | NN->VB if Pos:-NONE-@[-2] & Pos:TO@[-1]\n",
            "  14  14   0   0  | VBP->VB if Pos:MD@[-2,-1]\n",
            "  12  12   0   0  | VBP->VB if Pos:TO@[-1]\n",
            "  11  11   0   0  | VBD->VBN if Pos:VBD@[-1]\n",
            "  11  11   0   0  | IN->WDT if Pos:-NONE-@[1] & Pos:VBP@[2]\n",
            "  10  11   1   0  | VBN->VBD if Pos:PRP@[-1]\n",
            "   9  10   1   0  | VBD->VBN if Pos:VBZ@[-1]\n",
            "   8   8   0   0  | NN->VB if Pos:MD@[-1]\n",
            "   7   7   0   1  | VB->NN if Pos:DT@[-1]\n",
            "   7   7   0   0  | VB->VBP if Pos:PRP@[-1]\n",
            "   7   7   0   0  | IN->WDT if Pos:-NONE-@[1] & Pos:VBZ@[2]\n",
            "   7   8   1   0  | IN->RB if Word:as@[2]\n",
            "   6   6   0   0  | VBD->VBN if Pos:VBP@[-2,-1]\n",
            "   6   6   0   1  | IN->WDT if Pos:-NONE-@[1] & Pos:VBD@[2]\n",
            "   5   5   0   0  | POS->VBZ if Pos:-NONE-@[-1]\n",
            "   5   5   0   0  | VB->VBP if Pos:NNS@[-1]\n",
            "   5   5   0   0  | VBD->VBN if Word:be@[-2,-1]\n",
            "   4   4   0   0  | POS->VBZ if Pos:``@[-2]\n",
            "   4   4   0   0  | VBP->VB if Pos:VBD@[-2,-1]\n",
            "   4   6   2   3  | RP->RB if Pos:CD@[1,2]\n",
            "   4   4   0   0  | RB->JJ if Pos:DT@[-1] & Pos:NN@[1]\n",
            "   4   4   0   0  | NN->VBP if Pos:NNS@[-2] & Pos:RB@[-1]\n",
            "   4   5   1   0  | VBN->VBD if Pos:NNP@[-2] & Pos:NNP@[-1]\n",
            "   4   4   0   0  | IN->WDT if Pos:-NONE-@[1] & Pos:MD@[2]\n",
            "   4   8   4   0  | VBD->VBN if Word:*@[1]\n",
            "   4   4   0   0  | JJS->RBS if Word:most@[0] & Word:the@[-1] & Pos:DT@[-1]\n",
            "   3   3   0   0  | VBD->VBN if Pos:VBN@[-1]\n",
            "   3   4   1   0  | VBN->VB if Pos:TO@[-1]\n",
            "   3   4   1   1  | IN->RB if Pos:.@[1]\n",
            "   3   3   0   0  | JJ->RB if Pos:VBD@[1]\n",
            "   3   3   0   0  | PRP$->PRP if Pos:TO@[1]\n",
            "   3   3   0   0  | NN->VBP if Pos:NNS@[-1] & Pos:DT@[1]\n",
            "   3   3   0   0  | VBP->VB if Word:n't@[-2,-1]\n",
            "Trained tbl tagger in 2.94 seconds\n",
            "    Accuracy on test set: 0.8572\n",
            "Tagging the test data\n"
          ],
          "name": "stdout"
        }
      ]
    },
    {
      "cell_type": "markdown",
      "metadata": {
        "id": "a6q0flDBVm0v"
      },
      "source": [
        "## Lesson 3. Latent Semantic Analysis\n",
        " - 本パートは会津大独自のパートです。  \n",
        " this part is original contents in U-Aizu\n",
        "### 3.1. Numpyの使い方\n",
        "NumPy is the fundamental package for scientific computing with Python. It contains among other things:\n",
        "\n",
        "- a powerful N-dimensional array object\n",
        "- sophisticated (broadcasting) functions\n",
        "- tools for integrating C/C++ and Fortran code\n",
        "\n",
        "useful linear algebra, Fourier transform, and random number capabilities  \n",
        "Webpage: https://numpy.org/\n",
        "\n",
        "NumPyは、Pythonを使用した科学計算の基本パッケージです。 このパッケージの中には以下のものが含まれます。\n",
        "\n",
        "- 強力なN次元配列オブジェクト\n",
        "- 洗練された行列変換機能\n",
        "- C / C ++とFortranコードを統合するためのツール\n",
        "\n",
        "これらは、線形代数的な計算、フーリエ変換、および乱数生成などに力を発揮します。\n",
        "\n",
        "- scikit-learnがあれば、より高度な演算がすぐに可能（後述のLatent Semantic Analaysisも直接計算可能)\n",
        "\n",
        "#### How to define an array, array の作り方 "
      ]
    },
    {
      "cell_type": "code",
      "metadata": {
        "colab": {
          "base_uri": "https://localhost:8080/"
        },
        "id": "oDTdhSEpVm0w",
        "outputId": "744ca68e-a07f-4c5f-c88a-1d58aa8ed6ad"
      },
      "source": [
        "import numpy as np\n",
        "a = np.array([1, 2, 3, 4])\n",
        "b = np.array([5, 6, 7, 8])\n",
        "c = np.array([a,b]) # 1次元配列の2次元化\n",
        "print(c)\n",
        "\n",
        "cube = np.array([ [[0,0,0], [1,1,1], [2,2,2]],\n",
        "               [[3,3,3], [4,4,4], [5,5,5]],\n",
        "               [[6,6,6], [7,7,7], [8,8,8]] ])\n",
        "print(cube[1,1,1])"
      ],
      "execution_count": null,
      "outputs": [
        {
          "output_type": "stream",
          "text": [
            "[[1 2 3 4]\n",
            " [5 6 7 8]]\n",
            "4\n"
          ],
          "name": "stdout"
        }
      ]
    },
    {
      "cell_type": "markdown",
      "metadata": {
        "id": "qnnMbRKDVm0w"
      },
      "source": [
        "#### Array and scalar calculation, 配列とスカラーの計算"
      ]
    },
    {
      "cell_type": "code",
      "metadata": {
        "colab": {
          "base_uri": "https://localhost:8080/"
        },
        "id": "soIOaLdXVm0x",
        "outputId": "1b06f91b-5d9f-4fed-8804-a9e691aa73fc"
      },
      "source": [
        "a = np.array([1, 2, 3, 4])\n",
        "print('a+1=', a + 1)\n",
        "print('a-1=', a - 1)\n",
        "print('a*2=', a * 2)\n",
        "print('a/2=', a / 2)\n",
        "print('a**2=', a ** 2)\n"
      ],
      "execution_count": null,
      "outputs": [
        {
          "output_type": "stream",
          "text": [
            "a+1= [2 3 4 5]\n",
            "a-1= [0 1 2 3]\n",
            "a*2= [2 4 6 8]\n",
            "a/2= [0.5 1.  1.5 2. ]\n",
            "a**2= [ 1  4  9 16]\n"
          ],
          "name": "stdout"
        }
      ]
    },
    {
      "cell_type": "markdown",
      "metadata": {
        "id": "-EX_TXwFVm0y"
      },
      "source": [
        "#### Comparison between original python and NumPy, 純粋なPythonとNumPyの速度比較"
      ]
    },
    {
      "cell_type": "code",
      "metadata": {
        "colab": {
          "base_uri": "https://localhost:8080/"
        },
        "id": "TpmmxUwNVm0y",
        "outputId": "a17ca937-c075-4d42-8b0b-c295d0305071"
      },
      "source": [
        "n = np.arange(10000)\n",
        "%timeit n + 1  \n",
        "l = range(10000)\n",
        "%timeit [i+1 for i in l] "
      ],
      "execution_count": null,
      "outputs": [
        {
          "output_type": "stream",
          "text": [
            "The slowest run took 27.00 times longer than the fastest. This could mean that an intermediate result is being cached.\n",
            "100000 loops, best of 3: 4.02 µs per loop\n",
            "1000 loops, best of 3: 588 µs per loop\n"
          ],
          "name": "stdout"
        }
      ]
    },
    {
      "cell_type": "markdown",
      "metadata": {
        "id": "S9vIbhLLVm0z"
      },
      "source": [
        "#### Transpose of an array, 行列の転置"
      ]
    },
    {
      "cell_type": "code",
      "metadata": {
        "scrolled": true,
        "colab": {
          "base_uri": "https://localhost:8080/"
        },
        "id": "zezozKzRVm0z",
        "outputId": "c424535c-e02f-4ce0-b79f-c06fd0dfb448"
      },
      "source": [
        "print(cube[2].transpose())\n",
        "print(cube[2].T)"
      ],
      "execution_count": null,
      "outputs": [
        {
          "output_type": "stream",
          "text": [
            "[[6 7 8]\n",
            " [6 7 8]\n",
            " [6 7 8]]\n",
            "[[6 7 8]\n",
            " [6 7 8]\n",
            " [6 7 8]]\n"
          ],
          "name": "stdout"
        }
      ]
    },
    {
      "cell_type": "markdown",
      "metadata": {
        "id": "EiBKJpS2Vm0z"
      },
      "source": [
        "#### Vector Calculation (1-dimension array)"
      ]
    },
    {
      "cell_type": "code",
      "metadata": {
        "colab": {
          "base_uri": "https://localhost:8080/"
        },
        "id": "fE_rSc9nVm00",
        "outputId": "170e6039-4210-41d9-c7a0-f963fb200d9e"
      },
      "source": [
        "print(a + b)\n",
        "print(a - b)\n",
        "print(a * b) # as elementwise product\n",
        "print(a / b) # as elementwise product"
      ],
      "execution_count": null,
      "outputs": [
        {
          "output_type": "stream",
          "text": [
            "[ 6  8 10 12]\n",
            "[-4 -4 -4 -4]\n",
            "[ 5 12 21 32]\n",
            "[0.2        0.33333333 0.42857143 0.5       ]\n"
          ],
          "name": "stdout"
        }
      ]
    },
    {
      "cell_type": "markdown",
      "metadata": {
        "id": "STS32bSnVm00"
      },
      "source": [
        "#### Product between matrixes, 行列の積"
      ]
    },
    {
      "cell_type": "code",
      "metadata": {
        "colab": {
          "base_uri": "https://localhost:8080/"
        },
        "id": "cq3_EgHBVm00",
        "outputId": "f349515d-8279-4475-e425-1d4978cf5351"
      },
      "source": [
        "d = np.asarray([b,a])\n",
        "# 要素積 (element product)\n",
        "print(c + d)\n",
        "print(c - d)\n",
        "print(c * d)\n",
        "# 行列積 (dot product)\n",
        "print(np.dot(c , np.transpose(d)))\n",
        "print(np.dot(np.transpose(c) , d))"
      ],
      "execution_count": null,
      "outputs": [
        {
          "output_type": "stream",
          "text": [
            "[[ 6  8 10 12]\n",
            " [ 6  8 10 12]]\n",
            "[[-4 -4 -4 -4]\n",
            " [ 4  4  4  4]]\n",
            "[[ 5 12 21 32]\n",
            " [ 5 12 21 32]]\n",
            "[[ 70  30]\n",
            " [174  70]]\n",
            "[[10 16 22 28]\n",
            " [16 24 32 40]\n",
            " [22 32 42 52]\n",
            " [28 40 52 64]]\n"
          ],
          "name": "stdout"
        }
      ]
    },
    {
      "cell_type": "markdown",
      "metadata": {
        "id": "Xva1-ucXVm01"
      },
      "source": [
        "#### Slicing, 部分行列(Slicing)も簡単にできる"
      ]
    },
    {
      "cell_type": "code",
      "metadata": {
        "colab": {
          "base_uri": "https://localhost:8080/"
        },
        "id": "YwimtRcHVm01",
        "outputId": "12633703-6e35-4a3e-c784-5b02cfe897e3"
      },
      "source": [
        "print(cube[2,1:])"
      ],
      "execution_count": null,
      "outputs": [
        {
          "output_type": "stream",
          "text": [
            "[[7 7 7]\n",
            " [8 8 8]]\n"
          ],
          "name": "stdout"
        }
      ]
    },
    {
      "cell_type": "markdown",
      "metadata": {
        "id": "WnSHhK3hVm02"
      },
      "source": [
        "#### Matrix Flattening, 平坦化"
      ]
    },
    {
      "cell_type": "code",
      "metadata": {
        "colab": {
          "base_uri": "https://localhost:8080/"
        },
        "id": "HXMa9JsXVm02",
        "outputId": "8a9b8aee-9bb1-4238-878b-501d77c02ff5"
      },
      "source": [
        "a = np.array([[1, 2, 3], [4, 5, 6]])\n",
        "print(a.ravel())\n",
        "print(a.T)\n",
        "print(a.T.ravel())"
      ],
      "execution_count": null,
      "outputs": [
        {
          "output_type": "stream",
          "text": [
            "[1 2 3 4 5 6]\n",
            "[[1 4]\n",
            " [2 5]\n",
            " [3 6]]\n",
            "[1 4 2 5 3 6]\n"
          ],
          "name": "stdout"
        }
      ]
    },
    {
      "cell_type": "markdown",
      "metadata": {
        "id": "QnLdURafVm02"
      },
      "source": [
        "#### Singular Value Decomposition, 行列の特異値分解 (Singular Value Decomposition)を行う"
      ]
    },
    {
      "cell_type": "code",
      "metadata": {
        "colab": {
          "base_uri": "https://localhost:8080/"
        },
        "id": "BufvhtMyVm03",
        "outputId": "75d1102e-7da5-4de3-8bb6-f939176e12a2"
      },
      "source": [
        "a=np.array([[4,0], [3,-5]])\n",
        "u,s,vt = np.linalg.svd(a)\n",
        "print(u)\n",
        "print(s)\n",
        "print(vt)"
      ],
      "execution_count": null,
      "outputs": [
        {
          "output_type": "stream",
          "text": [
            "[[-0.4472136  -0.89442719]\n",
            " [-0.89442719  0.4472136 ]]\n",
            "[6.32455532 3.16227766]\n",
            "[[-0.70710678  0.70710678]\n",
            " [-0.70710678 -0.70710678]]\n"
          ],
          "name": "stdout"
        }
      ]
    },
    {
      "cell_type": "markdown",
      "metadata": {
        "id": "DJlPpn5rVm03"
      },
      "source": [
        "### B. Latent Semantic Analysis (潜在意味解析)\n",
        "\n",
        "The mathematical understanding of Latent Semantic Analysis is slightly complicated.  \n",
        "Assuming that the word is treated as the vertical axis and the document is treated as the horizontal axis, a value called Tf-Idf (multiply word frequency and inverted document appearance frequency of each words) is solved between each word and document, and the matrix is reduced, thereby placing the document in the small elements of keywords. This process is trying to identify clusters of commonly used words. The reason that it is called Latent is because the meaning that appears in this word cluster is linked by the document, so the latent meaning included in each document is replaced by the word represented by those word clusters.\n",
        "\n",
        "Latent Semantic Analysisの数理的な理解は若干複雑です。縦軸に単語、横軸に文書として扱うとして、Tf-Idf（単語頻度ｘ逆文書出現頻度）と呼ばれる値を各単語-文書間で解き、その行列を縮約することによって、文書に置いてよく利用される単語のクラスタを割り出そうというものです。潜在（Latent）と言われる所以は、この単語のクラスタに出てくる意味が、文書によって紐づけられるため、各文書に内包される潜在的な意味がそれら単語クラスタに代表される語によって置き換えられる、と言えます。\n",
        "\n",
        "- In this time, we use brown corpus  \n",
        "今回はbrown corpusを使います。\n",
        "- We utilize brown.fieldids() to extract document key for extract by each documents.  \n",
        "文書毎で取り出すので、brown.fileids()を用いて文書のキーを取り出します。"
      ]
    },
    {
      "cell_type": "code",
      "metadata": {
        "id": "UAU_5qj-Vm03"
      },
      "source": [
        "from nltk.corpus import brown\n",
        "files = brown.fileids()"
      ],
      "execution_count": null,
      "outputs": []
    },
    {
      "cell_type": "markdown",
      "metadata": {
        "id": "lAGs0T2VVm04"
      },
      "source": [
        "Extracts a list of handling words from all handling documents.  \n",
        "扱う全文書から扱う単語リストを抽出します。\n",
        "\n",
        "- Extract only verbs (VB), nouns (NN), and adjectives (ADJ).  \n",
        "動詞(VB), 名詞(NN), 形容詞(ADJ)のみを抽出。\n",
        "- Normalize first letter to lowercase  \n",
        "先頭文字を小文字に正規化\n",
        "- Use top 500 words  \n",
        "上位500語を使用\n",
        "- Remove stopwords because stopwords makes some error (becomes VB?)  \n",
        "何故かStopwordがひっかかるので（VBにされてる？）、stopwordの除去を行う"
      ]
    },
    {
      "cell_type": "code",
      "metadata": {
        "id": "iioZqXAyVm04"
      },
      "source": [
        "from nltk.corpus import stopwords\n",
        "all_words = []\n",
        "stopWords = set(stopwords.words('english'))\n",
        "for wt in brown.tagged_words(): # 動詞・名詞・形容詞以外は除去\n",
        "    if 'NN' or 'VB' or 'ADJ' in wt[1]:\n",
        "        if wt[0].lower() not in stopWords:\n",
        "            all_words.append(wt[0].lower()) # 文頭大文字の正規化\n",
        "all_words = nltk.FreqDist(all_words) # 単語頻度マップ\n",
        "word_features = list(all_words.keys())[:500] # 上位500語のみ利用\n",
        "sortedwf = word_features"
      ],
      "execution_count": null,
      "outputs": []
    },
    {
      "cell_type": "code",
      "metadata": {
        "colab": {
          "base_uri": "https://localhost:8080/"
        },
        "id": "GWacCTXTVm04",
        "outputId": "a9d65750-3165-4f72-b99d-ada95848188e"
      },
      "source": [
        "print(sortedwf[:100])"
      ],
      "execution_count": null,
      "outputs": [
        {
          "output_type": "stream",
          "text": [
            "['fulton', 'county', 'grand', 'jury', 'said', 'friday', 'investigation', \"atlanta's\", 'recent', 'primary', 'election', 'produced', '``', 'evidence', \"''\", 'irregularities', 'took', 'place', '.', 'term-end', 'presentments', 'city', 'executive', 'committee', ',', 'over-all', 'charge', 'deserves', 'praise', 'thanks', 'atlanta', 'manner', 'conducted', 'september-october', 'term', 'charged', 'superior', 'court', 'judge', 'durwood', 'pye', 'investigate', 'reports', 'possible', 'hard-fought', 'mayor-nominate', 'ivan', 'allen', 'jr.', 'relative', 'handful', 'received', 'considering', 'widespread', 'interest', 'number', 'voters', 'size', 'find', 'many', \"georgia's\", 'registration', 'laws', 'outmoded', 'inadequate', 'often', 'ambiguous', 'recommended', 'legislators', 'act', 'studied', 'revised', 'end', 'modernizing', 'improving', 'commented', 'topics', 'among', 'purchasing', 'departments', 'well', 'operated', 'follow', 'generally', 'accepted', 'practices', 'inure', 'best', 'governments', 'merger', 'proposed', 'however', 'believes', 'two', 'offices', 'combined', 'achieve', 'greater', 'efficiency', 'reduce']\n"
          ],
          "name": "stdout"
        }
      ]
    },
    {
      "cell_type": "markdown",
      "metadata": {
        "id": "OO8i88soVm05"
      },
      "source": [
        "Create TF-IDF Feature with centralization  \n",
        "tf-idf特徴を取り出します。\n",
        "- wc: wordcount 単語-文書間の単語の出現回数\n",
        "- tf: text frequency各文書中の出現回数/各文書総単語数 = 各文書における出現確率\n",
        "- dwc: document word count 各文書総単語数\n",
        "- dc: document count of each words 語の『どれだけの文書中に出現したか』の頻度\n",
        "- idf: inverted document frequency 逆文書頻度\n",
        "- tfidf: ![image.png](attachment:image.png)"
      ]
    },
    {
      "cell_type": "code",
      "metadata": {
        "id": "IpLeHpH7Vm05"
      },
      "source": [
        "wc = np.zeros((len(files),len(sortedwf)))\n",
        "tf = np.zeros((len(files),len(sortedwf)))\n",
        "dwc = np.zeros(len(files))\n",
        "dc = np.zeros(len(sortedwf))\n",
        "for f in brown.fileids():\n",
        "    for w in brown.words(f):\n",
        "        if (w.lower()) in sortedwf:\n",
        "            wc[files.index(f),sortedwf.index(w.lower())] += 1\n",
        "            dwc[files.index(f)] += 1\n",
        "    for w in sortedwf:\n",
        "        tf[files.index(f),sortedwf.index(w)] = wc[files.index(f),sortedwf.index(w)]/dwc[files.index(f)]\n",
        "        if wc[files.index(f),sortedwf.index(w)] > 0:\n",
        "            dc[sortedwf.index(w)] += 1"
      ],
      "execution_count": null,
      "outputs": []
    },
    {
      "cell_type": "code",
      "metadata": {
        "colab": {
          "base_uri": "https://localhost:8080/"
        },
        "id": "leghGyBKVm06",
        "outputId": "d85b72cd-d408-499f-d54d-392c04f7c783"
      },
      "source": [
        "print(np.shape(tf))\n",
        "print(tf)"
      ],
      "execution_count": null,
      "outputs": [
        {
          "output_type": "stream",
          "text": [
            "(500, 500)\n",
            "[[0.0122807  0.01315789 0.00350877 ... 0.00087719 0.00175439 0.00526316]\n",
            " [0.         0.00886525 0.         ... 0.         0.00177305 0.00531915]\n",
            " [0.         0.00350263 0.00525394 ... 0.         0.00175131 0.        ]\n",
            " ...\n",
            " [0.         0.         0.00193798 ... 0.         0.         0.        ]\n",
            " [0.         0.         0.00241546 ... 0.         0.         0.        ]\n",
            " [0.         0.00248756 0.         ... 0.         0.         0.        ]]\n"
          ],
          "name": "stdout"
        }
      ]
    },
    {
      "cell_type": "code",
      "metadata": {
        "colab": {
          "base_uri": "https://localhost:8080/"
        },
        "id": "SKRd9o2bVm06",
        "outputId": "f219a307-491d-42cd-c731-ca7e629779e3"
      },
      "source": [
        "idf = np.zeros(len(sortedwf))\n",
        "for w in sortedwf:\n",
        "    idf[sortedwf.index(w)] = np.log(len(files) / dc[sortedwf.index(w)])\n",
        "print(len(idf))\n",
        "print(idf)"
      ],
      "execution_count": null,
      "outputs": [
        {
          "output_type": "stream",
          "text": [
            "500\n",
            "[5.11599581 2.08747371 2.55104645 3.12356565 0.45570632 2.68824757\n",
            " 2.60369019 5.52146092 1.42711636 2.10373423 2.81341072 2.02495336\n",
            " 0.07904321 1.41881755 0.07688104 4.42284863 0.78965808 0.5378543\n",
            " 0.         6.2146081  6.2146081  1.16475209 2.52572864 2.07147337\n",
            " 0.         3.03655427 1.84516025 3.44201938 3.38139475 2.7488722\n",
            " 3.91202301 1.59948758 2.60369019 6.2146081  2.18925641 2.60369019\n",
            " 2.68824757 2.05572502 2.43041846 6.2146081  6.2146081  3.81671283\n",
            " 2.04022083 0.7940731  5.52146092 6.2146081  5.11599581 3.38139475\n",
            " 2.81341072 2.57702194 3.64965874 1.551169   2.52572864 2.95651156\n",
            " 1.07880966 0.8964881  3.57555077 1.80788885 0.71334989 0.31471074\n",
            " 4.82831374 4.01738352 2.47693848 4.82831374 2.84731227 0.88673193\n",
            " 3.44201938 2.71810054 3.72970145 1.40242374 1.95192822 3.72970145\n",
            " 0.71334989 5.11599581 3.5065579  3.38139475 3.91202301 0.84863208\n",
            " 3.91202301 3.57555077 0.26657311 3.07911388 1.74869998 1.60943791\n",
            " 1.88387476 2.81341072 5.52146092 0.7940731  2.7488722  4.01738352\n",
            " 2.24431618 0.57270103 2.81341072 0.15315118 2.95651156 2.65926004\n",
            " 2.52572864 1.43548461 2.88240359 2.43041846 1.74869998 2.04022083\n",
            " 1.80788885 2.88240359 2.3859667  4.13516656 2.43041846 1.22417551\n",
            " 2.63108916 2.78062089 0.52087596 1.96611286 3.91202301 1.1776555\n",
            " 4.26869795 3.12356565 2.43041846 1.61948825 0.26657311 4.13516656\n",
            " 0.74233742 3.64965874 1.40242374 3.81671283 2.3859667  6.2146081\n",
            " 1.72597173 2.04022083 3.44201938 0.37687765 3.91202301 5.52146092\n",
            " 0.92634107 2.60369019 4.01738352 2.95651156 2.02495336 2.47693848\n",
            " 1.72597173 1.96611286 4.01738352 2.3227878  0.00803217 1.25176347\n",
            " 2.55104645 0.87707002 2.65926004 1.43548461 1.02165125 2.17155683\n",
            " 4.42284863 3.17008566 2.71810054 3.27016912 1.66073121 1.25176347\n",
            " 5.11599581 2.15416509 4.26869795 2.57702194 0.4780358  6.2146081\n",
            " 0.75077629 4.60517019 2.07147337 1.23787436 1.3167683  2.18925641\n",
            " 2.52572864 1.44392347 2.18925641 1.77195684 5.52146092 2.52572864\n",
            " 3.64965874 6.2146081  1.57987911 3.12356565 6.2146081  4.82831374\n",
            " 4.60517019 5.52146092 3.64965874 3.57555077 5.52146092 2.91877123\n",
            " 0.61248928 3.91202301 2.43041846 2.68824757 3.38139475 1.88387476\n",
            " 6.2146081  2.68824757 2.00991548 4.01738352 2.26336438 2.3227878\n",
            " 1.7837913  2.81341072 0.76356964 1.29462717 4.60517019 3.64965874\n",
            " 2.3644605  2.68824757 2.99573227 3.5065579  6.2146081  3.91202301\n",
            " 2.71810054 0.25360276 5.52146092 3.72970145 2.7488722  1.87080268\n",
            " 3.57555077 1.13943428 2.99573227 1.57987911 3.57555077 2.84731227\n",
            " 1.36257783 4.01738352 4.42284863 4.60517019 5.52146092 1.54177926\n",
            " 2.34340709 2.99573227 2.28278247 1.71479843 3.64965874 4.13516656\n",
            " 2.30258509 0.22564668 0.36528332 0.36240562 0.84397007 1.77195684\n",
            " 2.47693848 2.43041846 2.3227878  5.52146092 6.2146081  1.00512195\n",
            " 3.17008566 2.3859667  1.09064412 0.47481519 2.34340709 2.07147337\n",
            " 2.88240359 2.15416509 2.45340798 2.17155683 4.26869795 4.13516656\n",
            " 1.66073121 3.72970145 3.72970145 1.95192822 2.18925641 2.55104645\n",
            " 6.2146081  1.37042101 6.2146081  6.2146081  2.99573227 3.72970145\n",
            " 5.11599581 2.34340709 2.02495336 3.5065579  1.87080268 2.50103603\n",
            " 6.2146081  3.12356565 2.55104645 3.44201938 1.46967597 4.01738352\n",
            " 3.44201938 4.01738352 2.65926004 3.64965874 1.7837913  2.17155683\n",
            " 3.81671283 4.01738352 1.79576749 4.42284863 2.45340798 1.59948758\n",
            " 2.05572502 2.43041846 6.2146081  5.11599581 4.13516656 6.2146081\n",
            " 2.10373423 3.64965874 2.18925641 0.75502258 2.7488722  4.60517019\n",
            " 3.21887582 2.78062089 1.38629436 4.42284863 3.72970145 4.42284863\n",
            " 2.7488722  5.52146092 4.82831374 1.7837913  0.95711273 0.449417\n",
            " 0.85331593 0.72154666 6.2146081  2.26336438 6.2146081  5.11599581\n",
            " 2.13707065 2.26336438 2.63108916 5.52146092 2.12026354 4.60517019\n",
            " 0.46840491 3.91202301 2.3859667  1.91054301 0.48450832 2.43041846\n",
            " 4.26869795 0.85331593 6.2146081  2.81341072 1.19732826 3.21887582\n",
            " 3.91202301 2.57702194 1.99510039 0.10981487 1.29462717 5.52146092\n",
            " 3.44201938 3.44201938 1.41058705 1.32425897 3.57555077 2.05572502\n",
            " 3.57555077 4.13516656 2.22562405 1.36257783 2.12026354 2.91877123\n",
            " 2.18925641 5.52146092 4.60517019 2.47693848 1.83258146 1.09064412\n",
            " 2.81341072 1.77195684 3.44201938 1.02722229 3.03655427 3.44201938\n",
            " 2.3644605  1.74869998 2.12026354 2.18925641 6.2146081  2.95651156\n",
            " 3.57555077 3.91202301 1.98050159 4.60517019 3.07911388 2.91877123\n",
            " 3.72970145 1.43548461 3.91202301 4.26869795 3.07911388 3.44201938\n",
            " 3.07911388 2.7488722  1.41058705 4.82831374 3.38139475 5.11599581\n",
            " 2.55104645 5.52146092 3.21887582 1.87080268 2.81341072 4.60517019\n",
            " 2.60369019 1.62964062 2.78062089 2.52572864 0.91629073 1.07880966\n",
            " 1.35479569 2.08747371 0.31471074 3.12356565 0.1554849  5.52146092\n",
            " 2.45340798 5.11599581 0.97286108 1.49610923 1.04982212 0.15082289\n",
            " 3.03655427 3.17008566 0.35953618 0.92634107 1.10866262 1.65025991\n",
            " 2.26336438 2.18925641 4.26869795 2.12026354 2.20727491 3.38139475\n",
            " 3.91202301 1.42711636 2.26336438 1.32425897 5.52146092 3.44201938\n",
            " 2.95651156 5.52146092 3.07911388 1.02165125 2.05572502 2.20727491\n",
            " 4.13516656 4.60517019 3.81671283 4.60517019 5.52146092 2.60369019\n",
            " 5.52146092 4.26869795 1.40242374 0.1120495  4.60517019 6.2146081\n",
            " 6.2146081  2.78062089 0.55164762 0.36816932 5.11599581 2.88240359\n",
            " 0.87227385 5.11599581 4.26869795 2.40794561 2.28278247 2.45340798\n",
            " 2.81341072 0.96758403 3.21887582 2.91877123 2.84731227 5.11599581\n",
            " 1.89711998 2.95651156 3.72970145 1.45243416 4.26869795 2.91877123\n",
            " 3.12356565 1.42711636 2.00991548 3.81671283 0.18392284 5.52146092\n",
            " 2.15416509 1.85789927 3.81671283 0.83932969 1.59948758 2.40794561\n",
            " 3.91202301 1.92414866 1.80788885 1.551169   3.57555077 3.21887582\n",
            " 2.3227878  3.38139475]\n"
          ],
          "name": "stdout"
        }
      ]
    },
    {
      "cell_type": "code",
      "metadata": {
        "colab": {
          "base_uri": "https://localhost:8080/"
        },
        "id": "3THmYCfNVm06",
        "outputId": "d3d5def0-2466-4aee-abac-46735d814e11"
      },
      "source": [
        "tfidf =  np.zeros((len(files),len(sortedwf)))\n",
        "print(len(sortedwf))\n",
        "for f in files:\n",
        "    for w in sortedwf:\n",
        "        tfidf[files.index(f),sortedwf.index(w)] = tf[files.index(f),sortedwf.index(w)] * idf[sortedwf.index(w)]\n",
        "tfidf = tfidf - np.average(tfidf, axis = 1)\n",
        "print(np.shape(tfidf))\n",
        "print(tfidf)"
      ],
      "execution_count": null,
      "outputs": [
        {
          "output_type": "stream",
          "text": [
            "500\n",
            "(500, 500)\n",
            "[[ 0.05869387  0.02557565  0.00714122 ...  0.00241765  0.0036507\n",
            "   0.01731056]\n",
            " [-0.00413415  0.01661486 -0.00180983 ... -0.00040593  0.00369406\n",
            "   0.01749989]\n",
            " [-0.00413415  0.00542053  0.01159322 ... -0.00040593  0.00364357\n",
            "  -0.00048625]\n",
            " ...\n",
            " [-0.00413415 -0.00189111  0.00313406 ... -0.00040593 -0.00042436\n",
            "  -0.00048625]\n",
            " [-0.00413415 -0.00189111  0.00435212 ... -0.00040593 -0.00042436\n",
            "  -0.00048625]\n",
            " [-0.00413415  0.00330161 -0.00180983 ... -0.00040593 -0.00042436\n",
            "  -0.00048625]]\n"
          ],
          "name": "stdout"
        }
      ]
    },
    {
      "cell_type": "markdown",
      "metadata": {
        "id": "cTPNzSN-Vm07"
      },
      "source": [
        "Use singular value decomposition to TF-IDF matrix  \n",
        "TF-IDF行列を特異値分解に掛ける。"
      ]
    },
    {
      "cell_type": "code",
      "metadata": {
        "scrolled": true,
        "colab": {
          "base_uri": "https://localhost:8080/"
        },
        "id": "ycbpcnm7Vm07",
        "outputId": "4890319a-c0e4-466e-b116-14269b69e964"
      },
      "source": [
        "u,s,vt = np.linalg.svd(tfidf)\n",
        "print(u)\n",
        "print(vt)"
      ],
      "execution_count": null,
      "outputs": [
        {
          "output_type": "stream",
          "text": [
            "[[ 4.10010853e-03 -1.58471652e-02  2.01960163e-02 ...  5.22524316e-17\n",
            "  -1.07640947e-17  1.13116168e-16]\n",
            " [-2.73456564e-03  6.01143341e-02 -1.62513615e-02 ...  6.99088447e-03\n",
            "  -9.54939143e-03  1.38569498e-02]\n",
            " [-1.17629186e-02  1.23808753e-01  1.97578359e-03 ...  7.11596399e-03\n",
            "  -1.08212018e-02  9.36858573e-03]\n",
            " ...\n",
            " [-7.29811216e-04  8.81262322e-03 -1.51391854e-02 ... -5.79558936e-02\n",
            "   1.53257364e-02  9.76576346e-02]\n",
            " [-2.60331379e-03  1.28104197e-02 -1.17284559e-02 ...  2.49748988e-02\n",
            "   4.38229914e-02  2.23887629e-02]\n",
            " [-1.98453752e-03  1.12232112e-02 -4.56208683e-03 ...  8.02705070e-03\n",
            "  -6.19949235e-02 -1.74706008e-01]]\n",
            "[[ 2.91373678e-02  3.68133706e-03  1.07792148e-02 ... -6.59349605e-03\n",
            "  -9.53472447e-03 -1.69866580e-03]\n",
            " [-1.39454439e-01  5.78662815e-03 -4.31615688e-02 ...  5.83343466e-02\n",
            "   5.29200402e-02  3.10817954e-02]\n",
            " [ 5.68514433e-02  3.08832836e-03  8.17541453e-04 ...  1.72012768e-02\n",
            "   3.71500524e-03  1.27191036e-02]\n",
            " ...\n",
            " [ 0.00000000e+00 -5.31938746e-17  6.77206580e-17 ... -1.61762964e-16\n",
            "  -2.89224482e-16 -8.45677695e-18]\n",
            " [ 0.00000000e+00  1.26228238e-16 -2.35289307e-16 ... -1.56125113e-16\n",
            "   2.42861287e-17  6.76542156e-17]\n",
            " [ 0.00000000e+00  1.64154985e-17 -2.79406377e-17 ... -5.20417043e-18\n",
            "  -6.62718578e-17  9.54097912e-18]]\n"
          ],
          "name": "stdout"
        }
      ]
    },
    {
      "cell_type": "markdown",
      "metadata": {
        "id": "_YUmQQL-Vm07"
      },
      "source": [
        "Calculation of contribution rate  \n",
        "寄与率というものの計算\n",
        "\n",
        "The value of S in SVD is λ^2 compared to the eigenvalue λ in PCA (eigenvalue decomposition).  \n",
        "The ratio of λ that represents the deviation (ratio of information amount, variance) that can express the entire information in that dimension is called the contribution ratio  \n",
        "From the SVD, squaring each value of S, and accumulating from the highest order, it will be a graph of \"cumulative contribution ratio\"  \n",
        "The cumulative contribution ratio refers to a ratio up to a specific dimension as viewed from the total information amount. It is desirable that 80% or more remain.  \n",
        " - SVD の Sの値はPCA (固有値分解)の固有値λと比較して、λ^2になっている。\n",
        " - その次元で全体の情報を表現できる偏差(情報量の割合, 分散) を表すλの割合を寄与率と呼ぶ\n",
        " - SVDからは、Sの値をそれぞれ平方し、高い順から累積すると『累積寄与率』のグラフになる\n",
        " - 累積寄与率は全体の情報量からみた特定の次元までの割合までを言う。80％以上残るのが望ましい。"
      ]
    },
    {
      "cell_type": "code",
      "metadata": {
        "colab": {
          "base_uri": "https://localhost:8080/",
          "height": 282
        },
        "id": "2zqZ6LOyVm08",
        "outputId": "12f54d82-c7ff-491c-d63e-5adcc7a1f929"
      },
      "source": [
        "ss = np.sqrt(s) * 100 / np.sum(np.sqrt(s))\n",
        "import matplotlib.pyplot as plt\n",
        "print(plt.plot(ss.cumsum()))"
      ],
      "execution_count": null,
      "outputs": [
        {
          "output_type": "stream",
          "text": [
            "[<matplotlib.lines.Line2D object at 0x7f885825f048>]\n"
          ],
          "name": "stdout"
        },
        {
          "output_type": "display_data",
          "data": {
            "image/png": "[encoded data removed]",
            "text/plain": [
              "<Figure size 432x288 with 1 Axes>"
            ]
          },
          "metadata": {
            "tags": [],
            "needs_background": "light"
          }
        }
      ]
    }
  ]
}